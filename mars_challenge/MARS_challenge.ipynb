{
  "nbformat": 4,
  "nbformat_minor": 0,
  "metadata": {
    "colab": {
      "provenance": [],
      "authorship_tag": "ABX9TyM/zKujebPImGckz6GJluJt",
      "include_colab_link": true
    },
    "kernelspec": {
      "name": "python3",
      "display_name": "Python 3"
    },
    "language_info": {
      "name": "python"
    }
  },
  "cells": [
    {
      "cell_type": "markdown",
      "metadata": {
        "id": "view-in-github",
        "colab_type": "text"
      },
      "source": [
        "<a href=\"https://colab.research.google.com/github/itberrios/3D/blob/main/mars_challenge/MARS_challenge.ipynb\" target=\"_parent\"><img src=\"https://colab.research.google.com/assets/colab-badge.svg\" alt=\"Open In Colab\"/></a>"
      ]
    },
    {
      "cell_type": "markdown",
      "source": [
        "# **Welcome to the MARS Challenge!**\n",
        "\n",
        "### The [MARS challenge](https://blog.marsauto.com/introducing-the-mars-challenge-fc84c5afafbe) is a Computer Vision Task to predict vehicle speed using only camera frames.\n"
      ],
      "metadata": {
        "id": "WTvU2InxWaIY"
      }
    },
    {
      "cell_type": "markdown",
      "source": [
        "![image.png](data:image/png;base64,iVBORw0KGgoAAAANSUhEUgAAAcAAAACxCAYAAABTLG2jAAAf9UlEQVR4Xu2dCbSVVRXHtwwyIyAEMoOwGNRQBgGhIEUhTHhJpZClKZopiopikrJc4gAyBqSIZlQmIlFYiRpgAYLiAKJCIonIJDI6ADJT/7P66IpvuO+9c9/9ht9Z6y6Bd+85e//O5/2/fc7e55xw9L/NaBCAAAQgAIGEETgBAUzYjOMuBCAAAQg4AgggDwIEIAABCCSSAAKYyGnHaQhAAAIQQAB5BiAAAQhAIJEEEMBETjtOQwACEIAAAsgzAAEIQAACiSSAACZy2nEaAhCAAAQQQJ4BCEAAAhBIJAEEMJHTjtMQgAAEIIAA8gxAAAIQgEAiCSCAiZx2nIYABCAAAQSQZwACEIAABBJJAAFM5LTjNAQgAAEIIIA8AxCAAAQgkEgCCGAipx2nIQABCEAAAeQZgAAEIACBRBJAABM57TgNAQhAAAIIIM8ABCAAAQgkkgACmMhpx2kIQAACEEAAeQYgAAEIQCCRBBDARE47TkMAAhCAAALIMwABCEAAAokkgAAmctpxGgIQgAAEEECeAQhAAAIQSCQBBDCR047TEIAABCCAAPIMQAACEIBAIgkggImcdpyGAAQgAAEEkGcAAhCAAAQSSQABTOS04zQEIAABCCCAPAMQgAAEIJBIAghgIqcdpyEAARHYsmWL7dixw3bt2mWffvqp7dmzx70OHDjgXocPH7ajR486WKVLl7ayZctauXLlrEKFCla5cmWrWrWqVa9e3WrUqGG1a9d2P6dFhwACGJ25wlIIQKAYBD766CNbs2aNrVu3zjZs2GCbNm0y/du2bducCEoAd+/e7V6B6OU1XMWKFZ0AVqtWzQlgzZo1rU6dOla/fn33aty4sTVr1sz9lxZeAghgeOcGyyAAgWIQOHTokC1dutSWL19uK1eutPfff982btxomzdvdmKXqVapUiU75ZRTnBA2adLEWrVqZWeeeaZ17NjRRYy08BBAAMMzF1gCAQh4IPDiiy/aggUL7NVXX3XRnkRPUV22mpZM69Wr56JBCWG3bt3sggsusPLly2fLJMb9HwEEkEcBAhCIPIHVq1fb7Nmzbc6cObZ+/Xq3tLl///7Q+VWqVCkXHTZo0MDOPfdcy8nJsQ4dOoTOzqQYhAAmZabxEwIxJLBo0SL79a9/bYsXL3aipwSWqDRFhkqcadeunV122WV28cUXR8X02NiJAMZmKnEEAskhMHfuXBs7dqy98cYbtnPnTjty5EiknVciTfPmze2GG26w/v37u4xTWuYJIICZZ8wIEICAJwIvv/yyDR8+3F555ZWs7ut5cucr3Si7VEIoH4kIM0X5//0igJlnzAgQgEAxCCi6077esGHDbNasWa4+L+5N9YRdunSxkSNHWvv27YkIMzThCGCGwNItBCBQfAKqz3v00Udt/PjxtnXr1uJ3GLEeVGt4xRVX2JAhQ6xRo0Z2wgknRMyDcJuLAIZ7frAOAokksG/fPnvzzTdt6NChpkSXpDfVEt533312/vnnuwJ8mh8CCKAfjvQCAQh4IvDxxx/bQw89ZKNGjQplKYMnN4vUzcCBA90vBdonpBWfAAJYfIb0AAEIeCCg48dWrVplt912mz333HMeeoxnFyqbmDBhgp199tl24oknxtPJEvIKASwh0AwDAQjkTeDzzz+3mTNn2ogRI9zpLbT8CZx00kl2++23myLCWrVqgauIBBDAIoLjYxCAgB8CupFh0qRJ9uCDD5rO76SlT0AJMsqOZUk0fWap70QAi8aNT0EAAh4IrF271u69916bNm1agTcweBgull307NnTMVS5BK1wBBDAwvHi3RCAgCcC7777rt1xxx3uDE9a8QhoP1BJQ927dy9eRwn7NAKYsAnHXQiEgcDbb7/tatt0pBnND4EzzjjDLSP36tXLT4cJ6AUBTMAk4yIEwkTgnXfesUGDBrkri2h+CbRo0cLGjRtnvXv39ttxTHtDAGM6sbgFgTAS0KW0V155pS1cuDCM5sXCppYtW7qkoh49esTCn0w6gQBmki59QwACxwjoYlplLc6fPx8qGSag5VAdJtC1a9cMjxTt7hHAaM8f1kMgEgS2b99uV199tT3zzDNke5bQjHXs2NGmTJnibqGn5U4AAeTJgAAEMkpARe633nqrPfbYY5G/ty+joDx3roOzlRAzefJka9q0qefe49EdAhiPecQLCISSgK4uGjNmjN11112IXxZmSCKoPVddq1SzZs0sWBDuIRHAcM8P1kEg0gT+8pe/WN++fSPtQxyM1y8hgwcPtjJlysTBHW8+IIDeUNIRBCCQSkC3Opxzzjmm015o2SVQvXp1mzNnjnXq1Cm7hoRsdAQwZBOCORCIA4Hdu3fbpZdeas8++2wc3ImFDx06dLAZM2ZYkyZNYuGPDycQQB8U6QMCEPgSAZ1NqX0/WrgIKBN34sSJVr58+XAZliVrEMAsgWdYCMSVwLJly9zN5Tt37oyri5H1S0kxOnu1T58+kfXBp+EIoE+a9AWBhBPYtWuXXXLJJZzxGeLnoHXr1u7C4YYNG4bYypIxDQEsGc6MAoFEENBN5brRnXv9wj3dN954o/3yl78Mt5ElYB0CWAKQGQICSSCwevVq69evn61cuTIJ7kbax2rVqtkLL7xgukYpyQ0BTPLs4zsEPBLQDQ+PPPII0Z9HppnsSodlJ/06KgQwk08YfUMgIQSWLl1qAwYMoOYvQvOtTNDp06dbTk5OhKz2ayoC6JcnvUEgkQR+8pOf2BNPPEH0F7HZb9++vemXl1KlSkXMcj/mIoB+ONILBBJLYNGiRSYB1F1/tGgRqFy5sk2dOtX69+8fLcM9WYsAegJJNxBIKgGdMakbB44cOZJUBJH1W3WB3/jGN2zBggWR9aE4hiOAxaHHZyGQcAKvv/66DRw40FasWJFwEtF1/2tf+5o9+uijiSyORwCj+9xiOQSySuDo0aM2duxYu/3224n+sjoTxR/8hz/8of3+9783RYRJaghgkmYbXyHgkcCGDRvsmmuuseeff95jr3SVDQLNmze3p556ytq2bZuN4bM2JgKYNfQMDIFoE/jTn/5k1157rW3bti3ajmC9VaxY0X7+858n7gBzBJCHHwIQKDSBgwcPui/McePGFfqzfCCcBLp37+7uDKxQoUI4DcyAVQhgBqDSJQTiTmDVqlUu+eXll1+Ou6uJ8a9x48Y2ZcoU69mzZ2J8RgATM9U4CgF/BLT8efnll5suvqXFg0DZsmVdVH/PPffEw6E0vEAA04DEWyAAgf8T2Ldvn40YMcLuv/9+sMSMwIUXXmhPPvmkVa1aNWae5e4OApiIacZJCPgjsHbtWpf9OX/+fH+d0lMoCLRs2dIdaP7Nb34zFPZk2ggEMNOE6R8CMSOwZMkSU6TwySefxMwz3FECjBKblN2bhIYAJmGW8RECHgn89re/tSuuuMJjj3QVJgK6LHf8+PGJOCAbAQzTk4ctEAg5gc8//9zVinGbeMgnqhjm9erVyx2NVr9+/WL0Eo2PIoDRmCeshEAoCHz44Yfu5od//OMfobAHI/wTaNWqldsH1CHZcW8IYNxnGP8g4JHA22+/bRdccIFt2bLFY690FSYCuiJJEeCll14aJrMyYgsCmBGsdAqBeBJQ4XuXLl1MB2HT4ktAe4A33XRTfB38n2cIYOynGAch4IeA7vv73e9+55ZAfbXUm8gLuk9QNxUEtxVIgIsrwr77K+hW9YL8S4dpqs3B+32wOH5sid+DDz5oKo6Pc0MA4zy7+AYBjwT27t3rit/vu+8+j71mt6tUQS0JSySSRRUsfTYQ0ePtLl26tPtZcX8pCBh8//vft0mTJlnt2rVLAkvWxkAAs4aegSEQLQI7d+60m2++2UWBPpq+XBs2bOi6KlOmjK1Zs8a2b9+ea9f6wtf7mzRpYocOHXKR4L///W+TTUVp+vyZZ55pugxW4qGrnVauXFnkew21b3b66afb4cOHvyJCEiXZLN9UO6lfJAojVLJV7z/xxBOtXr16duqpp7rbGyR4n376qeOwa9cu0wk9wXuLwiT1M926dXOJMC1atChuV6H+PAIY6unBOAiEh4ASX3Rx6osvvujFKImpzp2UOKgAe9q0aXbbbbfZnj17viJEdevWdQXa3/3ud90XvW6juO666+zpp58ulC2BQKi/5557zr7+9a+7zyu557zzznMiVRhxCqIy7YvOnTvXvvjiCyeoaupH40moDhw4YB999JG99dZbNn36dFuwYIF7b7qtVq1advXVV1v//v2d0AZNHJYvX27//Oc/HYt3333X8StuO+200+zxxx+3s88+u7hdhfrzCGCopwfjIBAeAoqSevfube+8844XoyR2I0eOdAXXEgn9t1+/fqaDtlOX+xQdSuxUexiIig7hliDoEteiNH1WY+vMS4mTIqrvfe97NmvWrC+NXVDfEjtFfYqYJEISc9mbX5Pw3XnnnfbQQw/Z/v37CxTcatWqOfHX4QOpEZ5YpO47rlu3zoYOHWozZ84sdiSoXxB0Q/y5555bEIJI/xwBjPT0YTwESo7ABx98YF27drXNmzd7GVQR4AMPPOAEQyKihAuJq0R248aNx4SoQ4cOLrpp1KiREystBWrpT+eR6su+sE2ipyhM40hEJL4SMgnY+eef70Qs3RYItWrmFNVJ0CRS69evd8uS8kl/r1Spklu+1N/lr6K073znO7Zw4cJj0eLxYwb7fDqWTGKtKFmcVqxYYatXr3Z/P+OMM0xiVaVKFRf9/exnP3N2FHcpVEu6YiQb49wQwDjPLr5BwCMB7dFp30x7WD7akCFDjgmgREgvCYRS8BXJqOmLfeLEiXbZZZc58ZNQ6fXZZ5+5CLAwS6CBKCjSmzx5sttTlC+BKOnninhU5J+ugAQRoA6PlvBoeVan5ehaIf29XLlyTmRPOukk+8EPfmBXXnmllS9f3v27kkxuvfVWJ7h5ZYhK7FWT9+Mf/9jxkGBef/317hcFRa06vFpLtzk5Ofbwww/bE088kbbt+c2hhF1sFZHHuSGAcZ5dfIOARwKKMLQ35COdX2bdcsstLrJRRBREOxIDiYi+eP/+97+7Zb+pU6ceS8cPlkCDCLAwAqgxFYlNmDDBXearpn0uJeJoCVN2KKIMCsDT2QsMBFARoMRJtivyk2DNmzfvS/S1j6erhiRY8le3aVx00UW57gUGAix7tTcq0VZ79tlnnQDqRJ7U1rRpUxd1FiZ6LejRkK3ac4xzQwDjPLv4BgGPBHQLvATQV0uNAD/++GPbsWOHNWvWzC1xLlq0yH7xi1+4TMTWrVu7JUN96SuS0lJiYSPAQFA6d+5sjz322LE+dfu5lhB1wLciwa1bt7ob0RVhpe5D5uVzbhGgxFkC+7e//c2JalCeoD9rWTGIqp5//nm7+OKL802G0WcUKWoZVMufSnpRss3s2bNd1qr2ZVOXpNONXNOZQzEJIs903h/F9yCAUZw1bIZAFghIFLTn5KsFAijhef31113htZYma9So4SIkjdemTRs33LJly2z06NFuafSss846tgdYmAhQfQ4bNswloGgZUkuUymqVsEhwVWKhqE92SHzTEZPcBFClGYqcgv29gNePfvQjV0OppVeJ/NixY+2OO+5w4+cWVQfj9+3b10XBKtnQezWmokztk+qXgqVLl9pLL73k9jDV0rE7nTn8zW9+E/tbPxDAdJ4E3gMBCDhBypQAvvfee24ZUgI1aNAgJ0RBhqP21G644QYngs8884wTqsJGgJo+1c8p+uvevbuLKHWiTZBEI2FVSYbEQxf+futb33LnnRYkJscLoPYptQypI+MkUEGCj5YyVVKgaFN+yX4JW35JMIGYKdnl8ssvdzWYzZs3P/YkBsvBGk82qz5T2aKFKa/I77HW8rDPU3/C+L8QAhjGWcEmCISQgJbcUmvQimtiagSoL3AJoJb4tDSoyE8ZlYqUZsyYYVdddZW1b9/e/vCHP1iDBg2KFAFqWVKlFEoekTjpWqdA5Bo3buyiMyXdSFCUnPKrX/2qSAIYZH7mxUfiqyQZiXE6ZRDqR0kzuqVBmauKgPWSoKsFUaH6vffee92+qo9GBOiDIn1AAAKxIJCpPUAJhk4zUXKIEjm0B6d6PInf+++/7zIclfavqExRicQq3QgwtfBd2aTaf5PA6aVTWVKPFqtevbqL2BTVLV682Hr06HGsrCGvhJjcIkDZfXzTeHqv9u+0p6cEGSXMFLZJCIN9UP2SoKxVLa0G9YevvfaaS+LRLxTp7GHmN74iSvUd50YEGOfZxTcIeCQgEVISjCIOH00RoM4WlWAEAhgkdIwaNcoteypqC45eU4SoxAzVA6YrgIGdElVlNUrkgrq/vHzQz7XH9tOf/tQJcX7LoMdngSqik7ApeUflFIrSVJsXJA9pr/GSSy5xp8IUpqkfRauK8iTSEjwJnIrkxenuu+92/yaOypzVvmBgW2HGSX2vEnbifiUSAljUp4PPQSBhBPTl2rZtW1fn5qOlLoGmRoDqW5meqpnTcp6WRdVSBTCdMohAuCQS2t+TUKhJSFTUr58Hh1Prz9q/0zKjknDUtPSqJBkJYl4imFsSjCJLLdnOmTPHiZX8GDNmjCvBUF9aWtXyq06zSafUQnuHU6ZMccu2StBZsmTJl5JmBg8e7Eo79IuJSlUUtel4tOJEgPJLCUbKUo1zQwDjPLv4BgGPBHTUlkRIy5Q+Wm4RYGrfQaQTjFXUCFB7hyoQ18HOEh1lgSqqDOoPg4QbCaAET0uUEt1Nmza55BMlquQVTeVVBqEi/b/+9a/ucxpHEaH6CqLnAQMGuOiyoBsclPQi8dPyrz6ryFTRnZaGFQVrObhPnz5OXDWO6gTVt35WUAJPfnOoXxoUMX/729/2MdWh7QMBDO3UYBgEwkVAEYi+bBVd+GjBUWja19IpM9pzSxXA47/AJYAqCteXvqIsLVEWVAah/cUbb7zRRWBqKrdQdKZDqXOLkFSHqKXLOnXqOBHUvqEyU/Mq/g/60BFxKquQiEqktHQbRIBamtQJOkp6adeunYv6lFDUq1cvJ7L5NdVAaplYQqSxJKjBoQHHf07sFA2qRrA44qd+dTiAlpuVMRvnhgDGeXbxDQIeCahYXftLytL00ZQJqaVANQmBzuE8/oST1HGUJCMRUT1ccBuEopT8mvbOFP3p1gcJj+rpVOOnUoFg+VOf188kLhJMZYrq6DU13RIhn7W0mJuopB6GLcFTPyrol7jrUO+gEF4CqmL24cOHuyQWNUWIWh4t6Gg5nV2q+/m0l6gTX1TDGGSaKirUnqP4qaZQZSI+Wqpg++gvrH0ggGGdGeyCQMgIKOrSDQ4SIR9NX7KdOnVywqM9PX1557e/qBo6iaRKFRRpKVJT5Jhf02e0jyVhCj6j/cbcWiCIWirVkqNESwKjyC6vcVKzTHVVk4RZn9ExZ1oyDqI1ja96PiXjnHLKKS5hRQk5OudTEWNeLVV0tTepCFXRpoRQB1Zv27bNLdG++uqrpl9QfDVF4zpbVOPFuSGAcZ5dfIOARwKKNLSUGERtHrumq3wISAT1KugM1uIkvRw/vCJgRcJBQlBcJwgBjOvM4hcEPBNQFPPHP/7R3Wrgox2/l5VORmTqZ9J5f2BnaiSWju1FGacgf1J/no6gHW9nIITyO/A9t39Lx7+C3qPlaR0MkHrfYEGfieLPEcAozho2QyBLBFRordvPg9KELJnBsBkkIFFVqYb2HOPeEMC4zzD+QcAjgX/961/uklSdNEKLJwEte2qfV3uacW8IYNxnGP8g4JGAsg2VzairfmjxJKDkJGXLdujQIZ4OpniFAMZ+inEQAv4IKBFGBy5rf4gWTwKK/JSdevLJJ8fTQQQw9vOKgxDIGAGdYBLcUJ6xQeg4awRUT6hfcPIquM+aYRkYmAgwA1DpEgJxJqDTVFRbp9vIafEioCPQVP4Q95vgg1lDAOP1/OINBDJOQPuAurRWR27R4kVA9wwqAUaHniehIYBJmGV8hIBHAirIHj16tLvUlRYvAjpyTZcO66i1JDQEMAmzjI8Q8EzghRdecNfu6CguWjwIVKxY0V0bpVs6ktIQwKTMNH5CwCMB3aenQmkJIS0eBFq2bGmPP/64de7cOR4OpeEFApgGJN4CAQh8lYCiBd1EXpgjyeAYTgLK+LzwwgvdDRVJaghgkmYbXyHgkcC8efPcvXf5XWHkcTi6yiABXdGkewevu+66DI4Svq4RwPDNCRZBIBIEtm/f7rJBZ8yYEQl7MTJvArovUfcX6v7EJDUEMEmzja8Q8ExAKfO6cV0XzNKiSUCX9iryU/1f0hoCmLQZx18IeCSgQ7F1Y/qiRYs89kpXJUmgXr169uc//zkRZ38ezxUBLMknjbEgEEMCI0aMcPtHOieUFi0CpUuXdrc+zJw5M1qGe7IWAfQEkm4gkFQCa9ascWeDvvXWW0lFEFm/q1atanPmzHF3PCaxIYBJnHV8hoBnAsOGDbMJEyawF+iZaya7023vffr0ccufSW0IYFJnHr8h4JHA+vXr7aKLLiIK9Mg0011VqVLF7d22adMm00OFtn8EMLRTg2EQiBaBUaNGuaO09u7dGy3DE2qtajh171+SGwKY5NnHdwh4JLBr1y7LycmxhQsXeuyVrjJBoGHDhrZ06VKrU6dOJrqPTJ8IYGSmCkMhEH4C2k/SIdl79uwJv7EJtlA1f6rfTHpDAJP+BOA/BDwSOHjwoDske9q0aXb48GGPPdOVLwI9e/Z0ZQ/aA0x6QwCT/gTgPwQ8E9AVSZ06dTIVydPCRaBSpUq2ZMkS09FnNDMEkKcAAhDwTmD69OnuhJgDBw5475sOi0ZANz6MHDnSbr755sRceFsQKQSwIEL8HAIQKBKBm266ySZOnMh1SUWi5/9D/fr1c1mf1atX9995RHtEACM6cZgNgbATOHLkiHXr1s1eeumlsJsae/uaN29uur5K2Z+0/xNAAHkaIACBjBFYtmyZ9erVy7QvSMsOAR13pls7dFydlkFpCCDPAAQgUEIEnnrqKXfdjuoEaSVLoGLFiqZj6m655RarUKFCyQ4egdGIACMwSZgIgSgTUDmEzgm9++67bffu3VF2JVK2ly1b1q655hp3Ok+NGjUiZXtJGYsAlhRpxoFAggns37/ffRGPGTOGzNASeA601Nm/f38bPXq01a1btwRGjOYQCGA05w2rIRA5Aor+7rzzTps8eTJF8hmevb59+9r48eOtSZMmGR4p2t0jgNGeP6yHQKQIfPLJJ25PasqUKZRHZGjmlHSk8hNlftLyJ4AA8oRAAAIlSkAZocOHD7dHHnkEEfRMXsec6ZzPFi1aeO45nt0hgPGcV7yCQKgJSATvv/9+mzRpEsuhnmZKl9uOGzfOTj31VE89xr8bBDD+c4yHEAglAZVFKClGX9r79u0LpY1RMWrAgAGm+xjr168fFZNDYScCGIppwAgIJJOAEmO0FEqJRNHnf/DgwXbXXXfZySefXPROEvpJBDChE4/bEAgLAZVIzJ49266//nrbsWNHWMwKvR0qdRg7dqyr9dMtD7TCE0AAC8+MT0AAAp4J6NzQN9980xTNLF68mOSYAvgqyUXJLuedd56VKVPG82wkpzsEMDlzjacQCD2BQ4cO2ZAhQ1yZBFcpfXW6JHY5OTk2depUbnXw8DQjgB4g0gUEIOCXwJNPPulKJdatW0eW6H/RarmzZs2aNnToUBs0aJCVL1/eL/CE9oYAJnTicRsCYSewdetWVzQ/a9YsUwF9UlvlypWte/fu9sADD9jpp5+eVAwZ8RsBzAhWOoUABHwRkADqZJM33njD9uzZ46vb0Pejw6xPO+00u+qqq2zgwIFEfRmYMQQwA1DpEgIQ8Evgiy++cDdKzJgxw1atWmUHDx70O0DIelOSS+/evd1+aL169UJmXXzMQQDjM5d4AoHYE1i/fr09/PDDNnfuXJc1qquW4tRat25tXbt2tWuvvdbOOuusOLkWSl8QwFBOC0ZBAAL5EVi9erU9/fTTNn/+fHvttdds7969kQVWqlQpa9u2rdvn69evn3Xq1CmyvkTNcAQwajOGvRCAwDECH3zwgc2bN88J4SuvvGIffvhhZOjUqlXLOnbsaD169HDi16ZNm8jYHhdDEcC4zCR+QCDBBHbu3OmSZCSCS5YscVFhGE+VqVChgrVv3966dOlinTt3tnbt2rHHl8XnFgHMInyGhgAE/BNQVLhmzRpbsWKFE0MJ44YNG/wPlGaPqt/TEuc555zj9vV0T1+rVq3S/DRvyyQBBDCTdOkbAhDIKoFNmzbZ5s2bnQAuX77cieLKlStt7dq1GbNLWZsSOC1pSvCaNm1qderUsQYNGnBsWcaoF61jBLBo3PgUBCAQMQIqpdAVTJ999pl7ab/wvffec//duHGjbdmyxbSUqpeSavLKMNXB09WqVXO3L9SuXdvq1q1rjRo1smbNmrnorkqVKla1alX3Hv2ZFl4CCGB45wbLIACBDBPQPYS6jUIv1RbqLFK9JH46oPvo0aPHDuZWtqaOJCtdurSL5PRSsXq5cuXcS8eT6ee06BBAAKMzV1gKAQhAAAIeCSCAHmHSFQQgAAEIRIcAAhiducJSCEAAAhDwSAAB9AiTriAAAQhAIDoEEMDozBWWQgACEICARwIIoEeYdAUBCEAAAtEhgABGZ66wFAIQgAAEPBJAAD3CpCsIQAACEIgOAQQwOnOFpRCAAAQg4JEAAugRJl1BAAIQgEB0CCCA0ZkrLIUABCAAAY8EEECPMOkKAhCAAASiQwABjM5cYSkEIAABCHgkgAB6hElXEIAABCAQHQIIYHTmCkshAAEIQMAjAQTQI0y6ggAEIACB6BBAAKMzV1gKAQhAAAIeCSCAHmHSFQQgAAEIRIcAAhiducJSCEAAAhDwSAAB9AiTriAAAQhAIDoEEMDozBWWQgACEICARwL/ATCCdMDVhgmJAAAAAElFTkSuQmCC)"
      ],
      "metadata": {
        "id": "3KO2xCRRcCM3"
      }
    },
    {
      "cell_type": "markdown",
      "source": [
        "It was prepared by an automous trucking start-up called MARS as a way to identify potentially qualified candidates. The idea is to avoid a traditional whiteboard interview and instead provide a more challenging problem that requires an innate ability to solve complex problems.\n",
        "\n",
        "<br>\n",
        "\n",
        "### **Are you up for the challenge?** Let's get started!"
      ],
      "metadata": {
        "id": "HaABpmkHcNly"
      }
    },
    {
      "cell_type": "markdown",
      "source": [
        "## **Challenge Background**\n",
        "\n",
        "This challenge consists of a trianing video with accompanying ego vehicle speeds at each frame. Along with a test video with no accompanying speeds. The challenge will involve predicting the true vehicle speed of the test frames.\n",
        "\n",
        "\n",
        "## **Possible Approaches**\n",
        "We can approach this any number of ways that we want to, but in this series we will use two different approaches.\n",
        "\n",
        "The first approach will involve finding the Translation and Rotation of between each frame and then using those values to predict the vehicle speed. This is a two step approach. The first step will regress translation and rotation to find the best fit between two frames, the second step will be to use those values in a model that can predict the vehicl speed.\n",
        "\n",
        "The second approach will involve predicting the dense optical flow between frames and using that value to regress the speed. This method will be end-to-end with a pre-trained deep neural network to predict the optical flow, followed by a convolutional neural network to regress the speed.\n",
        "\n",
        "The third approach will also be an end-to-end approach, we will use a pre-trainind optical flow model and instead of predicting the optical flow from two frames and then regressing, we will regress the speed directly from the two frames without actually predicting the optical flow. In this case we will be able to simplify our model and utilize abstract representations learned by the model."
      ],
      "metadata": {
        "id": "uxwM9xpncpjv"
      }
    },
    {
      "cell_type": "code",
      "source": [
        "!wget https://marschallenge.s3.ap-northeast-2.amazonaws.com/train.mp4\n",
        "!wget https://marschallenge.s3.ap-northeast-2.amazonaws.com/train.txt\n",
        "!wget https://marschallenge.s3.ap-northeast-2.amazonaws.com/test.mp4"
      ],
      "metadata": {
        "colab": {
          "base_uri": "https://localhost:8080/"
        },
        "id": "cFfGDACAcgu6",
        "outputId": "6b035540-1c03-4fbc-d4b3-ccc5276ed472"
      },
      "execution_count": 6,
      "outputs": [
        {
          "output_type": "stream",
          "name": "stdout",
          "text": [
            "--2023-08-14 00:30:56--  https://marschallenge.s3.ap-northeast-2.amazonaws.com/train.mp4\n",
            "Resolving marschallenge.s3.ap-northeast-2.amazonaws.com (marschallenge.s3.ap-northeast-2.amazonaws.com)... 52.219.146.54\n",
            "Connecting to marschallenge.s3.ap-northeast-2.amazonaws.com (marschallenge.s3.ap-northeast-2.amazonaws.com)|52.219.146.54|:443... connected.\n",
            "HTTP request sent, awaiting response... 200 OK\n",
            "Length: 450765182 (430M) [video/mp4]\n",
            "Saving to: ‘train.mp4’\n",
            "\n",
            "train.mp4           100%[===================>] 429.88M  16.6MB/s    in 28s     \n",
            "\n",
            "2023-08-14 00:31:25 (15.3 MB/s) - ‘train.mp4’ saved [450765182/450765182]\n",
            "\n",
            "--2023-08-14 00:31:25--  https://marschallenge.s3.ap-northeast-2.amazonaws.com/train.txt\n",
            "Resolving marschallenge.s3.ap-northeast-2.amazonaws.com (marschallenge.s3.ap-northeast-2.amazonaws.com)... 52.219.204.50\n",
            "Connecting to marschallenge.s3.ap-northeast-2.amazonaws.com (marschallenge.s3.ap-northeast-2.amazonaws.com)|52.219.204.50|:443... connected.\n",
            "HTTP request sent, awaiting response... 200 OK\n",
            "Length: 46934 (46K) [text/plain]\n",
            "Saving to: ‘train.txt’\n",
            "\n",
            "train.txt           100%[===================>]  45.83K   264KB/s    in 0.2s    \n",
            "\n",
            "2023-08-14 00:31:26 (264 KB/s) - ‘train.txt’ saved [46934/46934]\n",
            "\n",
            "--2023-08-14 00:31:26--  https://marschallenge.s3.ap-northeast-2.amazonaws.com/test.mp4\n",
            "Resolving marschallenge.s3.ap-northeast-2.amazonaws.com (marschallenge.s3.ap-northeast-2.amazonaws.com)... 52.219.204.50\n",
            "Connecting to marschallenge.s3.ap-northeast-2.amazonaws.com (marschallenge.s3.ap-northeast-2.amazonaws.com)|52.219.204.50|:443... connected.\n",
            "HTTP request sent, awaiting response... 200 OK\n",
            "Length: 419215517 (400M) [video/mp4]\n",
            "Saving to: ‘test.mp4.1’\n",
            "\n",
            "test.mp4.1          100%[===================>] 399.79M  15.2MB/s    in 27s     \n",
            "\n",
            "2023-08-14 00:31:54 (14.6 MB/s) - ‘test.mp4.1’ saved [419215517/419215517]\n",
            "\n"
          ]
        }
      ]
    },
    {
      "cell_type": "code",
      "source": [],
      "metadata": {
        "id": "ZWTWskFkcfy9"
      },
      "execution_count": null,
      "outputs": []
    }
  ]
}