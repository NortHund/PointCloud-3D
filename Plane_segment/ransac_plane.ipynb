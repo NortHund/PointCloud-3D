{
 "cells": [
  {
   "cell_type": "code",
   "execution_count": 1,
   "id": "ca2a1257-c998-4d53-ac71-5d8d7ea8c580",
   "metadata": {},
   "outputs": [
    {
     "name": "stdout",
     "output_type": "stream",
     "text": [
      "Jupyter environment detected. Enabling Open3D WebVisualizer.\n",
      "[Open3D INFO] WebRTC GUI backend enabled.\n",
      "[Open3D INFO] WebRTCWindowSystem: HTTP handshake server disabled.\n"
     ]
    }
   ],
   "source": [
    "#1. Env setup\n",
    "\n",
    "import numpy as np\n",
    "import open3d as o3d\n",
    "import matplotlib.pyplot as plt"
   ]
  },
  {
   "cell_type": "code",
   "execution_count": 2,
   "id": "2dcb1188-ff4e-475d-949d-c595ef86f43d",
   "metadata": {},
   "outputs": [],
   "source": [
    "# 2 data prep\n",
    "\n",
    "Dataname = (\"appartment_cloud.ply\")\n",
    "pcd = o3d.io.read_point_cloud(\"./tutorial_data/\" + Dataname)"
   ]
  },
  {
   "cell_type": "code",
   "execution_count": 3,
   "id": "d8ea10b5-c383-4ab4-94d4-a711ab7605cf",
   "metadata": {},
   "outputs": [
    {
     "data": {
      "text/plain": [
       "PointCloud with 1430779 points."
      ]
     },
     "execution_count": 3,
     "metadata": {},
     "output_type": "execute_result"
    }
   ],
   "source": [
    "# 3 pre-processing\n",
    "pcd_center = pcd.get_center()\n",
    "pcd.translate(-pcd_center)"
   ]
  },
  {
   "cell_type": "code",
   "execution_count": 4,
   "id": "9269b6a7-5ffe-4550-90a6-aa1d9eb25c64",
   "metadata": {},
   "outputs": [],
   "source": [
    "# 3.1 statistical outlier filter\n",
    "nn = 16\n",
    "std_multiplier = 10\n",
    "\n",
    "filtered_pcd = pcd.remove_statistical_outlier(nn, std_multiplier)\n",
    "\n",
    "outliers = pcd.select_by_index(filtered_pcd[1], invert=True)\n",
    "\n",
    "outliers.paint_uniform_color([1, 0, 0])\n",
    "filtered_pcd = filtered_pcd[0]\n",
    "\n",
    "o3d.visualization.draw_geometries([filtered_pcd])"
   ]
  },
  {
   "cell_type": "code",
   "execution_count": 6,
   "id": "8fe427b0-2d26-4c8e-b0b0-d8268d651284",
   "metadata": {},
   "outputs": [],
   "source": [
    "# 3.2 voxel downsamplin\n",
    "voxel_size = 0.01\n",
    "\n",
    "pcd_downsampled = filtered_pcd.voxel_down_sample(voxel_size = voxel_size)\n",
    "o3d.visualization.draw_geometries([pcd_downsampled])"
   ]
  },
  {
   "cell_type": "code",
   "execution_count": 5,
   "id": "1374c7dd-678d-4cfc-bd7c-0a1b9c958f78",
   "metadata": {},
   "outputs": [
    {
     "ename": "NameError",
     "evalue": "name 'pcd_downsampled' is not defined",
     "output_type": "error",
     "traceback": [
      "\u001b[0;31m---------------------------------------------------------------------------\u001b[0m",
      "\u001b[0;31mNameError\u001b[0m                                 Traceback (most recent call last)",
      "Cell \u001b[0;32mIn[5], line 6\u001b[0m\n\u001b[1;32m      2\u001b[0m nn_distance \u001b[38;5;241m=\u001b[39m np\u001b[38;5;241m.\u001b[39mmean(pcd\u001b[38;5;241m.\u001b[39mcompute_nearest_neighbor_distance())\n\u001b[1;32m      4\u001b[0m radius_normals \u001b[38;5;241m=\u001b[39m nn_distance \u001b[38;5;241m*\u001b[39m \u001b[38;5;241m4\u001b[39m\n\u001b[0;32m----> 6\u001b[0m \u001b[43mpcd_downsampled\u001b[49m\u001b[38;5;241m.\u001b[39mestimate_normals(search_param\u001b[38;5;241m=\u001b[39mo3d\u001b[38;5;241m.\u001b[39mgeometry\u001b[38;5;241m.\u001b[39mKDTreeSearchParamHybrid(radius\u001b[38;5;241m=\u001b[39mradius_normals, max_nn \u001b[38;5;241m=\u001b[39m \u001b[38;5;241m16\u001b[39m), fast_normal_computation\u001b[38;5;241m=\u001b[39m\u001b[38;5;28;01mTrue\u001b[39;00m)\n\u001b[1;32m      8\u001b[0m pcd_downsampled\u001b[38;5;241m.\u001b[39mpaint_uniform_color([\u001b[38;5;241m0.6\u001b[39m, \u001b[38;5;241m0.6\u001b[39m, \u001b[38;5;241m0.6\u001b[39m])\n\u001b[1;32m      9\u001b[0m o3d\u001b[38;5;241m.\u001b[39mvisualization\u001b[38;5;241m.\u001b[39mdraw_geometries([pcd_downsampled, outliers])\n",
      "\u001b[0;31mNameError\u001b[0m: name 'pcd_downsampled' is not defined"
     ]
    }
   ],
   "source": [
    "# 3.3 estimating normals\n",
    "nn_distance = np.mean(pcd.compute_nearest_neighbor_distance())\n",
    "\n",
    "radius_normals = nn_distance * 4\n",
    "\n",
    "pcd_downsampled.estimate_normals(search_param=o3d.geometry.KDTreeSearchParamHybrid(radius=radius_normals, max_nn = 16), fast_normal_computation=True)\n",
    "\n",
    "pcd_downsampled.paint_uniform_color([0.6, 0.6, 0.6])\n",
    "o3d.visualization.draw_geometries([pcd_downsampled, outliers])"
   ]
  },
  {
   "cell_type": "code",
   "execution_count": 8,
   "id": "889617e9-260c-4735-b991-9c3b283be285",
   "metadata": {},
   "outputs": [],
   "source": [
    "# 4 extracting and setting parameters\n",
    "\n",
    "front = 0.98924968999074026, 0.11976321498654677, 0.083915571792787427\n",
    "lookat = -0.0087864400828863154, 0.02734387141551986, -0.03272785576983317\n",
    "up = -0.085617819753286639, 0.0091302998492761977, 0.99628621719130295\n",
    "zoom = 0.27999999999999958\n",
    "pcd = pcd.voxel_down_sample(voxel_size = voxel_size)\n",
    "o3d.visualization.draw_geometries([pcd], front=front, up=up, zoom=zoom,lookat=lookat)"
   ]
  },
  {
   "cell_type": "code",
   "execution_count": 5,
   "id": "3ca08cb9-2738-443e-9e1b-85326661281a",
   "metadata": {},
   "outputs": [],
   "source": [
    "#4.1 alt: setting params for full cloud:\n",
    "front = 0.98924968999074026, 0.11976321498654677, 0.083915571792787427\n",
    "lookat = -0.0087864400828863154, 0.02734387141551986, -0.03272785576983317\n",
    "up = -0.085617819753286639, 0.0091302998492761977, 0.99628621719130295\n",
    "zoom = 0.27999999999999958\n",
    "\n",
    "o3d.visualization.draw_geometries([pcd], front=front, up=up, zoom=zoom,lookat=lookat)\n"
   ]
  },
  {
   "cell_type": "code",
   "execution_count": null,
   "id": "031e9c04-fd84-4dc5-9765-c4b0ec3e2e98",
   "metadata": {},
   "outputs": [],
   "source": [
    "# 5 ransac planar segmentation first ver\n",
    "\n",
    "pt_to_plane_dist = 0.02\n",
    "\n",
    "plane_model, inliers = pcd.segment_plane(distance_threshold=pt_to_plane_dist,ransac_n=3,num_iterations=1000)\n",
    "\n",
    "[a,b,c,d] = plane_model\n",
    "\n",
    "print(f\"Plane equation: {a:.2f}x + {b:.2f}y + {c:.2f}z + {d:.2f} = 0\")\n",
    "\n",
    "inlier_cloud = pcd.select_by_index(inliers)\n",
    "outliers_cloud = pcd.select_by_index(inliers, invert=True)\n",
    "inlier_cloud.paint_uniform_color([1, 0, 0])\n",
    "outliers_cloud.paint_uniform_color([0.6, 0.6, 0.6])\n",
    "\n",
    "o3d.visualization.draw_geometries([inlier_cloud, outliers_cloud], front=front, up=up, zoom=zoom,lookat=lookat)"
   ]
  },
  {
   "cell_type": "code",
   "execution_count": null,
   "id": "e802e65f-e2fc-4238-aae1-044fc6da3289",
   "metadata": {},
   "outputs": [],
   "source": [
    "# 5.2 ransac planar segmentation 2nd ver\n",
    "\n",
    "pt_to_plane_dist = 0.02\n",
    "\n",
    "plane_model, inliers = pcd.segment_plane(distance_threshold=pt_to_plane_dist,ransac_n=3,num_iterations=1000)\n",
    "\n",
    "[a,b,c,d] = plane_model\n",
    "\n",
    "print(f\"Plane equation: {a:.2f}x + {b:.2f}y + {c:.2f}z + {d:.2f} = 0\")\n",
    "\n",
    "inlier_cloud = pcd.select_by_index(inliers)\n",
    "outliers_cloud = pcd.select_by_index(inliers, invert=True)\n",
    "inlier_cloud.paint_uniform_color([1, 0, 0])\n",
    "outliers_cloud.paint_uniform_color([0.6, 0.6, 0.6])\n",
    "\n",
    "o3d.visualization.draw_geometries([inlier_cloud, outliers_cloud], front=front, up=up, zoom=zoom,lookat=lookat)"
   ]
  },
  {
   "cell_type": "code",
   "execution_count": null,
   "id": "a18715ea-a1a9-4840-819c-5f017e125dc9",
   "metadata": {},
   "outputs": [],
   "source": [
    "# 6 multi-order ransac\n",
    "max_plane_idx = 6\n",
    "pt_to_plane_dist = 0.02\n",
    "\n",
    "segment_models = {}\n",
    "segments = {}\n",
    "rest = pcd\n",
    "for i in range(max_plane_idx):\n",
    "    colors = plt.get_cmap('tab20')(i)\n",
    "    segment_models[i], inliers = rest.segment_plane(distance_threshold=pt_to_plane_dist,ransac_n=3,num_iterations=1000)\n",
    "    segments[i] = rest.select_by_index(inliers)\n",
    "    segments[i].paint_uniform_color(list(colors[:3]))\n",
    "    rest = rest.select_by_index(inliers, invert=True)\n",
    "    print(\"pass\", i, \"/\", max_plane_idx, \"done. \")\n",
    "\n",
    "o3d.visualization.draw_geometries([segments[i] for i in range(max_plane_idx)] + [rest], zoom=zoom, front=front, up=up, lookat=lookat)"
   ]
  },
  {
   "cell_type": "code",
   "execution_count": 13,
   "id": "2d19d6b1-3539-437f-b52d-4f358b9abba2",
   "metadata": {},
   "outputs": [
    {
     "name": "stdout",
     "output_type": "stream",
     "text": [
      "pass 0 / 4 done. \n",
      "pass 1 / 4 done. \n",
      "pass 2 / 4 done. \n",
      "pass 3 / 4 done. \n"
     ]
    }
   ],
   "source": [
    "# 7 multi-order ransac\n",
    "max_plane_idx = 4\n",
    "pt_to_plane_dist = 0.02\n",
    "\n",
    "segment_models = {}\n",
    "segments = {}\n",
    "rest = pcd\n",
    "for i in range(max_plane_idx):\n",
    "    colors = plt.get_cmap('tab20')(i)\n",
    "    segment_models[i], inliers = rest.segment_plane(distance_threshold=pt_to_plane_dist,ransac_n=3,num_iterations=1000)\n",
    "    segments[i] = rest.select_by_index(inliers)\n",
    "    segments[i].paint_uniform_color(list(colors[:3]))\n",
    "    rest = rest.select_by_index(inliers, invert=True)\n",
    "    print(\"pass\", i, \"/\", max_plane_idx, \"done. \")\n",
    "    \n",
    "o3d.visualization.draw_geometries([segments[i] for i in range(max_plane_idx)], zoom=zoom, front=front, up=up, lookat=lookat)\n",
    "\n",
    "#o3d.visualization.draw_geometries([segments[i] for i in range(max_plane_idx)] + [rest], zoom=zoom, front=front, up=up, lookat=lookat)"
   ]
  },
  {
   "cell_type": "code",
   "execution_count": 8,
   "id": "e782e9ae-b51d-4658-9d57-b0b939459c5b",
   "metadata": {},
   "outputs": [
    {
     "name": "stdout",
     "output_type": "stream",
     "text": [
      "point cloud has 1 clusters\n"
     ]
    }
   ],
   "source": [
    "# DBScan sur rest\n",
    "\n",
    "labels = np.array(rest.cluster_dbscan(eps=0.05, min_points=5))\n",
    "max_label = labels.max()\n",
    "print(f\"point cloud has {max_label + 1} clusters\")\n",
    "\n",
    "colors = plt.get_cmap(\"tab10\")(labels / (max_label if max_label > 0 else 1))\n",
    "colors[labels < 0] = 0\n",
    "rest.colors = o3d.utility.Vector3dVector(colors[:, :3])\n",
    "o3d.visualization.draw_geometries([segments[i] for i in range(max_plane_idx)] + [rest], zoom=zoom, front=front, up=up, lookat=lookat)"
   ]
  },
  {
   "cell_type": "code",
   "execution_count": 9,
   "id": "3bf1121d-5e61-4648-bdd0-31bd489077da",
   "metadata": {},
   "outputs": [],
   "source": [
    "o3d.visualization.draw_geometries([segments[i] for i in range(max_plane_idx)], zoom=zoom, front=front, up=up, lookat=lookat)"
   ]
  },
  {
   "cell_type": "code",
   "execution_count": null,
   "id": "e5941114-6285-408b-be31-3cfb2d3a785a",
   "metadata": {},
   "outputs": [],
   "source": []
  }
 ],
 "metadata": {
  "kernelspec": {
   "display_name": "Python 3 (ipykernel)",
   "language": "python",
   "name": "python3"
  },
  "language_info": {
   "codemirror_mode": {
    "name": "ipython",
    "version": 3
   },
   "file_extension": ".py",
   "mimetype": "text/x-python",
   "name": "python",
   "nbconvert_exporter": "python",
   "pygments_lexer": "ipython3",
   "version": "3.10.12"
  }
 },
 "nbformat": 4,
 "nbformat_minor": 5
}
