{
 "cells": [
  {
   "cell_type": "code",
   "execution_count": 1,
   "id": "bfc889ed-02a4-4b9b-872c-af33a64b5073",
   "metadata": {},
   "outputs": [
    {
     "name": "stdout",
     "output_type": "stream",
     "text": [
      "Jupyter environment detected. Enabling Open3D WebVisualizer.\n",
      "[Open3D INFO] WebRTC GUI backend enabled.\n",
      "[Open3D INFO] WebRTCWindowSystem: HTTP handshake server disabled.\n",
      "[Open3D INFO] Resetting default logger to print to terminal.\n"
     ]
    }
   ],
   "source": [
    "import os\n",
    "import re\n",
    "from glob import glob\n",
    "import time\n",
    "import random\n",
    "import numpy as np\n",
    "import pandas as pd\n",
    "import torch\n",
    "import torch.nn as nn\n",
    "import torch.nn.functional as F\n",
    "import torchmetrics\n",
    "from torchmetrics.classification import MulticlassMatthewsCorrCoef\n",
    "import open3d as o3\n",
    "# from open3d import JVisualizer # For Colab Visualization\n",
    "from open3d.web_visualizer import draw # for non Colab\n",
    "\n",
    "import matplotlib.pyplot as plt\n",
    "%matplotlib inline"
   ]
  },
  {
   "cell_type": "code",
   "execution_count": 2,
   "id": "b8c8b4db-52e1-4a33-bfb4-e51f42dce55b",
   "metadata": {},
   "outputs": [],
   "source": [
    "#torch geometric could be used to import .ply straight into torch. But it doesn't seem to work with the code.\n",
    "#import torch_geometric"
   ]
  },
  {
   "cell_type": "code",
   "execution_count": 3,
   "id": "624ac139-8897-4f3b-a727-39bf4d4432c3",
   "metadata": {},
   "outputs": [],
   "source": [
    "# TEMP for supressing pytorch user warnings\n",
    "import warnings\n",
    "warnings.filterwarnings(\"ignore\")"
   ]
  },
  {
   "cell_type": "code",
   "execution_count": 4,
   "id": "7b63f88b-a56c-4484-94e4-3e7cd1028e4e",
   "metadata": {},
   "outputs": [],
   "source": [
    "from point_net import PointNetSegHead"
   ]
  },
  {
   "cell_type": "code",
   "execution_count": 5,
   "id": "bd18ba89-dcac-4f01-8b07-c87ad10942c8",
   "metadata": {},
   "outputs": [],
   "source": [
    "# dataset\n",
    "ROOT = r'./../../data/S3DIS_aligned_reduced_partitioned'\n",
    "\n",
    "# feature selection hyperparameters\n",
    "NUM_TRAIN_POINTS = 4096 # train/valid points\n",
    "NUM_TEST_POINTS = 15000\n",
    "\n",
    "BATCH_SIZE = 8"
   ]
  },
  {
   "cell_type": "code",
   "execution_count": 6,
   "id": "a69681d3-d0c8-4256-a197-0c0e0fe9ddbe",
   "metadata": {},
   "outputs": [
    {
     "data": {
      "text/plain": [
       "'cuda'"
      ]
     },
     "execution_count": 6,
     "metadata": {},
     "output_type": "execute_result"
    }
   ],
   "source": [
    "DEVICE = 'cuda' if torch.cuda.is_available() else 'cpu'\n",
    "DEVICE"
   ]
  },
  {
   "cell_type": "code",
   "execution_count": 7,
   "id": "1d8675be-6e37-4346-b1a9-00bdea614b81",
   "metadata": {},
   "outputs": [],
   "source": [
    "CATEGORIES = {\n",
    "    'ceiling'  : 0, \n",
    "    'floor'    : 1, \n",
    "    'wall'     : 2, \n",
    "    'beam'     : 3, \n",
    "    'column'   : 4, \n",
    "    'window'   : 5,\n",
    "    'door'     : 6, \n",
    "    'table'    : 7, \n",
    "    'chair'    : 8, \n",
    "    'sofa'     : 9, \n",
    "    'bookcase' : 10, \n",
    "    'board'    : 11,\n",
    "    'stairs'   : 12,\n",
    "    'clutter'  : 13\n",
    "}\n",
    "\n",
    "# unique color map generated via\n",
    "# https://mokole.com/palette.html\n",
    "COLOR_MAP = {\n",
    "    0  : (47, 79, 79),    # ceiling - darkslategray\n",
    "    1  : (139, 69, 19),   # floor - saddlebrown\n",
    "    2  : (34, 139, 34),   # wall - forestgreen\n",
    "    3  : (75, 0, 130),    # beam - indigo\n",
    "    4  : (255, 0, 0),     # column - red \n",
    "    5  : (255, 255, 0),   # window - yellow\n",
    "    6  : (0, 255, 0),     # door - lime\n",
    "    7  : (0, 255, 255),   # table - aqua\n",
    "    8  : (0, 0, 255),     # chair - blue\n",
    "    9  : (255, 0, 255),   # sofa - fuchsia\n",
    "    10 : (238, 232, 170), # bookcase - palegoldenrod\n",
    "    11 : (100, 149, 237), # board - cornflower\n",
    "    12 : (255, 105, 180), # stairs - hotpink\n",
    "    13 : (0, 0, 0)        # clutter - black\n",
    "}\n",
    "\n",
    "v_map_colors = np.vectorize(lambda x : COLOR_MAP[x])\n",
    "\n",
    "NUM_CLASSES = len(CATEGORIES)"
   ]
  },
  {
   "cell_type": "code",
   "execution_count": 8,
   "id": "2ba9e116-fcb3-408e-bb5b-be5ab3f92475",
   "metadata": {},
   "outputs": [],
   "source": [
    "#S3dis dataloader stuffs"
   ]
  },
  {
   "cell_type": "code",
   "execution_count": 9,
   "id": "0f6fbce2-f3a4-4337-bfaf-d1506929f8cc",
   "metadata": {},
   "outputs": [],
   "source": [
    "from torch.utils.data import DataLoader\n",
    "from s3dis_dataset import S3DIS\n",
    "\n",
    "# get datasets\n",
    "s3dis_test = S3DIS(ROOT, area_nums='6', split='test', npoints=NUM_TEST_POINTS)\n",
    "\n",
    "# get dataloaders\n",
    "test_dataloader = DataLoader(s3dis_test, batch_size=BATCH_SIZE, shuffle=False)"
   ]
  },
  {
   "cell_type": "markdown",
   "id": "226e157d-bc0c-4cb1-a7cf-cf8c02af6034",
   "metadata": {},
   "source": [
    "## object selection testing"
   ]
  },
  {
   "cell_type": "code",
   "execution_count": null,
   "id": "5a67e23b-bd0a-4322-8ba5-00e16ed78a56",
   "metadata": {},
   "outputs": [],
   "source": [
    "#extracting one colour (and therefore one class) from the point cloud, awesome method I know\n",
    "\n",
    "pcm = o3.geometry.PointCloud()\n",
    "pcm.points = o3.utility.Vector3dVector(points.to('cpu')[2, :, :])\n",
    "pcm.colors = o3.utility.Vector3dVector(np.vstack(v_map_colors(pred_choice.to('cpu')[2, :])).T/255)\n",
    "\n",
    "pcr = o3.geometry.PointCloud()\n",
    "print(pcm)\n",
    "print(pcm.colors[0])\n",
    "colour = str(pcm.colors[1])\n",
    "\n",
    "#pcr.points = pcm.points[1:100]\n",
    "for p in range(15000):\n",
    "    if (str(pcm.colors[p]) == colour):\n",
    "        pcr.points.append( pcm.points[p])\n",
    "        \n",
    "\n",
    "# draw(pcd)\n",
    "o3.visualization.draw_plotly([pcr])"
   ]
  },
  {
   "cell_type": "code",
   "execution_count": null,
   "id": "34a4e686-cb64-42f4-aa20-5a838942574f",
   "metadata": {},
   "outputs": [],
   "source": [
    "#extracting one colour (and therefore one class) from the point cloud, better method hopefully\n",
    "\n",
    "pcm = o3.geometry.PointCloud()\n",
    "pcm.points = o3.utility.Vector3dVector(points.to('cpu')[2, :, :])\n",
    "pcm.colors = o3.utility.Vector3dVector(np.vstack(v_map_colors(pred_choice.to('cpu')[2, :])).T/255)\n",
    "\n",
    "pcr = o3.geometry.PointCloud()\n",
    "print(pcm)\n",
    "print(pcm.colors[0])\n",
    "colour = str(pcm.colors[1])\n",
    "\n",
    "#pcr.points = pcm.points[1:100]\n",
    "for p in range(15000):\n",
    "    if (str(pcm.colors[p]) == colour):\n",
    "        pcr.points.append( pcm.points[p])\n",
    "        \n",
    "\n",
    "# draw(pcd)\n",
    "o3.visualization.draw_plotly([pcr])"
   ]
  },
  {
   "cell_type": "markdown",
   "id": "524b96cd-cc9a-4595-931f-26c668bc2a61",
   "metadata": {},
   "source": [
    "### segmenting a S3dis room"
   ]
  },
  {
   "cell_type": "code",
   "execution_count": null,
   "id": "4d6f0cfa-bf1e-4303-a2c4-5131324c0be0",
   "metadata": {},
   "outputs": [],
   "source": [
    "MODEL_PATH = './trained_models/seg_focal_dice_iou_rot/seg_model_68.pth'\n",
    "\n",
    "model = PointNetSegHead(num_points=NUM_TEST_POINTS, m=NUM_CLASSES).to(DEVICE)\n",
    "model.load_state_dict(torch.load(MODEL_PATH))\n",
    "model.eval();"
   ]
  },
  {
   "cell_type": "code",
   "execution_count": 20,
   "id": "6d0b2310-bfb8-49a3-a474-febc1a8214ad",
   "metadata": {},
   "outputs": [],
   "source": [
    "torch.cuda.empty_cache() # release GPU memory\n",
    "points, targets = s3dis_test.get_random_partitioned_space()"
   ]
  },
  {
   "cell_type": "code",
   "execution_count": 21,
   "id": "615f70a7-98de-4448-9703-976994685da0",
   "metadata": {},
   "outputs": [
    {
     "name": "stdout",
     "output_type": "stream",
     "text": [
      "torch.Size([25, 15000, 3])\n"
     ]
    }
   ],
   "source": [
    "print(points.shape)"
   ]
  },
  {
   "cell_type": "code",
   "execution_count": 33,
   "id": "2f01f8f4-ab68-4933-b45d-071c6e55288d",
   "metadata": {},
   "outputs": [],
   "source": [
    "# display true full point cloud\n",
    "pcd = o3.geometry.PointCloud()\n",
    "pcd.points = o3.utility.Vector3dVector(points.permute(2, 0, 1).reshape(3, -1).to('cpu').T)\n",
    "pcd.colors = o3.utility.Vector3dVector(np.vstack(v_map_colors(targets.reshape(-1).to('cpu'))).T/255)"
   ]
  },
  {
   "cell_type": "code",
   "execution_count": null,
   "id": "ea11f0ce-6c95-4198-830a-62c168e68976",
   "metadata": {},
   "outputs": [],
   "source": [
    "#display in Jupyter\n",
    "draw(pcd)"
   ]
  },
  {
   "cell_type": "code",
   "execution_count": 34,
   "id": "89833fed-e60d-4f89-8005-fa996ff024c8",
   "metadata": {},
   "outputs": [],
   "source": [
    "#display in window\n",
    "o3.visualization.draw_geometries([pcd]) "
   ]
  },
  {
   "cell_type": "code",
   "execution_count": 25,
   "id": "5a931562-b317-48bc-a4a3-116384575108",
   "metadata": {},
   "outputs": [
    {
     "name": "stdout",
     "output_type": "stream",
     "text": [
      "torch.Size([25, 15000])\n"
     ]
    }
   ],
   "source": [
    "print(targets.shape)"
   ]
  },
  {
   "cell_type": "code",
   "execution_count": 37,
   "id": "835d680f-9236-4db4-a1ce-c5dd646f975f",
   "metadata": {},
   "outputs": [
    {
     "name": "stdout",
     "output_type": "stream",
     "text": [
      "tensor(3)\n",
      "yes!\n"
     ]
    }
   ],
   "source": [
    "print(targets[3][1])\n",
    "\n",
    "if (targets[3][1] == 3):\n",
    "    print(\"yes!\")"
   ]
  },
  {
   "cell_type": "code",
   "execution_count": 53,
   "id": "640aca02-9556-40b2-9d47-27294d35dad2",
   "metadata": {},
   "outputs": [
    {
     "name": "stdout",
     "output_type": "stream",
     "text": [
      "torch.Size([25, 15000, 3])\n"
     ]
    }
   ],
   "source": [
    "#selecting a single class from the image\n",
    "e_points = np.zeros((25, 15000, 3))\n",
    "pcr = torch.from_numpy(e_points).type(torch.float32)\n",
    "print(pcr.shape)\n",
    "\n",
    "#pcr.points = pcm.points[1:100]\n",
    "for o in range(25):\n",
    "    for p in range(15000):\n",
    "        if (targets[o][p] == 8):\n",
    "            pcr[o][p] = points[o][p]\n"
   ]
  },
  {
   "cell_type": "code",
   "execution_count": 68,
   "id": "a2cf8a61-f1b0-4b47-98af-82b5ecd4497a",
   "metadata": {},
   "outputs": [],
   "source": [
    "#selecting a single class from the image\n",
    "e_points = np.zeros((25, 0, 3))\n",
    "pcr = torch.from_numpy(e_points).type(torch.float32)\n",
    "\n",
    "#pcr.points = pcm.points[1:100]\n",
    "for o in range(25):\n",
    "    for p in range(15000):\n",
    "        if (targets[o][p] == 8):\n",
    "            pcr.add(points[o][p])\n"
   ]
  },
  {
   "cell_type": "code",
   "execution_count": 65,
   "id": "f94617cb-cdbb-4169-85a7-3a45c3e811d2",
   "metadata": {},
   "outputs": [
    {
     "name": "stdout",
     "output_type": "stream",
     "text": [
      "torch.Size([25, 0, 3])\n"
     ]
    }
   ],
   "source": [
    "print(pcr.shape)"
   ]
  },
  {
   "cell_type": "code",
   "execution_count": 61,
   "id": "4edf14b5-1967-4004-95a1-d031abb14fce",
   "metadata": {},
   "outputs": [
    {
     "ename": "RuntimeError",
     "evalue": "permute(sparse_coo): number of dimensions in the tensor input does not match the length of the desired ordering of dimensions i.e. input.dim() = 1 is not equal to len(dims) = 3",
     "output_type": "error",
     "traceback": [
      "\u001b[0;31m---------------------------------------------------------------------------\u001b[0m",
      "\u001b[0;31mRuntimeError\u001b[0m                              Traceback (most recent call last)",
      "Cell \u001b[0;32mIn[61], line 3\u001b[0m\n\u001b[1;32m      1\u001b[0m \u001b[38;5;66;03m# display true full point cloud\u001b[39;00m\n\u001b[1;32m      2\u001b[0m pcd \u001b[38;5;241m=\u001b[39m o3\u001b[38;5;241m.\u001b[39mgeometry\u001b[38;5;241m.\u001b[39mPointCloud()\n\u001b[0;32m----> 3\u001b[0m pcd\u001b[38;5;241m.\u001b[39mpoints \u001b[38;5;241m=\u001b[39m o3\u001b[38;5;241m.\u001b[39mutility\u001b[38;5;241m.\u001b[39mVector3dVector(\u001b[43mpcr\u001b[49m\u001b[38;5;241;43m.\u001b[39;49m\u001b[43mpermute\u001b[49m\u001b[43m(\u001b[49m\u001b[38;5;241;43m2\u001b[39;49m\u001b[43m,\u001b[49m\u001b[43m \u001b[49m\u001b[38;5;241;43m0\u001b[39;49m\u001b[43m,\u001b[49m\u001b[43m \u001b[49m\u001b[38;5;241;43m1\u001b[39;49m\u001b[43m)\u001b[49m\u001b[38;5;241m.\u001b[39mreshape(\u001b[38;5;241m3\u001b[39m, \u001b[38;5;241m-\u001b[39m\u001b[38;5;241m1\u001b[39m)\u001b[38;5;241m.\u001b[39mto(\u001b[38;5;124m'\u001b[39m\u001b[38;5;124mcpu\u001b[39m\u001b[38;5;124m'\u001b[39m)\u001b[38;5;241m.\u001b[39mT)\n\u001b[1;32m      4\u001b[0m pcd\u001b[38;5;241m.\u001b[39mcolors \u001b[38;5;241m=\u001b[39m o3\u001b[38;5;241m.\u001b[39mutility\u001b[38;5;241m.\u001b[39mVector3dVector(np\u001b[38;5;241m.\u001b[39mvstack(v_map_colors(targets\u001b[38;5;241m.\u001b[39mreshape(\u001b[38;5;241m-\u001b[39m\u001b[38;5;241m1\u001b[39m)\u001b[38;5;241m.\u001b[39mto(\u001b[38;5;124m'\u001b[39m\u001b[38;5;124mcpu\u001b[39m\u001b[38;5;124m'\u001b[39m)))\u001b[38;5;241m.\u001b[39mT\u001b[38;5;241m/\u001b[39m\u001b[38;5;241m255\u001b[39m)\n",
      "\u001b[0;31mRuntimeError\u001b[0m: permute(sparse_coo): number of dimensions in the tensor input does not match the length of the desired ordering of dimensions i.e. input.dim() = 1 is not equal to len(dims) = 3"
     ]
    }
   ],
   "source": [
    "# display true full point cloud\n",
    "pcd = o3.geometry.PointCloud()\n",
    "pcd.points = o3.utility.Vector3dVector(pcr.permute(2, 0, 1).reshape(3, -1).to('cpu').T)\n",
    "pcd.colors = o3.utility.Vector3dVector(np.vstack(v_map_colors(targets.reshape(-1).to('cpu'))).T/255)"
   ]
  },
  {
   "cell_type": "code",
   "execution_count": 55,
   "id": "0b2c73d1-2c53-426f-a7d7-ea74368609f4",
   "metadata": {},
   "outputs": [],
   "source": [
    "#display in window\n",
    "o3.visualization.draw_geometries([pcd]) "
   ]
  },
  {
   "cell_type": "code",
   "execution_count": null,
   "id": "2e6fa292-d1b6-4793-9556-3340a6be64fc",
   "metadata": {},
   "outputs": [],
   "source": [
    "# model inference for s3dis ref\n",
    "\n",
    "points = points.to(DEVICE)\n",
    "\n",
    "# Normalize each partitioned Point Cloud to (0, 1)\n",
    "norm_points = points.clone()\n",
    "norm_points = norm_points - norm_points.min(axis=1)[0].unsqueeze(1)\n",
    "norm_points /= norm_points.max(axis=1)[0].unsqueeze(1)\n",
    "\n",
    "with torch.no_grad():\n",
    "\n",
    "    # prepare data\n",
    "    norm_points = norm_points.transpose(2, 1)\n",
    "\n",
    "    # run inference\n",
    "    preds, _, _ = model(norm_points)\n",
    "\n",
    "    # get metrics\n",
    "    pred_choice = torch.softmax(preds, dim=2).argmax(dim=2)"
   ]
  },
  {
   "cell_type": "code",
   "execution_count": null,
   "id": "98b31578-7137-4980-afc7-3222ad0afb04",
   "metadata": {},
   "outputs": [],
   "source": [
    "# display predicted full point cloud - in Open3d\n",
    "pcd = o3.geometry.PointCloud()\n",
    "pcd.points = o3.utility.Vector3dVector(points.permute(2, 0, 1).reshape(3, -1).to('cpu').T)\n",
    "pcd.colors = o3.utility.Vector3dVector(np.vstack(v_map_colors(pred_choice.reshape(-1).to('cpu'))).T/255)"
   ]
  },
  {
   "cell_type": "code",
   "execution_count": null,
   "id": "a7f5d042-8475-45c0-971e-20aae9aaae55",
   "metadata": {},
   "outputs": [],
   "source": [
    "#display in jupyter\n",
    "draw(pcd)"
   ]
  },
  {
   "cell_type": "code",
   "execution_count": null,
   "id": "23feb97b-362e-4827-bd1f-76fef086960f",
   "metadata": {},
   "outputs": [],
   "source": [
    "#display in window\n",
    "o3.visualization.draw_geometries([pcd]) "
   ]
  },
  {
   "cell_type": "code",
   "execution_count": null,
   "id": "b8945861-1239-4297-b697-fc440786b6b2",
   "metadata": {},
   "outputs": [],
   "source": [
    "# multi-order ransac\n",
    "max_plane_idx = 8\n",
    "pt_to_plane_dist = 0.02\n",
    "\n",
    "segment_models = {}\n",
    "segments = {}\n",
    "rest = pcd\n",
    "for i in range(max_plane_idx):\n",
    "    colors = plt.get_cmap('tab20')(i)\n",
    "    segment_models[i], inliers = rest.segment_plane(distance_threshold=pt_to_plane_dist,ransac_n=3,num_iterations=1000)\n",
    "    segments[i] = rest.select_by_index(inliers)\n",
    "    segments[i].paint_uniform_color(list(colors[:3]))\n",
    "    rest = rest.select_by_index(inliers, invert=True)\n",
    "    print(\"pass\", i, \"/\", max_plane_idx, \"done. \")\n",
    "    \n",
    "#o3.visualization.draw_geometries([segments[i] for i in range(max_plane_idx)], zoom=zoom, front=front, up=up, lookat=lookat)\n",
    "#o3d.visualization.draw_geometries([segments[i] for i in range(max_plane_idx)] + [rest], zoom=zoom, front=front, up=up, lookat=lookat)"
   ]
  },
  {
   "cell_type": "code",
   "execution_count": null,
   "id": "9876877d-0a30-4645-86ec-76d455b12a2d",
   "metadata": {},
   "outputs": [],
   "source": [
    "rest.estimate_normals(\n",
    "    search_param=o3.geometry.KDTreeSearchParamHybrid(radius=0.1, max_nn=30))"
   ]
  },
  {
   "cell_type": "code",
   "execution_count": null,
   "id": "48f106fa-bf78-43cb-ab99-9b635e12719c",
   "metadata": {},
   "outputs": [],
   "source": [
    "o3.visualization.draw_geometries([rest],\n",
    "                                  point_show_normal=True)"
   ]
  },
  {
   "cell_type": "code",
   "execution_count": null,
   "id": "91dcc298-b276-47dc-952b-b16863c351be",
   "metadata": {},
   "outputs": [],
   "source": [
    "for i in range(max_plane_idx):\n",
    "    segments[i].estimate_normals(\n",
    "    search_param=o3.geometry.KDTreeSearchParamHybrid(radius=0.1, max_nn=30))"
   ]
  },
  {
   "cell_type": "code",
   "execution_count": null,
   "id": "139e2773-d2af-46cd-b335-442bce649523",
   "metadata": {},
   "outputs": [],
   "source": [
    "o3.visualization.draw_geometries([segments[1]],\n",
    "                                  point_show_normal=True)"
   ]
  },
  {
   "cell_type": "code",
   "execution_count": null,
   "id": "ac06cf97-b631-4a1a-9e85-e44131620161",
   "metadata": {},
   "outputs": [],
   "source": [
    "o3.visualization.draw_geometries([segments[i] for i in range(max_plane_idx)],\n",
    "                                  point_show_normal=True)"
   ]
  },
  {
   "cell_type": "code",
   "execution_count": null,
   "id": "6661f497-345d-4252-aa84-f10df50d0b37",
   "metadata": {},
   "outputs": [],
   "source": [
    "o3.visualization.draw_plotly([segments[i] for i in range(max_plane_idx)])"
   ]
  },
  {
   "cell_type": "code",
   "execution_count": null,
   "id": "4bb12687-318e-45bd-b960-31ce37c062b9",
   "metadata": {},
   "outputs": [],
   "source": [
    "o3.visualization.draw_plotly([segments[i] for i in range(max_plane_idx)] + [rest])"
   ]
  },
  {
   "cell_type": "code",
   "execution_count": null,
   "id": "43c191b4-0f53-4ba0-9e15-7e65173f1836",
   "metadata": {},
   "outputs": [],
   "source": [
    "o3.visualization.draw_plotly([rest])"
   ]
  },
  {
   "cell_type": "code",
   "execution_count": null,
   "id": "604a8a26-a13e-415d-8eab-72602ecd0ded",
   "metadata": {},
   "outputs": [],
   "source": []
  },
  {
   "cell_type": "code",
   "execution_count": null,
   "id": "7f9ae6a1-ab16-4e74-a181-002a921a73a9",
   "metadata": {},
   "outputs": [],
   "source": []
  },
  {
   "cell_type": "code",
   "execution_count": null,
   "id": "5b477547-6a0d-4444-af95-55bccb7ddd60",
   "metadata": {},
   "outputs": [],
   "source": []
  },
  {
   "cell_type": "markdown",
   "id": "263548ea-cc9c-49ad-9e06-7d47343bd9c4",
   "metadata": {},
   "source": [
    "## Segmenting cwc corridor"
   ]
  },
  {
   "cell_type": "code",
   "execution_count": null,
   "id": "e28283f9-b0ef-4c48-b278-cea0349118b5",
   "metadata": {},
   "outputs": [],
   "source": [
    "# creating an empty open3d point cloud\n",
    "#cwc_pcd = o3.geometry.PointCloud()"
   ]
  },
  {
   "cell_type": "code",
   "execution_count": null,
   "id": "4edb3023-64b7-4c5b-b843-5bfe51cfc803",
   "metadata": {},
   "outputs": [],
   "source": [
    "#o3.io.read_point_cloud('../../data/cwc/geometry/cloud.ply', cwc_pcd)"
   ]
  },
  {
   "cell_type": "code",
   "execution_count": null,
   "id": "705be9ab-d0e9-4b92-999c-573c88f2f54c",
   "metadata": {},
   "outputs": [],
   "source": [
    "print(\"Load a ply point cloud, print it, and render it\")\n",
    "ply_point_cloud = o3.data.PLYPointCloud()\n",
    "pcd = o3.io.read_point_cloud(\"../../data/cwc/geometry/mini_cloud.ply\")\n",
    "print(pcd)\n",
    "print(np.asarray(pcd.points))\n",
    "o3.visualization.draw_geometries([pcd])\n",
    "\n"
   ]
  },
  {
   "cell_type": "code",
   "execution_count": null,
   "id": "0adfd5e5-36da-4af1-bf3b-3c7974655398",
   "metadata": {},
   "outputs": [],
   "source": [
    "#torch import ply, doesn't work with model\n",
    "#points = torch_geometric.io.read_ply(\"../../data/cwc/geometry/cloud.ply\")"
   ]
  },
  {
   "cell_type": "code",
   "execution_count": null,
   "id": "2e8ebb47-b16c-4c30-9947-ace104a5c83a",
   "metadata": {},
   "outputs": [],
   "source": [
    "np_points = np.asarray(pcd.points)"
   ]
  },
  {
   "cell_type": "code",
   "execution_count": null,
   "id": "d5cf4fd7-7cd7-4eb1-a1ef-b5663aeac109",
   "metadata": {},
   "outputs": [],
   "source": [
    "print(len(np_points))"
   ]
  },
  {
   "cell_type": "code",
   "execution_count": null,
   "id": "617fba1f-8123-4ea9-83f4-b02798d2aa4e",
   "metadata": {},
   "outputs": [],
   "source": [
    "#normalizing points: For some reason this breaks the cloud format\n",
    "#points = self.normalize_points(points)\n",
    "np_points = np_points - np_points.min(axis=0)\n",
    "np_points /= np_points.max(axis=0)"
   ]
  },
  {
   "cell_type": "code",
   "execution_count": null,
   "id": "96eb64a5-aa04-4d70-91c1-7d015a12f26e",
   "metadata": {},
   "outputs": [],
   "source": [
    "if len(np_points) > 120000:\n",
    "    choice = np.random.choice(len(np_points), 120000, replace=False)\n",
    "else:\n",
    "    # case when there are less points than the desired number\n",
    "    choice = np.random.choice(len(np_points), 120000, replace=True)\n",
    "np_points = np_points[choice, :] "
   ]
  },
  {
   "cell_type": "code",
   "execution_count": null,
   "id": "17d569ef-2835-4413-9092-398900e8703e",
   "metadata": {},
   "outputs": [],
   "source": [
    "print(len(np_points))"
   ]
  },
  {
   "cell_type": "code",
   "execution_count": null,
   "id": "db8d29da-776f-4a34-912a-b2359dc44d4c",
   "metadata": {},
   "outputs": [],
   "source": [
    "pt_points = torch.from_numpy(np_points).type(torch.float32)"
   ]
  },
  {
   "cell_type": "code",
   "execution_count": null,
   "id": "b18f1b25-5ba9-4a32-b209-3d6e46bf0c9c",
   "metadata": {},
   "outputs": [],
   "source": [
    "print(pt_points.shape)"
   ]
  },
  {
   "cell_type": "code",
   "execution_count": null,
   "id": "514fbaab-3223-427b-bd0f-fb31a4580ec2",
   "metadata": {},
   "outputs": [],
   "source": [
    "pt_points = pt_points.view(1, 120000, 3)"
   ]
  },
  {
   "cell_type": "code",
   "execution_count": null,
   "id": "c641a471-7ad1-48a5-99e5-d36fe8471be9",
   "metadata": {},
   "outputs": [],
   "source": [
    "# display predicted full point cloud - in Open3d\n",
    "pcd = o3.geometry.PointCloud()\n",
    "pcd.points = o3.utility.Vector3dVector(pt_points.permute(2, 0, 1).reshape(3, -1).to('cpu').T)\n",
    "#pcd.points = o3.utility.Vector3dVector(pt_points.permute(2, 0, 1).reshape(3, -1).to('cpu').T)\n",
    "#pcd.colors = o3.utility.Vector3dVector(np.vstack(v_map_colors(pred_choice.reshape(-1).to('cpu'))).T/255)"
   ]
  },
  {
   "cell_type": "code",
   "execution_count": null,
   "id": "eff6016a-85e8-4e55-9819-afd9b5b27b88",
   "metadata": {},
   "outputs": [],
   "source": [
    "#display in window\n",
    "o3.visualization.draw_geometries([pcd]) "
   ]
  },
  {
   "cell_type": "code",
   "execution_count": null,
   "id": "4ce5a369-816d-48d8-bc93-d0566a2c0e58",
   "metadata": {},
   "outputs": [],
   "source": [
    "#points2 = pcd.points \n",
    "#doesn't work"
   ]
  },
  {
   "cell_type": "code",
   "execution_count": null,
   "id": "8c51be5f-a416-456f-a7e1-27f7c9323539",
   "metadata": {},
   "outputs": [],
   "source": [
    "MODEL_PATH = './trained_models/seg_focal_dice_iou_rot/seg_model_68.pth'\n",
    "\n",
    "model = PointNetSegHead(num_points=NUM_TEST_POINTS, m=NUM_CLASSES).to(DEVICE)\n",
    "model.load_state_dict(torch.load(MODEL_PATH))\n",
    "model.eval();"
   ]
  },
  {
   "cell_type": "code",
   "execution_count": null,
   "id": "7323dc87-e57e-4cec-b9ae-3516e04212bf",
   "metadata": {},
   "outputs": [],
   "source": [
    "#reshaping tensor to fit model input\n",
    "pt_points = pt_points[:60000] \n",
    "pt_points = pt_points.view(4, 15000, 3)"
   ]
  },
  {
   "cell_type": "code",
   "execution_count": null,
   "id": "a7b24436-60f6-402f-affe-6369b32ab3ec",
   "metadata": {},
   "outputs": [],
   "source": [
    "#reshaping tensor to fit model input\n",
    "pt_points = pt_points[:90000] \n",
    "pt_points = pt_points.view(4, 15000, 3)"
   ]
  },
  {
   "cell_type": "code",
   "execution_count": null,
   "id": "8f0c8a5a-f11b-4ebb-91d0-ee5a997de1f4",
   "metadata": {},
   "outputs": [],
   "source": [
    "#reshaping tensor to fit model input - bigger version\n",
    "pt_points = pt_points[:120000] \n",
    "pt_points = pt_points.view(8, 15000, 3)"
   ]
  },
  {
   "cell_type": "code",
   "execution_count": null,
   "id": "47652d88-d091-4c73-94a6-3e48c9319393",
   "metadata": {},
   "outputs": [],
   "source": [
    "pcd = o3.geometry.PointCloud()\n",
    "pcd.points = o3.utility.Vector3dVector(pt_points.permute(2, 0, 1).reshape(3, -1).to('cpu').T)\n",
    "o3.visualization.draw_geometries([pcd])"
   ]
  },
  {
   "cell_type": "code",
   "execution_count": null,
   "id": "0ccff238-37ff-4c7c-b17d-589e131d2eb1",
   "metadata": {},
   "outputs": [],
   "source": [
    "# model inference for cwc corridor\n",
    "\n",
    "pt_points = pt_points.to(DEVICE)\n",
    "\n",
    "# Normalize each partitioned Point Cloud to (0, 1)\n",
    "norm_points = pt_points.clone()\n",
    "norm_points = norm_points - norm_points.min(axis=1)[0].unsqueeze(1)\n",
    "norm_points /= norm_points.max(axis=1)[0].unsqueeze(1)\n",
    "\n",
    "with torch.no_grad():\n",
    "\n",
    "    # prepare data\n",
    "    norm_points = norm_points.transpose(2, 1)\n",
    "\n",
    "    # run inference\n",
    "    preds, _, _ = model(norm_points)\n",
    "\n",
    "    # get metrics\n",
    "    pred_choice = torch.softmax(preds, dim=2).argmax(dim=2)\n"
   ]
  },
  {
   "cell_type": "code",
   "execution_count": null,
   "id": "2f580b9b-3742-41cf-b179-087e60e5b4d6",
   "metadata": {},
   "outputs": [],
   "source": [
    "# display predicted full point cloud\n",
    "pcd = o3.geometry.PointCloud()\n",
    "pcd.points = o3.utility.Vector3dVector(pt_points.permute(2, 0, 1).reshape(3, -1).to('cpu').T)\n",
    "pcd.colors = o3.utility.Vector3dVector(np.vstack(v_map_colors(pred_choice.reshape(-1).to('cpu'))).T/255)\n",
    "\n",
    "draw(pcd)"
   ]
  },
  {
   "cell_type": "markdown",
   "id": "fb604af2-9ba4-44e8-be42-8d9274f5f3cf",
   "metadata": {},
   "source": [
    "### Segementing Saalastinsali"
   ]
  },
  {
   "cell_type": "code",
   "execution_count": 10,
   "id": "a36bbe72-c55e-41b7-9d33-cdd9083d85a5",
   "metadata": {},
   "outputs": [
    {
     "name": "stdout",
     "output_type": "stream",
     "text": [
      "Load a ply point cloud, print it, and render it\n",
      "PointCloud with 4540577 points.\n",
      "[[  6.02087499 -11.96875     -0.94423194]\n",
      " [  6.         -11.99059806  -0.94445244]\n",
      " [  6.         -11.96875     -0.94951831]\n",
      " ...\n",
      " [-15.76822015  -2.7734375    0.9765625 ]\n",
      " [-15.7578125   -2.7734375    0.96941538]\n",
      " [-15.50271709  -3.5390625    0.9609375 ]]\n"
     ]
    }
   ],
   "source": [
    "print(\"Load a ply point cloud, print it, and render it\")\n",
    "ply_point_cloud = o3.data.PLYPointCloud()\n",
    "pcd = o3.io.read_point_cloud(\"../../data/saalasti/mesh/mesh.ply\")\n",
    "print(pcd)\n",
    "print(np.asarray(pcd.points))\n",
    "#o3.visualization.draw_geometries([pcd])"
   ]
  },
  {
   "cell_type": "code",
   "execution_count": 11,
   "id": "cdc6fd5b-dfc9-4ba3-be63-bc136382ac9e",
   "metadata": {},
   "outputs": [],
   "source": [
    "np_points = np.asarray(pcd.points)"
   ]
  },
  {
   "cell_type": "code",
   "execution_count": null,
   "id": "7606feca-d5d4-4128-8350-b8aa252a1673",
   "metadata": {},
   "outputs": [],
   "source": [
    "#points = self.normalize_points(points)\n",
    "np_points = np_points - np_points.min(axis=0)\n",
    "np_points /= np_points.max(axis=0)"
   ]
  },
  {
   "cell_type": "code",
   "execution_count": null,
   "id": "0a5052c8-6c21-42d1-9a09-a9bcd0f55040",
   "metadata": {},
   "outputs": [],
   "source": []
  },
  {
   "cell_type": "code",
   "execution_count": null,
   "id": "40899bb8-f4b8-4f82-999d-0000e18277da",
   "metadata": {},
   "outputs": [],
   "source": [
    "print(len(np_points))"
   ]
  },
  {
   "cell_type": "code",
   "execution_count": 13,
   "id": "4a5451af-af12-4384-a5f1-418fb487c032",
   "metadata": {},
   "outputs": [],
   "source": [
    "#Downsampling to 120000 points\n",
    "if len(np_points) > 120000:\n",
    "    choice = np.random.choice(len(np_points), 120000, replace=False)\n",
    "else:\n",
    "    # case when there are less points than the desired number\n",
    "    choice = np.random.choice(len(np_points), 120000, replace=True)\n",
    "np_points = np_points[choice, :] "
   ]
  },
  {
   "cell_type": "code",
   "execution_count": null,
   "id": "0ee14c37-f92e-4ffd-8327-c276e36a8e0f",
   "metadata": {},
   "outputs": [],
   "source": [
    "#Downsampling to 60000 points\n",
    "if len(np_points) > 60000:\n",
    "    choice = np.random.choice(len(np_points), 60000, replace=False)\n",
    "else:\n",
    "    # case when there are less points than the desired number\n",
    "    choice = np.random.choice(len(np_points), 60000, replace=True)\n",
    "np_points = np_points[choice, :] "
   ]
  },
  {
   "cell_type": "code",
   "execution_count": 14,
   "id": "e661c614-fd75-4870-8da4-7ce1960116d4",
   "metadata": {},
   "outputs": [],
   "source": [
    "pt_points = torch.from_numpy(np_points).type(torch.float32)"
   ]
  },
  {
   "cell_type": "code",
   "execution_count": 15,
   "id": "4af96f65-c4a4-44f5-a117-f9432d7cdffc",
   "metadata": {},
   "outputs": [
    {
     "name": "stdout",
     "output_type": "stream",
     "text": [
      "torch.Size([120000, 3])\n"
     ]
    }
   ],
   "source": [
    "print(pt_points.shape)"
   ]
  },
  {
   "cell_type": "code",
   "execution_count": 16,
   "id": "63a74ba0-179a-4969-ac98-66f052380615",
   "metadata": {},
   "outputs": [],
   "source": [
    "MODEL_PATH = './trained_models/seg_focal_dice_iou_rot/seg_model_68.pth'\n",
    "\n",
    "model = PointNetSegHead(num_points=NUM_TEST_POINTS, m=NUM_CLASSES).to(DEVICE)\n",
    "model.load_state_dict(torch.load(MODEL_PATH))\n",
    "model.eval();"
   ]
  },
  {
   "cell_type": "code",
   "execution_count": null,
   "id": "71b1a5b5-ada8-4d63-90a4-7d05e326fe7a",
   "metadata": {},
   "outputs": [],
   "source": [
    "#reshaping tensor to fit model input - big version - requires much gpu memory\n",
    "pt_points = pt_points[:4530000] \n",
    "pt_points = pt_points.view(302, 15000, 3)"
   ]
  },
  {
   "cell_type": "code",
   "execution_count": null,
   "id": "ac919412-8d26-4e82-8e2e-5a194625b54a",
   "metadata": {},
   "outputs": [],
   "source": [
    "#reshaping tensor to fit model input - smål version\n",
    "pt_points = pt_points[:150000] \n",
    "pt_points = pt_points.view(10, 15000, 3)"
   ]
  },
  {
   "cell_type": "code",
   "execution_count": 17,
   "id": "625d865c-3bc7-4841-b577-40e4257d76b3",
   "metadata": {},
   "outputs": [],
   "source": [
    "#reshaping tensor to fit model input - småller version\n",
    "pt_points = pt_points[:120000] \n",
    "pt_points = pt_points.view(8, 15000, 3)"
   ]
  },
  {
   "cell_type": "code",
   "execution_count": null,
   "id": "dc56d51d-b53a-400e-985c-9c3cd1987b3d",
   "metadata": {},
   "outputs": [],
   "source": [
    "#reshaping tensor to fit model input - smållest version\n",
    "pt_points = pt_points[:60000] \n",
    "pt_points = pt_points.view(4, 15000, 3)"
   ]
  },
  {
   "cell_type": "code",
   "execution_count": null,
   "id": "64f34f52-f301-4914-8091-cc647b2d76aa",
   "metadata": {},
   "outputs": [],
   "source": [
    "#big batch alternative\n",
    "MODEL_PATH = './trained_models/seg_focal_dice_iou_rot/seg_model_68.pth'\n",
    "\n",
    "model = PointNetSegHead(num_points=60000, m=NUM_CLASSES).to(DEVICE)\n",
    "model.load_state_dict(torch.load(MODEL_PATH))\n",
    "model.eval();\n",
    "\n",
    "pt_points = pt_points[:120000] \n",
    "pt_points = pt_points.view(2, 60000, 3)"
   ]
  },
  {
   "cell_type": "code",
   "execution_count": null,
   "id": "6d07ffd8-cae7-4eaf-85ad-4a17d3e22508",
   "metadata": {},
   "outputs": [],
   "source": [
    "#not sure if needed\n",
    "#torch.cuda.empty_cache() # release GPU memory"
   ]
  },
  {
   "cell_type": "code",
   "execution_count": 18,
   "id": "8aeed3b8-cef1-4396-90b7-45be12162e95",
   "metadata": {},
   "outputs": [],
   "source": [
    "# model inference for saalasti\n",
    "\n",
    "pt_points = pt_points.to(DEVICE)\n",
    "\n",
    "# Normalize each partitioned Point Cloud to (0, 1)\n",
    "norm_points = pt_points.clone()\n",
    "norm_points = norm_points - norm_points.min(axis=1)[0].unsqueeze(1)\n",
    "norm_points /= norm_points.max(axis=1)[0].unsqueeze(1)\n",
    "\n",
    "with torch.no_grad():\n",
    "\n",
    "    # prepare data\n",
    "    norm_points = norm_points.transpose(2, 1)\n",
    "\n",
    "    # run inference\n",
    "    preds, _, _ = model(norm_points)\n",
    "\n",
    "    # get metrics\n",
    "    pred_choice = torch.softmax(preds, dim=2).argmax(dim=2)\n"
   ]
  },
  {
   "cell_type": "code",
   "execution_count": null,
   "id": "6e2a7e24-138d-4de3-a1b5-8b7914ccead8",
   "metadata": {},
   "outputs": [],
   "source": [
    "print(pred_choice)"
   ]
  },
  {
   "cell_type": "code",
   "execution_count": 19,
   "id": "80c73e4c-8b3c-48d4-afd9-77ebf686e729",
   "metadata": {},
   "outputs": [],
   "source": [
    "# display predicted full point cloud\n",
    "pcd = o3.geometry.PointCloud()\n",
    "pcd.points = o3.utility.Vector3dVector(pt_points.permute(2, 0, 1).reshape(3, -1).to('cpu').T)\n",
    "pcd.colors = o3.utility.Vector3dVector(np.vstack(v_map_colors(pred_choice.reshape(-1).to('cpu'))).T/255)\n",
    "o3.visualization.draw_geometries([pcd])\n",
    "#draw(pcd)"
   ]
  },
  {
   "cell_type": "code",
   "execution_count": null,
   "id": "d8ba3444-83cd-4546-b37b-52de7bfd2715",
   "metadata": {},
   "outputs": [],
   "source": []
  }
 ],
 "metadata": {
  "kernelspec": {
   "display_name": "Python 3 (ipykernel)",
   "language": "python",
   "name": "python3"
  },
  "language_info": {
   "codemirror_mode": {
    "name": "ipython",
    "version": 3
   },
   "file_extension": ".py",
   "mimetype": "text/x-python",
   "name": "python",
   "nbconvert_exporter": "python",
   "pygments_lexer": "ipython3",
   "version": "3.8.19"
  }
 },
 "nbformat": 4,
 "nbformat_minor": 5
}
