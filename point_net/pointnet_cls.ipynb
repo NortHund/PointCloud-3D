{
 "cells": [
  {
   "attachments": {},
   "cell_type": "markdown",
   "metadata": {},
   "source": [
    "# **Point Net - Classification**\n",
    "\n",
    "In this notebook, we will use the classification version of point net to classify objects from the shapenet dataset"
   ]
  },
  {
   "cell_type": "code",
   "execution_count": 36,
   "metadata": {},
   "outputs": [],
   "source": [
    "import os\n",
    "import re\n",
    "from glob import glob\n",
    "import time\n",
    "import numpy as np\n",
    "import pandas as pd\n",
    "import torch\n",
    "import torch.nn as nn\n",
    "import torch.nn.functional as F\n",
    "import torchmetrics\n",
    "from torchmetrics.classification import MulticlassMatthewsCorrCoef\n",
    "import open3d as o3\n",
    "# from open3d import JVisualizer # For Colab Visualization\n",
    "from open3d.web_visualizer import draw # for non Colab\n",
    "\n",
    "import matplotlib.pyplot as plt\n",
    "%matplotlib inline"
   ]
  },
  {
   "cell_type": "code",
   "execution_count": 37,
   "metadata": {},
   "outputs": [],
   "source": [
    "# TEMP for supressing pytorch user warnings\n",
    "import warnings\n",
    "warnings.filterwarnings(\"ignore\")"
   ]
  },
  {
   "attachments": {},
   "cell_type": "markdown",
   "metadata": {},
   "source": [
    "In Colab you can run this cell to download the dataset. If you would like to download the dataset to your PC visit the url and the dataset will automatically download as a zip \n",
    "\n",
    "WARNING: Downloading the dataset will take a long time"
   ]
  },
  {
   "cell_type": "code",
   "execution_count": 38,
   "metadata": {},
   "outputs": [],
   "source": [
    "# Run this only if you don't already have the Dataset\n",
    "# !wget -nv https://shapenet.cs.stanford.edu/ericyi/shapenetcore_partanno_segmentation_benchmark_v0.zip --no-check-certificate\n",
    "# !unzip shapenetcore_partanno_segmentation_benchmark_v0.zip\n",
    "# !rm shapenetcore_partanno_segmentation_benchmark_v0.zip"
   ]
  },
  {
   "attachments": {},
   "cell_type": "markdown",
   "metadata": {},
   "source": [
    "### Get the data"
   ]
  },
  {
   "cell_type": "code",
   "execution_count": 39,
   "metadata": {},
   "outputs": [],
   "source": [
    "# General parameters\n",
    "NUM_TRAIN_POINTS = 2500\n",
    "NUM_TEST_POINTS = 10000\n",
    "NUM_CLASSES = 16\n",
    "ROOT = r'C:\\Users\\itber\\Documents\\datasets\\shapenetcore_partanno_segmentation_benchmark_v0'\n",
    "\n",
    "# model hyperparameters\n",
    "GLOBAL_FEATS = 4096\n",
    "\n",
    "# training hyperparameters\n",
    "BATCH_SIZE = 16\n",
    "EPOCHS = 25\n",
    "LR = 0.01"
   ]
  },
  {
   "attachments": {},
   "cell_type": "markdown",
   "metadata": {},
   "source": [
    "Helpers for our dataset"
   ]
  },
  {
   "cell_type": "code",
   "execution_count": 40,
   "metadata": {},
   "outputs": [],
   "source": [
    "# get class - label mappings\n",
    "classes_dict = {'Airplane': 0, 'Bag': 1, 'Cap': 2, 'Car': 3, 'Chair': 4, \n",
    "                'Earphone': 5, 'Guitar': 6, 'Knife': 7, 'Lamp': 8, 'Laptop': 9,\n",
    "                'Motorbike': 10, 'Mug': 11, 'Pistol': 12, 'Rocket': 13, \n",
    "                'Skateboard': 14, 'Table': 15}\n",
    "                \n",
    "# Simple point cloud coloring mapping\n",
    "def read_pointnet_colors(seg_labels):\n",
    "    map_label_to_rgb = {\n",
    "        1: [0, 255, 0],\n",
    "        2: [0, 0, 255],\n",
    "        3: [255, 0, 0],\n",
    "        4: [255, 0, 255],  # purple\n",
    "        5: [0, 255, 255],  # cyan\n",
    "        6: [255, 255, 0],  # yellow\n",
    "    }\n",
    "    colors = np.array([map_label_to_rgb[label] for label in seg_labels])\n",
    "    return colors"
   ]
  },
  {
   "cell_type": "code",
   "execution_count": 56,
   "metadata": {},
   "outputs": [],
   "source": [
    "from torch.utils.data import DataLoader\n",
    "from shapenet_dataset import ShapenetDataset\n",
    "\n",
    "# train Dataset & DataLoader\n",
    "train_dataset = ShapenetDataset(ROOT, npoints=NUM_TRAIN_POINTS, split='train', classification=True, \n",
    "                                class_choice=None, image=False)\n",
    "train_dataloader = DataLoader(train_dataset, batch_size=BATCH_SIZE, shuffle=True)\n",
    "\n",
    "# Validation Dataset & DataLoader\n",
    "valid_dataset = ShapenetDataset(ROOT, npoints=NUM_TRAIN_POINTS, split='valid', classification=True, \n",
    "                                class_choice=None, image=False)\n",
    "valid_dataloader = DataLoader(valid_dataset, batch_size=BATCH_SIZE)\n",
    "\n",
    "# test Dataset & DataLoader (segmentation version for display)\n",
    "test_dataset = ShapenetDataset(ROOT, npoints=NUM_TEST_POINTS, split='test', classification=False)\n",
    "test_dataloader = DataLoader(test_dataset, batch_size=BATCH_SIZE)"
   ]
  },
  {
   "cell_type": "code",
   "execution_count": 42,
   "metadata": {},
   "outputs": [
    {
     "data": {
      "text/plain": [
       "torch.Size([16, 2500, 3])"
      ]
     },
     "execution_count": 42,
     "metadata": {},
     "output_type": "execute_result"
    }
   ],
   "source": [
    "points, targets = next(iter(train_dataloader))\n",
    "points.shape"
   ]
  },
  {
   "cell_type": "code",
   "execution_count": 43,
   "metadata": {},
   "outputs": [
    {
     "name": "stdout",
     "output_type": "stream",
     "text": [
      "Class output shape: torch.Size([16, 16])\n"
     ]
    }
   ],
   "source": [
    "from point_net import PointNetClassHead\n",
    "\n",
    "classifier = PointNetClassHead(k=NUM_CLASSES, num_global_feats=GLOBAL_FEATS)\n",
    "out, _, _ = classifier(points.transpose(2, 1))\n",
    "print(f'Class output shape: {out.shape}')"
   ]
  },
  {
   "cell_type": "code",
   "execution_count": 44,
   "metadata": {},
   "outputs": [],
   "source": [
    "device = 'cuda' if torch.cuda.is_available() else 'cpu'\n",
    "device = 'cpu'"
   ]
  },
  {
   "attachments": {},
   "cell_type": "markdown",
   "metadata": {},
   "source": [
    "### Begin Training Model"
   ]
  },
  {
   "cell_type": "code",
   "execution_count": 46,
   "metadata": {},
   "outputs": [],
   "source": [
    "import torch.optim as optim\n",
    "\n",
    "optimizer = optim.Adam(classifier.parameters(), lr=LR)\n",
    "criterion = nn.CrossEntropyLoss()"
   ]
  },
  {
   "cell_type": "code",
   "execution_count": 6,
   "metadata": {},
   "outputs": [
    {
     "data": {
      "text/plain": [
       "274.0"
      ]
     },
     "execution_count": 6,
     "metadata": {},
     "output_type": "execute_result"
    }
   ],
   "source": [
    "# stuff for training\n",
    "num_train_batch = len(train_dataset)/BATCH_SIZE \n",
    "num_valid_batch = len(valid_dataset)/BATCH_SIZE \n",
    "\n",
    "# lists to store metrics\n",
    "train_loss = []\n",
    "train_accuracy = []\n",
    "valid_loss = []\n",
    "valid_accuracy = []\n",
    "\n",
    "# TRAIN ON EPOCHS\n",
    "for epoch in range(1, EPOCHS):\n",
    "\n",
    "    # place model in training mode\n",
    "    classifier = classifier.train()\n",
    "    _train_loss = []\n",
    "    _train_accuracy = []\n",
    "    for i, (points, targets) in enumerate(train_dataloader, 0):\n",
    "\n",
    "        points = points.transpose(2, 1).to(device)\n",
    "        targets = targets.squeeze().to(device)\n",
    "        \n",
    "        # zero gradients\n",
    "        optimizer.zero_grad()\n",
    "        \n",
    "        # get predicted class logits\n",
    "        preds, _, A = classifier(points)\n",
    "        \n",
    "        # compute regularization term to enforce orthogonality on the feature Transformation\n",
    "        I = torch.eye(64).unsqueeze(0).repeat(A.shape[0], 1, 1).to(device)\n",
    "        reg = torch.linalg.norm(I - torch.bmm(A, A.transpose(2, 1)))\n",
    "\n",
    "        # get loss and perform backprop\n",
    "        loss = criterion(preds, targets) + reg\n",
    "        loss.backward()\n",
    "        optimizer.step()\n",
    "        \n",
    "        # get class predictions\n",
    "        pred_choice = torch.softmax(preds, dim=1).argmax(dim=1) \n",
    "        correct = pred_choice.eq(targets.data).cpu().sum()\n",
    "        accuracy = correct.item()/float(BATCH_SIZE)\n",
    "\n",
    "        # update epoch loss and accuracy\n",
    "        _train_loss.append(loss.item())\n",
    "        _train_accuracy.append(accuracy)\n",
    "\n",
    "        if i % 100 == 0:\n",
    "            print('\\t [%d: %d/%d] train loss: %f accuracy: %f' \\\n",
    "                  % (epoch, i, num_train_batch, loss.item(), accuracy))\n",
    "        \n",
    "    train_loss.append(np.mean(_train_loss))\n",
    "    train_accuracy.append(np.mean(_train_accuracy))\n",
    "\n",
    "    print(f'Epoch: {epoch} - Train Loss: {train_loss[-1]} - Train Accuracy: {train_accuracy[-1]}')\n",
    "\n",
    "    # pause to cool down\n",
    "    time.sleep(4)\n",
    "\n",
    "    # get test results after each epoch\n",
    "    with torch.no_grad():\n",
    "\n",
    "        # place model in evaluation mode\n",
    "        classifier = classifier.eval()\n",
    "\n",
    "        _valid_loss = []\n",
    "        _valid_accuracy = []\n",
    "        for i, (points, targets) in enumerate(valid_dataloader, 0):\n",
    "\n",
    "            points = points.transpose(2, 1).to(device)\n",
    "            targets = targets.squeeze().to(device)\n",
    "\n",
    "            preds, _, _ = classifier(points)\n",
    "            loss = criterion(preds, targets)\n",
    "\n",
    "            pred_choice = torch.softmax(preds, dim=1).argmax(dim=1) \n",
    "            correct = pred_choice.eq(targets.data).cpu().sum()\n",
    "            accuracy = correct.item()/float(BATCH_SIZE)\n",
    "\n",
    "            # update epoch loss and accuracy\n",
    "            _valid_loss.append(loss.item())\n",
    "            _valid_accuracy.append(accuracy)\n",
    "\n",
    "            if i % 100 == 0:\n",
    "                print('\\t [%d: %d/%d] %s loss: %f accuracy: %f' \\\n",
    "                      % (epoch, i, num_valid_batch, 'validation', loss.item(), accuracy))\n",
    "        \n",
    "        valid_loss.append(np.mean(_valid_loss))\n",
    "        valid_accuracy.append(np.mean(_valid_accuracy))\n",
    "        print(f'Epoch: {epoch} - Validation Loss: {valid_loss[-1]} - Validation Accuracy: {valid_accuracy[-1]}')\n",
    "\n",
    "        # pause to cool down\n",
    "        time.sleep(4)\n",
    "\n",
    "    torch.save(classifier.state_dict(), 'cls/cls_model_%d.pth' % epoch)"
   ]
  },
  {
   "attachments": {},
   "cell_type": "markdown",
   "metadata": {},
   "source": [
    "### Test Model performance"
   ]
  },
  {
   "cell_type": "code",
   "execution_count": 47,
   "metadata": {},
   "outputs": [],
   "source": [
    "MODEL_PATH = 'cls/cls_model_4.pth'\n",
    "\n",
    "classifier = PointNetClassHead(num_points=NUM_TEST_POINTS, num_global_feats=GLOBAL_FEATS, k=NUM_CLASSES).to(device)\n",
    "classifier.load_state_dict(torch.load(MODEL_PATH))\n",
    "classifier.eval();"
   ]
  },
  {
   "cell_type": "code",
   "execution_count": 124,
   "metadata": {},
   "outputs": [],
   "source": [
    "from random import randrange\n",
    "\n",
    "# torch.cuda.empty_cache() # release GPU memory\n",
    "# points, seg = next(iter(test_dataloader))\n",
    "\n",
    "# get random sample from test data \n",
    "random_idx = randrange(len(test_dataset))\n",
    "points, seg = test_dataset.__getitem__(random_idx)\n",
    "\n",
    "with torch.no_grad():\n",
    "    points = points.unsqueeze(0).transpose(2, 1).to(device)\n",
    "    targets = targets.squeeze().to(device)\n",
    "\n",
    "    preds, _, _ = classifier(points)\n",
    "    preds = torch.softmax(preds, dim=1)\n",
    "    pred_choice = preds.squeeze().argmax() "
   ]
  },
  {
   "attachments": {},
   "cell_type": "markdown",
   "metadata": {},
   "source": [
    "Inspect the results"
   ]
  },
  {
   "cell_type": "code",
   "execution_count": 125,
   "metadata": {},
   "outputs": [
    {
     "name": "stdout",
     "output_type": "stream",
     "text": [
      "The predicted class is: Chair, with probability: 0.920298159122467\n"
     ]
    }
   ],
   "source": [
    "pred_class = list(classes_dict.keys())[pred_choice.cpu().numpy()]\n",
    "pred_prob = preds[0, pred_choice]\n",
    "print(f'The predicted class is: {pred_class}, with probability: {pred_prob}')"
   ]
  },
  {
   "attachments": {},
   "cell_type": "markdown",
   "metadata": {},
   "source": [
    "Visualize the probabilities"
   ]
  },
  {
   "cell_type": "code",
   "execution_count": 126,
   "metadata": {},
   "outputs": [
    {
     "data": {
      "image/png": "[encoded data removed]",
      "text/plain": [
       "<Figure size 640x480 with 1 Axes>"
      ]
     },
     "metadata": {},
     "output_type": "display_data"
    }
   ],
   "source": [
    "plt.xticks(list(classes_dict.values()), list(classes_dict.keys()), rotation=90)\n",
    "plt.xlabel('Classes')\n",
    "plt.ylabel('Probabilities')\n",
    "plt.plot(list(classes_dict.values()), preds[0]);"
   ]
  },
  {
   "cell_type": "code",
   "execution_count": 127,
   "metadata": {},
   "outputs": [
    {
     "data": {
      "application/vnd.jupyter.widget-view+json": {
       "model_id": "f301abc847f745e1a2d45be9ee966a57",
       "version_major": 2,
       "version_minor": 0
      },
      "text/plain": [
       "WebVisualizer(window_uid='window_2')"
      ]
     },
     "metadata": {},
     "output_type": "display_data"
    }
   ],
   "source": [
    "cloud = o3.geometry.PointCloud()\n",
    "cloud.points = o3.utility.Vector3dVector(points[0, :, :].T)\n",
    "cloud.colors = o3.utility.Vector3dVector(read_pointnet_colors(seg.numpy()))\n",
    "draw(cloud)"
   ]
  },
  {
   "cell_type": "code",
   "execution_count": null,
   "metadata": {},
   "outputs": [],
   "source": []
  }
 ],
 "metadata": {
  "kernelspec": {
   "display_name": "base",
   "language": "python",
   "name": "python3"
  },
  "language_info": {
   "codemirror_mode": {
    "name": "ipython",
    "version": 3
   },
   "file_extension": ".py",
   "mimetype": "text/x-python",
   "name": "python",
   "nbconvert_exporter": "python",
   "pygments_lexer": "ipython3",
   "version": "3.8.12 (default, Oct 12 2021, 03:01:40) [MSC v.1916 64 bit (AMD64)]"
  },
  "orig_nbformat": 4,
  "vscode": {
   "interpreter": {
    "hash": "6c3515861ec4313dacaa20b0eec5bf326e6557b6589b7b6a4fe3c8baa566747d"
   }
  }
 },
 "nbformat": 4,
 "nbformat_minor": 2
}
