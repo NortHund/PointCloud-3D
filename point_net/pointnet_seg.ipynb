{
 "cells": [
  {
   "attachments": {},
   "cell_type": "markdown",
   "metadata": {},
   "source": [
    "# Point Net Segmentation\n",
    "\n",
    "This notebook will explore the Segmentation head of Point Net using the reduced and paritioned version of S3DIS dataset. This version is similar to the one used by torch geometry except that we will have to normalize and sample data on the fly. "
   ]
  },
  {
   "attachments": {},
   "cell_type": "markdown",
   "metadata": {},
   "source": [
    "#### **Current State: Mildly Chaotic**\n",
    "\n",
    "#### TODO:\n",
    "- ensure that everything else is organized\n",
    "- Continue training and testing\n",
    "- Add descriptive analytics for dataset to help with understanding and training\n",
    "- Add intuitive explainations and theory as needed"
   ]
  },
  {
   "attachments": {},
   "cell_type": "markdown",
   "metadata": {},
   "source": [
    "TEMP NOTE\n",
    "\n",
    "use \"git reset HEAD~1\" to go back one commit\n",
    "\n",
    "https://stackoverflow.com/questions/20002557/how-to-remove-a-too-large-file-in-a-commit-when-my-branch-is-ahead-of-master-by"
   ]
  },
  {
   "cell_type": "code",
   "execution_count": 1,
   "metadata": {},
   "outputs": [
    {
     "name": "stdout",
     "output_type": "stream",
     "text": [
      "Jupyter environment detected. Enabling Open3D WebVisualizer.\n",
      "[Open3D INFO] WebRTC GUI backend enabled.\n",
      "[Open3D INFO] WebRTCWindowSystem: HTTP handshake server disabled.\n",
      "[Open3D INFO] Resetting default logger to print to terminal.\n"
     ]
    }
   ],
   "source": [
    "import os\n",
    "import re\n",
    "from glob import glob\n",
    "import time\n",
    "import random\n",
    "import numpy as np\n",
    "import pandas as pd\n",
    "import torch\n",
    "import torch.nn as nn\n",
    "import torch.nn.functional as F\n",
    "import torchmetrics\n",
    "from torchmetrics.classification import MulticlassMatthewsCorrCoef\n",
    "import open3d as o3\n",
    "# from open3d import JVisualizer # For Colab Visualization\n",
    "from open3d.web_visualizer import draw # for non Colab\n",
    "\n",
    "import matplotlib.pyplot as plt\n",
    "%matplotlib inline"
   ]
  },
  {
   "cell_type": "code",
   "execution_count": 2,
   "metadata": {},
   "outputs": [],
   "source": [
    "# TEMP for supressing pytorch user warnings\n",
    "import warnings\n",
    "warnings.filterwarnings(\"ignore\")"
   ]
  },
  {
   "attachments": {},
   "cell_type": "markdown",
   "metadata": {},
   "source": [
    "Initialize variables for entire notebook"
   ]
  },
  {
   "cell_type": "code",
   "execution_count": 4,
   "metadata": {},
   "outputs": [],
   "source": [
    "# dataset\n",
    "ROOT = r'C:\\Users\\itber\\Documents\\datasets\\S3DIS\\Stanford3dDataset_v1.2_Reduced_Partitioned_Aligned_Version'\n",
    "NUM_CLASSES = 14\n",
    "\n",
    "# feature selection hyperparameters\n",
    "NUM_TRAIN_POINTS = 4096 # train/valid points\n",
    "NUM_TEST_POINTS = 10000\n",
    "\n",
    "# training hyperparameters\n",
    "BATCH_SIZE = 16\n",
    "EPOCHS = 50\n",
    "LR = 0.01\n",
    "REG_WEIGHT = 0.001 # factor to scale regularization term"
   ]
  },
  {
   "attachments": {},
   "cell_type": "markdown",
   "metadata": {},
   "source": [
    "See: https://www.mathworks.com/help/vision/ug/point-cloud-classification-using-pointnet-deep-learning.html"
   ]
  },
  {
   "cell_type": "code",
   "execution_count": 5,
   "metadata": {},
   "outputs": [],
   "source": [
    "CATEGORIES = {\n",
    "    'ceiling'  : 0, \n",
    "    'floor'    : 1, \n",
    "    'wall'     : 2, \n",
    "    'beam'     : 3, \n",
    "    'column'   : 4, \n",
    "    'window'   : 5,\n",
    "    'door'     : 6, \n",
    "    'table'    : 7, \n",
    "    'chair'    : 8, \n",
    "    'sofa'     : 9, \n",
    "    'bookcase' : 10, \n",
    "    'board'    : 11,\n",
    "    'stairs'   : 12,\n",
    "    'clutter'  : 13\n",
    "}\n",
    "\n",
    "# unique color map generated via\n",
    "# https://mokole.com/palette.html\n",
    "COLOR_MAP = {\n",
    "    0  : (47, 79, 79),    # ceiling - darkslategray\n",
    "    1  : (139, 69, 19),   # floor - saddlebrown\n",
    "    2  : (34, 139, 34),   # wall - forestgreen\n",
    "    3  : (75, 0, 130),    # beam - indigo\n",
    "    4  : (255, 0, 0),     # column - red \n",
    "    5  : (255, 255, 0),   # window - yellow\n",
    "    6  : (0, 255, 0),     # door - lime\n",
    "    7  : (0, 255, 255),   # table - aqua\n",
    "    8  : (0, 0, 255),     # chair - blue\n",
    "    9  : (255, 0, 255),   # sofa - fuchsia\n",
    "    10 : (238, 232, 170), # bookcase - palegoldenrod\n",
    "    11 : (100, 149, 237), # board - cornflower\n",
    "    12 : (255, 105, 180), # stairs - hotpink\n",
    "    13 : (0, 0, 0)        # clutter - black\n",
    "}\n",
    "\n",
    "v_map_colors = np.vectorize(lambda x : COLOR_MAP[x])"
   ]
  },
  {
   "attachments": {},
   "cell_type": "markdown",
   "metadata": {},
   "source": [
    "#### Get Datasets and Dataloaders"
   ]
  },
  {
   "cell_type": "code",
   "execution_count": 6,
   "metadata": {},
   "outputs": [],
   "source": [
    "from torch.utils.data import DataLoader\n",
    "from s3dis_dataset import S3DIS\n",
    "\n",
    "# get datasets\n",
    "s3dis_train = S3DIS(ROOT, area_nums='1-4', npoints=NUM_TRAIN_POINTS)\n",
    "s3dis_valid = S3DIS(ROOT, area_nums='5', npoints=NUM_TRAIN_POINTS)\n",
    "s3dis_test = S3DIS(ROOT, area_nums='6', split='test', npoints=NUM_TEST_POINTS)\n",
    "\n",
    "# get dataloaders\n",
    "train_dataloader = DataLoader(s3dis_train, batch_size=BATCH_SIZE, shuffle=True)\n",
    "valid_dataloader = DataLoader(s3dis_valid, batch_size=BATCH_SIZE, shuffle=True)\n",
    "test_dataloader = DataLoader(s3dis_test, batch_size=BATCH_SIZE, shuffle=False)"
   ]
  },
  {
   "cell_type": "markdown",
   "metadata": {},
   "source": [
    "Get an example and display it"
   ]
  },
  {
   "cell_type": "code",
   "execution_count": 6,
   "metadata": {},
   "outputs": [
    {
     "data": {
      "application/vnd.jupyter.widget-view+json": {
       "model_id": "867eaad2530a45f4be74d9617502580e",
       "version_major": 2,
       "version_minor": 0
      },
      "text/plain": [
       "WebVisualizer(window_uid='window_0')"
      ]
     },
     "metadata": {},
     "output_type": "display_data"
    }
   ],
   "source": [
    "points, targets = s3dis_train[1000]\n",
    "\n",
    "pcd = o3.geometry.PointCloud()\n",
    "pcd.points = o3.utility.Vector3dVector(points)\n",
    "pcd.colors = o3.utility.Vector3dVector(np.vstack(v_map_colors(targets)).T/255)\n",
    "\n",
    "draw(pcd)"
   ]
  },
  {
   "attachments": {},
   "cell_type": "markdown",
   "metadata": {},
   "source": [
    "#### Investigate class distributions in the Training dataset\n",
    "\n",
    "NOTE: If you take a look at the S3DIS dataset class, you will notice that samples with less points than npoints are sampled with replacement. This means that some points will be oversampled. This will lead to a variable class balance eachtime the dataloader is called. However, you can run these cells many times and see that we will nearly always have the same ratios of classes."
   ]
  },
  {
   "cell_type": "code",
   "execution_count": 7,
   "metadata": {},
   "outputs": [],
   "source": [
    "total_train_targets = []\n",
    "for (_, targets) in train_dataloader:\n",
    "    total_train_targets += targets.reshape(-1).numpy().tolist()\n",
    "\n",
    "total_train_targets = np.array(total_train_targets)"
   ]
  },
  {
   "attachments": {},
   "cell_type": "markdown",
   "metadata": {},
   "source": [
    "Plot Barchart of category counts"
   ]
  },
  {
   "cell_type": "code",
   "execution_count": 8,
   "metadata": {},
   "outputs": [
    {
     "data": {
      "image/png": "[encoded data removed]",
      "text/plain": [
       "<Figure size 640x480 with 1 Axes>"
      ]
     },
     "metadata": {},
     "output_type": "display_data"
    }
   ],
   "source": [
    "class_bins = np.bincount(total_train_targets)\n",
    "\n",
    "plt.bar(list(CATEGORIES.keys()), class_bins, \n",
    "             color=[np.array(val)/255. for val in list(COLOR_MAP.values())],\n",
    "             edgecolor='black')\n",
    "plt.xticks(list(CATEGORIES.keys()), list(CATEGORIES.keys()), size=12, rotation=90)\n",
    "plt.ylabel('Counts', size=12)\n",
    "plt.title('Occurences of Each Category (Training - Areas 1-4)', size=14, pad=20);"
   ]
  },
  {
   "attachments": {},
   "cell_type": "markdown",
   "metadata": {},
   "source": [
    "We can see that this dataset is heavily imbalanced, the more common items such as ceiling, floor, and wall greatly outnumber all of the other categories. These classes are actually background classes. If we were to train using a loss such as Cross Entropy, we would consider each class to have an equal importance. Meaning, missclassifyng window is trreated the same as misclassifying wall. In reality, we would want our model to focus more on the uncommon categories and not care so much about the common ones. We have a priori knowledge that structures such as ceiling, wall, and floor are continuous and if we look at some training examples, we will see that they are like large sheets. If we were to only classify 60% of these, we would still be in pretty good shape. However, if we classify only 60% of the other less common classes, we may run into some serious generalization issues. One way to overcome the class imbalance is to use a weighted loss function. This will essentially tell the model (during training) to focus more on particular classes that it gets wrong (hard examples) and to focus less on the classes it tends to get right (easy examples)."
   ]
  },
  {
   "attachments": {},
   "cell_type": "markdown",
   "metadata": {},
   "source": [
    "*SIDE NOTE:*\n",
    "*With the notion that certain classes have unique structures, it may be more effective to perform object recognition as opposed to segmentation. Or use some sort of object recognition to augment the segmentation model and form some sort of ensemble.*"
   ]
  },
  {
   "attachments": {},
   "cell_type": "markdown",
   "metadata": {},
   "source": [
    "The loss that we will use is called the [Focal Loss](https://arxiv.org/pdf/1708.02002.pdf), it is a modified version of the Cross Entropy (CE) loss that is useful for imbalanced classification, it focuses the training on a sparse set of hard examples. \n",
    "\n",
    "We will also try to use the [Dice Loss](https://arxiv.org/pdf/1707.03237v3.pdf) and compare results"
   ]
  },
  {
   "attachments": {},
   "cell_type": "markdown",
   "metadata": {},
   "source": [
    "#### Focal Loss Notes:\n",
    "- it focuses training on a sparse set of hard examples\n",
    "- Predictions with Probability >> 0.5 are easy examples and they should not have a high loss\n",
    "   - This is because summing the losses of many easy examples will quickly overwhelm the loss of the few hard examples\n",
    "-"
   ]
  },
  {
   "attachments": {},
   "cell_type": "markdown",
   "metadata": {},
   "source": [
    "The Focal Loss is a modified Cross Entropy (CE) Loss. The CE Loss for a sample $n$ is given below. \n",
    "\n",
    "$$ CE(s_n, y_n) = -\\alpha_{y_n} log \\left( \\frac{exp(\\mathbf{s_n})}{\\sum_{c=1}^M exp(s_{n,c})} \\right) \\mathbf{1}_C(y_n) $$\n",
    "\n",
    "Where $\\mathbf{s_n}$ is the predicted class score vector (logits), $M$ is the number of classes, $y_n$ is the true class, $\\alpha_{y_n}$ is the class weight, and $\\mathbf{1}_C(y_n)$ is the [Indcator Function](https://en.wikipedia.org/wiki/Indicator_function) that tells us to only consider the prediction for the current class $y_n$. <br>\n",
    "$e.g.$ if $\\mathbf{s_n} = [0.02, 0.142, 0.356, 0.0012, 0.0456]$ and $y_n = 3$, then $\\mathbf{s_n}  \\mathbf{1}_C(y_n) = 0.0012$ (NOTE: we used zero indexing here).\n",
    "\n",
    "We may also notice that the term inside the $log$ is the Softmax function, which along wth the indicator function, gives us the predicted class probability. We can rewrite the CE Loss in a more simple format as:\n",
    "$$ CE(p_n) = -\\alpha_{y_n} log(p_n)  $$\n",
    "Where the $n$ subscript refers to the true class at sample $n$.\n",
    "\n",
    "<br> \n",
    "The CE loss is typically unweighted, but if a weight is used it is reffered to as the Balanced (or Weighted) CE Loss. The weights are usually based on inverse class distribution and typically range from [0, 1]. The weights can also be set as a hyperparameter via Cross Validation.\n",
    "\n",
    "$$ \\mathbf{\\alpha} = \\frac{1}{\\text{class counts}} $$\n",
    "We may also normalize alpha so that it spreads between [0,1]\n",
    "$$ \\alpha = \\frac{\\alpha}{\\max{\\alpha}} $$\n",
    "\n",
    "\n",
    "<br>\n",
    "\n",
    "The Focal Loss adds an additional modulating factor to the weighted CE Loss: $ (1 - p_n)^\\gamma $, where $\\gamma \\geq 0$ is referred to as the focusing parameter. This term has tends to 0 when the prediction probability is high, and has a larger value when the prediction probability is lower forcing the model to focus on the hard examples. It can be said that the focusing parameter smoothly adjusts the rate at which easy examples are down-weighted. We can formally express the Focal Loss as:\n",
    "\n",
    "$$ FL(p_n) = -\\alpha_{y_n} (1 - p_n)^\\gamma log(p_n)  $$\n",
    "\n",
    "<br> Summary: <br>\n",
    "- The Focal Loss is a modified version of the Balanced Cross Entropy Loss\n",
    "- The class weight $\\alpha$ balances the importance of loss values based class distribution\n",
    "- The modulating term forces the model to focus on the hard examples by downweighting the easy examples\n",
    "increasing the loss of predictions with lower probability.\n",
    "- The class weights $\\alpha$ and focusing parameter $\\gamma$ are hyperparameters that can be tuned \n",
    "\n",
    "<br>\n",
    "Sources: <br>\n",
    "\n",
    "- https://gombru.github.io/2018/05/23/cross_entropy_loss/ \n",
    "- https://pytorch.org/docs/master/generated/torch.nn.CrossEntropyLoss.html#torch.nn.CrossEntropyLoss\n",
    "- https://hasty.ai/docs/mp-wiki/loss/focal-loss\n",
    "- https://arxiv.org/pdf/1708.02002.pdf"
   ]
  },
  {
   "attachments": {},
   "cell_type": "markdown",
   "metadata": {},
   "source": [
    "### Get Segmentation Version of Point Net\n",
    "Make a test forward pass"
   ]
  },
  {
   "cell_type": "code",
   "execution_count": 9,
   "metadata": {},
   "outputs": [
    {
     "data": {
      "text/plain": [
       "torch.Size([16, 4096, 3])"
      ]
     },
     "execution_count": 9,
     "metadata": {},
     "output_type": "execute_result"
    }
   ],
   "source": [
    "points, targets = next(iter(train_dataloader))\n",
    "points.shape"
   ]
  },
  {
   "cell_type": "code",
   "execution_count": 10,
   "metadata": {},
   "outputs": [
    {
     "name": "stdout",
     "output_type": "stream",
     "text": [
      "Seg shape: torch.Size([16, 4096, 14])\n"
     ]
    }
   ],
   "source": [
    "from point_net import PointNetSegHead\n",
    "\n",
    "seg_model = PointNetSegHead(num_points=NUM_TRAIN_POINTS, m=NUM_CLASSES)\n",
    "out, _, _ = seg_model(points.transpose(2, 1))\n",
    "print(f'Seg shape: {out.shape}')"
   ]
  },
  {
   "cell_type": "markdown",
   "metadata": {},
   "source": [
    "## Start Training"
   ]
  },
  {
   "cell_type": "code",
   "execution_count": 11,
   "metadata": {},
   "outputs": [
    {
     "data": {
      "text/plain": [
       "'cuda'"
      ]
     },
     "execution_count": 11,
     "metadata": {},
     "output_type": "execute_result"
    }
   ],
   "source": [
    "device = 'cuda' if torch.cuda.is_available() else 'cpu'\n",
    "device"
   ]
  },
  {
   "attachments": {},
   "cell_type": "markdown",
   "metadata": {},
   "source": [
    "We will use a pytorch implementation of the focal loss based on code from this [repository](https://github.com/clcarwin/focal_loss_pytorch/blob/master/focalloss.py)"
   ]
  },
  {
   "cell_type": "code",
   "execution_count": 12,
   "metadata": {},
   "outputs": [],
   "source": [
    "from torch.autograd import Variable\n",
    "\n",
    "\n",
    "class FocalLoss(nn.Module):\n",
    "    def __init__(self, alpha=None, gamma=0, size_average=True):\n",
    "        super(FocalLoss, self).__init__()\n",
    "        self.alpha = alpha\n",
    "        self.gamma = gamma\n",
    "        self.size_average = size_average\n",
    "\n",
    "        # sanitize inputs\n",
    "        if isinstance(alpha,(float, int)): self.alpha = torch.Tensor([alpha,1-alpha])\n",
    "        if isinstance(alpha,(list, np.ndarray)): self.alpha = torch.Tensor(alpha)\n",
    "\n",
    "        # get Balanced Cross Entropy Loss\n",
    "        self.cross_entropy_loss = nn.CrossEntropyLoss(weight=self.alpha)\n",
    "        \n",
    "\n",
    "    def forward(self, predictions, targets):\n",
    "\n",
    "        # get Balanced Cross Entropy Loss\n",
    "        ce_loss = self.cross_entropy_loss(predictions, targets)\n",
    "\n",
    "        # reformat predictions and targets\n",
    "        predictions = predictions.transpose(1, 2) # (b, c, n) -> (b, n, c)\n",
    "        predictions = predictions.contiguous().view(-1, predictions.size(2)) # (b, n, c) -> (b*n, c)\n",
    "\n",
    "        # get log softmax of predictions\n",
    "        log_pn = F.log_softmax(predictions)\n",
    "\n",
    "        # get predictions at true class indexes\n",
    "        log_pn = log_pn.gather(1, targets.view(-1,1)).view(-1) # index log softmax values at targets\n",
    "\n",
    "        # get predicted probabilities\n",
    "        pn = Variable(log_pn.data.exp())\n",
    "\n",
    "        # compute loss (negative sign is included in ce_loss)\n",
    "        loss = (1 - pn)**self.gamma * ce_loss\n",
    "        if self.size_average: return loss.mean()\n",
    "        else: return loss.sum()"
   ]
  },
  {
   "attachments": {},
   "cell_type": "markdown",
   "metadata": {},
   "source": [
    "Compute $\\alpha$ as the normalized inverse class frequency.\n",
    "\n",
    "Instead compute alpha roughly based on class frequencies"
   ]
  },
  {
   "cell_type": "code",
   "execution_count": 16,
   "metadata": {},
   "outputs": [
    {
     "data": {
      "text/plain": [
       "array([0.0169883 , 0.01856612, 0.01721732, 0.23874722, 0.2709244 ,\n",
       "       0.26508841, 0.07790794, 0.16175978, 0.08572105, 0.91351414,\n",
       "       0.10325402, 0.43853849, 1.        , 0.03763789])"
      ]
     },
     "execution_count": 16,
     "metadata": {},
     "output_type": "execute_result"
    }
   ],
   "source": [
    "alpha = 1 / class_bins\n",
    "alpha = (alpha/alpha.max())\n",
    "\n",
    "# alpha = np.ones(len(CATEGORIES))\n",
    "# alpha[0:3] *= 0.25 # balance background classes\n",
    "# alpha[-1] *= 0.75  # balance clutter class\n",
    "\n",
    "alpha"
   ]
  },
  {
   "attachments": {},
   "cell_type": "markdown",
   "metadata": {},
   "source": [
    "Load model from disk if necessary"
   ]
  },
  {
   "cell_type": "code",
   "execution_count": null,
   "metadata": {},
   "outputs": [],
   "source": [
    "MODEL_PATH = 'seg_focal/seg_model_21.pth'\n",
    "\n",
    "seg_model = PointNetSegHead(num_points=NUM_TRAIN_POINTS, m=NUM_CLASSES).to(device)\n",
    "seg_model.load_state_dict(torch.load(MODEL_PATH))"
   ]
  },
  {
   "attachments": {},
   "cell_type": "markdown",
   "metadata": {},
   "source": [
    "Get Optimizer and Criterion"
   ]
  },
  {
   "cell_type": "code",
   "execution_count": 17,
   "metadata": {},
   "outputs": [],
   "source": [
    "import torch.nn as nn \n",
    "import torch.optim as optim\n",
    "if torch.cuda.is_available():\n",
    "    import torch.backends.cudnn as cudnn\n",
    "\n",
    "optimizer = optim.Adam(seg_model.parameters(), lr=0.01)\n",
    "# criterion = FocalLoss(gamma=1, alpha=alpha)\n",
    "# criterion = FocalLoss(alpha=alpha, gamma=0.)\n",
    "criterion = nn.CrossEntropyLoss(weight=torch.Tensor(alpha)).to(device)\n",
    "\n",
    "seg_model = seg_model.to(device)"
   ]
  },
  {
   "attachments": {},
   "cell_type": "markdown",
   "metadata": {},
   "source": [
    "For our training we will want to quantify how well our model is performing. Typically we look at loss and accuracy, but for this segmentation problem we will need a mteric that accounts for incorrect classifcation as well as correct classification. The Matthews Correlation Coefficent does this and we will use it to quantify our performance. The MCC ranges from -1 to 1, to understand what the MCC is reporting:\n",
    "- 0 indicates a random guess\n",
    "- -1 is the worst possible performance\n",
    "- 1 is the best possible performance"
   ]
  },
  {
   "cell_type": "code",
   "execution_count": 18,
   "metadata": {},
   "outputs": [],
   "source": [
    "mcc_metric = MulticlassMatthewsCorrCoef(num_classes=NUM_CLASSES).to(device)"
   ]
  },
  {
   "attachments": {},
   "cell_type": "markdown",
   "metadata": {},
   "source": [
    "NOTE: In the original TensorFlow implementation, the regularization term is not used to train the sematic segmentation model."
   ]
  },
  {
   "cell_type": "code",
   "execution_count": 19,
   "metadata": {},
   "outputs": [
    {
     "name": "stdout",
     "output_type": "stream",
     "text": [
      "\t [1: 0/274] train loss: 2.706010 accuracy: 0.032700 mcc: -0.059285\n",
      "\t [1: 100/274] train loss: 2.428142 accuracy: 0.224121 mcc: 0.185446\n",
      "\t [1: 200/274] train loss: 2.030124 accuracy: 0.380005 mcc: 0.344859\n",
      "Epoch: 1 - Train Loss: 2.318133294365623 - Train Accuracy: 0.29226788878440857 - Train MCC: 0.24166013719027185\n",
      "\t [1: 0/145] validation loss: 2.342360 accuracy: 0.392273 mcc: 0.362461\n",
      "\t [1: 100/145] validation loss: 2.839006 accuracy: 0.371857 mcc: 0.310871\n",
      "Epoch: 1 - Validation Loss: 161.74886017547894 - Validation Accuracy: 0.32705041766166687 - Validation MCC: 0.28094938509676554\n",
      "\t [2: 0/274] train loss: 2.003289 accuracy: 0.348145 mcc: 0.295233\n",
      "\t [2: 100/274] train loss: 2.269238 accuracy: 0.366806 mcc: 0.320506\n",
      "\t [2: 200/274] train loss: 1.500870 accuracy: 0.425308 mcc: 0.382096\n",
      "Epoch: 2 - Train Loss: 1.9275375838713213 - Train Accuracy: 0.3993002474308014 - Train MCC: 0.35617120135914193\n",
      "\t [2: 0/145] validation loss: 2.079919 accuracy: 0.423721 mcc: 0.374401\n",
      "\t [2: 100/145] validation loss: 2.071165 accuracy: 0.281052 mcc: 0.249415\n",
      "Epoch: 2 - Validation Loss: 1.8451834721108005 - Validation Accuracy: 0.4212726950645447 - Validation MCC: 0.3805493647105073\n",
      "\t [3: 0/274] train loss: 1.936449 accuracy: 0.372314 mcc: 0.342565\n",
      "\t [3: 100/274] train loss: 2.007102 accuracy: 0.454010 mcc: 0.401442\n",
      "\t [3: 200/274] train loss: 1.739564 accuracy: 0.444641 mcc: 0.401782\n",
      "Epoch: 3 - Train Loss: 1.8164544274590233 - Train Accuracy: 0.4377979040145874 - Train MCC: 0.3937533329291777\n",
      "\t [3: 0/145] validation loss: 2.097522 accuracy: 0.568710 mcc: 0.480803\n",
      "\t [3: 100/145] validation loss: 1.723315 accuracy: 0.558960 mcc: 0.480220\n",
      "Epoch: 3 - Validation Loss: 55.02200659088893 - Validation Accuracy: 0.4243118166923523 - Validation MCC: 0.3714802432550143\n",
      "\t [4: 0/274] train loss: 1.870336 accuracy: 0.391525 mcc: 0.351252\n",
      "\t [4: 100/274] train loss: 1.687938 accuracy: 0.497711 mcc: 0.458071\n",
      "\t [4: 200/274] train loss: 2.015668 accuracy: 0.299057 mcc: 0.283937\n",
      "Epoch: 4 - Train Loss: 1.764050981348211 - Train Accuracy: 0.4461354613304138 - Train MCC: 0.4036827838420868\n",
      "\t [4: 0/145] validation loss: 2.322592 accuracy: 0.362259 mcc: 0.323548\n",
      "\t [4: 100/145] validation loss: 2.370094 accuracy: 0.307007 mcc: 0.299779\n",
      "Epoch: 4 - Validation Loss: 2.2936695160931104 - Validation Accuracy: 0.4477442800998688 - Validation MCC: 0.41029528671339766\n",
      "\t [5: 0/274] train loss: 1.571926 accuracy: 0.506424 mcc: 0.472697\n",
      "\t [5: 100/274] train loss: 1.621910 accuracy: 0.384933 mcc: 0.358933\n",
      "\t [5: 200/274] train loss: 1.656941 accuracy: 0.559845 mcc: 0.518954\n",
      "Epoch: 5 - Train Loss: 1.725643447529186 - Train Accuracy: 0.468294620513916 - Train MCC: 0.4243969814343886\n",
      "\t [5: 0/145] validation loss: 1.498962 accuracy: 0.405365 mcc: 0.379063\n",
      "\t [5: 100/145] validation loss: 1.566677 accuracy: 0.507492 mcc: 0.459287\n",
      "Epoch: 5 - Validation Loss: 1.7871170419536224 - Validation Accuracy: 0.48751047253608704 - Validation MCC: 0.44209038660134353\n",
      "\t [6: 0/274] train loss: 1.324227 accuracy: 0.537140 mcc: 0.502751\n",
      "\t [6: 100/274] train loss: 1.814851 accuracy: 0.473358 mcc: 0.421145\n",
      "\t [6: 200/274] train loss: 1.469216 accuracy: 0.512772 mcc: 0.467809\n",
      "Epoch: 6 - Train Loss: 1.7074638982252641 - Train Accuracy: 0.47792768478393555 - Train MCC: 0.4333810690316287\n",
      "\t [6: 0/145] validation loss: 1.674713 accuracy: 0.498154 mcc: 0.452862\n",
      "\t [6: 100/145] validation loss: 1.483835 accuracy: 0.598816 mcc: 0.544814\n",
      "Epoch: 6 - Validation Loss: 1.7238915170708748 - Validation Accuracy: 0.561643123626709 - Validation MCC: 0.5076133966037671\n",
      "\t [7: 0/274] train loss: 1.792647 accuracy: 0.508713 mcc: 0.445743\n",
      "\t [7: 100/274] train loss: 1.899430 accuracy: 0.425903 mcc: 0.383979\n",
      "\t [7: 200/274] train loss: 1.566012 accuracy: 0.557526 mcc: 0.497597\n",
      "Epoch: 7 - Train Loss: 1.6781550546125932 - Train Accuracy: 0.49647942185401917 - Train MCC: 0.4515831879052249\n",
      "\t [7: 0/145] validation loss: 1.538233 accuracy: 0.598114 mcc: 0.520443\n",
      "\t [7: 100/145] validation loss: 1.868825 accuracy: 0.354858 mcc: 0.325723\n",
      "Epoch: 7 - Validation Loss: 573.6889501001737 - Validation Accuracy: 0.4845147430896759 - Validation MCC: 0.4399562015721243\n",
      "\t [8: 0/274] train loss: 1.563481 accuracy: 0.576874 mcc: 0.510677\n",
      "\t [8: 100/274] train loss: 2.225367 accuracy: 0.375458 mcc: 0.319159\n",
      "\t [8: 200/274] train loss: 1.518565 accuracy: 0.451233 mcc: 0.408678\n",
      "Epoch: 8 - Train Loss: 1.6109125289050015 - Train Accuracy: 0.4979214072227478 - Train MCC: 0.4527799811146476\n",
      "\t [8: 0/145] validation loss: 2.922519 accuracy: 0.445801 mcc: 0.405297\n",
      "\t [8: 100/145] validation loss: 2966967.000000 accuracy: 0.463287 mcc: 0.408221\n",
      "Epoch: 8 - Validation Loss: 20323.453475040933 - Validation Accuracy: 0.5413498282432556 - Validation MCC: 0.49462202558778734\n",
      "\t [9: 0/274] train loss: 1.329643 accuracy: 0.593445 mcc: 0.549385\n",
      "\t [9: 100/274] train loss: 1.851003 accuracy: 0.441711 mcc: 0.403017\n",
      "\t [9: 200/274] train loss: 1.823326 accuracy: 0.285141 mcc: 0.264753\n",
      "Epoch: 9 - Train Loss: 1.6524690012498335 - Train Accuracy: 0.5012617111206055 - Train MCC: 0.455783108364452\n",
      "\t [9: 0/145] validation loss: 2.324353 accuracy: 0.304016 mcc: 0.241948\n",
      "\t [9: 100/145] validation loss: 1.915594 accuracy: 0.268539 mcc: 0.212098\n",
      "Epoch: 9 - Validation Loss: 2.309351196027782 - Validation Accuracy: 0.28590476512908936 - Validation MCC: 0.23322267575214986\n",
      "\t [10: 0/274] train loss: 1.930618 accuracy: 0.401215 mcc: 0.366410\n",
      "\t [10: 100/274] train loss: 1.694452 accuracy: 0.340683 mcc: 0.312316\n",
      "\t [10: 200/274] train loss: 1.782673 accuracy: 0.695435 mcc: 0.630872\n",
      "Epoch: 10 - Train Loss: 1.6222058233347807 - Train Accuracy: 0.5070656538009644 - Train MCC: 0.46257365692745556\n",
      "\t [10: 0/145] validation loss: 1.628892 accuracy: 0.576553 mcc: 0.525578\n",
      "\t [10: 100/145] validation loss: 2.174373 accuracy: 0.426987 mcc: 0.380625\n",
      "Epoch: 10 - Validation Loss: 6.278832081246049 - Validation Accuracy: 0.510622501373291 - Validation MCC: 0.46455663136423453\n",
      "\t [11: 0/274] train loss: 1.798246 accuracy: 0.457596 mcc: 0.421156\n",
      "\t [11: 100/274] train loss: 1.652373 accuracy: 0.380722 mcc: 0.357125\n",
      "\t [11: 200/274] train loss: 1.619716 accuracy: 0.571655 mcc: 0.526021\n",
      "Epoch: 11 - Train Loss: 1.6274967163259333 - Train Accuracy: 0.5068835020065308 - Train MCC: 0.46030819567767056\n",
      "\t [11: 0/145] validation loss: 1.405715 accuracy: 0.490570 mcc: 0.462006\n",
      "\t [11: 100/145] validation loss: 1.610685 accuracy: 0.539581 mcc: 0.487193\n",
      "Epoch: 11 - Validation Loss: 1.8559567079152146 - Validation Accuracy: 0.4192203879356384 - Validation MCC: 0.3802237761755512\n",
      "\t [12: 0/274] train loss: 1.624775 accuracy: 0.506149 mcc: 0.472305\n",
      "\t [12: 100/274] train loss: 1.337305 accuracy: 0.542557 mcc: 0.506697\n",
      "\t [12: 200/274] train loss: 1.433824 accuracy: 0.499817 mcc: 0.479198\n",
      "Epoch: 12 - Train Loss: 1.6061187163266268 - Train Accuracy: 0.5135353207588196 - Train MCC: 0.4680635131489147\n",
      "\t [12: 0/145] validation loss: 1.709222 accuracy: 0.469528 mcc: 0.429974\n",
      "\t [12: 100/145] validation loss: 2772.467773 accuracy: 0.491623 mcc: 0.442019\n",
      "Epoch: 12 - Validation Loss: 7392.897614428442 - Validation Accuracy: 0.4967901110649109 - Validation MCC: 0.45176702819458425\n",
      "\t [13: 0/274] train loss: 1.669862 accuracy: 0.548340 mcc: 0.494270\n",
      "\t [13: 100/274] train loss: 1.534563 accuracy: 0.523666 mcc: 0.475294\n",
      "\t [13: 200/274] train loss: 1.553831 accuracy: 0.541519 mcc: 0.491491\n",
      "Epoch: 13 - Train Loss: 1.6018135603991421 - Train Accuracy: 0.5099908709526062 - Train MCC: 0.4648295021057129\n",
      "\t [13: 0/145] validation loss: 1.646976 accuracy: 0.649796 mcc: 0.566189\n",
      "\t [13: 100/145] validation loss: 1.517494 accuracy: 0.480927 mcc: 0.429290\n",
      "Epoch: 13 - Validation Loss: 5086.54523487532 - Validation Accuracy: 0.5612740516662598 - Validation MCC: 0.513937944214638\n",
      "\t [14: 0/274] train loss: 1.594159 accuracy: 0.434616 mcc: 0.403343\n",
      "\t [14: 100/274] train loss: 1.747750 accuracy: 0.523926 mcc: 0.465753\n",
      "\t [14: 200/274] train loss: 1.332286 accuracy: 0.564270 mcc: 0.510954\n",
      "Epoch: 14 - Train Loss: 1.554534428769892 - Train Accuracy: 0.522304892539978 - Train MCC: 0.4765250267765739\n",
      "\t [14: 0/145] validation loss: 1.811785 accuracy: 0.621414 mcc: 0.548809\n",
      "\t [14: 100/145] validation loss: 1.575028 accuracy: 0.669678 mcc: 0.615977\n",
      "Epoch: 14 - Validation Loss: 22761.747319410926 - Validation Accuracy: 0.5692607760429382 - Validation MCC: 0.5165438235622563\n",
      "\t [15: 0/274] train loss: 1.336495 accuracy: 0.535675 mcc: 0.478550\n",
      "\t [15: 100/274] train loss: 1.542765 accuracy: 0.532562 mcc: 0.476738\n",
      "\t [15: 200/274] train loss: 1.626584 accuracy: 0.483337 mcc: 0.438380\n",
      "Epoch: 15 - Train Loss: 1.5909345971454274 - Train Accuracy: 0.5160018801689148 - Train MCC: 0.4701229526779868\n",
      "\t [15: 0/145] validation loss: 1.292278 accuracy: 0.630753 mcc: 0.578954\n",
      "\t [15: 100/145] validation loss: 1.300165 accuracy: 0.544373 mcc: 0.504940\n",
      "Epoch: 15 - Validation Loss: 626384627.8355613 - Validation Accuracy: 0.5711537003517151 - Validation MCC: 0.5214173730513821\n",
      "\t [16: 0/274] train loss: 2.254400 accuracy: 0.466736 mcc: 0.424159\n",
      "\t [16: 100/274] train loss: 1.097343 accuracy: 0.522247 mcc: 0.474867\n",
      "\t [16: 200/274] train loss: 1.367825 accuracy: 0.525894 mcc: 0.474971\n",
      "Epoch: 16 - Train Loss: 1.6053829011050138 - Train Accuracy: 0.5187550783157349 - Train MCC: 0.4737264269048517\n",
      "\t [16: 0/145] validation loss: 817694.250000 accuracy: 0.299591 mcc: 0.276736\n",
      "\t [16: 100/145] validation loss: 34183.121094 accuracy: 0.420761 mcc: 0.358325\n",
      "Epoch: 16 - Validation Loss: 68338103.75758024 - Validation Accuracy: 0.3031027913093567 - Validation MCC: 0.26233180301034287\n",
      "\t [17: 0/274] train loss: 1.310604 accuracy: 0.604370 mcc: 0.560773\n",
      "\t [17: 100/274] train loss: 1.911064 accuracy: 0.391174 mcc: 0.359191\n",
      "\t [17: 200/274] train loss: 2.002419 accuracy: 0.583282 mcc: 0.539758\n",
      "Epoch: 17 - Train Loss: 1.5572481174902482 - Train Accuracy: 0.5227134823799133 - Train MCC: 0.47854661345481875\n",
      "\t [17: 0/145] validation loss: 1.490527 accuracy: 0.407578 mcc: 0.381008\n",
      "\t [17: 100/145] validation loss: 1.887029 accuracy: 0.482162 mcc: 0.440886\n",
      "Epoch: 17 - Validation Loss: 439463.15364070586 - Validation Accuracy: 0.5617771148681641 - Validation MCC: 0.517728572022425\n",
      "\t [18: 0/274] train loss: 1.390559 accuracy: 0.585861 mcc: 0.553220\n",
      "\t [18: 100/274] train loss: 1.001613 accuracy: 0.628922 mcc: 0.590125\n",
      "\t [18: 200/274] train loss: 1.027989 accuracy: 0.542374 mcc: 0.502251\n",
      "Epoch: 18 - Train Loss: 1.4931003323468295 - Train Accuracy: 0.5321490168571472 - Train MCC: 0.48804024457931516\n",
      "\t [18: 0/145] validation loss: 1.130057 accuracy: 0.425262 mcc: 0.410318\n",
      "\t [18: 100/145] validation loss: 1.299175 accuracy: 0.471344 mcc: 0.429888\n",
      "Epoch: 18 - Validation Loss: 293024120272.513 - Validation Accuracy: 0.5116957426071167 - Validation MCC: 0.4697489844609613\n",
      "\t [19: 0/274] train loss: 1.584357 accuracy: 0.393051 mcc: 0.367623\n",
      "\t [19: 100/274] train loss: 1.566269 accuracy: 0.430801 mcc: 0.374556\n",
      "\t [19: 200/274] train loss: 2.081918 accuracy: 0.467331 mcc: 0.418777\n"
     ]
    },
    {
     "ename": "KeyboardInterrupt",
     "evalue": "",
     "output_type": "error",
     "traceback": [
      "\u001b[1;31m---------------------------------------------------------------------------\u001b[0m",
      "\u001b[1;31mKeyboardInterrupt\u001b[0m                         Traceback (most recent call last)",
      "\u001b[1;32m~\\AppData\\Local\\Temp\\ipykernel_19012\\3350014933.py\u001b[0m in \u001b[0;36m<module>\u001b[1;34m\u001b[0m\n\u001b[0;32m     29\u001b[0m \u001b[1;33m\u001b[0m\u001b[0m\n\u001b[0;32m     30\u001b[0m         \u001b[1;31m# get predicted class logits\u001b[0m\u001b[1;33m\u001b[0m\u001b[1;33m\u001b[0m\u001b[1;33m\u001b[0m\u001b[0m\n\u001b[1;32m---> 31\u001b[1;33m         \u001b[0mpreds\u001b[0m\u001b[1;33m,\u001b[0m \u001b[0m_\u001b[0m\u001b[1;33m,\u001b[0m \u001b[0mA\u001b[0m \u001b[1;33m=\u001b[0m \u001b[0mseg_model\u001b[0m\u001b[1;33m(\u001b[0m\u001b[0mpoints\u001b[0m\u001b[1;33m)\u001b[0m\u001b[1;33m\u001b[0m\u001b[1;33m\u001b[0m\u001b[0m\n\u001b[0m\u001b[0;32m     32\u001b[0m \u001b[1;33m\u001b[0m\u001b[0m\n\u001b[0;32m     33\u001b[0m         \u001b[1;31m# compute regularization term to enforce orthogonality on the feature Transformation\u001b[0m\u001b[1;33m\u001b[0m\u001b[1;33m\u001b[0m\u001b[1;33m\u001b[0m\u001b[0m\n",
      "\u001b[1;32mc:\\Users\\itber\\anaconda3\\lib\\site-packages\\torch\\nn\\modules\\module.py\u001b[0m in \u001b[0;36m_call_impl\u001b[1;34m(self, *input, **kwargs)\u001b[0m\n\u001b[0;32m   1108\u001b[0m         if not (self._backward_hooks or self._forward_hooks or self._forward_pre_hooks or _global_backward_hooks\n\u001b[0;32m   1109\u001b[0m                 or _global_forward_hooks or _global_forward_pre_hooks):\n\u001b[1;32m-> 1110\u001b[1;33m             \u001b[1;32mreturn\u001b[0m \u001b[0mforward_call\u001b[0m\u001b[1;33m(\u001b[0m\u001b[1;33m*\u001b[0m\u001b[0minput\u001b[0m\u001b[1;33m,\u001b[0m \u001b[1;33m**\u001b[0m\u001b[0mkwargs\u001b[0m\u001b[1;33m)\u001b[0m\u001b[1;33m\u001b[0m\u001b[1;33m\u001b[0m\u001b[0m\n\u001b[0m\u001b[0;32m   1111\u001b[0m         \u001b[1;31m# Do not call functions when jit is used\u001b[0m\u001b[1;33m\u001b[0m\u001b[1;33m\u001b[0m\u001b[1;33m\u001b[0m\u001b[0m\n\u001b[0;32m   1112\u001b[0m         \u001b[0mfull_backward_hooks\u001b[0m\u001b[1;33m,\u001b[0m \u001b[0mnon_full_backward_hooks\u001b[0m \u001b[1;33m=\u001b[0m \u001b[1;33m[\u001b[0m\u001b[1;33m]\u001b[0m\u001b[1;33m,\u001b[0m \u001b[1;33m[\u001b[0m\u001b[1;33m]\u001b[0m\u001b[1;33m\u001b[0m\u001b[1;33m\u001b[0m\u001b[0m\n",
      "\u001b[1;32mc:\\Users\\itber\\Documents\\learning\\self_tutorials\\3D\\point_net\\point_net.py\u001b[0m in \u001b[0;36mforward\u001b[1;34m(self, x)\u001b[0m\n\u001b[0;32m    240\u001b[0m \u001b[1;33m\u001b[0m\u001b[0m\n\u001b[0;32m    241\u001b[0m         \u001b[1;31m# get combined features\u001b[0m\u001b[1;33m\u001b[0m\u001b[1;33m\u001b[0m\u001b[1;33m\u001b[0m\u001b[0m\n\u001b[1;32m--> 242\u001b[1;33m         \u001b[0mx\u001b[0m\u001b[1;33m,\u001b[0m \u001b[0mcrit_idxs\u001b[0m\u001b[1;33m,\u001b[0m \u001b[0mA_feat\u001b[0m \u001b[1;33m=\u001b[0m \u001b[0mself\u001b[0m\u001b[1;33m.\u001b[0m\u001b[0mbackbone\u001b[0m\u001b[1;33m(\u001b[0m\u001b[0mx\u001b[0m\u001b[1;33m)\u001b[0m\u001b[1;33m\u001b[0m\u001b[1;33m\u001b[0m\u001b[0m\n\u001b[0m\u001b[0;32m    243\u001b[0m \u001b[1;33m\u001b[0m\u001b[0m\n\u001b[0;32m    244\u001b[0m         \u001b[1;31m# pass through shared MLP\u001b[0m\u001b[1;33m\u001b[0m\u001b[1;33m\u001b[0m\u001b[1;33m\u001b[0m\u001b[0m\n",
      "\u001b[1;32mc:\\Users\\itber\\anaconda3\\lib\\site-packages\\torch\\nn\\modules\\module.py\u001b[0m in \u001b[0;36m_call_impl\u001b[1;34m(self, *input, **kwargs)\u001b[0m\n\u001b[0;32m   1108\u001b[0m         if not (self._backward_hooks or self._forward_hooks or self._forward_pre_hooks or _global_backward_hooks\n\u001b[0;32m   1109\u001b[0m                 or _global_forward_hooks or _global_forward_pre_hooks):\n\u001b[1;32m-> 1110\u001b[1;33m             \u001b[1;32mreturn\u001b[0m \u001b[0mforward_call\u001b[0m\u001b[1;33m(\u001b[0m\u001b[1;33m*\u001b[0m\u001b[0minput\u001b[0m\u001b[1;33m,\u001b[0m \u001b[1;33m**\u001b[0m\u001b[0mkwargs\u001b[0m\u001b[1;33m)\u001b[0m\u001b[1;33m\u001b[0m\u001b[1;33m\u001b[0m\u001b[0m\n\u001b[0m\u001b[0;32m   1111\u001b[0m         \u001b[1;31m# Do not call functions when jit is used\u001b[0m\u001b[1;33m\u001b[0m\u001b[1;33m\u001b[0m\u001b[1;33m\u001b[0m\u001b[0m\n\u001b[0;32m   1112\u001b[0m         \u001b[0mfull_backward_hooks\u001b[0m\u001b[1;33m,\u001b[0m \u001b[0mnon_full_backward_hooks\u001b[0m \u001b[1;33m=\u001b[0m \u001b[1;33m[\u001b[0m\u001b[1;33m]\u001b[0m\u001b[1;33m,\u001b[0m \u001b[1;33m[\u001b[0m\u001b[1;33m]\u001b[0m\u001b[1;33m\u001b[0m\u001b[1;33m\u001b[0m\u001b[0m\n",
      "\u001b[1;32mc:\\Users\\itber\\Documents\\learning\\self_tutorials\\3D\\point_net\\point_net.py\u001b[0m in \u001b[0;36mforward\u001b[1;34m(self, x)\u001b[0m\n\u001b[0;32m    132\u001b[0m \u001b[1;33m\u001b[0m\u001b[0m\n\u001b[0;32m    133\u001b[0m         \u001b[1;31m# pass through first Tnet to get transform matrix\u001b[0m\u001b[1;33m\u001b[0m\u001b[1;33m\u001b[0m\u001b[1;33m\u001b[0m\u001b[0m\n\u001b[1;32m--> 134\u001b[1;33m         \u001b[0mA_input\u001b[0m \u001b[1;33m=\u001b[0m \u001b[0mself\u001b[0m\u001b[1;33m.\u001b[0m\u001b[0mtnet1\u001b[0m\u001b[1;33m(\u001b[0m\u001b[0mx\u001b[0m\u001b[1;33m)\u001b[0m\u001b[1;33m\u001b[0m\u001b[1;33m\u001b[0m\u001b[0m\n\u001b[0m\u001b[0;32m    135\u001b[0m \u001b[1;33m\u001b[0m\u001b[0m\n\u001b[0;32m    136\u001b[0m         \u001b[1;31m# perform first transformation across each point in the batch\u001b[0m\u001b[1;33m\u001b[0m\u001b[1;33m\u001b[0m\u001b[1;33m\u001b[0m\u001b[0m\n",
      "\u001b[1;32mc:\\Users\\itber\\anaconda3\\lib\\site-packages\\torch\\nn\\modules\\module.py\u001b[0m in \u001b[0;36m_call_impl\u001b[1;34m(self, *input, **kwargs)\u001b[0m\n\u001b[0;32m   1108\u001b[0m         if not (self._backward_hooks or self._forward_hooks or self._forward_pre_hooks or _global_backward_hooks\n\u001b[0;32m   1109\u001b[0m                 or _global_forward_hooks or _global_forward_pre_hooks):\n\u001b[1;32m-> 1110\u001b[1;33m             \u001b[1;32mreturn\u001b[0m \u001b[0mforward_call\u001b[0m\u001b[1;33m(\u001b[0m\u001b[1;33m*\u001b[0m\u001b[0minput\u001b[0m\u001b[1;33m,\u001b[0m \u001b[1;33m**\u001b[0m\u001b[0mkwargs\u001b[0m\u001b[1;33m)\u001b[0m\u001b[1;33m\u001b[0m\u001b[1;33m\u001b[0m\u001b[0m\n\u001b[0m\u001b[0;32m   1111\u001b[0m         \u001b[1;31m# Do not call functions when jit is used\u001b[0m\u001b[1;33m\u001b[0m\u001b[1;33m\u001b[0m\u001b[1;33m\u001b[0m\u001b[0m\n\u001b[0;32m   1112\u001b[0m         \u001b[0mfull_backward_hooks\u001b[0m\u001b[1;33m,\u001b[0m \u001b[0mnon_full_backward_hooks\u001b[0m \u001b[1;33m=\u001b[0m \u001b[1;33m[\u001b[0m\u001b[1;33m]\u001b[0m\u001b[1;33m,\u001b[0m \u001b[1;33m[\u001b[0m\u001b[1;33m]\u001b[0m\u001b[1;33m\u001b[0m\u001b[1;33m\u001b[0m\u001b[0m\n",
      "\u001b[1;32mc:\\Users\\itber\\Documents\\learning\\self_tutorials\\3D\\point_net\\point_net.py\u001b[0m in \u001b[0;36mforward\u001b[1;34m(self, x)\u001b[0m\n\u001b[0;32m     63\u001b[0m         \u001b[0miden\u001b[0m \u001b[1;33m=\u001b[0m \u001b[0mtorch\u001b[0m\u001b[1;33m.\u001b[0m\u001b[0meye\u001b[0m\u001b[1;33m(\u001b[0m\u001b[0mself\u001b[0m\u001b[1;33m.\u001b[0m\u001b[0mdim\u001b[0m\u001b[1;33m,\u001b[0m \u001b[0mrequires_grad\u001b[0m\u001b[1;33m=\u001b[0m\u001b[1;32mTrue\u001b[0m\u001b[1;33m)\u001b[0m\u001b[1;33m.\u001b[0m\u001b[0mrepeat\u001b[0m\u001b[1;33m(\u001b[0m\u001b[0mbs\u001b[0m\u001b[1;33m,\u001b[0m \u001b[1;36m1\u001b[0m\u001b[1;33m,\u001b[0m \u001b[1;36m1\u001b[0m\u001b[1;33m)\u001b[0m\u001b[1;33m\u001b[0m\u001b[1;33m\u001b[0m\u001b[0m\n\u001b[0;32m     64\u001b[0m         \u001b[1;32mif\u001b[0m \u001b[0mx\u001b[0m\u001b[1;33m.\u001b[0m\u001b[0mis_cuda\u001b[0m\u001b[1;33m:\u001b[0m\u001b[1;33m\u001b[0m\u001b[1;33m\u001b[0m\u001b[0m\n\u001b[1;32m---> 65\u001b[1;33m             \u001b[0miden\u001b[0m \u001b[1;33m=\u001b[0m \u001b[0miden\u001b[0m\u001b[1;33m.\u001b[0m\u001b[0mcuda\u001b[0m\u001b[1;33m(\u001b[0m\u001b[1;33m)\u001b[0m\u001b[1;33m\u001b[0m\u001b[1;33m\u001b[0m\u001b[0m\n\u001b[0m\u001b[0;32m     66\u001b[0m \u001b[1;33m\u001b[0m\u001b[0m\n\u001b[0;32m     67\u001b[0m         \u001b[0mx\u001b[0m \u001b[1;33m=\u001b[0m \u001b[0mx\u001b[0m\u001b[1;33m.\u001b[0m\u001b[0mview\u001b[0m\u001b[1;33m(\u001b[0m\u001b[1;33m-\u001b[0m\u001b[1;36m1\u001b[0m\u001b[1;33m,\u001b[0m \u001b[0mself\u001b[0m\u001b[1;33m.\u001b[0m\u001b[0mdim\u001b[0m\u001b[1;33m,\u001b[0m \u001b[0mself\u001b[0m\u001b[1;33m.\u001b[0m\u001b[0mdim\u001b[0m\u001b[1;33m)\u001b[0m \u001b[1;33m+\u001b[0m \u001b[0miden\u001b[0m\u001b[1;33m\u001b[0m\u001b[1;33m\u001b[0m\u001b[0m\n",
      "\u001b[1;31mKeyboardInterrupt\u001b[0m: "
     ]
    }
   ],
   "source": [
    "# stuff for training\n",
    "num_train_batch = len(s3dis_train)/BATCH_SIZE \n",
    "num_valid_batch = len(s3dis_valid)/BATCH_SIZE \n",
    "\n",
    "# store best validation mcc\n",
    "best_mcc = -np.infty\n",
    "\n",
    "# lists to store metrics\n",
    "train_loss = []\n",
    "train_accuracy = []\n",
    "train_mcc = []\n",
    "valid_loss = []\n",
    "valid_accuracy = []\n",
    "valid_mcc = []\n",
    "\n",
    "for epoch in range(1, EPOCHS + 1):\n",
    "    # place model in training mode\n",
    "    seg_model = seg_model.train()\n",
    "    _train_loss = []\n",
    "    _train_accuracy = []\n",
    "    _train_mcc = []\n",
    "    for i, (points, targets) in enumerate(train_dataloader, 0):\n",
    "\n",
    "        points = points.transpose(2, 1).to(device)\n",
    "        targets = targets.squeeze().to(device)\n",
    "        \n",
    "        # zero gradients\n",
    "        optimizer.zero_grad()\n",
    "        \n",
    "        # get predicted class logits\n",
    "        preds, _, A = seg_model(points)\n",
    "        \n",
    "        # compute regularization term to enforce orthogonality on the feature Transformation\n",
    "        # I = torch.eye(64).unsqueeze(0).repeat(A.shape[0], 1, 1).to(device)\n",
    "        # reg = torch.linalg.norm(I - torch.bmm(A, A.transpose(2, 1)))\n",
    "\n",
    "        # get loss and perform backprop\n",
    "        loss = criterion(preds.transpose(2, 1), targets) # + REG_FACTOR*reg/preds.size(0)\n",
    "        loss.backward()\n",
    "        optimizer.step()\n",
    "        \n",
    "        # get class predictions\n",
    "        pred_choice = torch.softmax(preds, dim=2).argmax(dim=2)\n",
    "        correct = pred_choice.eq(targets.data).cpu().sum()\n",
    "        accuracy = correct/float(BATCH_SIZE*NUM_TRAIN_POINTS)\n",
    "        mcc = mcc_metric(preds.transpose(2, 1), targets)\n",
    "\n",
    "        # update epoch loss and accuracy\n",
    "        _train_loss.append(loss.item())\n",
    "        _train_accuracy.append(accuracy)\n",
    "        _train_mcc.append(mcc.item())\n",
    "\n",
    "        if i % 100 == 0:\n",
    "            print('\\t [%d: %d/%d] train loss: %f accuracy: %f mcc: %f' \\\n",
    "                  % (epoch, i, num_train_batch, loss.item(), accuracy, mcc))\n",
    "        \n",
    "    train_loss.append(np.mean(_train_loss))\n",
    "    train_accuracy.append(np.mean(_train_accuracy))\n",
    "    train_mcc.append(np.mean(_train_mcc))\n",
    "\n",
    "    print(f'Epoch: {epoch} - Train Loss: {train_loss[-1]} ' \\\n",
    "          + f'- Train Accuracy: {train_accuracy[-1]} ' \\\n",
    "          + f'- Train MCC: {train_mcc[-1]}')\n",
    "\n",
    "    # pause to cool down\n",
    "    time.sleep(8)\n",
    "\n",
    "    # get test results after each epoch\n",
    "    with torch.no_grad():\n",
    "\n",
    "        # place model in evaluation mode\n",
    "        seg_model = seg_model.eval()\n",
    "\n",
    "        _valid_loss = []\n",
    "        _valid_accuracy = []\n",
    "        _valid_mcc = []\n",
    "        for i, (points, targets) in enumerate(valid_dataloader, 0):\n",
    "\n",
    "            points = points.transpose(2, 1).to(device)\n",
    "            targets = targets.squeeze().to(device)\n",
    "\n",
    "            preds, _, A = seg_model(points)\n",
    "\n",
    "            # compute regularization term to enforce orthogonality on the feature Transformation\n",
    "            # I = torch.eye(64).unsqueeze(0).repeat(A.shape[0], 1, 1).to(device)\n",
    "            # reg = torch.linalg.norm(I - torch.bmm(A, A.transpose(2, 1)))\n",
    "\n",
    "            loss = criterion(preds.transpose(2, 1), targets) # + REG_FACTOR*reg/preds.size(0)\n",
    "\n",
    "            pred_choice = torch.softmax(preds, dim=2).argmax(dim=2)\n",
    "            correct = pred_choice.eq(targets.data).cpu().sum()\n",
    "            accuracy = correct/float(BATCH_SIZE*NUM_TRAIN_POINTS)\n",
    "            mcc = mcc_metric(preds.transpose(2, 1), targets)\n",
    "\n",
    "            # update epoch loss and accuracy\n",
    "            _valid_loss.append(loss.item())\n",
    "            _valid_accuracy.append(accuracy)\n",
    "            _valid_mcc.append(mcc.item())\n",
    "\n",
    "            if i % 100 == 0:\n",
    "                print('\\t [%d: %d/%d] %s loss: %f accuracy: %f mcc: %f' \\\n",
    "                      % (epoch, i, num_valid_batch, 'validation', loss.item(), accuracy, mcc))\n",
    "        \n",
    "        valid_loss.append(np.mean(_valid_loss))\n",
    "        valid_accuracy.append(np.mean(_valid_accuracy))\n",
    "        valid_mcc.append(np.mean(_valid_mcc))\n",
    "        print(f'Epoch: {epoch} - Validation Loss: {valid_loss[-1]} ' \\\n",
    "              + f'- Validation Accuracy: {valid_accuracy[-1]} ' \\\n",
    "              + f'- Validation MCC: {valid_mcc[-1]}')\n",
    "\n",
    "        # pause to cool down\n",
    "        time.sleep(8)\n",
    "\n",
    "    # save best models\n",
    "    if valid_mcc[-1] >= best_mcc:\n",
    "        best_mcc = valid_mcc[-1]\n",
    "        torch.save(seg_model.state_dict(), f'seg_balanced/seg_model_{epoch}.pth')"
   ]
  },
  {
   "attachments": {},
   "cell_type": "markdown",
   "metadata": {},
   "source": [
    "Let's plot the training metrics"
   ]
  },
  {
   "cell_type": "code",
   "execution_count": 21,
   "metadata": {},
   "outputs": [
    {
     "data": {
      "text/plain": [
       "[<matplotlib.lines.Line2D at 0x28e58332370>]"
      ]
     },
     "execution_count": 21,
     "metadata": {},
     "output_type": "execute_result"
    },
    {
     "data": {
      "image/png": "[encoded data removed]",
      "text/plain": [
       "<Figure size 800x500 with 3 Axes>"
      ]
     },
     "metadata": {},
     "output_type": "display_data"
    }
   ],
   "source": [
    "_, ax = plt.subplots(3, 1, figsize=(8, 5))\n",
    "ax[0].plot(train_loss)\n",
    "# ax[0].plot(valid_loss)\n",
    "\n",
    "ax[1].plot(train_accuracy)\n",
    "ax[1].plot(valid_accuracy)\n",
    "\n",
    "ax[2].plot(train_mcc)\n",
    "ax[2].plot(valid_mcc)"
   ]
  },
  {
   "cell_type": "code",
   "execution_count": 245,
   "metadata": {},
   "outputs": [
    {
     "data": {
      "text/plain": [
       "49"
      ]
     },
     "execution_count": 245,
     "metadata": {},
     "output_type": "execute_result"
    }
   ],
   "source": [
    "np.argmax(valid_mcc)"
   ]
  },
  {
   "attachments": {},
   "cell_type": "markdown",
   "metadata": {},
   "source": [
    "### Test the model"
   ]
  },
  {
   "attachments": {},
   "cell_type": "markdown",
   "metadata": {},
   "source": [
    "Upload model from disk. The best model was 21 (actually 22 since we need to account for zero indexing)"
   ]
  },
  {
   "cell_type": "code",
   "execution_count": 22,
   "metadata": {},
   "outputs": [],
   "source": [
    "MODEL_PATH = 'seg_focal/seg_model_21.pth'\n",
    "\n",
    "model = PointNetSegHead(num_points=NUM_TEST_POINTS, m=NUM_CLASSES).to(device)\n",
    "model.load_state_dict(torch.load(MODEL_PATH))\n",
    "model.eval();"
   ]
  },
  {
   "attachments": {},
   "cell_type": "markdown",
   "metadata": {},
   "source": [
    "#### Implement Quick test to gather metrics"
   ]
  },
  {
   "cell_type": "code",
   "execution_count": 23,
   "metadata": {},
   "outputs": [
    {
     "name": "stdout",
     "output_type": "stream",
     "text": [
      "\t [0/71] test loss: 0.158591 accuracy: 0.841131 mcc: 0.810144\n",
      "\t [50/71] test loss: 0.585894 accuracy: 0.612731 mcc: 0.557561\n",
      "Test Loss: 712971307060.7778 - Test Accuracy: 0.5861029028892517 - Test MCC: 0.5303102020795146\n"
     ]
    }
   ],
   "source": [
    "num_test_batch = len(s3dis_test)/BATCH_SIZE \n",
    "\n",
    "total_test_targets = []\n",
    "total_test_preds = [] \n",
    "\n",
    "with torch.no_grad():\n",
    "\n",
    "    # place model in evaluation mode\n",
    "    model = model.eval()\n",
    "\n",
    "    test_loss = []\n",
    "    test_accuracy = []\n",
    "    test_mcc = []\n",
    "    for i, (points, targets) in enumerate(test_dataloader, 0):\n",
    "\n",
    "        points = points.transpose(2, 1).to(device)\n",
    "        targets = targets.squeeze().to(device)\n",
    "\n",
    "        preds, _, A = model(points)\n",
    "\n",
    "        # compute regularization term to enforce orthogonality on the feature Transformation\n",
    "        # I = torch.eye(64).unsqueeze(0).repeat(A.shape[0], 1, 1).to(device)\n",
    "        # reg = torch.linalg.norm(I - torch.bmm(A, A.transpose(2, 1)))\n",
    "\n",
    "        loss = criterion(preds.transpose(2, 1), targets) # + reg\n",
    "\n",
    "        pred_choice = torch.softmax(preds, dim=2).argmax(dim=2)\n",
    "        correct = pred_choice.eq(targets.data).cpu().sum()\n",
    "        accuracy = correct/float(BATCH_SIZE*NUM_TEST_POINTS)\n",
    "        mcc = mcc_metric(preds.transpose(2, 1), targets)\n",
    "\n",
    "        # update epoch loss and accuracy\n",
    "        test_loss.append(loss.item())\n",
    "        test_accuracy.append(accuracy)\n",
    "        test_mcc.append(mcc.item())\n",
    "\n",
    "        # add to total targets/preds\n",
    "        total_test_targets += targets.reshape(-1).cpu().numpy().tolist()\n",
    "        total_test_preds += pred_choice.reshape(-1).cpu().numpy().tolist()\n",
    "\n",
    "        if i % 50 == 0:\n",
    "            print('\\t [%d/%d] test loss: %f accuracy: %f mcc: %f' \\\n",
    "                    % (i, num_test_batch, loss.item(), accuracy, mcc))\n",
    "\n",
    "# display test results\n",
    "print(f'Test Loss: {np.mean(test_loss)} ' \\\n",
    "        + f'- Test Accuracy: {np.mean(test_accuracy)} ' \\\n",
    "        + f'- Test MCC: {np.mean(test_mcc)}')"
   ]
  },
  {
   "cell_type": "code",
   "execution_count": 24,
   "metadata": {},
   "outputs": [],
   "source": [
    "total_test_targets = np.array(total_test_targets)\n",
    "total_test_preds = np.array(total_test_preds)"
   ]
  },
  {
   "attachments": {},
   "cell_type": "markdown",
   "metadata": {},
   "source": [
    "#### Get Confusion Matrix for Test data"
   ]
  },
  {
   "cell_type": "code",
   "execution_count": 25,
   "metadata": {},
   "outputs": [
    {
     "data": {
      "text/html": [
       "<div>\n",
       "<style scoped>\n",
       "    .dataframe tbody tr th:only-of-type {\n",
       "        vertical-align: middle;\n",
       "    }\n",
       "\n",
       "    .dataframe tbody tr th {\n",
       "        vertical-align: top;\n",
       "    }\n",
       "\n",
       "    .dataframe thead th {\n",
       "        text-align: right;\n",
       "    }\n",
       "</style>\n",
       "<table border=\"1\" class=\"dataframe\">\n",
       "  <thead>\n",
       "    <tr style=\"text-align: right;\">\n",
       "      <th></th>\n",
       "      <th>ceiling</th>\n",
       "      <th>floor</th>\n",
       "      <th>wall</th>\n",
       "      <th>beam</th>\n",
       "      <th>column</th>\n",
       "      <th>window</th>\n",
       "      <th>door</th>\n",
       "      <th>table</th>\n",
       "      <th>chair</th>\n",
       "      <th>sofa</th>\n",
       "      <th>bookcase</th>\n",
       "      <th>board</th>\n",
       "      <th>stairs</th>\n",
       "      <th>clutter</th>\n",
       "    </tr>\n",
       "  </thead>\n",
       "  <tbody>\n",
       "    <tr>\n",
       "      <th>ceiling</th>\n",
       "      <td>2403292</td>\n",
       "      <td>3423</td>\n",
       "      <td>13542</td>\n",
       "      <td>12220</td>\n",
       "      <td>0</td>\n",
       "      <td>1026</td>\n",
       "      <td>13382</td>\n",
       "      <td>5546</td>\n",
       "      <td>0</td>\n",
       "      <td>4085</td>\n",
       "      <td>23150</td>\n",
       "      <td>6911</td>\n",
       "      <td>1707</td>\n",
       "      <td>13897</td>\n",
       "    </tr>\n",
       "    <tr>\n",
       "      <th>floor</th>\n",
       "      <td>6464</td>\n",
       "      <td>2160530</td>\n",
       "      <td>3</td>\n",
       "      <td>39</td>\n",
       "      <td>4</td>\n",
       "      <td>0</td>\n",
       "      <td>8699</td>\n",
       "      <td>4968</td>\n",
       "      <td>374</td>\n",
       "      <td>2913</td>\n",
       "      <td>1927</td>\n",
       "      <td>1809</td>\n",
       "      <td>0</td>\n",
       "      <td>604</td>\n",
       "    </tr>\n",
       "    <tr>\n",
       "      <th>wall</th>\n",
       "      <td>154857</td>\n",
       "      <td>34013</td>\n",
       "      <td>647568</td>\n",
       "      <td>17672</td>\n",
       "      <td>11396</td>\n",
       "      <td>100135</td>\n",
       "      <td>302437</td>\n",
       "      <td>72328</td>\n",
       "      <td>62286</td>\n",
       "      <td>14779</td>\n",
       "      <td>176640</td>\n",
       "      <td>547791</td>\n",
       "      <td>640</td>\n",
       "      <td>269558</td>\n",
       "    </tr>\n",
       "    <tr>\n",
       "      <th>beam</th>\n",
       "      <td>39506</td>\n",
       "      <td>0</td>\n",
       "      <td>160724</td>\n",
       "      <td>85554</td>\n",
       "      <td>0</td>\n",
       "      <td>0</td>\n",
       "      <td>133333</td>\n",
       "      <td>0</td>\n",
       "      <td>0</td>\n",
       "      <td>0</td>\n",
       "      <td>351</td>\n",
       "      <td>3243</td>\n",
       "      <td>0</td>\n",
       "      <td>46119</td>\n",
       "    </tr>\n",
       "    <tr>\n",
       "      <th>column</th>\n",
       "      <td>4214</td>\n",
       "      <td>7724</td>\n",
       "      <td>59697</td>\n",
       "      <td>5</td>\n",
       "      <td>4001</td>\n",
       "      <td>15422</td>\n",
       "      <td>137558</td>\n",
       "      <td>4417</td>\n",
       "      <td>1093</td>\n",
       "      <td>758</td>\n",
       "      <td>54283</td>\n",
       "      <td>30304</td>\n",
       "      <td>40</td>\n",
       "      <td>9769</td>\n",
       "    </tr>\n",
       "    <tr>\n",
       "      <th>window</th>\n",
       "      <td>1299</td>\n",
       "      <td>269</td>\n",
       "      <td>53663</td>\n",
       "      <td>3</td>\n",
       "      <td>0</td>\n",
       "      <td>124041</td>\n",
       "      <td>439</td>\n",
       "      <td>9538</td>\n",
       "      <td>127</td>\n",
       "      <td>5565</td>\n",
       "      <td>9202</td>\n",
       "      <td>10934</td>\n",
       "      <td>272</td>\n",
       "      <td>20170</td>\n",
       "    </tr>\n",
       "    <tr>\n",
       "      <th>door</th>\n",
       "      <td>0</td>\n",
       "      <td>15295</td>\n",
       "      <td>79928</td>\n",
       "      <td>4150</td>\n",
       "      <td>1109</td>\n",
       "      <td>46</td>\n",
       "      <td>396400</td>\n",
       "      <td>1021</td>\n",
       "      <td>2235</td>\n",
       "      <td>43</td>\n",
       "      <td>18532</td>\n",
       "      <td>86284</td>\n",
       "      <td>0</td>\n",
       "      <td>3693</td>\n",
       "    </tr>\n",
       "    <tr>\n",
       "      <th>table</th>\n",
       "      <td>0</td>\n",
       "      <td>11848</td>\n",
       "      <td>33801</td>\n",
       "      <td>0</td>\n",
       "      <td>0</td>\n",
       "      <td>1590</td>\n",
       "      <td>13379</td>\n",
       "      <td>284562</td>\n",
       "      <td>117668</td>\n",
       "      <td>21240</td>\n",
       "      <td>13891</td>\n",
       "      <td>3967</td>\n",
       "      <td>2077</td>\n",
       "      <td>14079</td>\n",
       "    </tr>\n",
       "    <tr>\n",
       "      <th>chair</th>\n",
       "      <td>0</td>\n",
       "      <td>36436</td>\n",
       "      <td>15789</td>\n",
       "      <td>0</td>\n",
       "      <td>0</td>\n",
       "      <td>0</td>\n",
       "      <td>23892</td>\n",
       "      <td>58272</td>\n",
       "      <td>282464</td>\n",
       "      <td>1472</td>\n",
       "      <td>2254</td>\n",
       "      <td>3808</td>\n",
       "      <td>0</td>\n",
       "      <td>17438</td>\n",
       "    </tr>\n",
       "    <tr>\n",
       "      <th>sofa</th>\n",
       "      <td>0</td>\n",
       "      <td>5020</td>\n",
       "      <td>1321</td>\n",
       "      <td>0</td>\n",
       "      <td>0</td>\n",
       "      <td>0</td>\n",
       "      <td>2050</td>\n",
       "      <td>8211</td>\n",
       "      <td>26291</td>\n",
       "      <td>3224</td>\n",
       "      <td>1217</td>\n",
       "      <td>1</td>\n",
       "      <td>0</td>\n",
       "      <td>540</td>\n",
       "    </tr>\n",
       "    <tr>\n",
       "      <th>bookcase</th>\n",
       "      <td>22</td>\n",
       "      <td>7757</td>\n",
       "      <td>67310</td>\n",
       "      <td>1913</td>\n",
       "      <td>0</td>\n",
       "      <td>2338</td>\n",
       "      <td>23014</td>\n",
       "      <td>18458</td>\n",
       "      <td>24262</td>\n",
       "      <td>4675</td>\n",
       "      <td>54485</td>\n",
       "      <td>69261</td>\n",
       "      <td>0</td>\n",
       "      <td>42057</td>\n",
       "    </tr>\n",
       "    <tr>\n",
       "      <th>board</th>\n",
       "      <td>0</td>\n",
       "      <td>220</td>\n",
       "      <td>11115</td>\n",
       "      <td>0</td>\n",
       "      <td>0</td>\n",
       "      <td>0</td>\n",
       "      <td>20</td>\n",
       "      <td>553</td>\n",
       "      <td>249</td>\n",
       "      <td>250</td>\n",
       "      <td>2350</td>\n",
       "      <td>124781</td>\n",
       "      <td>0</td>\n",
       "      <td>9915</td>\n",
       "    </tr>\n",
       "    <tr>\n",
       "      <th>stairs</th>\n",
       "      <td>326</td>\n",
       "      <td>92</td>\n",
       "      <td>781</td>\n",
       "      <td>9874</td>\n",
       "      <td>0</td>\n",
       "      <td>0</td>\n",
       "      <td>7658</td>\n",
       "      <td>176</td>\n",
       "      <td>0</td>\n",
       "      <td>0</td>\n",
       "      <td>2162</td>\n",
       "      <td>0</td>\n",
       "      <td>530</td>\n",
       "      <td>655</td>\n",
       "    </tr>\n",
       "    <tr>\n",
       "      <th>clutter</th>\n",
       "      <td>319160</td>\n",
       "      <td>23275</td>\n",
       "      <td>298040</td>\n",
       "      <td>8238</td>\n",
       "      <td>0</td>\n",
       "      <td>15239</td>\n",
       "      <td>63077</td>\n",
       "      <td>80597</td>\n",
       "      <td>91337</td>\n",
       "      <td>15773</td>\n",
       "      <td>49970</td>\n",
       "      <td>68527</td>\n",
       "      <td>6244</td>\n",
       "      <td>180474</td>\n",
       "    </tr>\n",
       "  </tbody>\n",
       "</table>\n",
       "</div>"
      ],
      "text/plain": [
       "          ceiling    floor    wall   beam  column  window    door   table  \\\n",
       "ceiling   2403292     3423   13542  12220       0    1026   13382    5546   \n",
       "floor        6464  2160530       3     39       4       0    8699    4968   \n",
       "wall       154857    34013  647568  17672   11396  100135  302437   72328   \n",
       "beam        39506        0  160724  85554       0       0  133333       0   \n",
       "column       4214     7724   59697      5    4001   15422  137558    4417   \n",
       "window       1299      269   53663      3       0  124041     439    9538   \n",
       "door            0    15295   79928   4150    1109      46  396400    1021   \n",
       "table           0    11848   33801      0       0    1590   13379  284562   \n",
       "chair           0    36436   15789      0       0       0   23892   58272   \n",
       "sofa            0     5020    1321      0       0       0    2050    8211   \n",
       "bookcase       22     7757   67310   1913       0    2338   23014   18458   \n",
       "board           0      220   11115      0       0       0      20     553   \n",
       "stairs        326       92     781   9874       0       0    7658     176   \n",
       "clutter    319160    23275  298040   8238       0   15239   63077   80597   \n",
       "\n",
       "           chair   sofa  bookcase   board  stairs  clutter  \n",
       "ceiling        0   4085     23150    6911    1707    13897  \n",
       "floor        374   2913      1927    1809       0      604  \n",
       "wall       62286  14779    176640  547791     640   269558  \n",
       "beam           0      0       351    3243       0    46119  \n",
       "column      1093    758     54283   30304      40     9769  \n",
       "window       127   5565      9202   10934     272    20170  \n",
       "door        2235     43     18532   86284       0     3693  \n",
       "table     117668  21240     13891    3967    2077    14079  \n",
       "chair     282464   1472      2254    3808       0    17438  \n",
       "sofa       26291   3224      1217       1       0      540  \n",
       "bookcase   24262   4675     54485   69261       0    42057  \n",
       "board        249    250      2350  124781       0     9915  \n",
       "stairs         0      0      2162       0     530      655  \n",
       "clutter    91337  15773     49970   68527    6244   180474  "
      ]
     },
     "execution_count": 25,
     "metadata": {},
     "output_type": "execute_result"
    }
   ],
   "source": [
    "from sklearn.metrics import confusion_matrix\n",
    "\n",
    "test_confusion = pd.DataFrame(confusion_matrix(total_test_targets, total_test_preds),\n",
    "                              columns=list(CATEGORIES.keys()),\n",
    "                              index=list(CATEGORIES.keys()))\n",
    "\n",
    "test_confusion"
   ]
  },
  {
   "attachments": {},
   "cell_type": "markdown",
   "metadata": {},
   "source": [
    "#### View test results on full space"
   ]
  },
  {
   "cell_type": "code",
   "execution_count": 26,
   "metadata": {},
   "outputs": [],
   "source": [
    "torch.cuda.empty_cache() # release GPU memory\n",
    "points, targets = s3dis_test.get_random_partitioned_space()\n",
    "\n",
    "# place on device\n",
    "points = points.to(device)\n",
    "targets = targets.to(device)\n",
    "\n",
    "# Normalize each partitioned Point Cloud to (0, 1)\n",
    "norm_points = points.clone()\n",
    "norm_points = norm_points - norm_points.min(axis=1)[0].unsqueeze(1)\n",
    "norm_points /= norm_points.max(axis=1)[0].unsqueeze(1)\n",
    "\n",
    "with torch.no_grad():\n",
    "\n",
    "    norm_points = norm_points.transpose(2, 1)\n",
    "    targets = targets.squeeze()\n",
    "\n",
    "    preds, _, A = model(norm_points)\n",
    "\n",
    "    pred_choice = torch.softmax(preds, dim=2).argmax(dim=2)\n",
    "    correct = pred_choice.eq(targets.data).cpu().sum()\n",
    "    accuracy = correct/float(points.shape[0]*NUM_TEST_POINTS)\n",
    "    mcc = mcc_metric(preds.transpose(2, 1), targets)"
   ]
  },
  {
   "attachments": {},
   "cell_type": "markdown",
   "metadata": {},
   "source": [
    "Display the truth and predictions"
   ]
  },
  {
   "cell_type": "code",
   "execution_count": 27,
   "metadata": {},
   "outputs": [
    {
     "data": {
      "application/vnd.jupyter.widget-view+json": {
       "model_id": "2988f515705b438a964cc4cddee963cb",
       "version_major": 2,
       "version_minor": 0
      },
      "text/plain": [
       "WebVisualizer(window_uid='window_0')"
      ]
     },
     "metadata": {},
     "output_type": "display_data"
    }
   ],
   "source": [
    "pcd = o3.geometry.PointCloud()\n",
    "pcd.points = o3.utility.Vector3dVector(points.permute(2, 0, 1).reshape(3, -1).to('cpu').T)\n",
    "pcd.colors = o3.utility.Vector3dVector(np.vstack(v_map_colors(targets.reshape(-1).to('cpu'))).T/255)\n",
    "\n",
    "draw(pcd)"
   ]
  },
  {
   "cell_type": "code",
   "execution_count": 267,
   "metadata": {},
   "outputs": [
    {
     "data": {
      "application/vnd.jupyter.widget-view+json": {
       "model_id": "3bb152ba0be143e0b437a90d9d623694",
       "version_major": 2,
       "version_minor": 0
      },
      "text/plain": [
       "WebVisualizer(window_uid='window_4')"
      ]
     },
     "metadata": {},
     "output_type": "display_data"
    }
   ],
   "source": [
    "pcd = o3.geometry.PointCloud()\n",
    "pcd.points = o3.utility.Vector3dVector(points.to('cpu')[2, :, :])\n",
    "pcd.colors = o3.utility.Vector3dVector(np.vstack(v_map_colors(targets.to('cpu')[2, :])).T/255)\n",
    "\n",
    "draw(pcd)"
   ]
  },
  {
   "cell_type": "code",
   "execution_count": 28,
   "metadata": {},
   "outputs": [
    {
     "data": {
      "application/vnd.jupyter.widget-view+json": {
       "model_id": "b4f43f9e939545c5b020a7d0937e3f32",
       "version_major": 2,
       "version_minor": 0
      },
      "text/plain": [
       "WebVisualizer(window_uid='window_1')"
      ]
     },
     "metadata": {},
     "output_type": "display_data"
    }
   ],
   "source": [
    "pcd = o3.geometry.PointCloud()\n",
    "pcd.points = o3.utility.Vector3dVector(points.permute(2, 0, 1).reshape(3, -1).to('cpu').T)\n",
    "pcd.colors = o3.utility.Vector3dVector(np.vstack(v_map_colors(pred_choice.reshape(-1).to('cpu'))).T/255)\n",
    "\n",
    "draw(pcd)"
   ]
  },
  {
   "cell_type": "code",
   "execution_count": 266,
   "metadata": {},
   "outputs": [
    {
     "data": {
      "application/vnd.jupyter.widget-view+json": {
       "model_id": "94803f3c11f545ebae796e627f82567c",
       "version_major": 2,
       "version_minor": 0
      },
      "text/plain": [
       "WebVisualizer(window_uid='window_3')"
      ]
     },
     "metadata": {},
     "output_type": "display_data"
    }
   ],
   "source": [
    "pcd = o3.geometry.PointCloud()\n",
    "pcd.points = o3.utility.Vector3dVector(points.to('cpu')[2, :, :])\n",
    "pcd.colors = o3.utility.Vector3dVector(np.vstack(v_map_colors(pred_choice.to('cpu')[2, :])).T/255)\n",
    "\n",
    "draw(pcd)"
   ]
  },
  {
   "attachments": {},
   "cell_type": "markdown",
   "metadata": {},
   "source": [
    "### General Notes\n",
    "\n",
    "It appears that not using the regularized loss leads to quicker training i.e. better performance with less epochs. Some more experimentation could be done to check if the regularization leads to superior performance over a longer training period.\n",
    "\n",
    "It seems like the regularization term in the loss function greatly overpowers the loss. Causing the loss to blow up."
   ]
  },
  {
   "cell_type": "code",
   "execution_count": null,
   "metadata": {},
   "outputs": [],
   "source": []
  }
 ],
 "metadata": {
  "kernelspec": {
   "display_name": "Python 3.8.12 ('base')",
   "language": "python",
   "name": "python3"
  },
  "language_info": {
   "codemirror_mode": {
    "name": "ipython",
    "version": 3
   },
   "file_extension": ".py",
   "mimetype": "text/x-python",
   "name": "python",
   "nbconvert_exporter": "python",
   "pygments_lexer": "ipython3",
   "version": "3.8.12"
  },
  "orig_nbformat": 4,
  "vscode": {
   "interpreter": {
    "hash": "6c3515861ec4313dacaa20b0eec5bf326e6557b6589b7b6a4fe3c8baa566747d"
   }
  }
 },
 "nbformat": 4,
 "nbformat_minor": 2
}
