{
 "cells": [
  {
   "attachments": {},
   "cell_type": "markdown",
   "metadata": {},
   "source": [
    "# Point Net Segmentation\n",
    "\n",
    "This notebook will explore the Segmentation head of Point Net using the reduced and paritioned version of S3DIS dataset. This version is similar to the one used by torch geometry except that we will have to normalize and sample data on the fly. "
   ]
  },
  {
   "attachments": {},
   "cell_type": "markdown",
   "metadata": {},
   "source": [
    "#### **Current State: Mildly Chaotic**\n",
    "\n",
    "#### TODO:\n",
    "- ensure that everything else is organized\n",
    "- Continue training and testing\n",
    "- Add descriptive analytics for dataset to help with understanding and training\n",
    "- Add intuitive explainations and theory as needed"
   ]
  },
  {
   "attachments": {},
   "cell_type": "markdown",
   "metadata": {},
   "source": [
    "TEMP NOTE\n",
    "\n",
    "use \"git reset HEAD~1\" to go back one commit\n",
    "\n",
    "https://stackoverflow.com/questions/20002557/how-to-remove-a-too-large-file-in-a-commit-when-my-branch-is-ahead-of-master-by"
   ]
  },
  {
   "cell_type": "code",
   "execution_count": 1,
   "metadata": {},
   "outputs": [
    {
     "name": "stdout",
     "output_type": "stream",
     "text": [
      "Jupyter environment detected. Enabling Open3D WebVisualizer.\n",
      "[Open3D INFO] WebRTC GUI backend enabled.\n",
      "[Open3D INFO] WebRTCWindowSystem: HTTP handshake server disabled.\n",
      "[Open3D INFO] Resetting default logger to print to terminal.\n"
     ]
    }
   ],
   "source": [
    "import os\n",
    "import re\n",
    "from glob import glob\n",
    "import time\n",
    "import random\n",
    "import numpy as np\n",
    "import pandas as pd\n",
    "import torch\n",
    "import torch.nn as nn\n",
    "import torch.nn.functional as F\n",
    "import torchmetrics\n",
    "from torchmetrics.classification import MulticlassMatthewsCorrCoef\n",
    "import open3d as o3\n",
    "# from open3d import JVisualizer # For Colab Visualization\n",
    "from open3d.web_visualizer import draw # for non Colab\n",
    "\n",
    "import matplotlib.pyplot as plt\n",
    "%matplotlib inline"
   ]
  },
  {
   "cell_type": "code",
   "execution_count": 2,
   "metadata": {},
   "outputs": [],
   "source": [
    "# TEMP for supressing pytorch user warnings\n",
    "import warnings\n",
    "warnings.filterwarnings(\"ignore\")"
   ]
  },
  {
   "attachments": {},
   "cell_type": "markdown",
   "metadata": {},
   "source": [
    "Initialize variables for entire notebook"
   ]
  },
  {
   "cell_type": "code",
   "execution_count": 3,
   "metadata": {},
   "outputs": [],
   "source": [
    "# dataset\n",
    "ROOT = r'C:\\Users\\itber\\Documents\\datasets\\S3DIS\\Stanford3dDataset_v1.2_Reduced_Partitioned_Aligned_Version'\n",
    "NUM_CLASSES = 14\n",
    "\n",
    "# feature selection hyperparameters\n",
    "NUM_TRAIN_POINTS = 4096 # train/valid points\n",
    "NUM_TEST_POINTS = 10000\n",
    "\n",
    "BATCH_SIZE = 16"
   ]
  },
  {
   "attachments": {},
   "cell_type": "markdown",
   "metadata": {},
   "source": [
    "See: https://www.mathworks.com/help/vision/ug/point-cloud-classification-using-pointnet-deep-learning.html"
   ]
  },
  {
   "cell_type": "code",
   "execution_count": 4,
   "metadata": {},
   "outputs": [],
   "source": [
    "CATEGORIES = {\n",
    "    'ceiling'  : 0, \n",
    "    'floor'    : 1, \n",
    "    'wall'     : 2, \n",
    "    'beam'     : 3, \n",
    "    'column'   : 4, \n",
    "    'window'   : 5,\n",
    "    'door'     : 6, \n",
    "    'table'    : 7, \n",
    "    'chair'    : 8, \n",
    "    'sofa'     : 9, \n",
    "    'bookcase' : 10, \n",
    "    'board'    : 11,\n",
    "    'stairs'   : 12,\n",
    "    'clutter'  : 13\n",
    "}\n",
    "\n",
    "# unique color map generated via\n",
    "# https://mokole.com/palette.html\n",
    "COLOR_MAP = {\n",
    "    0  : (47, 79, 79),    # ceiling - darkslategray\n",
    "    1  : (139, 69, 19),   # floor - saddlebrown\n",
    "    2  : (34, 139, 34),   # wall - forestgreen\n",
    "    3  : (75, 0, 130),    # beam - indigo\n",
    "    4  : (255, 0, 0),     # column - red \n",
    "    5  : (255, 255, 0),   # window - yellow\n",
    "    6  : (0, 255, 0),     # door - lime\n",
    "    7  : (0, 255, 255),   # table - aqua\n",
    "    8  : (0, 0, 255),     # chair - blue\n",
    "    9  : (255, 0, 255),   # sofa - fuchsia\n",
    "    10 : (238, 232, 170), # bookcase - palegoldenrod\n",
    "    11 : (100, 149, 237), # board - cornflower\n",
    "    12 : (255, 105, 180), # stairs - hotpink\n",
    "    13 : (0, 0, 0)        # clutter - black\n",
    "}\n",
    "\n",
    "v_map_colors = np.vectorize(lambda x : COLOR_MAP[x])"
   ]
  },
  {
   "attachments": {},
   "cell_type": "markdown",
   "metadata": {},
   "source": [
    "#### Get Datasets and Dataloaders"
   ]
  },
  {
   "cell_type": "code",
   "execution_count": 5,
   "metadata": {},
   "outputs": [],
   "source": [
    "from torch.utils.data import DataLoader\n",
    "from s3dis_dataset import S3DIS\n",
    "\n",
    "# get datasets\n",
    "s3dis_train = S3DIS(ROOT, area_nums='1-4', npoints=NUM_TRAIN_POINTS)\n",
    "s3dis_valid = S3DIS(ROOT, area_nums='5', npoints=NUM_TRAIN_POINTS)\n",
    "s3dis_test = S3DIS(ROOT, area_nums='6', split='test', npoints=NUM_TEST_POINTS)\n",
    "\n",
    "# get dataloaders\n",
    "train_dataloader = DataLoader(s3dis_train, batch_size=BATCH_SIZE, shuffle=True)\n",
    "valid_dataloader = DataLoader(s3dis_valid, batch_size=BATCH_SIZE, shuffle=True)\n",
    "test_dataloader = DataLoader(s3dis_test, batch_size=BATCH_SIZE, shuffle=False)"
   ]
  },
  {
   "cell_type": "markdown",
   "metadata": {},
   "source": [
    "Get an example and display it"
   ]
  },
  {
   "cell_type": "code",
   "execution_count": 6,
   "metadata": {},
   "outputs": [
    {
     "data": {
      "application/vnd.jupyter.widget-view+json": {
       "model_id": "867eaad2530a45f4be74d9617502580e",
       "version_major": 2,
       "version_minor": 0
      },
      "text/plain": [
       "WebVisualizer(window_uid='window_0')"
      ]
     },
     "metadata": {},
     "output_type": "display_data"
    }
   ],
   "source": [
    "points, targets = s3dis_train[1000]\n",
    "\n",
    "pcd = o3.geometry.PointCloud()\n",
    "pcd.points = o3.utility.Vector3dVector(points)\n",
    "pcd.colors = o3.utility.Vector3dVector(np.vstack(v_map_colors(targets)).T/255)\n",
    "\n",
    "draw(pcd)"
   ]
  },
  {
   "attachments": {},
   "cell_type": "markdown",
   "metadata": {},
   "source": [
    "#### Investigate class distributions in the Training dataset\n",
    "\n",
    "NOTE: If you take a look at the S3DIS dataset class, you will notice that samples with less points than npoints are sampled with replacement. This means that some points will be oversampled. This will lead to a variable class balance eachtime the dataloader is called. However, you can run these cells many times and see that we will nearly always have the same ratios of classes."
   ]
  },
  {
   "cell_type": "code",
   "execution_count": 6,
   "metadata": {},
   "outputs": [],
   "source": [
    "total_train_targets = []\n",
    "for (_, targets) in train_dataloader:\n",
    "    total_train_targets += targets.reshape(-1).numpy().tolist()\n",
    "\n",
    "total_train_targets = np.array(total_train_targets)"
   ]
  },
  {
   "attachments": {},
   "cell_type": "markdown",
   "metadata": {},
   "source": [
    "Plot Barchart of category counts"
   ]
  },
  {
   "cell_type": "code",
   "execution_count": 7,
   "metadata": {},
   "outputs": [
    {
     "data": {
      "image/png": "[encoded data removed]",
      "text/plain": [
       "<Figure size 640x480 with 1 Axes>"
      ]
     },
     "metadata": {},
     "output_type": "display_data"
    }
   ],
   "source": [
    "class_bins = np.bincount(total_train_targets)\n",
    "\n",
    "plt.bar(list(CATEGORIES.keys()), class_bins, \n",
    "             color=[np.array(val)/255. for val in list(COLOR_MAP.values())],\n",
    "             edgecolor='black')\n",
    "plt.xticks(list(CATEGORIES.keys()), list(CATEGORIES.keys()), size=12, rotation=90)\n",
    "plt.ylabel('Counts', size=12)\n",
    "plt.title('Frequency of Each Category (Training - Areas 1-4)', size=14, pad=20);"
   ]
  },
  {
   "attachments": {},
   "cell_type": "markdown",
   "metadata": {},
   "source": [
    "We can see that this dataset is heavily imbalanced, the more common items such as ceiling, floor, and wall greatly outnumber all of the other categories. These classes are actually background classes. If we were to train using a loss such as Cross Entropy, we would consider each class to have an equal importance. Meaning, missclassifyng window is trreated the same as misclassifying wall. In reality, we would want our model to focus more on the uncommon categories and not care so much about the common ones. We have a priori knowledge that structures such as ceiling, wall, and floor are continuous and if we look at some training examples, we will see that they are like large sheets. If we were to only classify 60% of these, we would still be in pretty good shape. However, if we classify only 60% of the other less common classes, we may run into some serious generalization issues. One way to overcome the class imbalance is to use a weighted loss function. This will essentially tell the model (during training) to focus more on particular classes that it gets wrong (hard examples) and to focus less on the classes it tends to get right (easy examples)."
   ]
  },
  {
   "attachments": {},
   "cell_type": "markdown",
   "metadata": {},
   "source": [
    "*SIDE NOTE:*\n",
    "*With the notion that certain classes have unique structures, it may be more effective to perform object recognition as opposed to segmentation. Or use some sort of object recognition to augment the segmentation model and form some sort of ensemble.*"
   ]
  },
  {
   "attachments": {},
   "cell_type": "markdown",
   "metadata": {},
   "source": [
    "The loss that we will use is called the [Focal Loss](https://arxiv.org/pdf/1708.02002.pdf), it is a modified version of the Cross Entropy (CE) loss that is useful for imbalanced classification, it focuses the training on a sparse set of hard examples. \n",
    "\n",
    "We will also try to use the [Dice Loss](https://arxiv.org/pdf/1707.03237v3.pdf) and compare results"
   ]
  },
  {
   "attachments": {},
   "cell_type": "markdown",
   "metadata": {},
   "source": [
    "#### Focal Loss Notes:\n",
    "- it focuses training on a sparse set of hard examples\n",
    "- Predictions with Probability >> 0.5 are easy examples and they should not have a high loss\n",
    "   - This is because summing the losses of many easy examples will quickly overwhelm the loss of the few hard examples\n",
    "-"
   ]
  },
  {
   "attachments": {},
   "cell_type": "markdown",
   "metadata": {},
   "source": [
    "The Focal Loss is a modified Cross Entropy (CE) Loss. The CE Loss for a sample $n$ is given below. \n",
    "\n",
    "$$ CE(s_n, y_n) = -\\alpha_{y_n} log \\left( \\frac{exp(\\mathbf{s_n})}{\\sum_{c=1}^M exp(s_{n,c})} \\right) \\mathbf{1}_C(y_n) $$\n",
    "\n",
    "Where $\\mathbf{s_n}$ is the predicted class score vector (logits), $M$ is the number of classes, $y_n$ is the true class, $\\alpha_{y_n}$ is the class weight, and $\\mathbf{1}_C(y_n)$ is the [Indcator Function](https://en.wikipedia.org/wiki/Indicator_function) that tells us to only consider the prediction for the current class $y_n$. <br>\n",
    "$e.g.$ if $\\mathbf{s_n} = [0.02, 0.142, 0.356, 0.0012, 0.0456]$ and $y_n = 3$, then $\\mathbf{s_n}  \\mathbf{1}_C(y_n) = 0.0012$ (NOTE: we used zero indexing here).\n",
    "\n",
    "We may also notice that the term inside the $log$ is the Softmax function, which along wth the indicator function, gives us the predicted class probability. We can rewrite the CE Loss in a more simple format as:\n",
    "$$ CE(p_n) = -\\alpha_{y_n} log(p_n)  $$\n",
    "Where the $n$ subscript refers to the true class at sample $n$.\n",
    "\n",
    "<br> \n",
    "The CE loss is typically unweighted, but if a weight is used it is reffered to as the Balanced (or Weighted) CE Loss. The weights are usually based on inverse class distribution and typically range from [0, 1]. The weights can also be set as a hyperparameter via Cross Validation.\n",
    "\n",
    "$$ \\mathbf{\\alpha} = \\frac{1}{\\text{class counts}} $$\n",
    "We may also normalize alpha so that it spreads between [0,1]\n",
    "$$ \\alpha = \\frac{\\alpha}{\\max{\\alpha}} $$\n",
    "\n",
    "\n",
    "<br>\n",
    "\n",
    "The Focal Loss adds an additional modulating factor to the weighted CE Loss: $ (1 - p_n)^\\gamma $, where $\\gamma \\geq 0$ is referred to as the focusing parameter. This term has tends to 0 when the prediction probability is high, and has a larger value when the prediction probability is lower forcing the model to focus on the hard examples. It can be said that the focusing parameter smoothly adjusts the rate at which easy examples are down-weighted. We can formally express the Focal Loss as:\n",
    "\n",
    "$$ FL(p_n) = -\\alpha_{y_n} (1 - p_n)^\\gamma log(p_n)  $$\n",
    "\n",
    "<br> Summary: <br>\n",
    "- The Focal Loss is a modified version of the Balanced Cross Entropy Loss\n",
    "- The class weight $\\alpha$ balances the importance of loss values based class distribution\n",
    "- The modulating term forces the model to focus on the hard examples by downweighting the easy examples\n",
    "increasing the loss of predictions with lower probability.\n",
    "- The class weights $\\alpha$ and focusing parameter $\\gamma$ are hyperparameters that can be tuned \n",
    "\n",
    "<br>\n",
    "Sources: <br>\n",
    "\n",
    "- https://gombru.github.io/2018/05/23/cross_entropy_loss/ \n",
    "- https://pytorch.org/docs/master/generated/torch.nn.CrossEntropyLoss.html#torch.nn.CrossEntropyLoss\n",
    "- https://hasty.ai/docs/mp-wiki/loss/focal-loss\n",
    "- https://arxiv.org/pdf/1708.02002.pdf"
   ]
  },
  {
   "attachments": {},
   "cell_type": "markdown",
   "metadata": {},
   "source": [
    "### Get Segmentation Version of Point Net\n",
    "Make a test forward pass"
   ]
  },
  {
   "cell_type": "code",
   "execution_count": 8,
   "metadata": {},
   "outputs": [
    {
     "data": {
      "text/plain": [
       "torch.Size([16, 4096, 3])"
      ]
     },
     "execution_count": 8,
     "metadata": {},
     "output_type": "execute_result"
    }
   ],
   "source": [
    "points, targets = next(iter(train_dataloader))\n",
    "points.shape"
   ]
  },
  {
   "cell_type": "code",
   "execution_count": 9,
   "metadata": {},
   "outputs": [
    {
     "name": "stdout",
     "output_type": "stream",
     "text": [
      "Seg shape: torch.Size([16, 4096, 14])\n"
     ]
    }
   ],
   "source": [
    "from point_net import PointNetSegHead\n",
    "\n",
    "seg_model = PointNetSegHead(num_points=NUM_TRAIN_POINTS, m=NUM_CLASSES)\n",
    "out, _, _ = seg_model(points.transpose(2, 1))\n",
    "print(f'Seg shape: {out.shape}')"
   ]
  },
  {
   "cell_type": "markdown",
   "metadata": {},
   "source": [
    "## Start Training"
   ]
  },
  {
   "cell_type": "code",
   "execution_count": 10,
   "metadata": {},
   "outputs": [
    {
     "data": {
      "text/plain": [
       "'cuda'"
      ]
     },
     "execution_count": 10,
     "metadata": {},
     "output_type": "execute_result"
    }
   ],
   "source": [
    "device = 'cuda' if torch.cuda.is_available() else 'cpu'\n",
    "device"
   ]
  },
  {
   "attachments": {},
   "cell_type": "markdown",
   "metadata": {},
   "source": [
    "We will use a pytorch implementation of the focal loss based on code from this [repository](https://github.com/clcarwin/focal_loss_pytorch/blob/master/focalloss.py)"
   ]
  },
  {
   "cell_type": "code",
   "execution_count": 11,
   "metadata": {},
   "outputs": [],
   "source": [
    "from torch.autograd import Variable\n",
    "\n",
    "\n",
    "class FocalLoss(nn.Module):\n",
    "    def __init__(self, alpha=None, gamma=0, size_average=True):\n",
    "        super(FocalLoss, self).__init__()\n",
    "        self.alpha = alpha\n",
    "        self.gamma = gamma\n",
    "        self.size_average = size_average\n",
    "\n",
    "        # sanitize inputs\n",
    "        if isinstance(alpha,(float, int)): self.alpha = torch.Tensor([alpha,1-alpha])\n",
    "        if isinstance(alpha,(list, np.ndarray)): self.alpha = torch.Tensor(alpha)\n",
    "\n",
    "        # get Balanced Cross Entropy Loss\n",
    "        self.cross_entropy_loss = nn.CrossEntropyLoss(weight=self.alpha)\n",
    "        \n",
    "\n",
    "    def forward(self, predictions, targets):\n",
    "\n",
    "        # get Balanced Cross Entropy Loss\n",
    "        ce_loss = self.cross_entropy_loss(predictions, targets)\n",
    "\n",
    "        # reformat predictions and targets\n",
    "        predictions = predictions.transpose(1, 2) # (b, c, n) -> (b, n, c)\n",
    "        predictions = predictions.contiguous().view(-1, predictions.size(2)) # (b, n, c) -> (b*n, c)\n",
    "\n",
    "        # get log softmax of predictions\n",
    "        log_pn = F.log_softmax(predictions)\n",
    "\n",
    "        # get predictions at true class indexes\n",
    "        log_pn = log_pn.gather(1, targets.view(-1,1)).view(-1) # index log softmax values at targets\n",
    "\n",
    "        # get predicted probabilities\n",
    "        pn = Variable(log_pn.data.exp())\n",
    "\n",
    "        # compute loss (negative sign is included in ce_loss)\n",
    "        loss = (1 - pn)**self.gamma * ce_loss\n",
    "        if self.size_average: return loss.mean()\n",
    "        else: return loss.sum()"
   ]
  },
  {
   "attachments": {},
   "cell_type": "markdown",
   "metadata": {},
   "source": [
    "Compute $\\alpha$ as the normalized inverse class frequency.\n",
    "\n",
    "Instead compute alpha roughly based on class frequencies"
   ]
  },
  {
   "cell_type": "code",
   "execution_count": 12,
   "metadata": {},
   "outputs": [
    {
     "data": {
      "text/plain": [
       "array([0.01699434, 0.01858199, 0.01723335, 0.23822429, 0.27080521,\n",
       "       0.26528638, 0.07800945, 0.16166097, 0.08562311, 0.91343211,\n",
       "       0.10324701, 0.43815664, 1.        , 0.03775096])"
      ]
     },
     "execution_count": 12,
     "metadata": {},
     "output_type": "execute_result"
    }
   ],
   "source": [
    "alpha = 1 / class_bins\n",
    "alpha = (alpha/alpha.max())\n",
    "\n",
    "# alpha = np.ones(len(CATEGORIES))\n",
    "# alpha[0:3] *= 0.25 # balance background classes\n",
    "# alpha[-1] *= 0.75  # balance clutter class\n",
    "\n",
    "alpha"
   ]
  },
  {
   "attachments": {},
   "cell_type": "markdown",
   "metadata": {},
   "source": [
    "Load model from disk if necessary"
   ]
  },
  {
   "cell_type": "code",
   "execution_count": 13,
   "metadata": {},
   "outputs": [
    {
     "data": {
      "text/plain": [
       "<All keys matched successfully>"
      ]
     },
     "execution_count": 13,
     "metadata": {},
     "output_type": "execute_result"
    }
   ],
   "source": [
    "MODEL_PATH = 'seg_balanced/seg_model_15.pth'\n",
    "\n",
    "seg_model = PointNetSegHead(num_points=NUM_TRAIN_POINTS, m=NUM_CLASSES).to(device)\n",
    "seg_model.load_state_dict(torch.load(MODEL_PATH))"
   ]
  },
  {
   "attachments": {},
   "cell_type": "markdown",
   "metadata": {},
   "source": [
    "Training hyperparameters"
   ]
  },
  {
   "cell_type": "code",
   "execution_count": null,
   "metadata": {},
   "outputs": [],
   "source": [
    "# training hyperparameters\n",
    "EPOCHS = 50\n",
    "LR = 0.01\n",
    "REG_WEIGHT = 0.001 "
   ]
  },
  {
   "attachments": {},
   "cell_type": "markdown",
   "metadata": {},
   "source": [
    "Get Optimizer and Criterion"
   ]
  },
  {
   "cell_type": "code",
   "execution_count": 14,
   "metadata": {},
   "outputs": [],
   "source": [
    "import torch.nn as nn \n",
    "import torch.optim as optim\n",
    "if torch.cuda.is_available():\n",
    "    import torch.backends.cudnn as cudnn\n",
    "\n",
    "optimizer = optim.Adam(seg_model.parameters(), lr=0.01)\n",
    "# criterion = FocalLoss(gamma=1, alpha=alpha)\n",
    "# criterion = FocalLoss(alpha=alpha, gamma=0.)\n",
    "criterion = nn.CrossEntropyLoss(weight=torch.Tensor(alpha)).to(device)\n",
    "\n",
    "seg_model = seg_model.to(device)"
   ]
  },
  {
   "attachments": {},
   "cell_type": "markdown",
   "metadata": {},
   "source": [
    "For our training we will want to quantify how well our model is performing. Typically we look at loss and accuracy, but for this segmentation problem we will need a metric that accounts for incorrect classification as well as correct classification. The Matthews Correlation Coefficient does this and we will use it to quantify our performance. The MCC ranges from -1 to 1, to understand what the MCC is reporting:\n",
    "- 0 indicates a random guess\n",
    "- -1 is the worst possible performance\n",
    "- 1 is the best possible performance"
   ]
  },
  {
   "cell_type": "code",
   "execution_count": 15,
   "metadata": {},
   "outputs": [],
   "source": [
    "mcc_metric = MulticlassMatthewsCorrCoef(num_classes=NUM_CLASSES).to(device)"
   ]
  },
  {
   "attachments": {},
   "cell_type": "markdown",
   "metadata": {},
   "source": [
    "NOTE: In the original TensorFlow implementation, the regularization term is not used to train the sematic segmentation model."
   ]
  },
  {
   "cell_type": "code",
   "execution_count": null,
   "metadata": {},
   "outputs": [],
   "source": [
    "# stuff for training\n",
    "num_train_batch = len(s3dis_train)/BATCH_SIZE \n",
    "num_valid_batch = len(s3dis_valid)/BATCH_SIZE \n",
    "\n",
    "# store best validation mcc\n",
    "best_mcc = 0.5 # -np.infty\n",
    "\n",
    "# lists to store metrics\n",
    "train_loss = []\n",
    "train_accuracy = []\n",
    "train_mcc = []\n",
    "valid_loss = []\n",
    "valid_accuracy = []\n",
    "valid_mcc = []\n",
    "\n",
    "for epoch in range(16, EPOCHS + 22):\n",
    "    # place model in training mode\n",
    "    seg_model = seg_model.train()\n",
    "    _train_loss = []\n",
    "    _train_accuracy = []\n",
    "    _train_mcc = []\n",
    "    for i, (points, targets) in enumerate(train_dataloader, 0):\n",
    "\n",
    "        points = points.transpose(2, 1).to(device)\n",
    "        targets = targets.squeeze().to(device)\n",
    "        \n",
    "        # zero gradients\n",
    "        optimizer.zero_grad()\n",
    "        \n",
    "        # get predicted class logits\n",
    "        preds, _, A = seg_model(points)\n",
    "        \n",
    "        # compute regularization term to enforce orthogonality on the feature Transformation\n",
    "        # I = torch.eye(64).unsqueeze(0).repeat(A.shape[0], 1, 1).to(device)\n",
    "        # reg = torch.linalg.norm(I - torch.bmm(A, A.transpose(2, 1)))\n",
    "\n",
    "        # get loss and perform backprop\n",
    "        loss = criterion(preds.transpose(2, 1), targets) # + REG_FACTOR*reg/preds.size(0)\n",
    "        loss.backward()\n",
    "        optimizer.step()\n",
    "        \n",
    "        # get class predictions\n",
    "        pred_choice = torch.softmax(preds, dim=2).argmax(dim=2)\n",
    "        correct = pred_choice.eq(targets.data).cpu().sum()\n",
    "        accuracy = correct/float(BATCH_SIZE*NUM_TRAIN_POINTS)\n",
    "        mcc = mcc_metric(preds.transpose(2, 1), targets)\n",
    "\n",
    "        # update epoch loss and accuracy\n",
    "        _train_loss.append(loss.item())\n",
    "        _train_accuracy.append(accuracy)\n",
    "        _train_mcc.append(mcc.item())\n",
    "\n",
    "        if i % 100 == 0:\n",
    "            print(f'\\t [{epoch}: {i}/{num_train_batch}] ' \\\n",
    "                  + f'train loss: {loss.item():.4f} ' \\\n",
    "                  + f'accuracy: {accuracy:.4f} mcc: {mcc:.4f}')\n",
    "        \n",
    "    train_loss.append(np.mean(_train_loss))\n",
    "    train_accuracy.append(np.mean(_train_accuracy))\n",
    "    train_mcc.append(np.mean(_train_mcc))\n",
    "\n",
    "    print(f'Epoch: {epoch} - Train Loss: {train_loss[-1]:.4f} ' \\\n",
    "          + f'- Train Accuracy: {train_accuracy[-1]:.4f} ' \\\n",
    "          + f'- Train MCC: {train_mcc[-1]:.4f}')\n",
    "\n",
    "    # pause to cool down\n",
    "    time.sleep(8)\n",
    "\n",
    "    # get test results after each epoch\n",
    "    with torch.no_grad():\n",
    "\n",
    "        # place model in evaluation mode\n",
    "        seg_model = seg_model.eval()\n",
    "\n",
    "        _valid_loss = []\n",
    "        _valid_accuracy = []\n",
    "        _valid_mcc = []\n",
    "        for i, (points, targets) in enumerate(valid_dataloader, 0):\n",
    "\n",
    "            points = points.transpose(2, 1).to(device)\n",
    "            targets = targets.squeeze().to(device)\n",
    "\n",
    "            preds, _, A = seg_model(points)\n",
    "\n",
    "            # compute regularization term to enforce orthogonality on the feature Transformation\n",
    "            # I = torch.eye(64).unsqueeze(0).repeat(A.shape[0], 1, 1).to(device)\n",
    "            # reg = torch.linalg.norm(I - torch.bmm(A, A.transpose(2, 1)))\n",
    "\n",
    "            loss = criterion(preds.transpose(2, 1), targets) # + REG_FACTOR*reg/preds.size(0)\n",
    "\n",
    "            pred_choice = torch.softmax(preds, dim=2).argmax(dim=2)\n",
    "            correct = pred_choice.eq(targets.data).cpu().sum()\n",
    "            accuracy = correct/float(BATCH_SIZE*NUM_TRAIN_POINTS)\n",
    "            mcc = mcc_metric(preds.transpose(2, 1), targets)\n",
    "\n",
    "            # update epoch loss and accuracy\n",
    "            _valid_loss.append(loss.item())\n",
    "            _valid_accuracy.append(accuracy)\n",
    "            _valid_mcc.append(mcc.item())\n",
    "\n",
    "            if i % 100 == 0:\n",
    "                print(f'\\t [{epoch}: {i}/{num_valid_batch}] ' \\\n",
    "                  + f'valid loss: {loss.item():.4f} ' \\\n",
    "                  + f'accuracy: {accuracy:.4f} mcc: {mcc:.4f}')\n",
    "        \n",
    "        valid_loss.append(np.mean(_valid_loss))\n",
    "        valid_accuracy.append(np.mean(_valid_accuracy))\n",
    "        valid_mcc.append(np.mean(_valid_mcc))\n",
    "        print(f'Epoch: {epoch} - Validation Loss: {valid_loss[-1]:.4f} ' \\\n",
    "              + f'- Validation Accuracy: {valid_accuracy[-1]:.4f} ' \\\n",
    "              + f'- Validation MCC: {valid_mcc[-1]:.4f}')\n",
    "\n",
    "        # pause to cool down\n",
    "        time.sleep(8)\n",
    "\n",
    "    # save best models\n",
    "    if valid_mcc[-1] >= best_mcc:\n",
    "        best_mcc = valid_mcc[-1]\n",
    "        torch.save(seg_model.state_dict(), f'seg_balanced/seg_model_{epoch}.pth')"
   ]
  },
  {
   "attachments": {},
   "cell_type": "markdown",
   "metadata": {},
   "source": [
    "Let's plot the training metrics"
   ]
  },
  {
   "cell_type": "code",
   "execution_count": 19,
   "metadata": {},
   "outputs": [
    {
     "data": {
      "text/plain": [
       "[<matplotlib.lines.Line2D at 0x213661f0d30>]"
      ]
     },
     "execution_count": 19,
     "metadata": {},
     "output_type": "execute_result"
    },
    {
     "data": {
      "image/png": "[encoded data removed]",
      "text/plain": [
       "<Figure size 800x500 with 3 Axes>"
      ]
     },
     "metadata": {},
     "output_type": "display_data"
    }
   ],
   "source": [
    "_, ax = plt.subplots(3, 1, figsize=(8, 5))\n",
    "ax[0].plot(train_loss)\n",
    "# ax[0].plot(valid_loss)\n",
    "\n",
    "ax[1].plot(train_accuracy)\n",
    "ax[1].plot(valid_accuracy)\n",
    "\n",
    "ax[2].plot(train_mcc)\n",
    "ax[2].plot(valid_mcc)"
   ]
  },
  {
   "cell_type": "code",
   "execution_count": 245,
   "metadata": {},
   "outputs": [
    {
     "data": {
      "text/plain": [
       "49"
      ]
     },
     "execution_count": 245,
     "metadata": {},
     "output_type": "execute_result"
    }
   ],
   "source": [
    "np.argmax(valid_mcc)"
   ]
  },
  {
   "attachments": {},
   "cell_type": "markdown",
   "metadata": {},
   "source": [
    "### Test the model"
   ]
  },
  {
   "attachments": {},
   "cell_type": "markdown",
   "metadata": {},
   "source": [
    "Upload model from disk. The best model was 21 (actually 22 since we need to account for zero indexing)"
   ]
  },
  {
   "cell_type": "code",
   "execution_count": 25,
   "metadata": {},
   "outputs": [],
   "source": [
    "MODEL_PATH = 'seg_balanced/seg_model_50.pth'\n",
    "\n",
    "model = PointNetSegHead(num_points=NUM_TEST_POINTS, m=NUM_CLASSES).to(device)\n",
    "model.load_state_dict(torch.load(MODEL_PATH))\n",
    "model.eval();"
   ]
  },
  {
   "attachments": {},
   "cell_type": "markdown",
   "metadata": {},
   "source": [
    "#### Implement Quick test to gather metrics"
   ]
  },
  {
   "cell_type": "code",
   "execution_count": 26,
   "metadata": {},
   "outputs": [
    {
     "name": "stdout",
     "output_type": "stream",
     "text": [
      "\t [0/71] test loss: 0.635657 accuracy: 0.832388 mcc: 0.804938\n",
      "\t [50/71] test loss: 1.084125 accuracy: 0.602056 mcc: 0.568662\n",
      "Test Loss: 582923361209133.6 - Test Accuracy: 0.5827577710151672 - Test MCC: 0.5387284696723024\n"
     ]
    }
   ],
   "source": [
    "num_test_batch = len(s3dis_test)/BATCH_SIZE \n",
    "\n",
    "total_test_targets = []\n",
    "total_test_preds = [] \n",
    "\n",
    "with torch.no_grad():\n",
    "\n",
    "    # place model in evaluation mode\n",
    "    model = model.eval()\n",
    "\n",
    "    test_loss = []\n",
    "    test_accuracy = []\n",
    "    test_mcc = []\n",
    "    for i, (points, targets) in enumerate(test_dataloader, 0):\n",
    "\n",
    "        points = points.transpose(2, 1).to(device)\n",
    "        targets = targets.squeeze().to(device)\n",
    "\n",
    "        preds, _, A = model(points)\n",
    "\n",
    "        loss = criterion(preds.transpose(2, 1), targets)\n",
    "\n",
    "        pred_choice = torch.softmax(preds, dim=2).argmax(dim=2)\n",
    "        correct = pred_choice.eq(targets.data).cpu().sum()\n",
    "        accuracy = correct/float(BATCH_SIZE*NUM_TEST_POINTS)\n",
    "        mcc = mcc_metric(preds.transpose(2, 1), targets)\n",
    "\n",
    "        # update epoch loss and accuracy\n",
    "        test_loss.append(loss.item())\n",
    "        test_accuracy.append(accuracy)\n",
    "        test_mcc.append(mcc.item())\n",
    "\n",
    "        # add to total targets/preds\n",
    "        total_test_targets += targets.reshape(-1).cpu().numpy().tolist()\n",
    "        total_test_preds += pred_choice.reshape(-1).cpu().numpy().tolist()\n",
    "\n",
    "        if i % 50 == 0:\n",
    "            print('\\t [%d/%d] test loss: %f accuracy: %f mcc: %f' \\\n",
    "                    % (i, num_test_batch, loss.item(), accuracy, mcc))\n",
    "\n",
    "# display test results\n",
    "print(f'Test Loss: {np.mean(test_loss)} ' \\\n",
    "        + f'- Test Accuracy: {np.mean(test_accuracy)} ' \\\n",
    "        + f'- Test MCC: {np.mean(test_mcc)}')"
   ]
  },
  {
   "cell_type": "code",
   "execution_count": 27,
   "metadata": {},
   "outputs": [],
   "source": [
    "total_test_targets = np.array(total_test_targets)\n",
    "total_test_preds = np.array(total_test_preds)"
   ]
  },
  {
   "attachments": {},
   "cell_type": "markdown",
   "metadata": {},
   "source": [
    "#### Get Confusion Matrix for Test data"
   ]
  },
  {
   "cell_type": "code",
   "execution_count": 28,
   "metadata": {},
   "outputs": [
    {
     "data": {
      "text/html": [
       "<div>\n",
       "<style scoped>\n",
       "    .dataframe tbody tr th:only-of-type {\n",
       "        vertical-align: middle;\n",
       "    }\n",
       "\n",
       "    .dataframe tbody tr th {\n",
       "        vertical-align: top;\n",
       "    }\n",
       "\n",
       "    .dataframe thead th {\n",
       "        text-align: right;\n",
       "    }\n",
       "</style>\n",
       "<table border=\"1\" class=\"dataframe\">\n",
       "  <thead>\n",
       "    <tr style=\"text-align: right;\">\n",
       "      <th></th>\n",
       "      <th>ceiling</th>\n",
       "      <th>floor</th>\n",
       "      <th>wall</th>\n",
       "      <th>beam</th>\n",
       "      <th>column</th>\n",
       "      <th>window</th>\n",
       "      <th>door</th>\n",
       "      <th>table</th>\n",
       "      <th>chair</th>\n",
       "      <th>sofa</th>\n",
       "      <th>bookcase</th>\n",
       "      <th>board</th>\n",
       "      <th>stairs</th>\n",
       "      <th>clutter</th>\n",
       "    </tr>\n",
       "  </thead>\n",
       "  <tbody>\n",
       "    <tr>\n",
       "      <th>ceiling</th>\n",
       "      <td>2330147</td>\n",
       "      <td>1716</td>\n",
       "      <td>25761</td>\n",
       "      <td>10633</td>\n",
       "      <td>31</td>\n",
       "      <td>588</td>\n",
       "      <td>5796</td>\n",
       "      <td>782</td>\n",
       "      <td>0</td>\n",
       "      <td>381</td>\n",
       "      <td>10804</td>\n",
       "      <td>227</td>\n",
       "      <td>44899</td>\n",
       "      <td>68930</td>\n",
       "    </tr>\n",
       "    <tr>\n",
       "      <th>floor</th>\n",
       "      <td>6065</td>\n",
       "      <td>2168172</td>\n",
       "      <td>10</td>\n",
       "      <td>0</td>\n",
       "      <td>61</td>\n",
       "      <td>844</td>\n",
       "      <td>1205</td>\n",
       "      <td>0</td>\n",
       "      <td>0</td>\n",
       "      <td>13</td>\n",
       "      <td>7731</td>\n",
       "      <td>0</td>\n",
       "      <td>3890</td>\n",
       "      <td>4</td>\n",
       "    </tr>\n",
       "    <tr>\n",
       "      <th>wall</th>\n",
       "      <td>86404</td>\n",
       "      <td>48809</td>\n",
       "      <td>330172</td>\n",
       "      <td>48915</td>\n",
       "      <td>141383</td>\n",
       "      <td>68630</td>\n",
       "      <td>438209</td>\n",
       "      <td>59880</td>\n",
       "      <td>2166</td>\n",
       "      <td>44430</td>\n",
       "      <td>391647</td>\n",
       "      <td>526030</td>\n",
       "      <td>41488</td>\n",
       "      <td>185697</td>\n",
       "    </tr>\n",
       "    <tr>\n",
       "      <th>beam</th>\n",
       "      <td>48217</td>\n",
       "      <td>137</td>\n",
       "      <td>21500</td>\n",
       "      <td>226077</td>\n",
       "      <td>1661</td>\n",
       "      <td>47</td>\n",
       "      <td>35934</td>\n",
       "      <td>0</td>\n",
       "      <td>0</td>\n",
       "      <td>0</td>\n",
       "      <td>24542</td>\n",
       "      <td>0</td>\n",
       "      <td>423</td>\n",
       "      <td>110304</td>\n",
       "    </tr>\n",
       "    <tr>\n",
       "      <th>column</th>\n",
       "      <td>1885</td>\n",
       "      <td>8269</td>\n",
       "      <td>1536</td>\n",
       "      <td>4797</td>\n",
       "      <td>86035</td>\n",
       "      <td>2943</td>\n",
       "      <td>144341</td>\n",
       "      <td>1544</td>\n",
       "      <td>50</td>\n",
       "      <td>1011</td>\n",
       "      <td>38795</td>\n",
       "      <td>31270</td>\n",
       "      <td>705</td>\n",
       "      <td>6206</td>\n",
       "    </tr>\n",
       "    <tr>\n",
       "      <th>window</th>\n",
       "      <td>834</td>\n",
       "      <td>0</td>\n",
       "      <td>9497</td>\n",
       "      <td>391</td>\n",
       "      <td>16177</td>\n",
       "      <td>166832</td>\n",
       "      <td>36</td>\n",
       "      <td>2865</td>\n",
       "      <td>0</td>\n",
       "      <td>385</td>\n",
       "      <td>26432</td>\n",
       "      <td>4384</td>\n",
       "      <td>1743</td>\n",
       "      <td>5540</td>\n",
       "    </tr>\n",
       "    <tr>\n",
       "      <th>door</th>\n",
       "      <td>155</td>\n",
       "      <td>17334</td>\n",
       "      <td>4392</td>\n",
       "      <td>47344</td>\n",
       "      <td>21550</td>\n",
       "      <td>1583</td>\n",
       "      <td>387012</td>\n",
       "      <td>1194</td>\n",
       "      <td>48</td>\n",
       "      <td>928</td>\n",
       "      <td>29108</td>\n",
       "      <td>94837</td>\n",
       "      <td>233</td>\n",
       "      <td>2629</td>\n",
       "    </tr>\n",
       "    <tr>\n",
       "      <th>table</th>\n",
       "      <td>0</td>\n",
       "      <td>19408</td>\n",
       "      <td>1195</td>\n",
       "      <td>0</td>\n",
       "      <td>762</td>\n",
       "      <td>111</td>\n",
       "      <td>20931</td>\n",
       "      <td>320891</td>\n",
       "      <td>41336</td>\n",
       "      <td>31947</td>\n",
       "      <td>62757</td>\n",
       "      <td>4927</td>\n",
       "      <td>717</td>\n",
       "      <td>13357</td>\n",
       "    </tr>\n",
       "    <tr>\n",
       "      <th>chair</th>\n",
       "      <td>0</td>\n",
       "      <td>53508</td>\n",
       "      <td>6483</td>\n",
       "      <td>0</td>\n",
       "      <td>549</td>\n",
       "      <td>87</td>\n",
       "      <td>35061</td>\n",
       "      <td>81993</td>\n",
       "      <td>203754</td>\n",
       "      <td>17700</td>\n",
       "      <td>13799</td>\n",
       "      <td>7892</td>\n",
       "      <td>980</td>\n",
       "      <td>19981</td>\n",
       "    </tr>\n",
       "    <tr>\n",
       "      <th>sofa</th>\n",
       "      <td>0</td>\n",
       "      <td>6794</td>\n",
       "      <td>1196</td>\n",
       "      <td>0</td>\n",
       "      <td>0</td>\n",
       "      <td>0</td>\n",
       "      <td>1659</td>\n",
       "      <td>7357</td>\n",
       "      <td>12821</td>\n",
       "      <td>17339</td>\n",
       "      <td>420</td>\n",
       "      <td>46</td>\n",
       "      <td>0</td>\n",
       "      <td>482</td>\n",
       "    </tr>\n",
       "    <tr>\n",
       "      <th>bookcase</th>\n",
       "      <td>1</td>\n",
       "      <td>11067</td>\n",
       "      <td>13172</td>\n",
       "      <td>6016</td>\n",
       "      <td>8860</td>\n",
       "      <td>3</td>\n",
       "      <td>36033</td>\n",
       "      <td>13053</td>\n",
       "      <td>4416</td>\n",
       "      <td>11244</td>\n",
       "      <td>163104</td>\n",
       "      <td>38227</td>\n",
       "      <td>0</td>\n",
       "      <td>10393</td>\n",
       "    </tr>\n",
       "    <tr>\n",
       "      <th>board</th>\n",
       "      <td>0</td>\n",
       "      <td>458</td>\n",
       "      <td>5344</td>\n",
       "      <td>16</td>\n",
       "      <td>4561</td>\n",
       "      <td>0</td>\n",
       "      <td>3419</td>\n",
       "      <td>448</td>\n",
       "      <td>0</td>\n",
       "      <td>453</td>\n",
       "      <td>4559</td>\n",
       "      <td>127241</td>\n",
       "      <td>0</td>\n",
       "      <td>3314</td>\n",
       "    </tr>\n",
       "    <tr>\n",
       "      <th>stairs</th>\n",
       "      <td>1255</td>\n",
       "      <td>1808</td>\n",
       "      <td>0</td>\n",
       "      <td>5249</td>\n",
       "      <td>0</td>\n",
       "      <td>19</td>\n",
       "      <td>859</td>\n",
       "      <td>0</td>\n",
       "      <td>0</td>\n",
       "      <td>0</td>\n",
       "      <td>299</td>\n",
       "      <td>0</td>\n",
       "      <td>12714</td>\n",
       "      <td>0</td>\n",
       "    </tr>\n",
       "    <tr>\n",
       "      <th>clutter</th>\n",
       "      <td>279945</td>\n",
       "      <td>36609</td>\n",
       "      <td>189884</td>\n",
       "      <td>13457</td>\n",
       "      <td>16387</td>\n",
       "      <td>4310</td>\n",
       "      <td>101335</td>\n",
       "      <td>76109</td>\n",
       "      <td>33509</td>\n",
       "      <td>43427</td>\n",
       "      <td>183499</td>\n",
       "      <td>55188</td>\n",
       "      <td>12374</td>\n",
       "      <td>173880</td>\n",
       "    </tr>\n",
       "  </tbody>\n",
       "</table>\n",
       "</div>"
      ],
      "text/plain": [
       "          ceiling    floor    wall    beam  column  window    door   table  \\\n",
       "ceiling   2330147     1716   25761   10633      31     588    5796     782   \n",
       "floor        6065  2168172      10       0      61     844    1205       0   \n",
       "wall        86404    48809  330172   48915  141383   68630  438209   59880   \n",
       "beam        48217      137   21500  226077    1661      47   35934       0   \n",
       "column       1885     8269    1536    4797   86035    2943  144341    1544   \n",
       "window        834        0    9497     391   16177  166832      36    2865   \n",
       "door          155    17334    4392   47344   21550    1583  387012    1194   \n",
       "table           0    19408    1195       0     762     111   20931  320891   \n",
       "chair           0    53508    6483       0     549      87   35061   81993   \n",
       "sofa            0     6794    1196       0       0       0    1659    7357   \n",
       "bookcase        1    11067   13172    6016    8860       3   36033   13053   \n",
       "board           0      458    5344      16    4561       0    3419     448   \n",
       "stairs       1255     1808       0    5249       0      19     859       0   \n",
       "clutter    279945    36609  189884   13457   16387    4310  101335   76109   \n",
       "\n",
       "           chair   sofa  bookcase   board  stairs  clutter  \n",
       "ceiling        0    381     10804     227   44899    68930  \n",
       "floor          0     13      7731       0    3890        4  \n",
       "wall        2166  44430    391647  526030   41488   185697  \n",
       "beam           0      0     24542       0     423   110304  \n",
       "column        50   1011     38795   31270     705     6206  \n",
       "window         0    385     26432    4384    1743     5540  \n",
       "door          48    928     29108   94837     233     2629  \n",
       "table      41336  31947     62757    4927     717    13357  \n",
       "chair     203754  17700     13799    7892     980    19981  \n",
       "sofa       12821  17339       420      46       0      482  \n",
       "bookcase    4416  11244    163104   38227       0    10393  \n",
       "board          0    453      4559  127241       0     3314  \n",
       "stairs         0      0       299       0   12714        0  \n",
       "clutter    33509  43427    183499   55188   12374   173880  "
      ]
     },
     "execution_count": 28,
     "metadata": {},
     "output_type": "execute_result"
    }
   ],
   "source": [
    "from sklearn.metrics import confusion_matrix\n",
    "\n",
    "test_confusion = pd.DataFrame(confusion_matrix(total_test_targets, total_test_preds),\n",
    "                              columns=list(CATEGORIES.keys()),\n",
    "                              index=list(CATEGORIES.keys()))\n",
    "\n",
    "test_confusion"
   ]
  },
  {
   "attachments": {},
   "cell_type": "markdown",
   "metadata": {},
   "source": [
    "#### View test results on full space"
   ]
  },
  {
   "cell_type": "code",
   "execution_count": 32,
   "metadata": {},
   "outputs": [
    {
     "name": "stdout",
     "output_type": "stream",
     "text": [
      "Accuracy: 0.5872666835784912 - MCC: 0.5443394780158997\n"
     ]
    }
   ],
   "source": [
    "torch.cuda.empty_cache() # release GPU memory\n",
    "points, targets = s3dis_test.get_random_partitioned_space()\n",
    "\n",
    "# place on device\n",
    "points = points.to(device)\n",
    "targets = targets.to(device)\n",
    "\n",
    "# Normalize each partitioned Point Cloud to (0, 1)\n",
    "norm_points = points.clone()\n",
    "norm_points = norm_points - norm_points.min(axis=1)[0].unsqueeze(1)\n",
    "norm_points /= norm_points.max(axis=1)[0].unsqueeze(1)\n",
    "\n",
    "with torch.no_grad():\n",
    "\n",
    "    norm_points = norm_points.transpose(2, 1)\n",
    "    targets = targets.squeeze()\n",
    "\n",
    "    preds, _, A = model(norm_points)\n",
    "\n",
    "    pred_choice = torch.softmax(preds, dim=2).argmax(dim=2)\n",
    "    correct = pred_choice.eq(targets.data).cpu().sum()\n",
    "    accuracy = correct/float(points.shape[0]*NUM_TEST_POINTS)\n",
    "    mcc = mcc_metric(preds.transpose(2, 1), targets)\n",
    "\n",
    "print(f'Accuracy: {accuracy} - MCC: {mcc}')"
   ]
  },
  {
   "attachments": {},
   "cell_type": "markdown",
   "metadata": {},
   "source": [
    "Display the truth and predictions"
   ]
  },
  {
   "cell_type": "code",
   "execution_count": 33,
   "metadata": {},
   "outputs": [
    {
     "data": {
      "application/vnd.jupyter.widget-view+json": {
       "model_id": "ac0405dc5b814f758b65c166e582301d",
       "version_major": 2,
       "version_minor": 0
      },
      "text/plain": [
       "WebVisualizer(window_uid='window_2')"
      ]
     },
     "metadata": {},
     "output_type": "display_data"
    }
   ],
   "source": [
    "pcd = o3.geometry.PointCloud()\n",
    "pcd.points = o3.utility.Vector3dVector(points.permute(2, 0, 1).reshape(3, -1).to('cpu').T)\n",
    "pcd.colors = o3.utility.Vector3dVector(np.vstack(v_map_colors(targets.reshape(-1).to('cpu'))).T/255)\n",
    "\n",
    "draw(pcd)"
   ]
  },
  {
   "cell_type": "code",
   "execution_count": 267,
   "metadata": {},
   "outputs": [
    {
     "data": {
      "application/vnd.jupyter.widget-view+json": {
       "model_id": "3bb152ba0be143e0b437a90d9d623694",
       "version_major": 2,
       "version_minor": 0
      },
      "text/plain": [
       "WebVisualizer(window_uid='window_4')"
      ]
     },
     "metadata": {},
     "output_type": "display_data"
    }
   ],
   "source": [
    "pcd = o3.geometry.PointCloud()\n",
    "pcd.points = o3.utility.Vector3dVector(points.to('cpu')[2, :, :])\n",
    "pcd.colors = o3.utility.Vector3dVector(np.vstack(v_map_colors(targets.to('cpu')[2, :])).T/255)\n",
    "\n",
    "draw(pcd)"
   ]
  },
  {
   "cell_type": "code",
   "execution_count": 34,
   "metadata": {},
   "outputs": [
    {
     "data": {
      "application/vnd.jupyter.widget-view+json": {
       "model_id": "a4c125ef1db842538f47bcfe40567c67",
       "version_major": 2,
       "version_minor": 0
      },
      "text/plain": [
       "WebVisualizer(window_uid='window_3')"
      ]
     },
     "metadata": {},
     "output_type": "display_data"
    }
   ],
   "source": [
    "pcd = o3.geometry.PointCloud()\n",
    "pcd.points = o3.utility.Vector3dVector(points.permute(2, 0, 1).reshape(3, -1).to('cpu').T)\n",
    "pcd.colors = o3.utility.Vector3dVector(np.vstack(v_map_colors(pred_choice.reshape(-1).to('cpu'))).T/255)\n",
    "\n",
    "draw(pcd)"
   ]
  },
  {
   "cell_type": "code",
   "execution_count": 266,
   "metadata": {},
   "outputs": [
    {
     "data": {
      "application/vnd.jupyter.widget-view+json": {
       "model_id": "94803f3c11f545ebae796e627f82567c",
       "version_major": 2,
       "version_minor": 0
      },
      "text/plain": [
       "WebVisualizer(window_uid='window_3')"
      ]
     },
     "metadata": {},
     "output_type": "display_data"
    }
   ],
   "source": [
    "pcd = o3.geometry.PointCloud()\n",
    "pcd.points = o3.utility.Vector3dVector(points.to('cpu')[2, :, :])\n",
    "pcd.colors = o3.utility.Vector3dVector(np.vstack(v_map_colors(pred_choice.to('cpu')[2, :])).T/255)\n",
    "\n",
    "draw(pcd)"
   ]
  },
  {
   "attachments": {},
   "cell_type": "markdown",
   "metadata": {},
   "source": [
    "### General Notes\n",
    "\n",
    "It appears that not using the regularized loss leads to quicker training i.e. better performance with less epochs. Some more experimentation could be done to check if the regularization leads to superior performance over a longer training period.\n",
    "\n",
    "It seems like the regularization term in the loss function greatly overpowers the loss. Causing the loss to blow up."
   ]
  },
  {
   "cell_type": "code",
   "execution_count": null,
   "metadata": {},
   "outputs": [],
   "source": []
  }
 ],
 "metadata": {
  "kernelspec": {
   "display_name": "Python 3.8.12 ('base')",
   "language": "python",
   "name": "python3"
  },
  "language_info": {
   "codemirror_mode": {
    "name": "ipython",
    "version": 3
   },
   "file_extension": ".py",
   "mimetype": "text/x-python",
   "name": "python",
   "nbconvert_exporter": "python",
   "pygments_lexer": "ipython3",
   "version": "3.8.12 (default, Oct 12 2021, 03:01:40) [MSC v.1916 64 bit (AMD64)]"
  },
  "orig_nbformat": 4,
  "vscode": {
   "interpreter": {
    "hash": "6c3515861ec4313dacaa20b0eec5bf326e6557b6589b7b6a4fe3c8baa566747d"
   }
  }
 },
 "nbformat": 4,
 "nbformat_minor": 2
}
