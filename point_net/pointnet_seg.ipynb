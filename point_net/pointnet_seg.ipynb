{
 "cells": [
  {
   "attachments": {},
   "cell_type": "markdown",
   "metadata": {},
   "source": [
    "# Point Net Segmentation\n",
    "\n",
    "This notebook will explore the Segmentation head of Point Net using the reduced and paritioned version of S3DIS dataset. This version is similar to the one used by torch geometry except that we will have to normalize and sample data on the fly. "
   ]
  },
  {
   "attachments": {},
   "cell_type": "markdown",
   "metadata": {},
   "source": [
    "#### **Current State: Mildly Chaotic**\n",
    "\n",
    "#### TODO:\n",
    "- complete dataloader \n",
    "- Add functionality to unnormalize data\n",
    "- complete test loop\n",
    "- remove dataloader and place it in it's own .py script\n",
    "- ensure that everything else is organized\n",
    "- Continue training and testing\n",
    "- Add descriptive analytics for dataset to help with understanding and training\n",
    "- Add intuitive explainations and theory as needed\n",
    "- Add test visualization portion once initial models are trained"
   ]
  },
  {
   "attachments": {},
   "cell_type": "markdown",
   "metadata": {},
   "source": [
    "TEMP NOTE\n",
    "\n",
    "use \"git reset HEAD~1\" to go back one commit\n",
    "\n",
    "https://stackoverflow.com/questions/20002557/how-to-remove-a-too-large-file-in-a-commit-when-my-branch-is-ahead-of-master-by"
   ]
  },
  {
   "cell_type": "code",
   "execution_count": 1,
   "metadata": {},
   "outputs": [
    {
     "name": "stdout",
     "output_type": "stream",
     "text": [
      "Jupyter environment detected. Enabling Open3D WebVisualizer.\n",
      "[Open3D INFO] WebRTC GUI backend enabled.\n",
      "[Open3D INFO] WebRTCWindowSystem: HTTP handshake server disabled.\n",
      "[Open3D INFO] Resetting default logger to print to terminal.\n"
     ]
    }
   ],
   "source": [
    "import os\n",
    "import re\n",
    "from glob import glob\n",
    "import time\n",
    "import random\n",
    "import numpy as np\n",
    "import pandas as pd\n",
    "import torch\n",
    "import torch.nn as nn\n",
    "import torch.nn.functional as F\n",
    "import torchmetrics\n",
    "from torchmetrics.classification import MulticlassMatthewsCorrCoef\n",
    "import open3d as o3\n",
    "# from open3d import JVisualizer # For Colab Visualization\n",
    "from open3d.web_visualizer import draw # for non Colab\n",
    "\n",
    "import matplotlib.pyplot as plt\n",
    "%matplotlib inline"
   ]
  },
  {
   "cell_type": "code",
   "execution_count": 2,
   "metadata": {},
   "outputs": [],
   "source": [
    "# TEMP for supressing pytorch user warnings\n",
    "import warnings\n",
    "warnings.filterwarnings(\"ignore\")"
   ]
  },
  {
   "attachments": {},
   "cell_type": "markdown",
   "metadata": {},
   "source": [
    "Initialize variables for entire notebook"
   ]
  },
  {
   "cell_type": "code",
   "execution_count": 4,
   "metadata": {},
   "outputs": [],
   "source": [
    "# dataset\n",
    "ROOT = r'C:\\Users\\itber\\Documents\\datasets\\S3DIS\\Stanford3dDataset_v1.2_Reduced_Partitioned_Aligned_Version'\n",
    "NUM_CLASSES = 14\n",
    "\n",
    "# feature selection hyperparameters\n",
    "NUM_TRAIN_POINTS = 4096 # train/valid points\n",
    "NUM_TEST_POINTS = 10000\n",
    "\n",
    "# training hyperparameters\n",
    "BATCH_SIZE = 16\n",
    "EPOCHS = 25\n",
    "LR = 0.01"
   ]
  },
  {
   "cell_type": "code",
   "execution_count": 38,
   "metadata": {},
   "outputs": [],
   "source": [
    "CATEGORIES = {\n",
    "    'ceiling'  : 0, \n",
    "    'floor'    : 1, \n",
    "    'wall'     : 2, \n",
    "    'beam'     : 3, \n",
    "    'column'   : 4, \n",
    "    'window'   : 5,\n",
    "    'door'     : 6, \n",
    "    'table'    : 7, \n",
    "    'chair'    : 8, \n",
    "    'sofa'     : 9, \n",
    "    'bookcase' : 10, \n",
    "    'board'    : 11,\n",
    "    'stairs'   : 12,\n",
    "    'clutter'  : 13\n",
    "}\n",
    "\n",
    "# unique color map generated via\n",
    "# https://mokole.com/palette.html\n",
    "COLOR_MAP = {\n",
    "    0  : (47, 79, 79),    # ceiling - darkslategray\n",
    "    1  : (139, 69, 19),   # floor - saddlebrown\n",
    "    2  : (34, 139, 34),   # wall - forestgreen\n",
    "    3  : (75, 0, 130),    # beam - indigo\n",
    "    4  : (255, 0, 0),     # column - red \n",
    "    5  : (255, 255, 0),   # window - yellow\n",
    "    6  : (0, 255, 0),     # door - lime\n",
    "    7  : (0, 255, 255),   # table - aqua\n",
    "    8  : (0, 0, 255),     # chair - blue\n",
    "    9  : (255, 0, 255),   # sofa - fuchsia\n",
    "    10 : (238, 232, 170), # bookcase - palegoldenrod\n",
    "    11 : (100, 149, 237), # board - cornflower\n",
    "    12 : (255, 105, 180), # stairs - hotpink\n",
    "    13 : (0, 0, 0)        # clutter - black\n",
    "}\n",
    "\n",
    "v_map_colors = np.vectorize(lambda x : COLOR_MAP[x])"
   ]
  },
  {
   "attachments": {},
   "cell_type": "markdown",
   "metadata": {},
   "source": [
    "#### Get Datasets and Dataloaders"
   ]
  },
  {
   "cell_type": "code",
   "execution_count": 7,
   "metadata": {},
   "outputs": [],
   "source": [
    "from torch.utils.data import DataLoader\n",
    "from s3dis_dataset import S3DIS\n",
    "\n",
    "# get datasets\n",
    "s3dis_train = S3DIS(ROOT, area_nums='1-4', npoints=NUM_TRAIN_POINTS)\n",
    "s3dis_valid = S3DIS(ROOT, area_nums='5', npoints=NUM_TRAIN_POINTS)\n",
    "s3dis_test = S3DIS(ROOT, area_nums='6', split='test', npoints=NUM_TEST_POINTS)\n",
    "\n",
    "# get dataloaders\n",
    "train_dataloader = DataLoader(s3dis_train, batch_size=BATCH_SIZE, shuffle=True)\n",
    "valid_dataloader = DataLoader(s3dis_valid, batch_size=BATCH_SIZE, shuffle=True)\n",
    "test_dataloader = DataLoader(s3dis_test, batch_size=BATCH_SIZE, shuffle=False)"
   ]
  },
  {
   "cell_type": "markdown",
   "metadata": {},
   "source": [
    "Get an example and display it"
   ]
  },
  {
   "cell_type": "code",
   "execution_count": 7,
   "metadata": {},
   "outputs": [
    {
     "data": {
      "application/vnd.jupyter.widget-view+json": {
       "model_id": "ae8bc38314594abb93ed247ce18d1d22",
       "version_major": 2,
       "version_minor": 0
      },
      "text/plain": [
       "WebVisualizer(window_uid='window_0')"
      ]
     },
     "metadata": {},
     "output_type": "display_data"
    }
   ],
   "source": [
    "points, targets = s3dis_train[1000]\n",
    "\n",
    "pcd = o3.geometry.PointCloud()\n",
    "pcd.points = o3.utility.Vector3dVector(points)\n",
    "pcd.colors = o3.utility.Vector3dVector(np.vstack(v_map_colors(targets)).T/255)\n",
    "\n",
    "draw(pcd)"
   ]
  },
  {
   "attachments": {},
   "cell_type": "markdown",
   "metadata": {},
   "source": [
    "#### Investigate class distributions in the Training dataset"
   ]
  },
  {
   "cell_type": "code",
   "execution_count": 32,
   "metadata": {},
   "outputs": [],
   "source": [
    "total_targets = []\n",
    "for (points, targets) in train_dataloader:\n",
    "    total_targets += targets.reshape(-1).numpy().tolist()\n",
    "\n",
    "total_targets = np.array(total_targets)"
   ]
  },
  {
   "attachments": {},
   "cell_type": "markdown",
   "metadata": {},
   "source": [
    "Plot Barchart of category counts"
   ]
  },
  {
   "cell_type": "code",
   "execution_count": 78,
   "metadata": {},
   "outputs": [
    {
     "data": {
      "image/png": "[encoded data removed]",
      "text/plain": [
       "<Figure size 640x480 with 1 Axes>"
      ]
     },
     "metadata": {},
     "output_type": "display_data"
    }
   ],
   "source": [
    "class_bins = np.bincount(total_targets)\n",
    "\n",
    "plt.bar(list(CATEGORIES.keys()), class_bins, \n",
    "             color=[np.array(val)/255. for val in list(COLOR_MAP.values())],\n",
    "             edgecolor='black')\n",
    "plt.xticks(list(CATEGORIES.keys()), list(CATEGORIES.keys()), size=12, rotation=90)\n",
    "plt.ylabel('Counts', size=12)\n",
    "plt.title('Occurences of Each Category (Training - Areas 1-4)', size=14, pad=20);"
   ]
  },
  {
   "attachments": {},
   "cell_type": "markdown",
   "metadata": {},
   "source": [
    "We can see that this dataset is heavily imbalanced, the more common items such as ceiling, floor, and wall greatly outnumber all of the other categories. These classes are actually background classes. If we were to train using a loss such as Cross Entropy, we would consider each class to have an equal importance. Meaning, missclassifyng window is trreated the same as misclassifying wall. In reality, we would want our model to focus more on the uncommon categories and not care so much about the common ones. We have a priori knowledge that structures such as ceiling, wall, and floor are continuous and if we look at some training examples, we will see that they are like large sheets. If we were to only classify 60% of these, we would still be in pretty good shape. However, if we classify only 60% of the other less common classes, we may run into some serious generalization issues. One way to overcome the class imbalance is to use a weighted loss function. This will essentially tell the model (during training) to focus more on particular classes that it gets wrong (hard examples) and to focus less on the classes it tends to get right (easy examples)."
   ]
  },
  {
   "attachments": {},
   "cell_type": "markdown",
   "metadata": {},
   "source": [
    "*SIDE NOTE:*\n",
    "*With the notion that certain classes have unique structures, it may be more effective to perform object recognition as opposed to segmentation. Or use some sort of object recognition to augment the segmentation model and form some sort of ensemble.*"
   ]
  },
  {
   "attachments": {},
   "cell_type": "markdown",
   "metadata": {},
   "source": [
    "The loss that we will use is called the [Focal Loss](https://arxiv.org/pdf/1708.02002.pdf), it is a modified version of the Cross Entropy (CE) loss that is usefule for imbalanced classification"
   ]
  },
  {
   "attachments": {},
   "cell_type": "markdown",
   "metadata": {},
   "source": [
    "### Get Segmentation Version of Point Net\n",
    "Make a test forward pass"
   ]
  },
  {
   "cell_type": "code",
   "execution_count": 8,
   "metadata": {},
   "outputs": [
    {
     "data": {
      "text/plain": [
       "torch.Size([16, 4096, 3])"
      ]
     },
     "execution_count": 8,
     "metadata": {},
     "output_type": "execute_result"
    }
   ],
   "source": [
    "points, targets = next(iter(train_dataloader))\n",
    "points.shape"
   ]
  },
  {
   "cell_type": "code",
   "execution_count": 9,
   "metadata": {},
   "outputs": [
    {
     "name": "stdout",
     "output_type": "stream",
     "text": [
      "Seg shape: torch.Size([16, 4096, 14])\n"
     ]
    }
   ],
   "source": [
    "from point_net import PointNetSegHead\n",
    "\n",
    "seg_model = PointNetSegHead(num_points=NUM_TRAIN_POINTS, m=NUM_CLASSES)\n",
    "out, _, _ = seg_model(points.transpose(2, 1))\n",
    "print(f'Seg shape: {out.shape}')"
   ]
  },
  {
   "cell_type": "markdown",
   "metadata": {},
   "source": [
    "## Start Training"
   ]
  },
  {
   "cell_type": "code",
   "execution_count": 10,
   "metadata": {},
   "outputs": [
    {
     "data": {
      "text/plain": [
       "'cuda'"
      ]
     },
     "execution_count": 10,
     "metadata": {},
     "output_type": "execute_result"
    }
   ],
   "source": [
    "device = 'cuda' if torch.cuda.is_available() else 'cpu'\n",
    "device"
   ]
  },
  {
   "attachments": {},
   "cell_type": "markdown",
   "metadata": {},
   "source": [
    "We will use a pytorch implementation of the focal loss from this [repository](https://github.com/clcarwin/focal_loss_pytorch/blob/master/focalloss.py)"
   ]
  },
  {
   "cell_type": "code",
   "execution_count": 112,
   "metadata": {},
   "outputs": [],
   "source": [
    "from torch.autograd import Variable\n",
    "\n",
    "class FocalLoss(nn.Module):\n",
    "    def __init__(self, gamma=0, alpha=None, size_average=True):\n",
    "        super(FocalLoss, self).__init__()\n",
    "        self.gamma = gamma\n",
    "        self.alpha = alpha\n",
    "        if isinstance(alpha,(float, int)): self.alpha = torch.Tensor([alpha,1-alpha])\n",
    "        if isinstance(alpha,(list, np.ndarray)): self.alpha = torch.Tensor(alpha)\n",
    "        self.size_average = size_average\n",
    "\n",
    "    def forward(self, input, target):\n",
    "        if input.dim()>2:\n",
    "            input = input.view(input.size(0),input.size(1),-1)  # N,C,H,W => N,C,H*W\n",
    "            input = input.transpose(1,2)    # N,C,H*W => N,H*W,C\n",
    "            input = input.contiguous().view(-1,input.size(2))   # N,H*W,C => N*H*W,C\n",
    "        target = target.view(-1,1)\n",
    "\n",
    "        logpt = F.log_softmax(input)\n",
    "        logpt = logpt.gather(1,target)\n",
    "        logpt = logpt.view(-1)\n",
    "        pt = Variable(logpt.data.exp())\n",
    "\n",
    "        if self.alpha is not None:\n",
    "            if self.alpha.type()!=input.data.type():\n",
    "                self.alpha = self.alpha.type_as(input.data)\n",
    "            at = self.alpha.gather(0,target.data.view(-1))\n",
    "            logpt = logpt * Variable(at)\n",
    "\n",
    "        loss = -1 * (1-pt)**self.gamma * logpt\n",
    "        if self.size_average: return loss.mean()\n",
    "        else: return loss.sum()"
   ]
  },
  {
   "cell_type": "code",
   "execution_count": 113,
   "metadata": {},
   "outputs": [
    {
     "data": {
      "text/plain": [
       "torch.Size([10, 3, 10000])"
      ]
     },
     "execution_count": 113,
     "metadata": {},
     "output_type": "execute_result"
    }
   ],
   "source": [
    "points.shape"
   ]
  },
  {
   "cell_type": "code",
   "execution_count": 114,
   "metadata": {},
   "outputs": [
    {
     "data": {
      "text/plain": [
       "torch.Size([10, 10000])"
      ]
     },
     "execution_count": 114,
     "metadata": {},
     "output_type": "execute_result"
    }
   ],
   "source": [
    "targets.shape"
   ]
  },
  {
   "attachments": {},
   "cell_type": "markdown",
   "metadata": {},
   "source": [
    "Compute $\\alpha$ as the normalized inverse class frequency"
   ]
  },
  {
   "cell_type": "code",
   "execution_count": 115,
   "metadata": {},
   "outputs": [
    {
     "data": {
      "text/plain": [
       "array([0.01697265, 0.01858493, 0.01720927, 0.23992475, 0.2716861 ,\n",
       "       0.26652981, 0.07832637, 0.16263879, 0.08603886, 0.9198402 ,\n",
       "       0.10384929, 0.44059073, 0.9999    , 0.0378202 ])"
      ]
     },
     "execution_count": 115,
     "metadata": {},
     "output_type": "execute_result"
    }
   ],
   "source": [
    "alpha = 1 / class_bins\n",
    "alpha = (alpha/alpha.max()) - 1e-4\n",
    "alpha"
   ]
  },
  {
   "cell_type": "code",
   "execution_count": 125,
   "metadata": {},
   "outputs": [],
   "source": [
    "criterion = FocalLoss(gamma=2, alpha=alpha)"
   ]
  },
  {
   "cell_type": "code",
   "execution_count": 134,
   "metadata": {},
   "outputs": [
    {
     "ename": "RuntimeError",
     "evalue": "CUDA error: device-side assert triggered\nCUDA kernel errors might be asynchronously reported at some other API call,so the stacktrace below might be incorrect.\nFor debugging consider passing CUDA_LAUNCH_BLOCKING=1.",
     "output_type": "error",
     "traceback": [
      "\u001b[1;31m---------------------------------------------------------------------------\u001b[0m",
      "\u001b[1;31mRuntimeError\u001b[0m                              Traceback (most recent call last)",
      "\u001b[1;32m~\\AppData\\Local\\Temp\\ipykernel_23688\\4160553820.py\u001b[0m in \u001b[0;36m<module>\u001b[1;34m\u001b[0m\n\u001b[1;32m----> 1\u001b[1;33m \u001b[0mcriterion\u001b[0m\u001b[1;33m(\u001b[0m\u001b[0mpreds\u001b[0m\u001b[1;33m.\u001b[0m\u001b[0mtranspose\u001b[0m\u001b[1;33m(\u001b[0m\u001b[1;36m2\u001b[0m\u001b[1;33m,\u001b[0m \u001b[1;36m1\u001b[0m\u001b[1;33m)\u001b[0m\u001b[1;33m,\u001b[0m \u001b[0mtargets\u001b[0m\u001b[1;33m)\u001b[0m\u001b[1;33m\u001b[0m\u001b[1;33m\u001b[0m\u001b[0m\n\u001b[0m",
      "\u001b[1;32mc:\\Users\\itber\\anaconda3\\lib\\site-packages\\torch\\nn\\modules\\module.py\u001b[0m in \u001b[0;36m_call_impl\u001b[1;34m(self, *input, **kwargs)\u001b[0m\n\u001b[0;32m   1108\u001b[0m         if not (self._backward_hooks or self._forward_hooks or self._forward_pre_hooks or _global_backward_hooks\n\u001b[0;32m   1109\u001b[0m                 or _global_forward_hooks or _global_forward_pre_hooks):\n\u001b[1;32m-> 1110\u001b[1;33m             \u001b[1;32mreturn\u001b[0m \u001b[0mforward_call\u001b[0m\u001b[1;33m(\u001b[0m\u001b[1;33m*\u001b[0m\u001b[0minput\u001b[0m\u001b[1;33m,\u001b[0m \u001b[1;33m**\u001b[0m\u001b[0mkwargs\u001b[0m\u001b[1;33m)\u001b[0m\u001b[1;33m\u001b[0m\u001b[1;33m\u001b[0m\u001b[0m\n\u001b[0m\u001b[0;32m   1111\u001b[0m         \u001b[1;31m# Do not call functions when jit is used\u001b[0m\u001b[1;33m\u001b[0m\u001b[1;33m\u001b[0m\u001b[1;33m\u001b[0m\u001b[0m\n\u001b[0;32m   1112\u001b[0m         \u001b[0mfull_backward_hooks\u001b[0m\u001b[1;33m,\u001b[0m \u001b[0mnon_full_backward_hooks\u001b[0m \u001b[1;33m=\u001b[0m \u001b[1;33m[\u001b[0m\u001b[1;33m]\u001b[0m\u001b[1;33m,\u001b[0m \u001b[1;33m[\u001b[0m\u001b[1;33m]\u001b[0m\u001b[1;33m\u001b[0m\u001b[1;33m\u001b[0m\u001b[0m\n",
      "\u001b[1;32m~\\AppData\\Local\\Temp\\ipykernel_23688\\1782378470.py\u001b[0m in \u001b[0;36mforward\u001b[1;34m(self, input, target)\u001b[0m\n\u001b[0;32m     14\u001b[0m             \u001b[0minput\u001b[0m \u001b[1;33m=\u001b[0m \u001b[0minput\u001b[0m\u001b[1;33m.\u001b[0m\u001b[0mview\u001b[0m\u001b[1;33m(\u001b[0m\u001b[0minput\u001b[0m\u001b[1;33m.\u001b[0m\u001b[0msize\u001b[0m\u001b[1;33m(\u001b[0m\u001b[1;36m0\u001b[0m\u001b[1;33m)\u001b[0m\u001b[1;33m,\u001b[0m\u001b[0minput\u001b[0m\u001b[1;33m.\u001b[0m\u001b[0msize\u001b[0m\u001b[1;33m(\u001b[0m\u001b[1;36m1\u001b[0m\u001b[1;33m)\u001b[0m\u001b[1;33m,\u001b[0m\u001b[1;33m-\u001b[0m\u001b[1;36m1\u001b[0m\u001b[1;33m)\u001b[0m  \u001b[1;31m# N,C,H,W => N,C,H*W\u001b[0m\u001b[1;33m\u001b[0m\u001b[1;33m\u001b[0m\u001b[0m\n\u001b[0;32m     15\u001b[0m             \u001b[0minput\u001b[0m \u001b[1;33m=\u001b[0m \u001b[0minput\u001b[0m\u001b[1;33m.\u001b[0m\u001b[0mtranspose\u001b[0m\u001b[1;33m(\u001b[0m\u001b[1;36m1\u001b[0m\u001b[1;33m,\u001b[0m\u001b[1;36m2\u001b[0m\u001b[1;33m)\u001b[0m    \u001b[1;31m# N,C,H*W => N,H*W,C\u001b[0m\u001b[1;33m\u001b[0m\u001b[1;33m\u001b[0m\u001b[0m\n\u001b[1;32m---> 16\u001b[1;33m             \u001b[0minput\u001b[0m \u001b[1;33m=\u001b[0m \u001b[0minput\u001b[0m\u001b[1;33m.\u001b[0m\u001b[0mcontiguous\u001b[0m\u001b[1;33m(\u001b[0m\u001b[1;33m)\u001b[0m\u001b[1;33m.\u001b[0m\u001b[0mview\u001b[0m\u001b[1;33m(\u001b[0m\u001b[1;33m-\u001b[0m\u001b[1;36m1\u001b[0m\u001b[1;33m,\u001b[0m\u001b[0minput\u001b[0m\u001b[1;33m.\u001b[0m\u001b[0msize\u001b[0m\u001b[1;33m(\u001b[0m\u001b[1;36m2\u001b[0m\u001b[1;33m)\u001b[0m\u001b[1;33m)\u001b[0m   \u001b[1;31m# N,H*W,C => N*H*W,C\u001b[0m\u001b[1;33m\u001b[0m\u001b[1;33m\u001b[0m\u001b[0m\n\u001b[0m\u001b[0;32m     17\u001b[0m         \u001b[0mtarget\u001b[0m \u001b[1;33m=\u001b[0m \u001b[0mtarget\u001b[0m\u001b[1;33m.\u001b[0m\u001b[0mview\u001b[0m\u001b[1;33m(\u001b[0m\u001b[1;33m-\u001b[0m\u001b[1;36m1\u001b[0m\u001b[1;33m,\u001b[0m\u001b[1;36m1\u001b[0m\u001b[1;33m)\u001b[0m\u001b[1;33m\u001b[0m\u001b[1;33m\u001b[0m\u001b[0m\n\u001b[0;32m     18\u001b[0m \u001b[1;33m\u001b[0m\u001b[0m\n",
      "\u001b[1;31mRuntimeError\u001b[0m: CUDA error: device-side assert triggered\nCUDA kernel errors might be asynchronously reported at some other API call,so the stacktrace below might be incorrect.\nFor debugging consider passing CUDA_LAUNCH_BLOCKING=1."
     ]
    }
   ],
   "source": [
    "criterion(preds.transpose(2, 1), targets)"
   ]
  },
  {
   "cell_type": "code",
   "execution_count": 129,
   "metadata": {},
   "outputs": [
    {
     "data": {
      "text/plain": [
       "torch.Size([10, 14, 10000])"
      ]
     },
     "execution_count": 129,
     "metadata": {},
     "output_type": "execute_result"
    }
   ],
   "source": [
    "preds.transpose(2, 1).shape"
   ]
  },
  {
   "cell_type": "code",
   "execution_count": 135,
   "metadata": {},
   "outputs": [],
   "source": [
    "a = 123"
   ]
  },
  {
   "cell_type": "code",
   "execution_count": 128,
   "metadata": {},
   "outputs": [
    {
     "data": {
      "text/plain": [
       "torch.Size([10, 10000])"
      ]
     },
     "execution_count": 128,
     "metadata": {},
     "output_type": "execute_result"
    }
   ],
   "source": [
    "targets.shape"
   ]
  },
  {
   "cell_type": "code",
   "execution_count": 132,
   "metadata": {},
   "outputs": [
    {
     "ename": "RuntimeError",
     "evalue": "CUDA error: device-side assert triggered\nCUDA kernel errors might be asynchronously reported at some other API call,so the stacktrace below might be incorrect.\nFor debugging consider passing CUDA_LAUNCH_BLOCKING=1.",
     "output_type": "error",
     "traceback": [
      "\u001b[1;31m---------------------------------------------------------------------------\u001b[0m",
      "\u001b[1;31mRuntimeError\u001b[0m                              Traceback (most recent call last)",
      "\u001b[1;32mc:\\Users\\itber\\anaconda3\\lib\\site-packages\\IPython\\core\\formatters.py\u001b[0m in \u001b[0;36m__call__\u001b[1;34m(self, obj)\u001b[0m\n\u001b[0;32m    700\u001b[0m                 \u001b[0mtype_pprinters\u001b[0m\u001b[1;33m=\u001b[0m\u001b[0mself\u001b[0m\u001b[1;33m.\u001b[0m\u001b[0mtype_printers\u001b[0m\u001b[1;33m,\u001b[0m\u001b[1;33m\u001b[0m\u001b[1;33m\u001b[0m\u001b[0m\n\u001b[0;32m    701\u001b[0m                 deferred_pprinters=self.deferred_printers)\n\u001b[1;32m--> 702\u001b[1;33m             \u001b[0mprinter\u001b[0m\u001b[1;33m.\u001b[0m\u001b[0mpretty\u001b[0m\u001b[1;33m(\u001b[0m\u001b[0mobj\u001b[0m\u001b[1;33m)\u001b[0m\u001b[1;33m\u001b[0m\u001b[1;33m\u001b[0m\u001b[0m\n\u001b[0m\u001b[0;32m    703\u001b[0m             \u001b[0mprinter\u001b[0m\u001b[1;33m.\u001b[0m\u001b[0mflush\u001b[0m\u001b[1;33m(\u001b[0m\u001b[1;33m)\u001b[0m\u001b[1;33m\u001b[0m\u001b[1;33m\u001b[0m\u001b[0m\n\u001b[0;32m    704\u001b[0m             \u001b[1;32mreturn\u001b[0m \u001b[0mstream\u001b[0m\u001b[1;33m.\u001b[0m\u001b[0mgetvalue\u001b[0m\u001b[1;33m(\u001b[0m\u001b[1;33m)\u001b[0m\u001b[1;33m\u001b[0m\u001b[1;33m\u001b[0m\u001b[0m\n",
      "\u001b[1;32mc:\\Users\\itber\\anaconda3\\lib\\site-packages\\IPython\\lib\\pretty.py\u001b[0m in \u001b[0;36mpretty\u001b[1;34m(self, obj)\u001b[0m\n\u001b[0;32m    392\u001b[0m                         \u001b[1;32mif\u001b[0m \u001b[0mcls\u001b[0m \u001b[1;32mis\u001b[0m \u001b[1;32mnot\u001b[0m \u001b[0mobject\u001b[0m\u001b[0;31m \u001b[0m\u001b[0;31m\\\u001b[0m\u001b[1;33m\u001b[0m\u001b[1;33m\u001b[0m\u001b[0m\n\u001b[0;32m    393\u001b[0m                                 \u001b[1;32mand\u001b[0m \u001b[0mcallable\u001b[0m\u001b[1;33m(\u001b[0m\u001b[0mcls\u001b[0m\u001b[1;33m.\u001b[0m\u001b[0m__dict__\u001b[0m\u001b[1;33m.\u001b[0m\u001b[0mget\u001b[0m\u001b[1;33m(\u001b[0m\u001b[1;34m'__repr__'\u001b[0m\u001b[1;33m)\u001b[0m\u001b[1;33m)\u001b[0m\u001b[1;33m:\u001b[0m\u001b[1;33m\u001b[0m\u001b[1;33m\u001b[0m\u001b[0m\n\u001b[1;32m--> 394\u001b[1;33m                             \u001b[1;32mreturn\u001b[0m \u001b[0m_repr_pprint\u001b[0m\u001b[1;33m(\u001b[0m\u001b[0mobj\u001b[0m\u001b[1;33m,\u001b[0m \u001b[0mself\u001b[0m\u001b[1;33m,\u001b[0m \u001b[0mcycle\u001b[0m\u001b[1;33m)\u001b[0m\u001b[1;33m\u001b[0m\u001b[1;33m\u001b[0m\u001b[0m\n\u001b[0m\u001b[0;32m    395\u001b[0m \u001b[1;33m\u001b[0m\u001b[0m\n\u001b[0;32m    396\u001b[0m             \u001b[1;32mreturn\u001b[0m \u001b[0m_default_pprint\u001b[0m\u001b[1;33m(\u001b[0m\u001b[0mobj\u001b[0m\u001b[1;33m,\u001b[0m \u001b[0mself\u001b[0m\u001b[1;33m,\u001b[0m \u001b[0mcycle\u001b[0m\u001b[1;33m)\u001b[0m\u001b[1;33m\u001b[0m\u001b[1;33m\u001b[0m\u001b[0m\n",
      "\u001b[1;32mc:\\Users\\itber\\anaconda3\\lib\\site-packages\\IPython\\lib\\pretty.py\u001b[0m in \u001b[0;36m_repr_pprint\u001b[1;34m(obj, p, cycle)\u001b[0m\n\u001b[0;32m    698\u001b[0m     \u001b[1;34m\"\"\"A pprint that just redirects to the normal repr function.\"\"\"\u001b[0m\u001b[1;33m\u001b[0m\u001b[1;33m\u001b[0m\u001b[0m\n\u001b[0;32m    699\u001b[0m     \u001b[1;31m# Find newlines and replace them with p.break_()\u001b[0m\u001b[1;33m\u001b[0m\u001b[1;33m\u001b[0m\u001b[1;33m\u001b[0m\u001b[0m\n\u001b[1;32m--> 700\u001b[1;33m     \u001b[0moutput\u001b[0m \u001b[1;33m=\u001b[0m \u001b[0mrepr\u001b[0m\u001b[1;33m(\u001b[0m\u001b[0mobj\u001b[0m\u001b[1;33m)\u001b[0m\u001b[1;33m\u001b[0m\u001b[1;33m\u001b[0m\u001b[0m\n\u001b[0m\u001b[0;32m    701\u001b[0m     \u001b[0mlines\u001b[0m \u001b[1;33m=\u001b[0m \u001b[0moutput\u001b[0m\u001b[1;33m.\u001b[0m\u001b[0msplitlines\u001b[0m\u001b[1;33m(\u001b[0m\u001b[1;33m)\u001b[0m\u001b[1;33m\u001b[0m\u001b[1;33m\u001b[0m\u001b[0m\n\u001b[0;32m    702\u001b[0m     \u001b[1;32mwith\u001b[0m \u001b[0mp\u001b[0m\u001b[1;33m.\u001b[0m\u001b[0mgroup\u001b[0m\u001b[1;33m(\u001b[0m\u001b[1;33m)\u001b[0m\u001b[1;33m:\u001b[0m\u001b[1;33m\u001b[0m\u001b[1;33m\u001b[0m\u001b[0m\n",
      "\u001b[1;32mc:\\Users\\itber\\anaconda3\\lib\\site-packages\\torch\\_tensor.py\u001b[0m in \u001b[0;36m__repr__\u001b[1;34m(self)\u001b[0m\n\u001b[0;32m    303\u001b[0m             \u001b[1;32mreturn\u001b[0m \u001b[0mhandle_torch_function\u001b[0m\u001b[1;33m(\u001b[0m\u001b[0mTensor\u001b[0m\u001b[1;33m.\u001b[0m\u001b[0m__repr__\u001b[0m\u001b[1;33m,\u001b[0m \u001b[1;33m(\u001b[0m\u001b[0mself\u001b[0m\u001b[1;33m,\u001b[0m\u001b[1;33m)\u001b[0m\u001b[1;33m,\u001b[0m \u001b[0mself\u001b[0m\u001b[1;33m)\u001b[0m\u001b[1;33m\u001b[0m\u001b[1;33m\u001b[0m\u001b[0m\n\u001b[0;32m    304\u001b[0m         \u001b[1;31m# All strings are unicode in Python 3.\u001b[0m\u001b[1;33m\u001b[0m\u001b[1;33m\u001b[0m\u001b[1;33m\u001b[0m\u001b[0m\n\u001b[1;32m--> 305\u001b[1;33m         \u001b[1;32mreturn\u001b[0m \u001b[0mtorch\u001b[0m\u001b[1;33m.\u001b[0m\u001b[0m_tensor_str\u001b[0m\u001b[1;33m.\u001b[0m\u001b[0m_str\u001b[0m\u001b[1;33m(\u001b[0m\u001b[0mself\u001b[0m\u001b[1;33m)\u001b[0m\u001b[1;33m\u001b[0m\u001b[1;33m\u001b[0m\u001b[0m\n\u001b[0m\u001b[0;32m    306\u001b[0m \u001b[1;33m\u001b[0m\u001b[0m\n\u001b[0;32m    307\u001b[0m     \u001b[1;32mdef\u001b[0m \u001b[0mbackward\u001b[0m\u001b[1;33m(\u001b[0m\u001b[0mself\u001b[0m\u001b[1;33m,\u001b[0m \u001b[0mgradient\u001b[0m\u001b[1;33m=\u001b[0m\u001b[1;32mNone\u001b[0m\u001b[1;33m,\u001b[0m \u001b[0mretain_graph\u001b[0m\u001b[1;33m=\u001b[0m\u001b[1;32mNone\u001b[0m\u001b[1;33m,\u001b[0m \u001b[0mcreate_graph\u001b[0m\u001b[1;33m=\u001b[0m\u001b[1;32mFalse\u001b[0m\u001b[1;33m,\u001b[0m \u001b[0minputs\u001b[0m\u001b[1;33m=\u001b[0m\u001b[1;32mNone\u001b[0m\u001b[1;33m)\u001b[0m\u001b[1;33m:\u001b[0m\u001b[1;33m\u001b[0m\u001b[1;33m\u001b[0m\u001b[0m\n",
      "\u001b[1;32mc:\\Users\\itber\\anaconda3\\lib\\site-packages\\torch\\_tensor_str.py\u001b[0m in \u001b[0;36m_str\u001b[1;34m(self)\u001b[0m\n\u001b[0;32m    432\u001b[0m \u001b[1;32mdef\u001b[0m \u001b[0m_str\u001b[0m\u001b[1;33m(\u001b[0m\u001b[0mself\u001b[0m\u001b[1;33m)\u001b[0m\u001b[1;33m:\u001b[0m\u001b[1;33m\u001b[0m\u001b[1;33m\u001b[0m\u001b[0m\n\u001b[0;32m    433\u001b[0m     \u001b[1;32mwith\u001b[0m \u001b[0mtorch\u001b[0m\u001b[1;33m.\u001b[0m\u001b[0mno_grad\u001b[0m\u001b[1;33m(\u001b[0m\u001b[1;33m)\u001b[0m\u001b[1;33m:\u001b[0m\u001b[1;33m\u001b[0m\u001b[1;33m\u001b[0m\u001b[0m\n\u001b[1;32m--> 434\u001b[1;33m         \u001b[1;32mreturn\u001b[0m \u001b[0m_str_intern\u001b[0m\u001b[1;33m(\u001b[0m\u001b[0mself\u001b[0m\u001b[1;33m)\u001b[0m\u001b[1;33m\u001b[0m\u001b[1;33m\u001b[0m\u001b[0m\n\u001b[0m",
      "\u001b[1;32mc:\\Users\\itber\\anaconda3\\lib\\site-packages\\torch\\_tensor_str.py\u001b[0m in \u001b[0;36m_str_intern\u001b[1;34m(inp)\u001b[0m\n\u001b[0;32m    407\u001b[0m                     \u001b[0mtensor_str\u001b[0m \u001b[1;33m=\u001b[0m \u001b[0m_tensor_str\u001b[0m\u001b[1;33m(\u001b[0m\u001b[0mself\u001b[0m\u001b[1;33m.\u001b[0m\u001b[0mto_dense\u001b[0m\u001b[1;33m(\u001b[0m\u001b[1;33m)\u001b[0m\u001b[1;33m,\u001b[0m \u001b[0mindent\u001b[0m\u001b[1;33m)\u001b[0m\u001b[1;33m\u001b[0m\u001b[1;33m\u001b[0m\u001b[0m\n\u001b[0;32m    408\u001b[0m                 \u001b[1;32melse\u001b[0m\u001b[1;33m:\u001b[0m\u001b[1;33m\u001b[0m\u001b[1;33m\u001b[0m\u001b[0m\n\u001b[1;32m--> 409\u001b[1;33m                     \u001b[0mtensor_str\u001b[0m \u001b[1;33m=\u001b[0m \u001b[0m_tensor_str\u001b[0m\u001b[1;33m(\u001b[0m\u001b[0mself\u001b[0m\u001b[1;33m,\u001b[0m \u001b[0mindent\u001b[0m\u001b[1;33m)\u001b[0m\u001b[1;33m\u001b[0m\u001b[1;33m\u001b[0m\u001b[0m\n\u001b[0m\u001b[0;32m    410\u001b[0m \u001b[1;33m\u001b[0m\u001b[0m\n\u001b[0;32m    411\u001b[0m     \u001b[1;32mif\u001b[0m \u001b[0mself\u001b[0m\u001b[1;33m.\u001b[0m\u001b[0mlayout\u001b[0m \u001b[1;33m!=\u001b[0m \u001b[0mtorch\u001b[0m\u001b[1;33m.\u001b[0m\u001b[0mstrided\u001b[0m\u001b[1;33m:\u001b[0m\u001b[1;33m\u001b[0m\u001b[1;33m\u001b[0m\u001b[0m\n",
      "\u001b[1;32mc:\\Users\\itber\\anaconda3\\lib\\site-packages\\torch\\_tensor_str.py\u001b[0m in \u001b[0;36m_tensor_str\u001b[1;34m(self, indent)\u001b[0m\n\u001b[0;32m    262\u001b[0m         \u001b[1;32mreturn\u001b[0m \u001b[0m_tensor_str_with_formatter\u001b[0m\u001b[1;33m(\u001b[0m\u001b[0mself\u001b[0m\u001b[1;33m,\u001b[0m \u001b[0mindent\u001b[0m\u001b[1;33m,\u001b[0m \u001b[0msummarize\u001b[0m\u001b[1;33m,\u001b[0m \u001b[0mreal_formatter\u001b[0m\u001b[1;33m,\u001b[0m \u001b[0mimag_formatter\u001b[0m\u001b[1;33m)\u001b[0m\u001b[1;33m\u001b[0m\u001b[1;33m\u001b[0m\u001b[0m\n\u001b[0;32m    263\u001b[0m     \u001b[1;32melse\u001b[0m\u001b[1;33m:\u001b[0m\u001b[1;33m\u001b[0m\u001b[1;33m\u001b[0m\u001b[0m\n\u001b[1;32m--> 264\u001b[1;33m         \u001b[0mformatter\u001b[0m \u001b[1;33m=\u001b[0m \u001b[0m_Formatter\u001b[0m\u001b[1;33m(\u001b[0m\u001b[0mget_summarized_data\u001b[0m\u001b[1;33m(\u001b[0m\u001b[0mself\u001b[0m\u001b[1;33m)\u001b[0m \u001b[1;32mif\u001b[0m \u001b[0msummarize\u001b[0m \u001b[1;32melse\u001b[0m \u001b[0mself\u001b[0m\u001b[1;33m)\u001b[0m\u001b[1;33m\u001b[0m\u001b[1;33m\u001b[0m\u001b[0m\n\u001b[0m\u001b[0;32m    265\u001b[0m         \u001b[1;32mreturn\u001b[0m \u001b[0m_tensor_str_with_formatter\u001b[0m\u001b[1;33m(\u001b[0m\u001b[0mself\u001b[0m\u001b[1;33m,\u001b[0m \u001b[0mindent\u001b[0m\u001b[1;33m,\u001b[0m \u001b[0msummarize\u001b[0m\u001b[1;33m,\u001b[0m \u001b[0mformatter\u001b[0m\u001b[1;33m)\u001b[0m\u001b[1;33m\u001b[0m\u001b[1;33m\u001b[0m\u001b[0m\n\u001b[0;32m    266\u001b[0m \u001b[1;33m\u001b[0m\u001b[0m\n",
      "\u001b[1;32mc:\\Users\\itber\\anaconda3\\lib\\site-packages\\torch\\_tensor_str.py\u001b[0m in \u001b[0;36mget_summarized_data\u001b[1;34m(self)\u001b[0m\n\u001b[0;32m    294\u001b[0m         end = ([self[i]\n\u001b[0;32m    295\u001b[0m                for i in range(len(self) - PRINT_OPTS.edgeitems, len(self))])\n\u001b[1;32m--> 296\u001b[1;33m         \u001b[1;32mreturn\u001b[0m \u001b[0mtorch\u001b[0m\u001b[1;33m.\u001b[0m\u001b[0mstack\u001b[0m\u001b[1;33m(\u001b[0m\u001b[1;33m[\u001b[0m\u001b[0mget_summarized_data\u001b[0m\u001b[1;33m(\u001b[0m\u001b[0mx\u001b[0m\u001b[1;33m)\u001b[0m \u001b[1;32mfor\u001b[0m \u001b[0mx\u001b[0m \u001b[1;32min\u001b[0m \u001b[1;33m(\u001b[0m\u001b[0mstart\u001b[0m \u001b[1;33m+\u001b[0m \u001b[0mend\u001b[0m\u001b[1;33m)\u001b[0m\u001b[1;33m]\u001b[0m\u001b[1;33m)\u001b[0m\u001b[1;33m\u001b[0m\u001b[1;33m\u001b[0m\u001b[0m\n\u001b[0m\u001b[0;32m    297\u001b[0m     \u001b[1;32melse\u001b[0m\u001b[1;33m:\u001b[0m\u001b[1;33m\u001b[0m\u001b[1;33m\u001b[0m\u001b[0m\n\u001b[0;32m    298\u001b[0m         \u001b[1;32mreturn\u001b[0m \u001b[0mtorch\u001b[0m\u001b[1;33m.\u001b[0m\u001b[0mstack\u001b[0m\u001b[1;33m(\u001b[0m\u001b[1;33m[\u001b[0m\u001b[0mget_summarized_data\u001b[0m\u001b[1;33m(\u001b[0m\u001b[0mx\u001b[0m\u001b[1;33m)\u001b[0m \u001b[1;32mfor\u001b[0m \u001b[0mx\u001b[0m \u001b[1;32min\u001b[0m \u001b[0mself\u001b[0m\u001b[1;33m]\u001b[0m\u001b[1;33m)\u001b[0m\u001b[1;33m\u001b[0m\u001b[1;33m\u001b[0m\u001b[0m\n",
      "\u001b[1;32mc:\\Users\\itber\\anaconda3\\lib\\site-packages\\torch\\_tensor_str.py\u001b[0m in \u001b[0;36m<listcomp>\u001b[1;34m(.0)\u001b[0m\n\u001b[0;32m    294\u001b[0m         end = ([self[i]\n\u001b[0;32m    295\u001b[0m                for i in range(len(self) - PRINT_OPTS.edgeitems, len(self))])\n\u001b[1;32m--> 296\u001b[1;33m         \u001b[1;32mreturn\u001b[0m \u001b[0mtorch\u001b[0m\u001b[1;33m.\u001b[0m\u001b[0mstack\u001b[0m\u001b[1;33m(\u001b[0m\u001b[1;33m[\u001b[0m\u001b[0mget_summarized_data\u001b[0m\u001b[1;33m(\u001b[0m\u001b[0mx\u001b[0m\u001b[1;33m)\u001b[0m \u001b[1;32mfor\u001b[0m \u001b[0mx\u001b[0m \u001b[1;32min\u001b[0m \u001b[1;33m(\u001b[0m\u001b[0mstart\u001b[0m \u001b[1;33m+\u001b[0m \u001b[0mend\u001b[0m\u001b[1;33m)\u001b[0m\u001b[1;33m]\u001b[0m\u001b[1;33m)\u001b[0m\u001b[1;33m\u001b[0m\u001b[1;33m\u001b[0m\u001b[0m\n\u001b[0m\u001b[0;32m    297\u001b[0m     \u001b[1;32melse\u001b[0m\u001b[1;33m:\u001b[0m\u001b[1;33m\u001b[0m\u001b[1;33m\u001b[0m\u001b[0m\n\u001b[0;32m    298\u001b[0m         \u001b[1;32mreturn\u001b[0m \u001b[0mtorch\u001b[0m\u001b[1;33m.\u001b[0m\u001b[0mstack\u001b[0m\u001b[1;33m(\u001b[0m\u001b[1;33m[\u001b[0m\u001b[0mget_summarized_data\u001b[0m\u001b[1;33m(\u001b[0m\u001b[0mx\u001b[0m\u001b[1;33m)\u001b[0m \u001b[1;32mfor\u001b[0m \u001b[0mx\u001b[0m \u001b[1;32min\u001b[0m \u001b[0mself\u001b[0m\u001b[1;33m]\u001b[0m\u001b[1;33m)\u001b[0m\u001b[1;33m\u001b[0m\u001b[1;33m\u001b[0m\u001b[0m\n",
      "\u001b[1;32mc:\\Users\\itber\\anaconda3\\lib\\site-packages\\torch\\_tensor_str.py\u001b[0m in \u001b[0;36mget_summarized_data\u001b[1;34m(self)\u001b[0m\n\u001b[0;32m    294\u001b[0m         end = ([self[i]\n\u001b[0;32m    295\u001b[0m                for i in range(len(self) - PRINT_OPTS.edgeitems, len(self))])\n\u001b[1;32m--> 296\u001b[1;33m         \u001b[1;32mreturn\u001b[0m \u001b[0mtorch\u001b[0m\u001b[1;33m.\u001b[0m\u001b[0mstack\u001b[0m\u001b[1;33m(\u001b[0m\u001b[1;33m[\u001b[0m\u001b[0mget_summarized_data\u001b[0m\u001b[1;33m(\u001b[0m\u001b[0mx\u001b[0m\u001b[1;33m)\u001b[0m \u001b[1;32mfor\u001b[0m \u001b[0mx\u001b[0m \u001b[1;32min\u001b[0m \u001b[1;33m(\u001b[0m\u001b[0mstart\u001b[0m \u001b[1;33m+\u001b[0m \u001b[0mend\u001b[0m\u001b[1;33m)\u001b[0m\u001b[1;33m]\u001b[0m\u001b[1;33m)\u001b[0m\u001b[1;33m\u001b[0m\u001b[1;33m\u001b[0m\u001b[0m\n\u001b[0m\u001b[0;32m    297\u001b[0m     \u001b[1;32melse\u001b[0m\u001b[1;33m:\u001b[0m\u001b[1;33m\u001b[0m\u001b[1;33m\u001b[0m\u001b[0m\n\u001b[0;32m    298\u001b[0m         \u001b[1;32mreturn\u001b[0m \u001b[0mtorch\u001b[0m\u001b[1;33m.\u001b[0m\u001b[0mstack\u001b[0m\u001b[1;33m(\u001b[0m\u001b[1;33m[\u001b[0m\u001b[0mget_summarized_data\u001b[0m\u001b[1;33m(\u001b[0m\u001b[0mx\u001b[0m\u001b[1;33m)\u001b[0m \u001b[1;32mfor\u001b[0m \u001b[0mx\u001b[0m \u001b[1;32min\u001b[0m \u001b[0mself\u001b[0m\u001b[1;33m]\u001b[0m\u001b[1;33m)\u001b[0m\u001b[1;33m\u001b[0m\u001b[1;33m\u001b[0m\u001b[0m\n",
      "\u001b[1;32mc:\\Users\\itber\\anaconda3\\lib\\site-packages\\torch\\_tensor_str.py\u001b[0m in \u001b[0;36m<listcomp>\u001b[1;34m(.0)\u001b[0m\n\u001b[0;32m    294\u001b[0m         end = ([self[i]\n\u001b[0;32m    295\u001b[0m                for i in range(len(self) - PRINT_OPTS.edgeitems, len(self))])\n\u001b[1;32m--> 296\u001b[1;33m         \u001b[1;32mreturn\u001b[0m \u001b[0mtorch\u001b[0m\u001b[1;33m.\u001b[0m\u001b[0mstack\u001b[0m\u001b[1;33m(\u001b[0m\u001b[1;33m[\u001b[0m\u001b[0mget_summarized_data\u001b[0m\u001b[1;33m(\u001b[0m\u001b[0mx\u001b[0m\u001b[1;33m)\u001b[0m \u001b[1;32mfor\u001b[0m \u001b[0mx\u001b[0m \u001b[1;32min\u001b[0m \u001b[1;33m(\u001b[0m\u001b[0mstart\u001b[0m \u001b[1;33m+\u001b[0m \u001b[0mend\u001b[0m\u001b[1;33m)\u001b[0m\u001b[1;33m]\u001b[0m\u001b[1;33m)\u001b[0m\u001b[1;33m\u001b[0m\u001b[1;33m\u001b[0m\u001b[0m\n\u001b[0m\u001b[0;32m    297\u001b[0m     \u001b[1;32melse\u001b[0m\u001b[1;33m:\u001b[0m\u001b[1;33m\u001b[0m\u001b[1;33m\u001b[0m\u001b[0m\n\u001b[0;32m    298\u001b[0m         \u001b[1;32mreturn\u001b[0m \u001b[0mtorch\u001b[0m\u001b[1;33m.\u001b[0m\u001b[0mstack\u001b[0m\u001b[1;33m(\u001b[0m\u001b[1;33m[\u001b[0m\u001b[0mget_summarized_data\u001b[0m\u001b[1;33m(\u001b[0m\u001b[0mx\u001b[0m\u001b[1;33m)\u001b[0m \u001b[1;32mfor\u001b[0m \u001b[0mx\u001b[0m \u001b[1;32min\u001b[0m \u001b[0mself\u001b[0m\u001b[1;33m]\u001b[0m\u001b[1;33m)\u001b[0m\u001b[1;33m\u001b[0m\u001b[1;33m\u001b[0m\u001b[0m\n",
      "\u001b[1;32mc:\\Users\\itber\\anaconda3\\lib\\site-packages\\torch\\_tensor_str.py\u001b[0m in \u001b[0;36mget_summarized_data\u001b[1;34m(self)\u001b[0m\n\u001b[0;32m    287\u001b[0m     \u001b[1;32mif\u001b[0m \u001b[0mdim\u001b[0m \u001b[1;33m==\u001b[0m \u001b[1;36m1\u001b[0m\u001b[1;33m:\u001b[0m\u001b[1;33m\u001b[0m\u001b[1;33m\u001b[0m\u001b[0m\n\u001b[0;32m    288\u001b[0m         \u001b[1;32mif\u001b[0m \u001b[0mself\u001b[0m\u001b[1;33m.\u001b[0m\u001b[0msize\u001b[0m\u001b[1;33m(\u001b[0m\u001b[1;36m0\u001b[0m\u001b[1;33m)\u001b[0m \u001b[1;33m>\u001b[0m \u001b[1;36m2\u001b[0m \u001b[1;33m*\u001b[0m \u001b[0mPRINT_OPTS\u001b[0m\u001b[1;33m.\u001b[0m\u001b[0medgeitems\u001b[0m\u001b[1;33m:\u001b[0m\u001b[1;33m\u001b[0m\u001b[1;33m\u001b[0m\u001b[0m\n\u001b[1;32m--> 289\u001b[1;33m             \u001b[1;32mreturn\u001b[0m \u001b[0mtorch\u001b[0m\u001b[1;33m.\u001b[0m\u001b[0mcat\u001b[0m\u001b[1;33m(\u001b[0m\u001b[1;33m(\u001b[0m\u001b[0mself\u001b[0m\u001b[1;33m[\u001b[0m\u001b[1;33m:\u001b[0m\u001b[0mPRINT_OPTS\u001b[0m\u001b[1;33m.\u001b[0m\u001b[0medgeitems\u001b[0m\u001b[1;33m]\u001b[0m\u001b[1;33m,\u001b[0m \u001b[0mself\u001b[0m\u001b[1;33m[\u001b[0m\u001b[1;33m-\u001b[0m\u001b[0mPRINT_OPTS\u001b[0m\u001b[1;33m.\u001b[0m\u001b[0medgeitems\u001b[0m\u001b[1;33m:\u001b[0m\u001b[1;33m]\u001b[0m\u001b[1;33m)\u001b[0m\u001b[1;33m)\u001b[0m\u001b[1;33m\u001b[0m\u001b[1;33m\u001b[0m\u001b[0m\n\u001b[0m\u001b[0;32m    290\u001b[0m         \u001b[1;32melse\u001b[0m\u001b[1;33m:\u001b[0m\u001b[1;33m\u001b[0m\u001b[1;33m\u001b[0m\u001b[0m\n\u001b[0;32m    291\u001b[0m             \u001b[1;32mreturn\u001b[0m \u001b[0mself\u001b[0m\u001b[1;33m\u001b[0m\u001b[1;33m\u001b[0m\u001b[0m\n",
      "\u001b[1;31mRuntimeError\u001b[0m: CUDA error: device-side assert triggered\nCUDA kernel errors might be asynchronously reported at some other API call,so the stacktrace below might be incorrect.\nFor debugging consider passing CUDA_LAUNCH_BLOCKING=1."
     ]
    }
   ],
   "source": [
    "preds"
   ]
  },
  {
   "cell_type": "code",
   "execution_count": 131,
   "metadata": {},
   "outputs": [
    {
     "ename": "TypeError",
     "evalue": "log_softmax() received an invalid combination of arguments - got (Tensor), but expected one of:\n * (Tensor input, int dim, torch.dtype dtype)\n * (Tensor input, name dim, *, torch.dtype dtype)\n",
     "output_type": "error",
     "traceback": [
      "\u001b[1;31m---------------------------------------------------------------------------\u001b[0m",
      "\u001b[1;31mTypeError\u001b[0m                                 Traceback (most recent call last)",
      "\u001b[1;32m~\\AppData\\Local\\Temp\\ipykernel_23688\\2203932587.py\u001b[0m in \u001b[0;36m<module>\u001b[1;34m\u001b[0m\n\u001b[1;32m----> 1\u001b[1;33m \u001b[0mtorch\u001b[0m\u001b[1;33m.\u001b[0m\u001b[0mlog_softmax\u001b[0m\u001b[1;33m(\u001b[0m\u001b[0mpreds\u001b[0m\u001b[1;33m)\u001b[0m\u001b[1;33m\u001b[0m\u001b[1;33m\u001b[0m\u001b[0m\n\u001b[0m",
      "\u001b[1;31mTypeError\u001b[0m: log_softmax() received an invalid combination of arguments - got (Tensor), but expected one of:\n * (Tensor input, int dim, torch.dtype dtype)\n * (Tensor input, name dim, *, torch.dtype dtype)\n"
     ]
    }
   ],
   "source": [
    "torch.log_softmax(preds)"
   ]
  },
  {
   "cell_type": "code",
   "execution_count": 11,
   "metadata": {},
   "outputs": [],
   "source": [
    "import torch.nn as nn \n",
    "import torch.optim as optim\n",
    "if torch.cuda.is_available():\n",
    "    import torch.backends.cudnn as cudnn\n",
    "\n",
    "optimizer = optim.Adam(seg_model.parameters(), lr=0.01)\n",
    "criterion = FocalLoss(gamma=2, alpha=)\n",
    "\n",
    "seg_model = seg_model.to(device)"
   ]
  },
  {
   "attachments": {},
   "cell_type": "markdown",
   "metadata": {},
   "source": [
    "For our training we will want to quantify how well our model is performing. Typically we look at loss and accuracy, but for this segmentation problem we will need a mteric that accounts for incorrect classifcation as well as correct classification. The Matthews Correlation Coefficent does this and we will use it to quantify our performance. The MCC ranges from -1 to 1, to understand what the MCC is reporting:\n",
    "- 0 indicates a random guess\n",
    "- -1 is the worst possible performance\n",
    "- 1 is the best possible performance"
   ]
  },
  {
   "cell_type": "code",
   "execution_count": 12,
   "metadata": {},
   "outputs": [],
   "source": [
    "mcc_metric = MulticlassMatthewsCorrCoef(num_classes=NUM_CLASSES).to(device)"
   ]
  },
  {
   "cell_type": "code",
   "execution_count": 153,
   "metadata": {},
   "outputs": [
    {
     "name": "stdout",
     "output_type": "stream",
     "text": [
      "\t [1: 0/274] train loss: 2.708304 accuracy: 0.123093 mcc: 0.046623\n",
      "\t [1: 100/274] train loss: 1.186648 accuracy: 0.639877 mcc: 0.553613\n",
      "\t [1: 200/274] train loss: 1.023315 accuracy: 0.718338 mcc: 0.646939\n",
      "Epoch: 1 - Train Loss: 1.3292566804452377 - Train Accuracy: 0.5940490365028381 - Train MCC: 0.5059658076478676\n",
      "\t [1: 0/145] validation loss: 2306.324951 accuracy: 0.571732 mcc: 0.491121\n",
      "\t [1: 100/145] validation loss: 0.983163 accuracy: 0.739349 mcc: 0.670588\n",
      "Epoch: 1 - Validation Loss: 16.933285278000245 - Validation Accuracy: 0.6454542875289917 - Validation MCC: 0.5735057061665678\n",
      "\t [2: 0/274] train loss: 1.170918 accuracy: 0.607986 mcc: 0.507224\n",
      "\t [2: 100/274] train loss: 1.052689 accuracy: 0.659378 mcc: 0.585153\n",
      "\t [2: 200/274] train loss: 1.047759 accuracy: 0.704025 mcc: 0.636710\n",
      "Epoch: 2 - Train Loss: 1.1012760825590653 - Train Accuracy: 0.6609679460525513 - Train MCC: 0.5937104464660992\n",
      "\t [2: 0/145] validation loss: 1.156446 accuracy: 0.642670 mcc: 0.552939\n",
      "\t [2: 100/145] validation loss: 0.954436 accuracy: 0.683823 mcc: 0.627047\n",
      "Epoch: 2 - Validation Loss: 2.9267736193660188 - Validation Accuracy: 0.6789898872375488 - Validation MCC: 0.61590763701968\n",
      "\t [3: 0/274] train loss: 1.375280 accuracy: 0.544998 mcc: 0.482340\n",
      "\t [3: 100/274] train loss: 1.464901 accuracy: 0.541870 mcc: 0.447476\n",
      "\t [3: 200/274] train loss: 0.893225 accuracy: 0.702728 mcc: 0.650893\n",
      "Epoch: 3 - Train Loss: 1.0779411519657482 - Train Accuracy: 0.6664058566093445 - Train MCC: 0.6007119581916115\n",
      "\t [3: 0/145] validation loss: 0.707620 accuracy: 0.783340 mcc: 0.721361\n",
      "\t [3: 100/145] validation loss: 1.176571 accuracy: 0.686356 mcc: 0.618894\n",
      "Epoch: 3 - Validation Loss: 183.99719694746685 - Validation Accuracy: 0.6803250312805176 - Validation MCC: 0.6159347620320647\n",
      "\t [4: 0/274] train loss: 0.900734 accuracy: 0.757095 mcc: 0.702137\n",
      "\t [4: 100/274] train loss: 1.001563 accuracy: 0.605148 mcc: 0.561472\n",
      "\t [4: 200/274] train loss: 0.951145 accuracy: 0.711868 mcc: 0.654621\n",
      "Epoch: 4 - Train Loss: 1.0467150274190036 - Train Accuracy: 0.6736677885055542 - Train MCC: 0.6106091110272841\n",
      "\t [4: 0/145] validation loss: 1.053193 accuracy: 0.698364 mcc: 0.633581\n",
      "\t [4: 100/145] validation loss: 0.936405 accuracy: 0.722687 mcc: 0.641090\n",
      "Epoch: 4 - Validation Loss: 654.2236514062914 - Validation Accuracy: 0.6773619055747986 - Validation MCC: 0.6082264436026142\n",
      "\t [5: 0/274] train loss: 0.964179 accuracy: 0.674698 mcc: 0.612556\n",
      "\t [5: 100/274] train loss: 0.912858 accuracy: 0.709427 mcc: 0.660221\n",
      "\t [5: 200/274] train loss: 0.870189 accuracy: 0.758469 mcc: 0.691443\n",
      "Epoch: 5 - Train Loss: 1.0379114226861434 - Train Accuracy: 0.6732883453369141 - Train MCC: 0.6107339139418169\n",
      "\t [5: 0/145] validation loss: 1.005943 accuracy: 0.775192 mcc: 0.718302\n",
      "\t [5: 100/145] validation loss: 0.598177 accuracy: 0.834793 mcc: 0.783223\n",
      "Epoch: 5 - Validation Loss: 15277.07451752808 - Validation Accuracy: 0.6832454204559326 - Validation MCC: 0.6234011954232438\n",
      "\t [6: 0/274] train loss: 1.323937 accuracy: 0.569672 mcc: 0.496965\n",
      "\t [6: 100/274] train loss: 1.326584 accuracy: 0.583206 mcc: 0.547577\n",
      "\t [6: 200/274] train loss: 1.385193 accuracy: 0.613419 mcc: 0.533552\n",
      "Epoch: 6 - Train Loss: 1.044134030342102 - Train Accuracy: 0.6761069297790527 - Train MCC: 0.6157202385772358\n",
      "\t [6: 0/145] validation loss: 0.932262 accuracy: 0.728912 mcc: 0.665938\n",
      "\t [6: 100/145] validation loss: 0.966095 accuracy: 0.699905 mcc: 0.637024\n",
      "Epoch: 6 - Validation Loss: 1.1760764844613532 - Validation Accuracy: 0.6335518956184387 - Validation MCC: 0.5686536319043538\n",
      "\t [7: 0/274] train loss: 1.225803 accuracy: 0.626236 mcc: 0.560013\n",
      "\t [7: 100/274] train loss: 1.478823 accuracy: 0.576477 mcc: 0.469575\n",
      "\t [7: 200/274] train loss: 1.013488 accuracy: 0.703705 mcc: 0.632708\n",
      "Epoch: 7 - Train Loss: 1.0254118119586597 - Train Accuracy: 0.679598331451416 - Train MCC: 0.6202589715610851\n",
      "\t [7: 0/145] validation loss: 1.010541 accuracy: 0.674026 mcc: 0.632001\n",
      "\t [7: 100/145] validation loss: 0.989046 accuracy: 0.703568 mcc: 0.637765\n",
      "Epoch: 7 - Validation Loss: 26605179.361891706 - Validation Accuracy: 0.6965948939323425 - Validation MCC: 0.6386335285967344\n",
      "\t [8: 0/274] train loss: 1.301654 accuracy: 0.579788 mcc: 0.500295\n",
      "\t [8: 100/274] train loss: 0.933060 accuracy: 0.670151 mcc: 0.620253\n",
      "\t [8: 200/274] train loss: 0.985968 accuracy: 0.694992 mcc: 0.638174\n",
      "Epoch: 8 - Train Loss: 1.0074104636365717 - Train Accuracy: 0.6817703247070312 - Train MCC: 0.6229789725216952\n",
      "\t [8: 0/145] validation loss: 0.822572 accuracy: 0.720108 mcc: 0.659464\n",
      "\t [8: 100/145] validation loss: 0.888826 accuracy: 0.782272 mcc: 0.722372\n",
      "Epoch: 8 - Validation Loss: 221795.35193709316 - Validation Accuracy: 0.6966275572776794 - Validation MCC: 0.6392860085996863\n",
      "\t [9: 0/274] train loss: 1.082056 accuracy: 0.635712 mcc: 0.583921\n",
      "\t [9: 100/274] train loss: 1.336639 accuracy: 0.599640 mcc: 0.528698\n",
      "\t [9: 200/274] train loss: 0.974747 accuracy: 0.647491 mcc: 0.593848\n",
      "Epoch: 9 - Train Loss: 0.9670352680032903 - Train Accuracy: 0.6886492967605591 - Train MCC: 0.6294809743491087\n",
      "\t [9: 0/145] validation loss: 0.983550 accuracy: 0.656372 mcc: 0.618199\n",
      "\t [9: 100/145] validation loss: 1.174509 accuracy: 0.617676 mcc: 0.531477\n",
      "Epoch: 9 - Validation Loss: 478522645001.2605 - Validation Accuracy: 0.6900154948234558 - Validation MCC: 0.6340531367961675\n",
      "\t [10: 0/274] train loss: 0.720951 accuracy: 0.787735 mcc: 0.745139\n",
      "\t [10: 100/274] train loss: 1.031297 accuracy: 0.617203 mcc: 0.569909\n",
      "\t [10: 200/274] train loss: 0.817488 accuracy: 0.696808 mcc: 0.649182\n",
      "Epoch: 10 - Train Loss: 0.9512419091571461 - Train Accuracy: 0.6898149251937866 - Train MCC: 0.629308759841052\n",
      "\t [10: 0/145] validation loss: 0.736239 accuracy: 0.816681 mcc: 0.759919\n",
      "\t [10: 100/145] validation loss: 0.804785 accuracy: 0.711151 mcc: 0.638857\n",
      "Epoch: 10 - Validation Loss: 87353867.93258078 - Validation Accuracy: 0.7025755643844604 - Validation MCC: 0.6455738264812182\n",
      "\t [11: 0/274] train loss: 0.877708 accuracy: 0.725220 mcc: 0.673930\n",
      "\t [11: 100/274] train loss: 0.791379 accuracy: 0.718506 mcc: 0.656255\n",
      "\t [11: 200/274] train loss: 1.174141 accuracy: 0.644775 mcc: 0.575885\n",
      "Epoch: 11 - Train Loss: 0.9440932789715853 - Train Accuracy: 0.6895526051521301 - Train MCC: 0.6277929439327934\n",
      "\t [11: 0/145] validation loss: 1.775293 accuracy: 0.650818 mcc: 0.578340\n",
      "\t [11: 100/145] validation loss: 7.144743 accuracy: 0.659134 mcc: 0.578052\n",
      "Epoch: 11 - Validation Loss: 989272222839.467 - Validation Accuracy: 0.6478372812271118 - Validation MCC: 0.5713095054642795\n",
      "\t [12: 0/274] train loss: 0.857722 accuracy: 0.754211 mcc: 0.690447\n",
      "\t [12: 100/274] train loss: 1.050884 accuracy: 0.679474 mcc: 0.604996\n",
      "\t [12: 200/274] train loss: 0.872411 accuracy: 0.755081 mcc: 0.685995\n",
      "Epoch: 12 - Train Loss: 0.9265494786609303 - Train Accuracy: 0.6933549642562866 - Train MCC: 0.6322928460077806\n",
      "\t [12: 0/145] validation loss: 0.776858 accuracy: 0.732910 mcc: 0.664557\n",
      "\t [12: 100/145] validation loss: 1.052312 accuracy: 0.682602 mcc: 0.602982\n",
      "Epoch: 12 - Validation Loss: 19804666.39611702 - Validation Accuracy: 0.6793354153633118 - Validation MCC: 0.6072861827807884\n",
      "\t [13: 0/274] train loss: 1.033850 accuracy: 0.662659 mcc: 0.594788\n",
      "\t [13: 100/274] train loss: 0.899799 accuracy: 0.642609 mcc: 0.601650\n",
      "\t [13: 200/274] train loss: 0.900716 accuracy: 0.712662 mcc: 0.648180\n",
      "Epoch: 13 - Train Loss: 0.9346244391528042 - Train Accuracy: 0.6911935806274414 - Train MCC: 0.6293152010440827\n",
      "\t [13: 0/145] validation loss: 1.328459 accuracy: 0.540756 mcc: 0.490255\n",
      "\t [13: 100/145] validation loss: 0.815249 accuracy: 0.725586 mcc: 0.677301\n",
      "Epoch: 13 - Validation Loss: 19268665293.261684 - Validation Accuracy: 0.7011042833328247 - Validation MCC: 0.6423484272744557\n",
      "\t [14: 0/274] train loss: 0.921781 accuracy: 0.673294 mcc: 0.600531\n",
      "\t [14: 100/274] train loss: 0.779836 accuracy: 0.719849 mcc: 0.654784\n",
      "\t [14: 200/274] train loss: 1.079873 accuracy: 0.619217 mcc: 0.531388\n",
      "Epoch: 14 - Train Loss: 0.9148134508999911 - Train Accuracy: 0.6946761012077332 - Train MCC: 0.6342470736937089\n",
      "\t [14: 0/145] validation loss: 43953.757812 accuracy: 0.548431 mcc: 0.469297\n",
      "\t [14: 100/145] validation loss: 314.856415 accuracy: 0.581345 mcc: 0.480991\n",
      "Epoch: 14 - Validation Loss: 404608727675.5953 - Validation Accuracy: 0.6287257671356201 - Validation MCC: 0.54724057692371\n",
      "\t [15: 0/274] train loss: 0.948040 accuracy: 0.691849 mcc: 0.645787\n",
      "\t [15: 100/274] train loss: 0.849042 accuracy: 0.694489 mcc: 0.645544\n",
      "\t [15: 200/274] train loss: 0.789949 accuracy: 0.715759 mcc: 0.668229\n",
      "Epoch: 15 - Train Loss: 0.8918933755701238 - Train Accuracy: 0.701873242855072 - Train MCC: 0.642189077464017\n",
      "\t [15: 0/145] validation loss: 0.780270 accuracy: 0.755203 mcc: 0.702407\n",
      "\t [15: 100/145] validation loss: 0.996531 accuracy: 0.703827 mcc: 0.638426\n",
      "Epoch: 15 - Validation Loss: 78207081.73505373 - Validation Accuracy: 0.7072064280509949 - Validation MCC: 0.6421222419363178\n",
      "\t [16: 0/274] train loss: 1.001709 accuracy: 0.659180 mcc: 0.589257\n",
      "\t [16: 100/274] train loss: 0.742666 accuracy: 0.765732 mcc: 0.710972\n",
      "\t [16: 200/274] train loss: 1.167460 accuracy: 0.628281 mcc: 0.538059\n",
      "Epoch: 16 - Train Loss: 0.8833893396637656 - Train Accuracy: 0.7040509581565857 - Train MCC: 0.6441550065170635\n",
      "\t [16: 0/145] validation loss: 63.051582 accuracy: 0.727921 mcc: 0.656156\n",
      "\t [16: 100/145] validation loss: 322.428925 accuracy: 0.609634 mcc: 0.525603\n",
      "Epoch: 16 - Validation Loss: 146.19194263689323 - Validation Accuracy: 0.6999627947807312 - Validation MCC: 0.6407186329773028\n",
      "\t [17: 0/274] train loss: 0.872905 accuracy: 0.739105 mcc: 0.659764\n",
      "\t [17: 100/274] train loss: 0.791903 accuracy: 0.765823 mcc: 0.690461\n",
      "\t [17: 200/274] train loss: 1.066809 accuracy: 0.622070 mcc: 0.545414\n",
      "Epoch: 17 - Train Loss: 0.8684832093932412 - Train Accuracy: 0.7066767811775208 - Train MCC: 0.647076024684039\n",
      "\t [17: 0/145] validation loss: 1.030787 accuracy: 0.637421 mcc: 0.555668\n",
      "\t [17: 100/145] validation loss: 1.122371 accuracy: 0.587662 mcc: 0.532776\n",
      "Epoch: 17 - Validation Loss: 6322265.333497694 - Validation Accuracy: 0.6481161117553711 - Validation MCC: 0.5753861194195813\n",
      "\t [18: 0/274] train loss: 0.766419 accuracy: 0.737274 mcc: 0.666955\n",
      "\t [18: 100/274] train loss: 0.857859 accuracy: 0.707703 mcc: 0.633701\n",
      "\t [18: 200/274] train loss: 0.785279 accuracy: 0.673004 mcc: 0.617202\n",
      "Epoch: 18 - Train Loss: 0.870692595243454 - Train Accuracy: 0.7059044241905212 - Train MCC: 0.6464520001411438\n",
      "\t [18: 0/145] validation loss: 1.412377 accuracy: 0.518784 mcc: 0.427079\n",
      "\t [18: 100/145] validation loss: 1.068209 accuracy: 0.576523 mcc: 0.499212\n",
      "Epoch: 18 - Validation Loss: 4738647.136036596 - Validation Accuracy: 0.5492879748344421 - Validation MCC: 0.4651077597925108\n",
      "\t [19: 0/274] train loss: 1.029256 accuracy: 0.691376 mcc: 0.637872\n",
      "\t [19: 100/274] train loss: 1.078173 accuracy: 0.639328 mcc: 0.564697\n",
      "\t [19: 200/274] train loss: 0.735314 accuracy: 0.742615 mcc: 0.700166\n",
      "Epoch: 19 - Train Loss: 0.8603790864077482 - Train Accuracy: 0.7101841568946838 - Train MCC: 0.6514277937195517\n",
      "\t [19: 0/145] validation loss: 0.798222 accuracy: 0.740036 mcc: 0.694714\n",
      "\t [19: 100/145] validation loss: 0.766889 accuracy: 0.768799 mcc: 0.717099\n",
      "Epoch: 19 - Validation Loss: 70858462472.33002 - Validation Accuracy: 0.6975667476654053 - Validation MCC: 0.6404260241822021\n",
      "\t [20: 0/274] train loss: 0.862298 accuracy: 0.718246 mcc: 0.674057\n",
      "\t [20: 100/274] train loss: 0.964308 accuracy: 0.673431 mcc: 0.604948\n",
      "\t [20: 200/274] train loss: 0.916366 accuracy: 0.654495 mcc: 0.585744\n",
      "Epoch: 20 - Train Loss: 0.8415912112322721 - Train Accuracy: 0.7174035310745239 - Train MCC: 0.6600017964839935\n",
      "\t [20: 0/145] validation loss: 16.089846 accuracy: 0.603043 mcc: 0.528047\n",
      "\t [20: 100/145] validation loss: 78.476761 accuracy: 0.744537 mcc: 0.684325\n",
      "Epoch: 20 - Validation Loss: 428310.2525107718 - Validation Accuracy: 0.6529005765914917 - Validation MCC: 0.5793876886776049\n",
      "\t [21: 0/274] train loss: 0.758884 accuracy: 0.754776 mcc: 0.710716\n",
      "\t [21: 100/274] train loss: 0.978683 accuracy: 0.754303 mcc: 0.690675\n",
      "\t [21: 200/274] train loss: 1.056180 accuracy: 0.669968 mcc: 0.618681\n",
      "Epoch: 21 - Train Loss: 0.8252064141360196 - Train Accuracy: 0.7204840779304504 - Train MCC: 0.6633955642310055\n",
      "\t [21: 0/145] validation loss: 0.941508 accuracy: 0.704041 mcc: 0.651660\n",
      "\t [21: 100/145] validation loss: 0.736653 accuracy: 0.762970 mcc: 0.712218\n",
      "Epoch: 21 - Validation Loss: 1192086.0190122838 - Validation Accuracy: 0.7185463905334473 - Validation MCC: 0.6581783809073983\n",
      "\t [22: 0/274] train loss: 0.748252 accuracy: 0.714996 mcc: 0.642312\n",
      "\t [22: 100/274] train loss: 0.692983 accuracy: 0.779800 mcc: 0.735716\n",
      "\t [22: 200/274] train loss: 0.945046 accuracy: 0.694763 mcc: 0.626450\n",
      "Epoch: 22 - Train Loss: 0.8241429376602173 - Train Accuracy: 0.7216717600822449 - Train MCC: 0.6647845192389055\n",
      "\t [22: 0/145] validation loss: 0.944409 accuracy: 0.725983 mcc: 0.672637\n",
      "\t [22: 100/145] validation loss: 0.790355 accuracy: 0.765381 mcc: 0.717327\n",
      "Epoch: 22 - Validation Loss: 55474.9508806116 - Validation Accuracy: 0.7242044806480408 - Validation MCC: 0.6686078416158076\n",
      "\t [23: 0/274] train loss: 1.004572 accuracy: 0.649368 mcc: 0.596805\n",
      "\t [23: 100/274] train loss: 0.826424 accuracy: 0.716568 mcc: 0.666134\n",
      "\t [23: 200/274] train loss: 0.995040 accuracy: 0.600357 mcc: 0.545215\n",
      "Epoch: 23 - Train Loss: 0.8139217098192735 - Train Accuracy: 0.7268319725990295 - Train MCC: 0.6709317380731756\n",
      "\t [23: 0/145] validation loss: 0.808999 accuracy: 0.677963 mcc: 0.611622\n",
      "\t [23: 100/145] validation loss: 0.733397 accuracy: 0.743195 mcc: 0.687301\n",
      "Epoch: 23 - Validation Loss: 9303.006477269 - Validation Accuracy: 0.7192753553390503 - Validation MCC: 0.659519153302663\n",
      "\t [24: 0/274] train loss: 0.824804 accuracy: 0.718643 mcc: 0.622179\n",
      "\t [24: 100/274] train loss: 0.480390 accuracy: 0.867874 mcc: 0.830960\n",
      "\t [24: 200/274] train loss: 0.836736 accuracy: 0.747711 mcc: 0.669619\n",
      "Epoch: 24 - Train Loss: 0.8029686364260586 - Train Accuracy: 0.7300461530685425 - Train MCC: 0.674123362086036\n",
      "\t [24: 0/145] validation loss: 0.615977 accuracy: 0.813477 mcc: 0.761399\n",
      "\t [24: 100/145] validation loss: 1.375539 accuracy: 0.542297 mcc: 0.453096\n",
      "Epoch: 24 - Validation Loss: 26224.90742412087 - Validation Accuracy: 0.6955322623252869 - Validation MCC: 0.6314935888329597\n"
     ]
    }
   ],
   "source": [
    "# stuff for training\n",
    "num_train_batch = len(s3dis_train)/BATCH_SIZE \n",
    "num_valid_batch = len(s3dis_valid)/BATCH_SIZE \n",
    "\n",
    "# lists to store metrics\n",
    "train_loss = []\n",
    "train_accuracy = []\n",
    "train_mcc = []\n",
    "valid_loss = []\n",
    "valid_accuracy = []\n",
    "valid_mcc = []\n",
    "\n",
    "for epoch in range(1, EPOCHS + 1):\n",
    "    # place model in training mode\n",
    "    seg_model = seg_model.train()\n",
    "    _train_loss = []\n",
    "    _train_accuracy = []\n",
    "    _train_mcc = []\n",
    "    for i, (points, targets) in enumerate(train_dataloader, 0):\n",
    "\n",
    "        points = points.transpose(2, 1).to(device)\n",
    "        targets = targets.squeeze().to(device)\n",
    "        \n",
    "        # zero gradients\n",
    "        optimizer.zero_grad()\n",
    "        \n",
    "        # get predicted class logits\n",
    "        preds, _, A = seg_model(points)\n",
    "        \n",
    "        # compute regularization term to enforce orthogonality on the feature Transformation\n",
    "        # I = torch.eye(64).unsqueeze(0).repeat(A.shape[0], 1, 1).to(device)\n",
    "        # reg = torch.linalg.norm(I - torch.bmm(A, A.transpose(2, 1)))\n",
    "\n",
    "        # get loss and perform backprop\n",
    "        loss = criterion(preds.transpose(2, 1), targets) # + reg\n",
    "        loss.backward()\n",
    "        optimizer.step()\n",
    "        \n",
    "        # get class predictions\n",
    "        pred_choice = torch.softmax(preds, dim=2).argmax(dim=2)\n",
    "        correct = pred_choice.eq(targets.data).cpu().sum()\n",
    "        accuracy = correct/float(BATCH_SIZE*NUM_TRAIN_POINTS)\n",
    "        mcc = mcc_metric(preds.transpose(2, 1), targets)\n",
    "\n",
    "        # update epoch loss and accuracy\n",
    "        _train_loss.append(loss.item())\n",
    "        _train_accuracy.append(accuracy)\n",
    "        _train_mcc.append(mcc.item())\n",
    "\n",
    "        if i % 100 == 0:\n",
    "            print('\\t [%d: %d/%d] train loss: %f accuracy: %f mcc: %f' \\\n",
    "                  % (epoch, i, num_train_batch, loss.item(), accuracy, mcc))\n",
    "        \n",
    "    train_loss.append(np.mean(_train_loss))\n",
    "    train_accuracy.append(np.mean(_train_accuracy))\n",
    "    train_mcc.append(np.mean(_train_mcc))\n",
    "\n",
    "    print(f'Epoch: {epoch} - Train Loss: {train_loss[-1]} ' \\\n",
    "          + f'- Train Accuracy: {train_accuracy[-1]} ' \\\n",
    "          + f'- Train MCC: {train_mcc[-1]}')\n",
    "\n",
    "    # pause to cool down\n",
    "    time.sleep(4)\n",
    "\n",
    "    # get test results after each epoch\n",
    "    with torch.no_grad():\n",
    "\n",
    "        # place model in evaluation mode\n",
    "        seg_model = seg_model.eval()\n",
    "\n",
    "        _valid_loss = []\n",
    "        _valid_accuracy = []\n",
    "        _valid_mcc = []\n",
    "        for i, (points, targets) in enumerate(valid_dataloader, 0):\n",
    "\n",
    "            points = points.transpose(2, 1).to(device)\n",
    "            targets = targets.squeeze().to(device)\n",
    "\n",
    "            preds, _, A = seg_model(points)\n",
    "\n",
    "            # compute regularization term to enforce orthogonality on the feature Transformation\n",
    "            # I = torch.eye(64).unsqueeze(0).repeat(A.shape[0], 1, 1).to(device)\n",
    "            # reg = torch.linalg.norm(I - torch.bmm(A, A.transpose(2, 1)))\n",
    "\n",
    "            loss = criterion(preds.transpose(2, 1), targets) # + reg\n",
    "\n",
    "            pred_choice = torch.softmax(preds, dim=2).argmax(dim=2)\n",
    "            correct = pred_choice.eq(targets.data).cpu().sum()\n",
    "            accuracy = correct/float(BATCH_SIZE*NUM_TRAIN_POINTS)\n",
    "            mcc = mcc_metric(preds.transpose(2, 1), targets)\n",
    "\n",
    "            # update epoch loss and accuracy\n",
    "            _valid_loss.append(loss.item())\n",
    "            _valid_accuracy.append(accuracy)\n",
    "            _valid_mcc.append(mcc.item())\n",
    "\n",
    "            if i % 100 == 0:\n",
    "                print('\\t [%d: %d/%d] %s loss: %f accuracy: %f mcc: %f' \\\n",
    "                      % (epoch, i, num_valid_batch, 'validation', loss.item(), accuracy, mcc))\n",
    "        \n",
    "        valid_loss.append(np.mean(_valid_loss))\n",
    "        valid_accuracy.append(np.mean(_valid_accuracy))\n",
    "        valid_mcc.append(np.mean(_valid_mcc))\n",
    "        print(f'Epoch: {epoch} - Validation Loss: {valid_loss[-1]} ' \\\n",
    "              + f'- Validation Accuracy: {valid_accuracy[-1]} ' \\\n",
    "              + f'- Validation MCC: {valid_mcc[-1]}')\n",
    "\n",
    "        # pause to cool down\n",
    "        time.sleep(4)\n",
    "    # TEMP\n",
    "    # print(STOP)\n",
    "\n",
    "    torch.save(seg_model.state_dict(), f'seg_noreg/seg_model_{epoch}.pth')"
   ]
  },
  {
   "attachments": {},
   "cell_type": "markdown",
   "metadata": {},
   "source": [
    "Let's plot the training metrics"
   ]
  },
  {
   "cell_type": "code",
   "execution_count": 166,
   "metadata": {},
   "outputs": [
    {
     "data": {
      "text/plain": [
       "[<matplotlib.lines.Line2D at 0x1702ace8580>]"
      ]
     },
     "execution_count": 166,
     "metadata": {},
     "output_type": "execute_result"
    },
    {
     "data": {
      "image/png": "[encoded data removed]",
      "text/plain": [
       "<Figure size 800x500 with 2 Axes>"
      ]
     },
     "metadata": {},
     "output_type": "display_data"
    }
   ],
   "source": [
    "_, ax = plt.subplots(2, 1, figsize=(8, 5))\n",
    "ax[0].plot(train_accuracy)\n",
    "ax[0].plot(valid_accuracy)\n",
    "\n",
    "ax[1].plot(train_mcc)\n",
    "ax[1].plot(valid_mcc)"
   ]
  },
  {
   "cell_type": "code",
   "execution_count": 168,
   "metadata": {},
   "outputs": [
    {
     "data": {
      "text/plain": [
       "21"
      ]
     },
     "execution_count": 168,
     "metadata": {},
     "output_type": "execute_result"
    }
   ],
   "source": [
    "np.argmax(valid_mcc)"
   ]
  },
  {
   "attachments": {},
   "cell_type": "markdown",
   "metadata": {},
   "source": [
    "### Test the model"
   ]
  },
  {
   "attachments": {},
   "cell_type": "markdown",
   "metadata": {},
   "source": [
    "Upload model from disk. The best model was 21 (actually 22 since we need to account for zero indexing)"
   ]
  },
  {
   "cell_type": "code",
   "execution_count": 19,
   "metadata": {},
   "outputs": [],
   "source": [
    "MODEL_PATH = 'seg_noreg/seg_model_22.pth'\n",
    "\n",
    "model = PointNetSegHead(num_points=NUM_TEST_POINTS, m=NUM_CLASSES).to(device)\n",
    "model.load_state_dict(torch.load(MODEL_PATH))\n",
    "model.eval();"
   ]
  },
  {
   "attachments": {},
   "cell_type": "markdown",
   "metadata": {},
   "source": [
    "#### Implement Quick test to gather metrics"
   ]
  },
  {
   "cell_type": "code",
   "execution_count": 63,
   "metadata": {},
   "outputs": [
    {
     "name": "stdout",
     "output_type": "stream",
     "text": [
      "\t [0/71] test loss: 16297419776.000000 accuracy: 0.529037 mcc: 0.477067\n",
      "\t [50/71] test loss: 24418680832.000000 accuracy: 0.583319 mcc: 0.518947\n",
      "Test Loss: 42981061871.48179 - Test Accuracy: 0.5650807619094849 - Test MCC: 0.49528303204311264\n"
     ]
    }
   ],
   "source": [
    "num_test_batch = len(s3dis_test)/BATCH_SIZE \n",
    "\n",
    "total_test_targets = []\n",
    "total_test_preds = [] \n",
    "\n",
    "with torch.no_grad():\n",
    "\n",
    "    # place model in evaluation mode\n",
    "    model = model.eval()\n",
    "\n",
    "    test_loss = []\n",
    "    test_accuracy = []\n",
    "    test_mcc = []\n",
    "    for i, (points, targets) in enumerate(test_dataloader, 0):\n",
    "\n",
    "        points = points.transpose(2, 1).to(device)\n",
    "        targets = targets.squeeze().to(device)\n",
    "\n",
    "        preds, _, A = model(points)\n",
    "\n",
    "        # compute regularization term to enforce orthogonality on the feature Transformation\n",
    "        # I = torch.eye(64).unsqueeze(0).repeat(A.shape[0], 1, 1).to(device)\n",
    "        # reg = torch.linalg.norm(I - torch.bmm(A, A.transpose(2, 1)))\n",
    "\n",
    "        loss = criterion(preds.transpose(2, 1), targets) # + reg\n",
    "\n",
    "        pred_choice = torch.softmax(preds, dim=2).argmax(dim=2)\n",
    "        correct = pred_choice.eq(targets.data).cpu().sum()\n",
    "        accuracy = correct/float(BATCH_SIZE*NUM_TEST_POINTS)\n",
    "        mcc = mcc_metric(preds.transpose(2, 1), targets)\n",
    "\n",
    "        # update epoch loss and accuracy\n",
    "        test_loss.append(loss.item())\n",
    "        test_accuracy.append(accuracy)\n",
    "        test_mcc.append(mcc.item())\n",
    "\n",
    "        # add to total targets/preds\n",
    "        total_test_targets += targets.reshape(-1).cpu().numpy().tolist()\n",
    "        total_test_preds += pred_choice.reshape(-1).cpu().numpy().tolist()\n",
    "\n",
    "        if i % 50 == 0:\n",
    "            print('\\t [%d/%d] test loss: %f accuracy: %f mcc: %f' \\\n",
    "                    % (i, num_test_batch, loss.item(), accuracy, mcc))\n",
    "\n",
    "# display test results\n",
    "print(f'Test Loss: {np.mean(test_loss)} ' \\\n",
    "        + f'- Test Accuracy: {np.mean(test_accuracy)} ' \\\n",
    "        + f'- Test MCC: {np.mean(test_mcc)}')"
   ]
  },
  {
   "cell_type": "code",
   "execution_count": 64,
   "metadata": {},
   "outputs": [],
   "source": [
    "total_test_targets = np.array(total_test_targets)\n",
    "total_test_preds = np.array(total_test_preds)"
   ]
  },
  {
   "attachments": {},
   "cell_type": "markdown",
   "metadata": {},
   "source": [
    "#### Get Confusion Matrix for Test data"
   ]
  },
  {
   "cell_type": "code",
   "execution_count": 69,
   "metadata": {},
   "outputs": [
    {
     "data": {
      "text/html": [
       "<div>\n",
       "<style scoped>\n",
       "    .dataframe tbody tr th:only-of-type {\n",
       "        vertical-align: middle;\n",
       "    }\n",
       "\n",
       "    .dataframe tbody tr th {\n",
       "        vertical-align: top;\n",
       "    }\n",
       "\n",
       "    .dataframe thead th {\n",
       "        text-align: right;\n",
       "    }\n",
       "</style>\n",
       "<table border=\"1\" class=\"dataframe\">\n",
       "  <thead>\n",
       "    <tr style=\"text-align: right;\">\n",
       "      <th></th>\n",
       "      <th>ceiling</th>\n",
       "      <th>floor</th>\n",
       "      <th>wall</th>\n",
       "      <th>beam</th>\n",
       "      <th>column</th>\n",
       "      <th>window</th>\n",
       "      <th>door</th>\n",
       "      <th>table</th>\n",
       "      <th>chair</th>\n",
       "      <th>sofa</th>\n",
       "      <th>bookcase</th>\n",
       "      <th>board</th>\n",
       "      <th>stairs</th>\n",
       "      <th>clutter</th>\n",
       "    </tr>\n",
       "  </thead>\n",
       "  <tbody>\n",
       "    <tr>\n",
       "      <th>ceiling</th>\n",
       "      <td>1978676</td>\n",
       "      <td>16600</td>\n",
       "      <td>51767</td>\n",
       "      <td>6683</td>\n",
       "      <td>103</td>\n",
       "      <td>9154</td>\n",
       "      <td>0</td>\n",
       "      <td>2113</td>\n",
       "      <td>3585</td>\n",
       "      <td>0</td>\n",
       "      <td>125</td>\n",
       "      <td>0</td>\n",
       "      <td>17323</td>\n",
       "      <td>415292</td>\n",
       "    </tr>\n",
       "    <tr>\n",
       "      <th>floor</th>\n",
       "      <td>6136</td>\n",
       "      <td>1947107</td>\n",
       "      <td>7250</td>\n",
       "      <td>0</td>\n",
       "      <td>0</td>\n",
       "      <td>0</td>\n",
       "      <td>0</td>\n",
       "      <td>0</td>\n",
       "      <td>348</td>\n",
       "      <td>0</td>\n",
       "      <td>0</td>\n",
       "      <td>0</td>\n",
       "      <td>13332</td>\n",
       "      <td>211651</td>\n",
       "    </tr>\n",
       "    <tr>\n",
       "      <th>wall</th>\n",
       "      <td>33441</td>\n",
       "      <td>50190</td>\n",
       "      <td>1255620</td>\n",
       "      <td>74884</td>\n",
       "      <td>1372</td>\n",
       "      <td>53651</td>\n",
       "      <td>269</td>\n",
       "      <td>28264</td>\n",
       "      <td>41413</td>\n",
       "      <td>6</td>\n",
       "      <td>45726</td>\n",
       "      <td>0</td>\n",
       "      <td>21789</td>\n",
       "      <td>805983</td>\n",
       "    </tr>\n",
       "    <tr>\n",
       "      <th>beam</th>\n",
       "      <td>28107</td>\n",
       "      <td>610</td>\n",
       "      <td>70957</td>\n",
       "      <td>305650</td>\n",
       "      <td>0</td>\n",
       "      <td>0</td>\n",
       "      <td>76</td>\n",
       "      <td>872</td>\n",
       "      <td>0</td>\n",
       "      <td>0</td>\n",
       "      <td>285</td>\n",
       "      <td>0</td>\n",
       "      <td>2505</td>\n",
       "      <td>59259</td>\n",
       "    </tr>\n",
       "    <tr>\n",
       "      <th>column</th>\n",
       "      <td>900</td>\n",
       "      <td>7018</td>\n",
       "      <td>282961</td>\n",
       "      <td>2016</td>\n",
       "      <td>2812</td>\n",
       "      <td>15610</td>\n",
       "      <td>0</td>\n",
       "      <td>506</td>\n",
       "      <td>305</td>\n",
       "      <td>0</td>\n",
       "      <td>1555</td>\n",
       "      <td>0</td>\n",
       "      <td>0</td>\n",
       "      <td>16381</td>\n",
       "    </tr>\n",
       "    <tr>\n",
       "      <th>window</th>\n",
       "      <td>1595</td>\n",
       "      <td>4000</td>\n",
       "      <td>70702</td>\n",
       "      <td>0</td>\n",
       "      <td>0</td>\n",
       "      <td>85453</td>\n",
       "      <td>0</td>\n",
       "      <td>4835</td>\n",
       "      <td>363</td>\n",
       "      <td>6</td>\n",
       "      <td>501</td>\n",
       "      <td>0</td>\n",
       "      <td>7338</td>\n",
       "      <td>60756</td>\n",
       "    </tr>\n",
       "    <tr>\n",
       "      <th>door</th>\n",
       "      <td>56</td>\n",
       "      <td>15658</td>\n",
       "      <td>499988</td>\n",
       "      <td>48332</td>\n",
       "      <td>0</td>\n",
       "      <td>0</td>\n",
       "      <td>4782</td>\n",
       "      <td>1028</td>\n",
       "      <td>5804</td>\n",
       "      <td>0</td>\n",
       "      <td>5692</td>\n",
       "      <td>0</td>\n",
       "      <td>298</td>\n",
       "      <td>27684</td>\n",
       "    </tr>\n",
       "    <tr>\n",
       "      <th>table</th>\n",
       "      <td>3114</td>\n",
       "      <td>14332</td>\n",
       "      <td>20994</td>\n",
       "      <td>0</td>\n",
       "      <td>0</td>\n",
       "      <td>582</td>\n",
       "      <td>0</td>\n",
       "      <td>76157</td>\n",
       "      <td>109989</td>\n",
       "      <td>0</td>\n",
       "      <td>4187</td>\n",
       "      <td>0</td>\n",
       "      <td>1358</td>\n",
       "      <td>287563</td>\n",
       "    </tr>\n",
       "    <tr>\n",
       "      <th>chair</th>\n",
       "      <td>79</td>\n",
       "      <td>31587</td>\n",
       "      <td>21664</td>\n",
       "      <td>0</td>\n",
       "      <td>0</td>\n",
       "      <td>23</td>\n",
       "      <td>0</td>\n",
       "      <td>9038</td>\n",
       "      <td>316191</td>\n",
       "      <td>0</td>\n",
       "      <td>779</td>\n",
       "      <td>0</td>\n",
       "      <td>37</td>\n",
       "      <td>63695</td>\n",
       "    </tr>\n",
       "    <tr>\n",
       "      <th>sofa</th>\n",
       "      <td>0</td>\n",
       "      <td>5511</td>\n",
       "      <td>2600</td>\n",
       "      <td>0</td>\n",
       "      <td>0</td>\n",
       "      <td>0</td>\n",
       "      <td>0</td>\n",
       "      <td>514</td>\n",
       "      <td>27305</td>\n",
       "      <td>0</td>\n",
       "      <td>194</td>\n",
       "      <td>0</td>\n",
       "      <td>0</td>\n",
       "      <td>11806</td>\n",
       "    </tr>\n",
       "    <tr>\n",
       "      <th>bookcase</th>\n",
       "      <td>226</td>\n",
       "      <td>9423</td>\n",
       "      <td>156526</td>\n",
       "      <td>6317</td>\n",
       "      <td>0</td>\n",
       "      <td>31</td>\n",
       "      <td>187</td>\n",
       "      <td>12620</td>\n",
       "      <td>22194</td>\n",
       "      <td>0</td>\n",
       "      <td>34429</td>\n",
       "      <td>0</td>\n",
       "      <td>93</td>\n",
       "      <td>73699</td>\n",
       "    </tr>\n",
       "    <tr>\n",
       "      <th>board</th>\n",
       "      <td>565</td>\n",
       "      <td>1024</td>\n",
       "      <td>108786</td>\n",
       "      <td>198</td>\n",
       "      <td>0</td>\n",
       "      <td>78</td>\n",
       "      <td>0</td>\n",
       "      <td>850</td>\n",
       "      <td>334</td>\n",
       "      <td>0</td>\n",
       "      <td>539</td>\n",
       "      <td>0</td>\n",
       "      <td>2310</td>\n",
       "      <td>35334</td>\n",
       "    </tr>\n",
       "    <tr>\n",
       "      <th>stairs</th>\n",
       "      <td>10885</td>\n",
       "      <td>4</td>\n",
       "      <td>3638</td>\n",
       "      <td>0</td>\n",
       "      <td>0</td>\n",
       "      <td>0</td>\n",
       "      <td>0</td>\n",
       "      <td>0</td>\n",
       "      <td>2569</td>\n",
       "      <td>0</td>\n",
       "      <td>0</td>\n",
       "      <td>0</td>\n",
       "      <td>562</td>\n",
       "      <td>4629</td>\n",
       "    </tr>\n",
       "    <tr>\n",
       "      <th>clutter</th>\n",
       "      <td>300740</td>\n",
       "      <td>27959</td>\n",
       "      <td>202125</td>\n",
       "      <td>20014</td>\n",
       "      <td>1237</td>\n",
       "      <td>5316</td>\n",
       "      <td>83</td>\n",
       "      <td>36639</td>\n",
       "      <td>86497</td>\n",
       "      <td>0</td>\n",
       "      <td>23532</td>\n",
       "      <td>0</td>\n",
       "      <td>13109</td>\n",
       "      <td>502291</td>\n",
       "    </tr>\n",
       "  </tbody>\n",
       "</table>\n",
       "</div>"
      ],
      "text/plain": [
       "          ceiling    floor     wall    beam  column  window  door  table  \\\n",
       "ceiling   1978676    16600    51767    6683     103    9154     0   2113   \n",
       "floor        6136  1947107     7250       0       0       0     0      0   \n",
       "wall        33441    50190  1255620   74884    1372   53651   269  28264   \n",
       "beam        28107      610    70957  305650       0       0    76    872   \n",
       "column        900     7018   282961    2016    2812   15610     0    506   \n",
       "window       1595     4000    70702       0       0   85453     0   4835   \n",
       "door           56    15658   499988   48332       0       0  4782   1028   \n",
       "table        3114    14332    20994       0       0     582     0  76157   \n",
       "chair          79    31587    21664       0       0      23     0   9038   \n",
       "sofa            0     5511     2600       0       0       0     0    514   \n",
       "bookcase      226     9423   156526    6317       0      31   187  12620   \n",
       "board         565     1024   108786     198       0      78     0    850   \n",
       "stairs      10885        4     3638       0       0       0     0      0   \n",
       "clutter    300740    27959   202125   20014    1237    5316    83  36639   \n",
       "\n",
       "           chair  sofa  bookcase  board  stairs  clutter  \n",
       "ceiling     3585     0       125      0   17323   415292  \n",
       "floor        348     0         0      0   13332   211651  \n",
       "wall       41413     6     45726      0   21789   805983  \n",
       "beam           0     0       285      0    2505    59259  \n",
       "column       305     0      1555      0       0    16381  \n",
       "window       363     6       501      0    7338    60756  \n",
       "door        5804     0      5692      0     298    27684  \n",
       "table     109989     0      4187      0    1358   287563  \n",
       "chair     316191     0       779      0      37    63695  \n",
       "sofa       27305     0       194      0       0    11806  \n",
       "bookcase   22194     0     34429      0      93    73699  \n",
       "board        334     0       539      0    2310    35334  \n",
       "stairs      2569     0         0      0     562     4629  \n",
       "clutter    86497     0     23532      0   13109   502291  "
      ]
     },
     "execution_count": 69,
     "metadata": {},
     "output_type": "execute_result"
    }
   ],
   "source": [
    "from sklearn.metrics import confusion_matrix\n",
    "\n",
    "test_confusion = pd.DataFrame(confusion_matrix(total_test_targets, total_test_preds),\n",
    "                              columns=list(CATEGORIES.keys()),\n",
    "                              index=list(CATEGORIES.keys()))\n",
    "\n",
    "test_confusion"
   ]
  },
  {
   "attachments": {},
   "cell_type": "markdown",
   "metadata": {},
   "source": [
    "#### View test results on full space"
   ]
  },
  {
   "cell_type": "code",
   "execution_count": null,
   "metadata": {},
   "outputs": [],
   "source": [
    "torch.cuda.empty_cache() # release GPU memory\n",
    "points, targets = s3dis_test.get_random_partitioned_space()\n",
    "\n",
    "# place on device\n",
    "points = points.to(device)\n",
    "targets = targets.to(device)\n",
    "\n",
    "# Normalize each partitioned Point Cloud to (0, 1)\n",
    "norm_points = points.clone()\n",
    "norm_points = norm_points - norm_points.min(axis=1)[0].unsqueeze(1)\n",
    "norm_points /= norm_points.max(axis=1)[0].unsqueeze(1)\n",
    "\n",
    "with torch.no_grad():\n",
    "\n",
    "    norm_points = norm_points.transpose(2, 1)\n",
    "    targets = targets.squeeze()\n",
    "\n",
    "    preds, _, A = model(norm_points)\n",
    "\n",
    "    pred_choice = torch.softmax(preds, dim=2).argmax(dim=2)\n",
    "    correct = pred_choice.eq(targets.data).cpu().sum()\n",
    "    accuracy = correct/float(points.shape[0]*NUM_TEST_POINTS)\n",
    "    mcc = mcc_metric(preds.transpose(2, 1), targets)"
   ]
  },
  {
   "attachments": {},
   "cell_type": "markdown",
   "metadata": {},
   "source": [
    "Display the truth and predictions"
   ]
  },
  {
   "cell_type": "code",
   "execution_count": 22,
   "metadata": {},
   "outputs": [
    {
     "data": {
      "application/vnd.jupyter.widget-view+json": {
       "model_id": "a28f2963762348fbb6e17647127376eb",
       "version_major": 2,
       "version_minor": 0
      },
      "text/plain": [
       "WebVisualizer(window_uid='window_4')"
      ]
     },
     "metadata": {},
     "output_type": "display_data"
    }
   ],
   "source": [
    "pcd = o3.geometry.PointCloud()\n",
    "pcd.points = o3.utility.Vector3dVector(points.permute(2, 0, 1).reshape(3, -1).to('cpu').T)\n",
    "pcd.colors = o3.utility.Vector3dVector(np.vstack(v_map_colors(targets.reshape(-1).to('cpu'))).T/255)\n",
    "\n",
    "draw(pcd)"
   ]
  },
  {
   "cell_type": "code",
   "execution_count": 17,
   "metadata": {},
   "outputs": [
    {
     "data": {
      "application/vnd.jupyter.widget-view+json": {
       "model_id": "a69cde49b3074973a4135a7b912547f1",
       "version_major": 2,
       "version_minor": 0
      },
      "text/plain": [
       "WebVisualizer(window_uid='window_2')"
      ]
     },
     "metadata": {},
     "output_type": "display_data"
    }
   ],
   "source": [
    "pcd = o3.geometry.PointCloud()\n",
    "pcd.points = o3.utility.Vector3dVector(points.to('cpu')[2, :, :])\n",
    "pcd.colors = o3.utility.Vector3dVector(np.vstack(v_map_colors(targets.to('cpu')[2, :])).T/255)\n",
    "\n",
    "draw(pcd)"
   ]
  },
  {
   "cell_type": "code",
   "execution_count": 23,
   "metadata": {},
   "outputs": [
    {
     "data": {
      "application/vnd.jupyter.widget-view+json": {
       "model_id": "252a302b558b464dbd40033bae1325dc",
       "version_major": 2,
       "version_minor": 0
      },
      "text/plain": [
       "WebVisualizer(window_uid='window_5')"
      ]
     },
     "metadata": {},
     "output_type": "display_data"
    }
   ],
   "source": [
    "pcd = o3.geometry.PointCloud()\n",
    "pcd.points = o3.utility.Vector3dVector(points.permute(2, 0, 1).reshape(3, -1).to('cpu').T)\n",
    "pcd.colors = o3.utility.Vector3dVector(np.vstack(v_map_colors(pred_choice.reshape(-1).to('cpu'))).T/255)\n",
    "\n",
    "draw(pcd)"
   ]
  },
  {
   "cell_type": "code",
   "execution_count": 18,
   "metadata": {},
   "outputs": [
    {
     "data": {
      "application/vnd.jupyter.widget-view+json": {
       "model_id": "a55ddd1c15c748e1a610c718718903fc",
       "version_major": 2,
       "version_minor": 0
      },
      "text/plain": [
       "WebVisualizer(window_uid='window_3')"
      ]
     },
     "metadata": {},
     "output_type": "display_data"
    }
   ],
   "source": [
    "pcd = o3.geometry.PointCloud()\n",
    "pcd.points = o3.utility.Vector3dVector(points.to('cpu')[2, :, :])\n",
    "pcd.colors = o3.utility.Vector3dVector(np.vstack(v_map_colors(pred_choice.to('cpu')[2, :])).T/255)\n",
    "\n",
    "draw(pcd)"
   ]
  },
  {
   "attachments": {},
   "cell_type": "markdown",
   "metadata": {},
   "source": [
    "### General Notes\n",
    "\n",
    "It appears that not using the regularized loss leads to quicker training i.e. better performance with less epochs. Some more experimentation could be done to check if the regularization leads to superior performance over a longer training period."
   ]
  },
  {
   "cell_type": "code",
   "execution_count": null,
   "metadata": {},
   "outputs": [],
   "source": []
  }
 ],
 "metadata": {
  "kernelspec": {
   "display_name": "Python 3.8.12 ('base')",
   "language": "python",
   "name": "python3"
  },
  "language_info": {
   "codemirror_mode": {
    "name": "ipython",
    "version": 3
   },
   "file_extension": ".py",
   "mimetype": "text/x-python",
   "name": "python",
   "nbconvert_exporter": "python",
   "pygments_lexer": "ipython3",
   "version": "3.8.12"
  },
  "orig_nbformat": 4,
  "vscode": {
   "interpreter": {
    "hash": "6c3515861ec4313dacaa20b0eec5bf326e6557b6589b7b6a4fe3c8baa566747d"
   }
  }
 },
 "nbformat": 4,
 "nbformat_minor": 2
}
