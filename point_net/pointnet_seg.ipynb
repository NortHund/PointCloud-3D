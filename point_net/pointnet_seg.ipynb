{
 "cells": [
  {
   "attachments": {},
   "cell_type": "markdown",
   "metadata": {},
   "source": [
    "# Point Net Segmentation\n",
    "\n",
    "This notebook will explore the Segmentation head of Point Net using the reduced and paritioned version of S3DIS dataset. This version is similar to the one used by torch geometry except that we will have to normalize and sample data on the fly. "
   ]
  },
  {
   "attachments": {},
   "cell_type": "markdown",
   "metadata": {},
   "source": [
    "#### **Current State: Mildly Chaotic**\n",
    "\n",
    "#### TODO:\n",
    "- ensure that everything else is organized\n",
    "- Continue training and testing\n",
    "- Add descriptive analytics for dataset to help with understanding and training\n",
    "- Add intuitive explainations and theory as needed"
   ]
  },
  {
   "attachments": {},
   "cell_type": "markdown",
   "metadata": {},
   "source": [
    "TEMP NOTE\n",
    "\n",
    "use \"git reset HEAD~1\" to go back one commit\n",
    "\n",
    "https://stackoverflow.com/questions/20002557/how-to-remove-a-too-large-file-in-a-commit-when-my-branch-is-ahead-of-master-by"
   ]
  },
  {
   "cell_type": "code",
   "execution_count": 1,
   "metadata": {},
   "outputs": [
    {
     "name": "stdout",
     "output_type": "stream",
     "text": [
      "Jupyter environment detected. Enabling Open3D WebVisualizer.\n",
      "[Open3D INFO] WebRTC GUI backend enabled.\n",
      "[Open3D INFO] WebRTCWindowSystem: HTTP handshake server disabled.\n",
      "[Open3D INFO] Resetting default logger to print to terminal.\n"
     ]
    }
   ],
   "source": [
    "import os\n",
    "import re\n",
    "from glob import glob\n",
    "import time\n",
    "import random\n",
    "import numpy as np\n",
    "import pandas as pd\n",
    "import torch\n",
    "import torch.nn as nn\n",
    "import torch.nn.functional as F\n",
    "import torchmetrics\n",
    "from torchmetrics.classification import MulticlassMatthewsCorrCoef\n",
    "import open3d as o3\n",
    "# from open3d import JVisualizer # For Colab Visualization\n",
    "from open3d.web_visualizer import draw # for non Colab\n",
    "\n",
    "import matplotlib.pyplot as plt\n",
    "%matplotlib inline"
   ]
  },
  {
   "cell_type": "code",
   "execution_count": 2,
   "metadata": {},
   "outputs": [],
   "source": [
    "# TEMP for supressing pytorch user warnings\n",
    "import warnings\n",
    "warnings.filterwarnings(\"ignore\")"
   ]
  },
  {
   "attachments": {},
   "cell_type": "markdown",
   "metadata": {},
   "source": [
    "Initialize variables for entire notebook"
   ]
  },
  {
   "cell_type": "code",
   "execution_count": 208,
   "metadata": {},
   "outputs": [],
   "source": [
    "# dataset\n",
    "ROOT = r'C:\\Users\\itber\\Documents\\datasets\\S3DIS\\Stanford3dDataset_v1.2_Reduced_Partitioned_Aligned_Version'\n",
    "NUM_CLASSES = 14\n",
    "\n",
    "# feature selection hyperparameters\n",
    "NUM_TRAIN_POINTS = 4096 # train/valid points\n",
    "NUM_TEST_POINTS = 10000\n",
    "\n",
    "# training hyperparameters\n",
    "BATCH_SIZE = 16\n",
    "EPOCHS = 50\n",
    "LR = 0.01"
   ]
  },
  {
   "cell_type": "code",
   "execution_count": 4,
   "metadata": {},
   "outputs": [],
   "source": [
    "CATEGORIES = {\n",
    "    'ceiling'  : 0, \n",
    "    'floor'    : 1, \n",
    "    'wall'     : 2, \n",
    "    'beam'     : 3, \n",
    "    'column'   : 4, \n",
    "    'window'   : 5,\n",
    "    'door'     : 6, \n",
    "    'table'    : 7, \n",
    "    'chair'    : 8, \n",
    "    'sofa'     : 9, \n",
    "    'bookcase' : 10, \n",
    "    'board'    : 11,\n",
    "    'stairs'   : 12,\n",
    "    'clutter'  : 13\n",
    "}\n",
    "\n",
    "# unique color map generated via\n",
    "# https://mokole.com/palette.html\n",
    "COLOR_MAP = {\n",
    "    0  : (47, 79, 79),    # ceiling - darkslategray\n",
    "    1  : (139, 69, 19),   # floor - saddlebrown\n",
    "    2  : (34, 139, 34),   # wall - forestgreen\n",
    "    3  : (75, 0, 130),    # beam - indigo\n",
    "    4  : (255, 0, 0),     # column - red \n",
    "    5  : (255, 255, 0),   # window - yellow\n",
    "    6  : (0, 255, 0),     # door - lime\n",
    "    7  : (0, 255, 255),   # table - aqua\n",
    "    8  : (0, 0, 255),     # chair - blue\n",
    "    9  : (255, 0, 255),   # sofa - fuchsia\n",
    "    10 : (238, 232, 170), # bookcase - palegoldenrod\n",
    "    11 : (100, 149, 237), # board - cornflower\n",
    "    12 : (255, 105, 180), # stairs - hotpink\n",
    "    13 : (0, 0, 0)        # clutter - black\n",
    "}\n",
    "\n",
    "v_map_colors = np.vectorize(lambda x : COLOR_MAP[x])"
   ]
  },
  {
   "attachments": {},
   "cell_type": "markdown",
   "metadata": {},
   "source": [
    "#### Get Datasets and Dataloaders"
   ]
  },
  {
   "cell_type": "code",
   "execution_count": 5,
   "metadata": {},
   "outputs": [],
   "source": [
    "from torch.utils.data import DataLoader\n",
    "from s3dis_dataset import S3DIS\n",
    "\n",
    "# get datasets\n",
    "s3dis_train = S3DIS(ROOT, area_nums='1-4', npoints=NUM_TRAIN_POINTS)\n",
    "s3dis_valid = S3DIS(ROOT, area_nums='5', npoints=NUM_TRAIN_POINTS)\n",
    "s3dis_test = S3DIS(ROOT, area_nums='6', split='test', npoints=NUM_TEST_POINTS)\n",
    "\n",
    "# get dataloaders\n",
    "train_dataloader = DataLoader(s3dis_train, batch_size=BATCH_SIZE, shuffle=True)\n",
    "valid_dataloader = DataLoader(s3dis_valid, batch_size=BATCH_SIZE, shuffle=True)\n",
    "test_dataloader = DataLoader(s3dis_test, batch_size=BATCH_SIZE, shuffle=False)"
   ]
  },
  {
   "cell_type": "markdown",
   "metadata": {},
   "source": [
    "Get an example and display it"
   ]
  },
  {
   "cell_type": "code",
   "execution_count": 6,
   "metadata": {},
   "outputs": [
    {
     "data": {
      "application/vnd.jupyter.widget-view+json": {
       "model_id": "9ecd33b4bf96472181b98e64e07788c9",
       "version_major": 2,
       "version_minor": 0
      },
      "text/plain": [
       "WebVisualizer(window_uid='window_0')"
      ]
     },
     "metadata": {},
     "output_type": "display_data"
    }
   ],
   "source": [
    "points, targets = s3dis_train[1000]\n",
    "\n",
    "pcd = o3.geometry.PointCloud()\n",
    "pcd.points = o3.utility.Vector3dVector(points)\n",
    "pcd.colors = o3.utility.Vector3dVector(np.vstack(v_map_colors(targets)).T/255)\n",
    "\n",
    "draw(pcd)"
   ]
  },
  {
   "attachments": {},
   "cell_type": "markdown",
   "metadata": {},
   "source": [
    "#### Investigate class distributions in the Training dataset\n",
    "\n",
    "NOTE: If you take a look at the S3DIS dataset class, you will notice that samples with less points than npoints are sampled with replacement. This means that some points will be oversampled. This will lead to a variable class balance eachtime the dataloader is called. However, you can run these cells many times and see that we will nearly always have the same ratios of classes."
   ]
  },
  {
   "cell_type": "code",
   "execution_count": 15,
   "metadata": {},
   "outputs": [],
   "source": [
    "total_train_targets = []\n",
    "for (_, targets) in train_dataloader:\n",
    "    total_train_targets += targets.reshape(-1).numpy().tolist()\n",
    "\n",
    "total_train_targets = np.array(total_train_targets)"
   ]
  },
  {
   "attachments": {},
   "cell_type": "markdown",
   "metadata": {},
   "source": [
    "Plot Barchart of category counts"
   ]
  },
  {
   "cell_type": "code",
   "execution_count": 16,
   "metadata": {},
   "outputs": [
    {
     "data": {
      "image/png": "[encoded data removed]",
      "text/plain": [
       "<Figure size 640x480 with 1 Axes>"
      ]
     },
     "metadata": {},
     "output_type": "display_data"
    }
   ],
   "source": [
    "class_bins = np.bincount(total_train_targets)\n",
    "\n",
    "plt.bar(list(CATEGORIES.keys()), class_bins, \n",
    "             color=[np.array(val)/255. for val in list(COLOR_MAP.values())],\n",
    "             edgecolor='black')\n",
    "plt.xticks(list(CATEGORIES.keys()), list(CATEGORIES.keys()), size=12, rotation=90)\n",
    "plt.ylabel('Counts', size=12)\n",
    "plt.title('Occurences of Each Category (Training - Areas 1-4)', size=14, pad=20);"
   ]
  },
  {
   "attachments": {},
   "cell_type": "markdown",
   "metadata": {},
   "source": [
    "We can see that this dataset is heavily imbalanced, the more common items such as ceiling, floor, and wall greatly outnumber all of the other categories. These classes are actually background classes. If we were to train using a loss such as Cross Entropy, we would consider each class to have an equal importance. Meaning, missclassifyng window is trreated the same as misclassifying wall. In reality, we would want our model to focus more on the uncommon categories and not care so much about the common ones. We have a priori knowledge that structures such as ceiling, wall, and floor are continuous and if we look at some training examples, we will see that they are like large sheets. If we were to only classify 60% of these, we would still be in pretty good shape. However, if we classify only 60% of the other less common classes, we may run into some serious generalization issues. One way to overcome the class imbalance is to use a weighted loss function. This will essentially tell the model (during training) to focus more on particular classes that it gets wrong (hard examples) and to focus less on the classes it tends to get right (easy examples)."
   ]
  },
  {
   "attachments": {},
   "cell_type": "markdown",
   "metadata": {},
   "source": [
    "*SIDE NOTE:*\n",
    "*With the notion that certain classes have unique structures, it may be more effective to perform object recognition as opposed to segmentation. Or use some sort of object recognition to augment the segmentation model and form some sort of ensemble.*"
   ]
  },
  {
   "attachments": {},
   "cell_type": "markdown",
   "metadata": {},
   "source": [
    "The loss that we will use is called the [Focal Loss](https://arxiv.org/pdf/1708.02002.pdf), it is a modified version of the Cross Entropy (CE) loss that is useful for imbalanced classification, it focuses the training on a sparse set of hard examples. \n",
    "\n",
    "We will also try to use the [Dice Loss](https://arxiv.org/pdf/1707.03237v3.pdf) and compare results"
   ]
  },
  {
   "attachments": {},
   "cell_type": "markdown",
   "metadata": {},
   "source": [
    "#### Focal Loss Notes:\n",
    "- it focuses training on a sparse set of hard examples\n",
    "- Predictions with Probability >> 0.5 are easy examples and they should not have a high loss\n",
    "   - This is because summing the losses of many easy examples will quickly overwhelm the loss of the few hard examples\n",
    "-"
   ]
  },
  {
   "attachments": {},
   "cell_type": "markdown",
   "metadata": {},
   "source": [
    "The Focal Loss is a modified Cross Entropy (CE) Loss. The CE Loss for a sample $n$ is given below. \n",
    "\n",
    "$$ CE(s_n, y_n) = -\\alpha_{y_n} log \\left( \\frac{exp(\\mathbf{s_n})}{\\sum_{c=1}^M exp(s_{n,c})} \\right) \\mathbf{1}_C(y_n) $$\n",
    "\n",
    "Where $\\mathbf{s_n}$ is the predicted class score vector (logits), $M$ is the number of classes, $y_n$ is the true class, $\\alpha_{y_n}$ is the class weight, and $\\mathbf{1}_C(y_n)$ is the [Indcator Function](https://en.wikipedia.org/wiki/Indicator_function) that tells us to only consider the prediction for the current class $y_n$. <br>\n",
    "$e.g.$ if $\\mathbf{s_n} = [0.02, 0.142, 0.356, 0.0012, 0.0456]$ and $y_n = 3$, then $\\mathbf{s_n}  \\mathbf{1}_C(y_n) = 0.0012$ (NOTE: we used zero indexing here).\n",
    "\n",
    "We may also notice that the term inside the $log$ is the Softmax function, which along wth the indicator function, gives us the predicted class probability. We can rewrite the CE Loss in a more simple format as:\n",
    "$$ CE(p_n) = -\\alpha_{y_n} log(p_n)  $$\n",
    "Where the $n$ subscript refers to the true class at sample $n$.\n",
    "\n",
    "<br> \n",
    "The CE loss is typically unweighted, but if a weight is used it is reffered to as the Balanced (or Weighted) CE Loss. The weights are usually based on inverse class distribution and typically range from [0, 1]. The weights can also be set as a hyperparameter via Cross Validation.\n",
    "\n",
    "$$ \\mathbf{\\alpha} = \\frac{1}{\\text{class counts}} $$\n",
    "We may also normalize alpha so that it spreads between [0,1]\n",
    "$$ \\alpha = \\frac{\\alpha}{\\max{\\alpha}} $$\n",
    "\n",
    "\n",
    "<br>\n",
    "\n",
    "The Focal Loss adds an additional modulating factor to the weighted CE Loss: $ (1 - p_n)^\\gamma $, where $\\gamma \\geq 0$ is referred to as the focusing parameter. This term has tends to 0 when the prediction probability is high, and has a larger value when the prediction probability is lower forcing the model to focus on the hard examples. It can be said that the focusing parameter smoothly adjusts the rate at which easy examples are down-weighted. We can formally express the Focal Loss as:\n",
    "\n",
    "$$ FL(p_n) = -\\alpha_{y_n} (1 - p_n)^\\gamma log(p_n)  $$\n",
    "\n",
    "<br> Summary: <br>\n",
    "- The Focal Loss is a modified version of the Balanced Cross Entropy Loss\n",
    "- The class weight $\\alpha$ balances the importance of loss values based class distribution\n",
    "- The modulating term forces the model to focus on the hard examples by downweighting the easy examples\n",
    "increasing the loss of predictions with lower probability.\n",
    "- The class weights $\\alpha$ and focusing parameter $\\gamma$ are hyperparameters that can be tuned \n",
    "\n",
    "<br>\n",
    "Sources: <br>\n",
    "\n",
    "- https://gombru.github.io/2018/05/23/cross_entropy_loss/ \n",
    "- https://pytorch.org/docs/master/generated/torch.nn.CrossEntropyLoss.html#torch.nn.CrossEntropyLoss\n",
    "- https://hasty.ai/docs/mp-wiki/loss/focal-loss\n",
    "- https://arxiv.org/pdf/1708.02002.pdf"
   ]
  },
  {
   "cell_type": "code",
   "execution_count": 61,
   "metadata": {},
   "outputs": [
    {
     "data": {
      "text/plain": [
       "array([0.01702165, 0.01860981, 0.01726544, 0.24103853, 0.27264772,\n",
       "       0.26655623, 0.07852921, 0.16264182, 0.08626145, 0.9218807 ,\n",
       "       0.10393315, 0.44212093, 0.9999    , 0.03792745])"
      ]
     },
     "execution_count": 61,
     "metadata": {},
     "output_type": "execute_result"
    }
   ],
   "source": [
    "alpha = 1 / class_bins\n",
    "alpha = (alpha/alpha.max()) - 1e-4\n",
    "alpha"
   ]
  },
  {
   "attachments": {},
   "cell_type": "markdown",
   "metadata": {},
   "source": [
    "### Get Segmentation Version of Point Net\n",
    "Make a test forward pass"
   ]
  },
  {
   "cell_type": "code",
   "execution_count": 217,
   "metadata": {},
   "outputs": [
    {
     "data": {
      "text/plain": [
       "torch.Size([16, 4096, 3])"
      ]
     },
     "execution_count": 217,
     "metadata": {},
     "output_type": "execute_result"
    }
   ],
   "source": [
    "points, targets = next(iter(train_dataloader))\n",
    "points.shape"
   ]
  },
  {
   "cell_type": "code",
   "execution_count": 218,
   "metadata": {},
   "outputs": [
    {
     "name": "stdout",
     "output_type": "stream",
     "text": [
      "Seg shape: torch.Size([16, 4096, 14])\n"
     ]
    }
   ],
   "source": [
    "from point_net import PointNetSegHead\n",
    "\n",
    "seg_model = PointNetSegHead(num_points=NUM_TRAIN_POINTS, m=NUM_CLASSES)\n",
    "out, _, _ = seg_model(points.transpose(2, 1))\n",
    "print(f'Seg shape: {out.shape}')"
   ]
  },
  {
   "cell_type": "markdown",
   "metadata": {},
   "source": [
    "## Start Training"
   ]
  },
  {
   "cell_type": "code",
   "execution_count": 219,
   "metadata": {},
   "outputs": [
    {
     "data": {
      "text/plain": [
       "'cuda'"
      ]
     },
     "execution_count": 219,
     "metadata": {},
     "output_type": "execute_result"
    }
   ],
   "source": [
    "device = 'cuda' if torch.cuda.is_available() else 'cpu'\n",
    "device"
   ]
  },
  {
   "attachments": {},
   "cell_type": "markdown",
   "metadata": {},
   "source": [
    "We will use a pytorch implementation of the focal loss based on code from this [repository](https://github.com/clcarwin/focal_loss_pytorch/blob/master/focalloss.py)"
   ]
  },
  {
   "cell_type": "code",
   "execution_count": 220,
   "metadata": {},
   "outputs": [],
   "source": [
    "from torch.autograd import Variable\n",
    "\n",
    "class FocalLoss(nn.Module):\n",
    "    def __init__(self, alpha=None, gamma=0, size_average=True):\n",
    "        super(FocalLoss, self).__init__()\n",
    "        self.alpha = alpha\n",
    "        self.gamma = gamma\n",
    "        self.size_average = size_average\n",
    "\n",
    "        # sanitize inputs\n",
    "        if isinstance(alpha,(float, int)): self.alpha = torch.Tensor([alpha,1-alpha])\n",
    "        if isinstance(alpha,(list, np.ndarray)): self.alpha = torch.Tensor(alpha)\n",
    "        \n",
    "\n",
    "    def forward(self, predictions, targets):\n",
    "        # reformat predictions and targets\n",
    "        predictions = predictions.transpose(1, 2) # (b, c, n) -> (b, n, c)\n",
    "        predictions = predictions.contiguous().view(-1, predictions.size(2)) # (b, n, c) -> (b*n, c)\n",
    "\n",
    "        targets = targets.view(-1,1)\n",
    "\n",
    "        # get log softmax of predictions\n",
    "        log_pn = F.log_softmax(predictions)\n",
    "\n",
    "        # get predictions at true class indexes\n",
    "        log_pn = log_pn.gather(1, targets).view(-1) # index log softmax values at targets\n",
    "\n",
    "        # get predicted probabilities\n",
    "        pn = Variable(log_pn.data.exp())\n",
    "\n",
    "        if self.alpha is not None:\n",
    "            if self.alpha.type() != predictions.data.type():\n",
    "                self.alpha = self.alpha.type_as(predictions.data)\n",
    "            at = self.alpha.gather(0, targets.data.view(-1))\n",
    "            log_pn = log_pn * Variable(at)\n",
    "\n",
    "        loss = -1*(1 - pn)**self.gamma * log_pn\n",
    "        if self.size_average: return loss.mean()\n",
    "        else: return loss.sum()"
   ]
  },
  {
   "attachments": {},
   "cell_type": "markdown",
   "metadata": {},
   "source": [
    "Compute $\\alpha$ as the normalized inverse class frequency"
   ]
  },
  {
   "cell_type": "code",
   "execution_count": 221,
   "metadata": {},
   "outputs": [
    {
     "data": {
      "text/plain": [
       "array([0.01702165, 0.01860981, 0.01726544, 0.24103853, 0.27264772,\n",
       "       0.26655623, 0.07852921, 0.16264182, 0.08626145, 0.9218807 ,\n",
       "       0.10393315, 0.44212093, 0.9999    , 0.03792745])"
      ]
     },
     "execution_count": 221,
     "metadata": {},
     "output_type": "execute_result"
    }
   ],
   "source": [
    "alpha = 1 / class_bins\n",
    "alpha = (alpha/alpha.max()) - 1e-4\n",
    "alpha"
   ]
  },
  {
   "attachments": {},
   "cell_type": "markdown",
   "metadata": {},
   "source": [
    "Get Optimizer and Criterion"
   ]
  },
  {
   "cell_type": "code",
   "execution_count": 222,
   "metadata": {},
   "outputs": [],
   "source": [
    "import torch.nn as nn \n",
    "import torch.optim as optim\n",
    "if torch.cuda.is_available():\n",
    "    import torch.backends.cudnn as cudnn\n",
    "\n",
    "optimizer = optim.Adam(seg_model.parameters(), lr=0.01)\n",
    "criterion = FocalLoss(gamma=2, alpha=alpha)\n",
    "\n",
    "seg_model = seg_model.to(device)"
   ]
  },
  {
   "attachments": {},
   "cell_type": "markdown",
   "metadata": {},
   "source": [
    "For our training we will want to quantify how well our model is performing. Typically we look at loss and accuracy, but for this segmentation problem we will need a mteric that accounts for incorrect classifcation as well as correct classification. The Matthews Correlation Coefficent does this and we will use it to quantify our performance. The MCC ranges from -1 to 1, to understand what the MCC is reporting:\n",
    "- 0 indicates a random guess\n",
    "- -1 is the worst possible performance\n",
    "- 1 is the best possible performance"
   ]
  },
  {
   "cell_type": "code",
   "execution_count": 223,
   "metadata": {},
   "outputs": [],
   "source": [
    "mcc_metric = MulticlassMatthewsCorrCoef(num_classes=NUM_CLASSES).to(device)"
   ]
  },
  {
   "cell_type": "code",
   "execution_count": 224,
   "metadata": {},
   "outputs": [
    {
     "name": "stdout",
     "output_type": "stream",
     "text": [
      "\t [1: 0/274] train loss: 0.117402 accuracy: 0.051041 mcc: -0.023893\n",
      "\t [1: 100/274] train loss: 0.070514 accuracy: 0.423782 mcc: 0.369000\n",
      "\t [1: 200/274] train loss: 0.110780 accuracy: 0.253479 mcc: 0.217895\n",
      "Epoch: 1 - Train Loss: 0.10579164494167674 - Train Accuracy: 0.23987488448619843 - Train MCC: 0.19918092231266202\n",
      "\t [1: 0/145] validation loss: 0.093869 accuracy: 0.463394 mcc: 0.418268\n",
      "\t [1: 100/145] validation loss: 0.082322 accuracy: 0.504730 mcc: 0.468054\n",
      "Epoch: 1 - Validation Loss: 0.09598203955141649 - Validation Accuracy: 0.4834384620189667 - Validation MCC: 0.43677338733248516\n",
      "\t [2: 0/274] train loss: 0.048910 accuracy: 0.457245 mcc: 0.420308\n",
      "\t [2: 100/274] train loss: 0.068687 accuracy: 0.344604 mcc: 0.273792\n",
      "\t [2: 200/274] train loss: 0.083155 accuracy: 0.384903 mcc: 0.356199\n",
      "Epoch: 2 - Train Loss: 0.08286641547625716 - Train Accuracy: 0.38533392548561096 - Train MCC: 0.3443587050112811\n",
      "\t [2: 0/145] validation loss: 0.061929 accuracy: 0.297760 mcc: 0.262758\n",
      "\t [2: 100/145] validation loss: 0.068955 accuracy: 0.297440 mcc: 0.288264\n",
      "Epoch: 2 - Validation Loss: 8.744598931084349 - Validation Accuracy: 0.3196467459201813 - Validation MCC: 0.29275692407399007\n",
      "\t [3: 0/274] train loss: 0.106432 accuracy: 0.396927 mcc: 0.355293\n",
      "\t [3: 100/274] train loss: 0.062973 accuracy: 0.565659 mcc: 0.490538\n",
      "\t [3: 200/274] train loss: 0.108021 accuracy: 0.407959 mcc: 0.365263\n",
      "Epoch: 3 - Train Loss: 0.0786600860817866 - Train Accuracy: 0.3972216844558716 - Train MCC: 0.35820295095443727\n",
      "\t [3: 0/145] validation loss: 0.065334 accuracy: 0.241425 mcc: 0.224906\n",
      "\t [3: 100/145] validation loss: 0.078193 accuracy: 0.323425 mcc: 0.283658\n",
      "Epoch: 3 - Validation Loss: 0.09225122245309288 - Validation Accuracy: 0.2588997483253479 - Validation MCC: 0.23393862607748542\n",
      "\t [4: 0/274] train loss: 0.078091 accuracy: 0.364243 mcc: 0.337958\n",
      "\t [4: 100/274] train loss: 0.051310 accuracy: 0.301117 mcc: 0.282100\n",
      "\t [4: 200/274] train loss: 0.084144 accuracy: 0.379166 mcc: 0.339625\n"
     ]
    }
   ],
   "source": [
    "# stuff for training\n",
    "num_train_batch = len(s3dis_train)/BATCH_SIZE \n",
    "num_valid_batch = len(s3dis_valid)/BATCH_SIZE \n",
    "\n",
    "# store best validation mcc\n",
    "best_mcc = -np.infty\n",
    "\n",
    "# lists to store metrics\n",
    "train_loss = []\n",
    "train_accuracy = []\n",
    "train_mcc = []\n",
    "valid_loss = []\n",
    "valid_accuracy = []\n",
    "valid_mcc = []\n",
    "\n",
    "for epoch in range(1, EPOCHS + 1):\n",
    "    # place model in training mode\n",
    "    seg_model = seg_model.train()\n",
    "    _train_loss = []\n",
    "    _train_accuracy = []\n",
    "    _train_mcc = []\n",
    "    for i, (points, targets) in enumerate(train_dataloader, 0):\n",
    "\n",
    "        points = points.transpose(2, 1).to(device)\n",
    "        targets = targets.squeeze().to(device)\n",
    "        \n",
    "        # zero gradients\n",
    "        optimizer.zero_grad()\n",
    "        \n",
    "        # get predicted class logits\n",
    "        preds, _, A = seg_model(points)\n",
    "        \n",
    "        # compute regularization term to enforce orthogonality on the feature Transformation\n",
    "        # I = torch.eye(64).unsqueeze(0).repeat(A.shape[0], 1, 1).to(device)\n",
    "        # reg = torch.linalg.norm(I - torch.bmm(A, A.transpose(2, 1)))\n",
    "\n",
    "        # get loss and perform backprop\n",
    "        loss = criterion(preds.transpose(2, 1), targets) # + Variable(reg)\n",
    "        loss.backward()\n",
    "        optimizer.step()\n",
    "        \n",
    "        # get class predictions\n",
    "        pred_choice = torch.softmax(preds, dim=2).argmax(dim=2)\n",
    "        correct = pred_choice.eq(targets.data).cpu().sum()\n",
    "        accuracy = correct/float(BATCH_SIZE*NUM_TRAIN_POINTS)\n",
    "        mcc = mcc_metric(preds.transpose(2, 1), targets)\n",
    "\n",
    "        # update epoch loss and accuracy\n",
    "        _train_loss.append(loss.item())\n",
    "        _train_accuracy.append(accuracy)\n",
    "        _train_mcc.append(mcc.item())\n",
    "\n",
    "        if i % 100 == 0:\n",
    "            print('\\t [%d: %d/%d] train loss: %f accuracy: %f mcc: %f' \\\n",
    "                  % (epoch, i, num_train_batch, loss.item(), accuracy, mcc))\n",
    "        \n",
    "    train_loss.append(np.mean(_train_loss))\n",
    "    train_accuracy.append(np.mean(_train_accuracy))\n",
    "    train_mcc.append(np.mean(_train_mcc))\n",
    "\n",
    "    print(f'Epoch: {epoch} - Train Loss: {train_loss[-1]} ' \\\n",
    "          + f'- Train Accuracy: {train_accuracy[-1]} ' \\\n",
    "          + f'- Train MCC: {train_mcc[-1]}')\n",
    "\n",
    "    # pause to cool down\n",
    "    time.sleep(8)\n",
    "\n",
    "    # get test results after each epoch\n",
    "    with torch.no_grad():\n",
    "\n",
    "        # place model in evaluation mode\n",
    "        seg_model = seg_model.eval()\n",
    "\n",
    "        _valid_loss = []\n",
    "        _valid_accuracy = []\n",
    "        _valid_mcc = []\n",
    "        for i, (points, targets) in enumerate(valid_dataloader, 0):\n",
    "\n",
    "            points = points.transpose(2, 1).to(device)\n",
    "            targets = targets.squeeze().to(device)\n",
    "\n",
    "            preds, _, A = seg_model(points)\n",
    "\n",
    "            # compute regularization term to enforce orthogonality on the feature Transformation\n",
    "            # I = torch.eye(64).unsqueeze(0).repeat(A.shape[0], 1, 1).to(device)\n",
    "            # reg = torch.linalg.norm(I - torch.bmm(A, A.transpose(2, 1)))\n",
    "\n",
    "            loss = criterion(preds.transpose(2, 1), targets) # + Variable(reg)\n",
    "\n",
    "            pred_choice = torch.softmax(preds, dim=2).argmax(dim=2)\n",
    "            correct = pred_choice.eq(targets.data).cpu().sum()\n",
    "            accuracy = correct/float(BATCH_SIZE*NUM_TRAIN_POINTS)\n",
    "            mcc = mcc_metric(preds.transpose(2, 1), targets)\n",
    "\n",
    "            # update epoch loss and accuracy\n",
    "            _valid_loss.append(loss.item())\n",
    "            _valid_accuracy.append(accuracy)\n",
    "            _valid_mcc.append(mcc.item())\n",
    "\n",
    "            if i % 100 == 0:\n",
    "                print('\\t [%d: %d/%d] %s loss: %f accuracy: %f mcc: %f' \\\n",
    "                      % (epoch, i, num_valid_batch, 'validation', loss.item(), accuracy, mcc))\n",
    "        \n",
    "        valid_loss.append(np.mean(_valid_loss))\n",
    "        valid_accuracy.append(np.mean(_valid_accuracy))\n",
    "        valid_mcc.append(np.mean(_valid_mcc))\n",
    "        print(f'Epoch: {epoch} - Validation Loss: {valid_loss[-1]} ' \\\n",
    "              + f'- Validation Accuracy: {valid_accuracy[-1]} ' \\\n",
    "              + f'- Validation MCC: {valid_mcc[-1]}')\n",
    "\n",
    "        # pause to cool down\n",
    "        time.sleep(8)\n",
    "\n",
    "    # save best models\n",
    "    if valid_mcc[-1] >= best_mcc:\n",
    "        best_mcc = valid_mcc[-1]\n",
    "        torch.save(seg_model.state_dict(), f'seg_focal/seg_model_{epoch}.pth')"
   ]
  },
  {
   "attachments": {},
   "cell_type": "markdown",
   "metadata": {},
   "source": [
    "Let's plot the training metrics"
   ]
  },
  {
   "cell_type": "code",
   "execution_count": 166,
   "metadata": {},
   "outputs": [
    {
     "data": {
      "text/plain": [
       "[<matplotlib.lines.Line2D at 0x1702ace8580>]"
      ]
     },
     "execution_count": 166,
     "metadata": {},
     "output_type": "execute_result"
    },
    {
     "data": {
      "image/png": "[encoded data removed]",
      "text/plain": [
       "<Figure size 800x500 with 2 Axes>"
      ]
     },
     "metadata": {},
     "output_type": "display_data"
    }
   ],
   "source": [
    "_, ax = plt.subplots(2, 1, figsize=(8, 5))\n",
    "ax[0].plot(train_accuracy)\n",
    "ax[0].plot(valid_accuracy)\n",
    "\n",
    "ax[1].plot(train_mcc)\n",
    "ax[1].plot(valid_mcc)"
   ]
  },
  {
   "cell_type": "code",
   "execution_count": 168,
   "metadata": {},
   "outputs": [
    {
     "data": {
      "text/plain": [
       "21"
      ]
     },
     "execution_count": 168,
     "metadata": {},
     "output_type": "execute_result"
    }
   ],
   "source": [
    "np.argmax(valid_mcc)"
   ]
  },
  {
   "attachments": {},
   "cell_type": "markdown",
   "metadata": {},
   "source": [
    "### Test the model"
   ]
  },
  {
   "attachments": {},
   "cell_type": "markdown",
   "metadata": {},
   "source": [
    "Upload model from disk. The best model was 21 (actually 22 since we need to account for zero indexing)"
   ]
  },
  {
   "cell_type": "code",
   "execution_count": 19,
   "metadata": {},
   "outputs": [],
   "source": [
    "MODEL_PATH = 'seg_noreg/seg_model_22.pth'\n",
    "\n",
    "model = PointNetSegHead(num_points=NUM_TEST_POINTS, m=NUM_CLASSES).to(device)\n",
    "model.load_state_dict(torch.load(MODEL_PATH))\n",
    "model.eval();"
   ]
  },
  {
   "attachments": {},
   "cell_type": "markdown",
   "metadata": {},
   "source": [
    "#### Implement Quick test to gather metrics"
   ]
  },
  {
   "cell_type": "code",
   "execution_count": 63,
   "metadata": {},
   "outputs": [
    {
     "name": "stdout",
     "output_type": "stream",
     "text": [
      "\t [0/71] test loss: 16297419776.000000 accuracy: 0.529037 mcc: 0.477067\n",
      "\t [50/71] test loss: 24418680832.000000 accuracy: 0.583319 mcc: 0.518947\n",
      "Test Loss: 42981061871.48179 - Test Accuracy: 0.5650807619094849 - Test MCC: 0.49528303204311264\n"
     ]
    }
   ],
   "source": [
    "num_test_batch = len(s3dis_test)/BATCH_SIZE \n",
    "\n",
    "total_test_targets = []\n",
    "total_test_preds = [] \n",
    "\n",
    "with torch.no_grad():\n",
    "\n",
    "    # place model in evaluation mode\n",
    "    model = model.eval()\n",
    "\n",
    "    test_loss = []\n",
    "    test_accuracy = []\n",
    "    test_mcc = []\n",
    "    for i, (points, targets) in enumerate(test_dataloader, 0):\n",
    "\n",
    "        points = points.transpose(2, 1).to(device)\n",
    "        targets = targets.squeeze().to(device)\n",
    "\n",
    "        preds, _, A = model(points)\n",
    "\n",
    "        # compute regularization term to enforce orthogonality on the feature Transformation\n",
    "        # I = torch.eye(64).unsqueeze(0).repeat(A.shape[0], 1, 1).to(device)\n",
    "        # reg = torch.linalg.norm(I - torch.bmm(A, A.transpose(2, 1)))\n",
    "\n",
    "        loss = criterion(preds.transpose(2, 1), targets) # + reg\n",
    "\n",
    "        pred_choice = torch.softmax(preds, dim=2).argmax(dim=2)\n",
    "        correct = pred_choice.eq(targets.data).cpu().sum()\n",
    "        accuracy = correct/float(BATCH_SIZE*NUM_TEST_POINTS)\n",
    "        mcc = mcc_metric(preds.transpose(2, 1), targets)\n",
    "\n",
    "        # update epoch loss and accuracy\n",
    "        test_loss.append(loss.item())\n",
    "        test_accuracy.append(accuracy)\n",
    "        test_mcc.append(mcc.item())\n",
    "\n",
    "        # add to total targets/preds\n",
    "        total_test_targets += targets.reshape(-1).cpu().numpy().tolist()\n",
    "        total_test_preds += pred_choice.reshape(-1).cpu().numpy().tolist()\n",
    "\n",
    "        if i % 50 == 0:\n",
    "            print('\\t [%d/%d] test loss: %f accuracy: %f mcc: %f' \\\n",
    "                    % (i, num_test_batch, loss.item(), accuracy, mcc))\n",
    "\n",
    "# display test results\n",
    "print(f'Test Loss: {np.mean(test_loss)} ' \\\n",
    "        + f'- Test Accuracy: {np.mean(test_accuracy)} ' \\\n",
    "        + f'- Test MCC: {np.mean(test_mcc)}')"
   ]
  },
  {
   "cell_type": "code",
   "execution_count": 64,
   "metadata": {},
   "outputs": [],
   "source": [
    "total_test_targets = np.array(total_test_targets)\n",
    "total_test_preds = np.array(total_test_preds)"
   ]
  },
  {
   "attachments": {},
   "cell_type": "markdown",
   "metadata": {},
   "source": [
    "#### Get Confusion Matrix for Test data"
   ]
  },
  {
   "cell_type": "code",
   "execution_count": 69,
   "metadata": {},
   "outputs": [
    {
     "data": {
      "text/html": [
       "<div>\n",
       "<style scoped>\n",
       "    .dataframe tbody tr th:only-of-type {\n",
       "        vertical-align: middle;\n",
       "    }\n",
       "\n",
       "    .dataframe tbody tr th {\n",
       "        vertical-align: top;\n",
       "    }\n",
       "\n",
       "    .dataframe thead th {\n",
       "        text-align: right;\n",
       "    }\n",
       "</style>\n",
       "<table border=\"1\" class=\"dataframe\">\n",
       "  <thead>\n",
       "    <tr style=\"text-align: right;\">\n",
       "      <th></th>\n",
       "      <th>ceiling</th>\n",
       "      <th>floor</th>\n",
       "      <th>wall</th>\n",
       "      <th>beam</th>\n",
       "      <th>column</th>\n",
       "      <th>window</th>\n",
       "      <th>door</th>\n",
       "      <th>table</th>\n",
       "      <th>chair</th>\n",
       "      <th>sofa</th>\n",
       "      <th>bookcase</th>\n",
       "      <th>board</th>\n",
       "      <th>stairs</th>\n",
       "      <th>clutter</th>\n",
       "    </tr>\n",
       "  </thead>\n",
       "  <tbody>\n",
       "    <tr>\n",
       "      <th>ceiling</th>\n",
       "      <td>1978676</td>\n",
       "      <td>16600</td>\n",
       "      <td>51767</td>\n",
       "      <td>6683</td>\n",
       "      <td>103</td>\n",
       "      <td>9154</td>\n",
       "      <td>0</td>\n",
       "      <td>2113</td>\n",
       "      <td>3585</td>\n",
       "      <td>0</td>\n",
       "      <td>125</td>\n",
       "      <td>0</td>\n",
       "      <td>17323</td>\n",
       "      <td>415292</td>\n",
       "    </tr>\n",
       "    <tr>\n",
       "      <th>floor</th>\n",
       "      <td>6136</td>\n",
       "      <td>1947107</td>\n",
       "      <td>7250</td>\n",
       "      <td>0</td>\n",
       "      <td>0</td>\n",
       "      <td>0</td>\n",
       "      <td>0</td>\n",
       "      <td>0</td>\n",
       "      <td>348</td>\n",
       "      <td>0</td>\n",
       "      <td>0</td>\n",
       "      <td>0</td>\n",
       "      <td>13332</td>\n",
       "      <td>211651</td>\n",
       "    </tr>\n",
       "    <tr>\n",
       "      <th>wall</th>\n",
       "      <td>33441</td>\n",
       "      <td>50190</td>\n",
       "      <td>1255620</td>\n",
       "      <td>74884</td>\n",
       "      <td>1372</td>\n",
       "      <td>53651</td>\n",
       "      <td>269</td>\n",
       "      <td>28264</td>\n",
       "      <td>41413</td>\n",
       "      <td>6</td>\n",
       "      <td>45726</td>\n",
       "      <td>0</td>\n",
       "      <td>21789</td>\n",
       "      <td>805983</td>\n",
       "    </tr>\n",
       "    <tr>\n",
       "      <th>beam</th>\n",
       "      <td>28107</td>\n",
       "      <td>610</td>\n",
       "      <td>70957</td>\n",
       "      <td>305650</td>\n",
       "      <td>0</td>\n",
       "      <td>0</td>\n",
       "      <td>76</td>\n",
       "      <td>872</td>\n",
       "      <td>0</td>\n",
       "      <td>0</td>\n",
       "      <td>285</td>\n",
       "      <td>0</td>\n",
       "      <td>2505</td>\n",
       "      <td>59259</td>\n",
       "    </tr>\n",
       "    <tr>\n",
       "      <th>column</th>\n",
       "      <td>900</td>\n",
       "      <td>7018</td>\n",
       "      <td>282961</td>\n",
       "      <td>2016</td>\n",
       "      <td>2812</td>\n",
       "      <td>15610</td>\n",
       "      <td>0</td>\n",
       "      <td>506</td>\n",
       "      <td>305</td>\n",
       "      <td>0</td>\n",
       "      <td>1555</td>\n",
       "      <td>0</td>\n",
       "      <td>0</td>\n",
       "      <td>16381</td>\n",
       "    </tr>\n",
       "    <tr>\n",
       "      <th>window</th>\n",
       "      <td>1595</td>\n",
       "      <td>4000</td>\n",
       "      <td>70702</td>\n",
       "      <td>0</td>\n",
       "      <td>0</td>\n",
       "      <td>85453</td>\n",
       "      <td>0</td>\n",
       "      <td>4835</td>\n",
       "      <td>363</td>\n",
       "      <td>6</td>\n",
       "      <td>501</td>\n",
       "      <td>0</td>\n",
       "      <td>7338</td>\n",
       "      <td>60756</td>\n",
       "    </tr>\n",
       "    <tr>\n",
       "      <th>door</th>\n",
       "      <td>56</td>\n",
       "      <td>15658</td>\n",
       "      <td>499988</td>\n",
       "      <td>48332</td>\n",
       "      <td>0</td>\n",
       "      <td>0</td>\n",
       "      <td>4782</td>\n",
       "      <td>1028</td>\n",
       "      <td>5804</td>\n",
       "      <td>0</td>\n",
       "      <td>5692</td>\n",
       "      <td>0</td>\n",
       "      <td>298</td>\n",
       "      <td>27684</td>\n",
       "    </tr>\n",
       "    <tr>\n",
       "      <th>table</th>\n",
       "      <td>3114</td>\n",
       "      <td>14332</td>\n",
       "      <td>20994</td>\n",
       "      <td>0</td>\n",
       "      <td>0</td>\n",
       "      <td>582</td>\n",
       "      <td>0</td>\n",
       "      <td>76157</td>\n",
       "      <td>109989</td>\n",
       "      <td>0</td>\n",
       "      <td>4187</td>\n",
       "      <td>0</td>\n",
       "      <td>1358</td>\n",
       "      <td>287563</td>\n",
       "    </tr>\n",
       "    <tr>\n",
       "      <th>chair</th>\n",
       "      <td>79</td>\n",
       "      <td>31587</td>\n",
       "      <td>21664</td>\n",
       "      <td>0</td>\n",
       "      <td>0</td>\n",
       "      <td>23</td>\n",
       "      <td>0</td>\n",
       "      <td>9038</td>\n",
       "      <td>316191</td>\n",
       "      <td>0</td>\n",
       "      <td>779</td>\n",
       "      <td>0</td>\n",
       "      <td>37</td>\n",
       "      <td>63695</td>\n",
       "    </tr>\n",
       "    <tr>\n",
       "      <th>sofa</th>\n",
       "      <td>0</td>\n",
       "      <td>5511</td>\n",
       "      <td>2600</td>\n",
       "      <td>0</td>\n",
       "      <td>0</td>\n",
       "      <td>0</td>\n",
       "      <td>0</td>\n",
       "      <td>514</td>\n",
       "      <td>27305</td>\n",
       "      <td>0</td>\n",
       "      <td>194</td>\n",
       "      <td>0</td>\n",
       "      <td>0</td>\n",
       "      <td>11806</td>\n",
       "    </tr>\n",
       "    <tr>\n",
       "      <th>bookcase</th>\n",
       "      <td>226</td>\n",
       "      <td>9423</td>\n",
       "      <td>156526</td>\n",
       "      <td>6317</td>\n",
       "      <td>0</td>\n",
       "      <td>31</td>\n",
       "      <td>187</td>\n",
       "      <td>12620</td>\n",
       "      <td>22194</td>\n",
       "      <td>0</td>\n",
       "      <td>34429</td>\n",
       "      <td>0</td>\n",
       "      <td>93</td>\n",
       "      <td>73699</td>\n",
       "    </tr>\n",
       "    <tr>\n",
       "      <th>board</th>\n",
       "      <td>565</td>\n",
       "      <td>1024</td>\n",
       "      <td>108786</td>\n",
       "      <td>198</td>\n",
       "      <td>0</td>\n",
       "      <td>78</td>\n",
       "      <td>0</td>\n",
       "      <td>850</td>\n",
       "      <td>334</td>\n",
       "      <td>0</td>\n",
       "      <td>539</td>\n",
       "      <td>0</td>\n",
       "      <td>2310</td>\n",
       "      <td>35334</td>\n",
       "    </tr>\n",
       "    <tr>\n",
       "      <th>stairs</th>\n",
       "      <td>10885</td>\n",
       "      <td>4</td>\n",
       "      <td>3638</td>\n",
       "      <td>0</td>\n",
       "      <td>0</td>\n",
       "      <td>0</td>\n",
       "      <td>0</td>\n",
       "      <td>0</td>\n",
       "      <td>2569</td>\n",
       "      <td>0</td>\n",
       "      <td>0</td>\n",
       "      <td>0</td>\n",
       "      <td>562</td>\n",
       "      <td>4629</td>\n",
       "    </tr>\n",
       "    <tr>\n",
       "      <th>clutter</th>\n",
       "      <td>300740</td>\n",
       "      <td>27959</td>\n",
       "      <td>202125</td>\n",
       "      <td>20014</td>\n",
       "      <td>1237</td>\n",
       "      <td>5316</td>\n",
       "      <td>83</td>\n",
       "      <td>36639</td>\n",
       "      <td>86497</td>\n",
       "      <td>0</td>\n",
       "      <td>23532</td>\n",
       "      <td>0</td>\n",
       "      <td>13109</td>\n",
       "      <td>502291</td>\n",
       "    </tr>\n",
       "  </tbody>\n",
       "</table>\n",
       "</div>"
      ],
      "text/plain": [
       "          ceiling    floor     wall    beam  column  window  door  table  \\\n",
       "ceiling   1978676    16600    51767    6683     103    9154     0   2113   \n",
       "floor        6136  1947107     7250       0       0       0     0      0   \n",
       "wall        33441    50190  1255620   74884    1372   53651   269  28264   \n",
       "beam        28107      610    70957  305650       0       0    76    872   \n",
       "column        900     7018   282961    2016    2812   15610     0    506   \n",
       "window       1595     4000    70702       0       0   85453     0   4835   \n",
       "door           56    15658   499988   48332       0       0  4782   1028   \n",
       "table        3114    14332    20994       0       0     582     0  76157   \n",
       "chair          79    31587    21664       0       0      23     0   9038   \n",
       "sofa            0     5511     2600       0       0       0     0    514   \n",
       "bookcase      226     9423   156526    6317       0      31   187  12620   \n",
       "board         565     1024   108786     198       0      78     0    850   \n",
       "stairs      10885        4     3638       0       0       0     0      0   \n",
       "clutter    300740    27959   202125   20014    1237    5316    83  36639   \n",
       "\n",
       "           chair  sofa  bookcase  board  stairs  clutter  \n",
       "ceiling     3585     0       125      0   17323   415292  \n",
       "floor        348     0         0      0   13332   211651  \n",
       "wall       41413     6     45726      0   21789   805983  \n",
       "beam           0     0       285      0    2505    59259  \n",
       "column       305     0      1555      0       0    16381  \n",
       "window       363     6       501      0    7338    60756  \n",
       "door        5804     0      5692      0     298    27684  \n",
       "table     109989     0      4187      0    1358   287563  \n",
       "chair     316191     0       779      0      37    63695  \n",
       "sofa       27305     0       194      0       0    11806  \n",
       "bookcase   22194     0     34429      0      93    73699  \n",
       "board        334     0       539      0    2310    35334  \n",
       "stairs      2569     0         0      0     562     4629  \n",
       "clutter    86497     0     23532      0   13109   502291  "
      ]
     },
     "execution_count": 69,
     "metadata": {},
     "output_type": "execute_result"
    }
   ],
   "source": [
    "from sklearn.metrics import confusion_matrix\n",
    "\n",
    "test_confusion = pd.DataFrame(confusion_matrix(total_test_targets, total_test_preds),\n",
    "                              columns=list(CATEGORIES.keys()),\n",
    "                              index=list(CATEGORIES.keys()))\n",
    "\n",
    "test_confusion"
   ]
  },
  {
   "attachments": {},
   "cell_type": "markdown",
   "metadata": {},
   "source": [
    "#### View test results on full space"
   ]
  },
  {
   "cell_type": "code",
   "execution_count": null,
   "metadata": {},
   "outputs": [],
   "source": [
    "torch.cuda.empty_cache() # release GPU memory\n",
    "points, targets = s3dis_test.get_random_partitioned_space()\n",
    "\n",
    "# place on device\n",
    "points = points.to(device)\n",
    "targets = targets.to(device)\n",
    "\n",
    "# Normalize each partitioned Point Cloud to (0, 1)\n",
    "norm_points = points.clone()\n",
    "norm_points = norm_points - norm_points.min(axis=1)[0].unsqueeze(1)\n",
    "norm_points /= norm_points.max(axis=1)[0].unsqueeze(1)\n",
    "\n",
    "with torch.no_grad():\n",
    "\n",
    "    norm_points = norm_points.transpose(2, 1)\n",
    "    targets = targets.squeeze()\n",
    "\n",
    "    preds, _, A = model(norm_points)\n",
    "\n",
    "    pred_choice = torch.softmax(preds, dim=2).argmax(dim=2)\n",
    "    correct = pred_choice.eq(targets.data).cpu().sum()\n",
    "    accuracy = correct/float(points.shape[0]*NUM_TEST_POINTS)\n",
    "    mcc = mcc_metric(preds.transpose(2, 1), targets)"
   ]
  },
  {
   "attachments": {},
   "cell_type": "markdown",
   "metadata": {},
   "source": [
    "Display the truth and predictions"
   ]
  },
  {
   "cell_type": "code",
   "execution_count": 22,
   "metadata": {},
   "outputs": [
    {
     "data": {
      "application/vnd.jupyter.widget-view+json": {
       "model_id": "a28f2963762348fbb6e17647127376eb",
       "version_major": 2,
       "version_minor": 0
      },
      "text/plain": [
       "WebVisualizer(window_uid='window_4')"
      ]
     },
     "metadata": {},
     "output_type": "display_data"
    }
   ],
   "source": [
    "pcd = o3.geometry.PointCloud()\n",
    "pcd.points = o3.utility.Vector3dVector(points.permute(2, 0, 1).reshape(3, -1).to('cpu').T)\n",
    "pcd.colors = o3.utility.Vector3dVector(np.vstack(v_map_colors(targets.reshape(-1).to('cpu'))).T/255)\n",
    "\n",
    "draw(pcd)"
   ]
  },
  {
   "cell_type": "code",
   "execution_count": 17,
   "metadata": {},
   "outputs": [
    {
     "data": {
      "application/vnd.jupyter.widget-view+json": {
       "model_id": "a69cde49b3074973a4135a7b912547f1",
       "version_major": 2,
       "version_minor": 0
      },
      "text/plain": [
       "WebVisualizer(window_uid='window_2')"
      ]
     },
     "metadata": {},
     "output_type": "display_data"
    }
   ],
   "source": [
    "pcd = o3.geometry.PointCloud()\n",
    "pcd.points = o3.utility.Vector3dVector(points.to('cpu')[2, :, :])\n",
    "pcd.colors = o3.utility.Vector3dVector(np.vstack(v_map_colors(targets.to('cpu')[2, :])).T/255)\n",
    "\n",
    "draw(pcd)"
   ]
  },
  {
   "cell_type": "code",
   "execution_count": 23,
   "metadata": {},
   "outputs": [
    {
     "data": {
      "application/vnd.jupyter.widget-view+json": {
       "model_id": "252a302b558b464dbd40033bae1325dc",
       "version_major": 2,
       "version_minor": 0
      },
      "text/plain": [
       "WebVisualizer(window_uid='window_5')"
      ]
     },
     "metadata": {},
     "output_type": "display_data"
    }
   ],
   "source": [
    "pcd = o3.geometry.PointCloud()\n",
    "pcd.points = o3.utility.Vector3dVector(points.permute(2, 0, 1).reshape(3, -1).to('cpu').T)\n",
    "pcd.colors = o3.utility.Vector3dVector(np.vstack(v_map_colors(pred_choice.reshape(-1).to('cpu'))).T/255)\n",
    "\n",
    "draw(pcd)"
   ]
  },
  {
   "cell_type": "code",
   "execution_count": 18,
   "metadata": {},
   "outputs": [
    {
     "data": {
      "application/vnd.jupyter.widget-view+json": {
       "model_id": "a55ddd1c15c748e1a610c718718903fc",
       "version_major": 2,
       "version_minor": 0
      },
      "text/plain": [
       "WebVisualizer(window_uid='window_3')"
      ]
     },
     "metadata": {},
     "output_type": "display_data"
    }
   ],
   "source": [
    "pcd = o3.geometry.PointCloud()\n",
    "pcd.points = o3.utility.Vector3dVector(points.to('cpu')[2, :, :])\n",
    "pcd.colors = o3.utility.Vector3dVector(np.vstack(v_map_colors(pred_choice.to('cpu')[2, :])).T/255)\n",
    "\n",
    "draw(pcd)"
   ]
  },
  {
   "attachments": {},
   "cell_type": "markdown",
   "metadata": {},
   "source": [
    "### General Notes\n",
    "\n",
    "It appears that not using the regularized loss leads to quicker training i.e. better performance with less epochs. Some more experimentation could be done to check if the regularization leads to superior performance over a longer training period."
   ]
  },
  {
   "cell_type": "code",
   "execution_count": null,
   "metadata": {},
   "outputs": [],
   "source": []
  }
 ],
 "metadata": {
  "kernelspec": {
   "display_name": "Python 3.8.12 ('base')",
   "language": "python",
   "name": "python3"
  },
  "language_info": {
   "codemirror_mode": {
    "name": "ipython",
    "version": 3
   },
   "file_extension": ".py",
   "mimetype": "text/x-python",
   "name": "python",
   "nbconvert_exporter": "python",
   "pygments_lexer": "ipython3",
   "version": "3.8.12"
  },
  "orig_nbformat": 4,
  "vscode": {
   "interpreter": {
    "hash": "6c3515861ec4313dacaa20b0eec5bf326e6557b6589b7b6a4fe3c8baa566747d"
   }
  }
 },
 "nbformat": 4,
 "nbformat_minor": 2
}
