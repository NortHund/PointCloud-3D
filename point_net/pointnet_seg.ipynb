{
 "cells": [
  {
   "attachments": {},
   "cell_type": "markdown",
   "metadata": {},
   "source": [
    "# Point Net Segmentation\n",
    "\n",
    "This notebook will explore the Segmentation head of Point Net using the reduced and paritioned version of S3DIS dataset. This version is similar to the one used by torch geometry except that we will have to normalize and sample data on the fly. "
   ]
  },
  {
   "attachments": {},
   "cell_type": "markdown",
   "metadata": {},
   "source": [
    "#### **Current State: Mildly Chaotic**\n",
    "\n",
    "#### TODO:\n",
    "- ensure that everything else is organized\n",
    "- Continue training and testing\n",
    "- Add descriptive analytics for dataset to help with understanding and training\n",
    "- Add intuitive explainations and theory as needed"
   ]
  },
  {
   "attachments": {},
   "cell_type": "markdown",
   "metadata": {},
   "source": [
    "TEMP NOTE\n",
    "\n",
    "use \"git reset HEAD~1\" to go back one commit\n",
    "\n",
    "https://stackoverflow.com/questions/20002557/how-to-remove-a-too-large-file-in-a-commit-when-my-branch-is-ahead-of-master-by"
   ]
  },
  {
   "cell_type": "code",
   "execution_count": 1,
   "metadata": {},
   "outputs": [
    {
     "name": "stdout",
     "output_type": "stream",
     "text": [
      "Jupyter environment detected. Enabling Open3D WebVisualizer.\n",
      "[Open3D INFO] WebRTC GUI backend enabled.\n",
      "[Open3D INFO] WebRTCWindowSystem: HTTP handshake server disabled.\n",
      "[Open3D INFO] Resetting default logger to print to terminal.\n"
     ]
    }
   ],
   "source": [
    "import os\n",
    "import re\n",
    "from glob import glob\n",
    "import time\n",
    "import random\n",
    "import numpy as np\n",
    "import pandas as pd\n",
    "import torch\n",
    "import torch.nn as nn\n",
    "import torch.nn.functional as F\n",
    "import torchmetrics\n",
    "from torchmetrics.classification import MulticlassMatthewsCorrCoef\n",
    "import open3d as o3\n",
    "# from open3d import JVisualizer # For Colab Visualization\n",
    "from open3d.web_visualizer import draw # for non Colab\n",
    "\n",
    "import matplotlib.pyplot as plt\n",
    "%matplotlib inline"
   ]
  },
  {
   "cell_type": "code",
   "execution_count": 2,
   "metadata": {},
   "outputs": [],
   "source": [
    "# TEMP for supressing pytorch user warnings\n",
    "import warnings\n",
    "warnings.filterwarnings(\"ignore\")"
   ]
  },
  {
   "attachments": {},
   "cell_type": "markdown",
   "metadata": {},
   "source": [
    "Initialize variables for entire notebook"
   ]
  },
  {
   "cell_type": "code",
   "execution_count": 208,
   "metadata": {},
   "outputs": [],
   "source": [
    "# dataset\n",
    "ROOT = r'C:\\Users\\itber\\Documents\\datasets\\S3DIS\\Stanford3dDataset_v1.2_Reduced_Partitioned_Aligned_Version'\n",
    "NUM_CLASSES = 14\n",
    "\n",
    "# feature selection hyperparameters\n",
    "NUM_TRAIN_POINTS = 4096 # train/valid points\n",
    "NUM_TEST_POINTS = 10000\n",
    "\n",
    "# training hyperparameters\n",
    "BATCH_SIZE = 16\n",
    "EPOCHS = 50\n",
    "LR = 0.01"
   ]
  },
  {
   "cell_type": "code",
   "execution_count": 4,
   "metadata": {},
   "outputs": [],
   "source": [
    "CATEGORIES = {\n",
    "    'ceiling'  : 0, \n",
    "    'floor'    : 1, \n",
    "    'wall'     : 2, \n",
    "    'beam'     : 3, \n",
    "    'column'   : 4, \n",
    "    'window'   : 5,\n",
    "    'door'     : 6, \n",
    "    'table'    : 7, \n",
    "    'chair'    : 8, \n",
    "    'sofa'     : 9, \n",
    "    'bookcase' : 10, \n",
    "    'board'    : 11,\n",
    "    'stairs'   : 12,\n",
    "    'clutter'  : 13\n",
    "}\n",
    "\n",
    "# unique color map generated via\n",
    "# https://mokole.com/palette.html\n",
    "COLOR_MAP = {\n",
    "    0  : (47, 79, 79),    # ceiling - darkslategray\n",
    "    1  : (139, 69, 19),   # floor - saddlebrown\n",
    "    2  : (34, 139, 34),   # wall - forestgreen\n",
    "    3  : (75, 0, 130),    # beam - indigo\n",
    "    4  : (255, 0, 0),     # column - red \n",
    "    5  : (255, 255, 0),   # window - yellow\n",
    "    6  : (0, 255, 0),     # door - lime\n",
    "    7  : (0, 255, 255),   # table - aqua\n",
    "    8  : (0, 0, 255),     # chair - blue\n",
    "    9  : (255, 0, 255),   # sofa - fuchsia\n",
    "    10 : (238, 232, 170), # bookcase - palegoldenrod\n",
    "    11 : (100, 149, 237), # board - cornflower\n",
    "    12 : (255, 105, 180), # stairs - hotpink\n",
    "    13 : (0, 0, 0)        # clutter - black\n",
    "}\n",
    "\n",
    "v_map_colors = np.vectorize(lambda x : COLOR_MAP[x])"
   ]
  },
  {
   "attachments": {},
   "cell_type": "markdown",
   "metadata": {},
   "source": [
    "#### Get Datasets and Dataloaders"
   ]
  },
  {
   "cell_type": "code",
   "execution_count": 5,
   "metadata": {},
   "outputs": [],
   "source": [
    "from torch.utils.data import DataLoader\n",
    "from s3dis_dataset import S3DIS\n",
    "\n",
    "# get datasets\n",
    "s3dis_train = S3DIS(ROOT, area_nums='1-4', npoints=NUM_TRAIN_POINTS)\n",
    "s3dis_valid = S3DIS(ROOT, area_nums='5', npoints=NUM_TRAIN_POINTS)\n",
    "s3dis_test = S3DIS(ROOT, area_nums='6', split='test', npoints=NUM_TEST_POINTS)\n",
    "\n",
    "# get dataloaders\n",
    "train_dataloader = DataLoader(s3dis_train, batch_size=BATCH_SIZE, shuffle=True)\n",
    "valid_dataloader = DataLoader(s3dis_valid, batch_size=BATCH_SIZE, shuffle=True)\n",
    "test_dataloader = DataLoader(s3dis_test, batch_size=BATCH_SIZE, shuffle=False)"
   ]
  },
  {
   "cell_type": "markdown",
   "metadata": {},
   "source": [
    "Get an example and display it"
   ]
  },
  {
   "cell_type": "code",
   "execution_count": 6,
   "metadata": {},
   "outputs": [
    {
     "data": {
      "application/vnd.jupyter.widget-view+json": {
       "model_id": "9ecd33b4bf96472181b98e64e07788c9",
       "version_major": 2,
       "version_minor": 0
      },
      "text/plain": [
       "WebVisualizer(window_uid='window_0')"
      ]
     },
     "metadata": {},
     "output_type": "display_data"
    }
   ],
   "source": [
    "points, targets = s3dis_train[1000]\n",
    "\n",
    "pcd = o3.geometry.PointCloud()\n",
    "pcd.points = o3.utility.Vector3dVector(points)\n",
    "pcd.colors = o3.utility.Vector3dVector(np.vstack(v_map_colors(targets)).T/255)\n",
    "\n",
    "draw(pcd)"
   ]
  },
  {
   "attachments": {},
   "cell_type": "markdown",
   "metadata": {},
   "source": [
    "#### Investigate class distributions in the Training dataset\n",
    "\n",
    "NOTE: If you take a look at the S3DIS dataset class, you will notice that samples with less points than npoints are sampled with replacement. This means that some points will be oversampled. This will lead to a variable class balance eachtime the dataloader is called. However, you can run these cells many times and see that we will nearly always have the same ratios of classes."
   ]
  },
  {
   "cell_type": "code",
   "execution_count": 15,
   "metadata": {},
   "outputs": [],
   "source": [
    "total_train_targets = []\n",
    "for (_, targets) in train_dataloader:\n",
    "    total_train_targets += targets.reshape(-1).numpy().tolist()\n",
    "\n",
    "total_train_targets = np.array(total_train_targets)"
   ]
  },
  {
   "attachments": {},
   "cell_type": "markdown",
   "metadata": {},
   "source": [
    "Plot Barchart of category counts"
   ]
  },
  {
   "cell_type": "code",
   "execution_count": 16,
   "metadata": {},
   "outputs": [
    {
     "data": {
      "image/png": "[encoded data removed]",
      "text/plain": [
       "<Figure size 640x480 with 1 Axes>"
      ]
     },
     "metadata": {},
     "output_type": "display_data"
    }
   ],
   "source": [
    "class_bins = np.bincount(total_train_targets)\n",
    "\n",
    "plt.bar(list(CATEGORIES.keys()), class_bins, \n",
    "             color=[np.array(val)/255. for val in list(COLOR_MAP.values())],\n",
    "             edgecolor='black')\n",
    "plt.xticks(list(CATEGORIES.keys()), list(CATEGORIES.keys()), size=12, rotation=90)\n",
    "plt.ylabel('Counts', size=12)\n",
    "plt.title('Occurences of Each Category (Training - Areas 1-4)', size=14, pad=20);"
   ]
  },
  {
   "attachments": {},
   "cell_type": "markdown",
   "metadata": {},
   "source": [
    "We can see that this dataset is heavily imbalanced, the more common items such as ceiling, floor, and wall greatly outnumber all of the other categories. These classes are actually background classes. If we were to train using a loss such as Cross Entropy, we would consider each class to have an equal importance. Meaning, missclassifyng window is trreated the same as misclassifying wall. In reality, we would want our model to focus more on the uncommon categories and not care so much about the common ones. We have a priori knowledge that structures such as ceiling, wall, and floor are continuous and if we look at some training examples, we will see that they are like large sheets. If we were to only classify 60% of these, we would still be in pretty good shape. However, if we classify only 60% of the other less common classes, we may run into some serious generalization issues. One way to overcome the class imbalance is to use a weighted loss function. This will essentially tell the model (during training) to focus more on particular classes that it gets wrong (hard examples) and to focus less on the classes it tends to get right (easy examples)."
   ]
  },
  {
   "attachments": {},
   "cell_type": "markdown",
   "metadata": {},
   "source": [
    "*SIDE NOTE:*\n",
    "*With the notion that certain classes have unique structures, it may be more effective to perform object recognition as opposed to segmentation. Or use some sort of object recognition to augment the segmentation model and form some sort of ensemble.*"
   ]
  },
  {
   "attachments": {},
   "cell_type": "markdown",
   "metadata": {},
   "source": [
    "The loss that we will use is called the [Focal Loss](https://arxiv.org/pdf/1708.02002.pdf), it is a modified version of the Cross Entropy (CE) loss that is useful for imbalanced classification, it focuses the training on a sparse set of hard examples. \n",
    "\n",
    "We will also try to use the [Dice Loss](https://arxiv.org/pdf/1707.03237v3.pdf) and compare results"
   ]
  },
  {
   "attachments": {},
   "cell_type": "markdown",
   "metadata": {},
   "source": [
    "#### Focal Loss Notes:\n",
    "- it focuses training on a sparse set of hard examples\n",
    "- Predictions with Probability >> 0.5 are easy examples and they should not have a high loss\n",
    "   - This is because summing the losses of many easy examples will quickly overwhelm the loss of the few hard examples\n",
    "-"
   ]
  },
  {
   "attachments": {},
   "cell_type": "markdown",
   "metadata": {},
   "source": [
    "The Focal Loss is a modified Cross Entropy (CE) Loss. The CE Loss for a sample $n$ is given below. \n",
    "\n",
    "$$ CE(s_n, y_n) = -\\alpha_{y_n} log \\left( \\frac{exp(\\mathbf{s_n})}{\\sum_{c=1}^M exp(s_{n,c})} \\right) \\mathbf{1}_C(y_n) $$\n",
    "\n",
    "Where $\\mathbf{s_n}$ is the predicted class score vector (logits), $M$ is the number of classes, $y_n$ is the true class, $\\alpha_{y_n}$ is the class weight, and $\\mathbf{1}_C(y_n)$ is the [Indcator Function](https://en.wikipedia.org/wiki/Indicator_function) that tells us to only consider the prediction for the current class $y_n$. <br>\n",
    "$e.g.$ if $\\mathbf{s_n} = [0.02, 0.142, 0.356, 0.0012, 0.0456]$ and $y_n = 3$, then $\\mathbf{s_n}  \\mathbf{1}_C(y_n) = 0.0012$ (NOTE: we used zero indexing here).\n",
    "\n",
    "We may also notice that the term inside the $log$ is the Softmax function, which along wth the indicator function, gives us the predicted class probability. We can rewrite the CE Loss in a more simple format as:\n",
    "$$ CE(p_n) = -\\alpha_{y_n} log(p_n)  $$\n",
    "Where the $n$ subscript refers to the true class at sample $n$.\n",
    "\n",
    "<br> \n",
    "The CE loss is typically unweighted, but if a weight is used it is reffered to as the Balanced (or Weighted) CE Loss. The weights are usually based on inverse class distribution and typically range from [0, 1]. The weights can also be set as a hyperparameter via Cross Validation.\n",
    "\n",
    "$$ \\mathbf{\\alpha} = \\frac{1}{\\text{class counts}} $$\n",
    "We may also normalize alpha so that it spreads between [0,1]\n",
    "$$ \\alpha = \\frac{\\alpha}{\\max{\\alpha}} $$\n",
    "\n",
    "\n",
    "<br>\n",
    "\n",
    "The Focal Loss adds an additional modulating factor to the weighted CE Loss: $ (1 - p_n)^\\gamma $, where $\\gamma \\geq 0$ is referred to as the focusing parameter. This term has tends to 0 when the prediction probability is high, and has a larger value when the prediction probability is lower forcing the model to focus on the hard examples. It can be said that the focusing parameter smoothly adjusts the rate at which easy examples are down-weighted. We can formally express the Focal Loss as:\n",
    "\n",
    "$$ FL(p_n) = -\\alpha_{y_n} (1 - p_n)^\\gamma log(p_n)  $$\n",
    "\n",
    "<br> Summary: <br>\n",
    "- The Focal Loss is a modified version of the Balanced Cross Entropy Loss\n",
    "- The class weight $\\alpha$ balances the importance of loss values based class distribution\n",
    "- The modulating term forces the model to focus on the hard examples by downweighting the easy examples\n",
    "increasing the loss of predictions with lower probability.\n",
    "- The class weights $\\alpha$ and focusing parameter $\\gamma$ are hyperparameters that can be tuned \n",
    "\n",
    "<br>\n",
    "Sources: <br>\n",
    "\n",
    "- https://gombru.github.io/2018/05/23/cross_entropy_loss/ \n",
    "- https://pytorch.org/docs/master/generated/torch.nn.CrossEntropyLoss.html#torch.nn.CrossEntropyLoss\n",
    "- https://hasty.ai/docs/mp-wiki/loss/focal-loss\n",
    "- https://arxiv.org/pdf/1708.02002.pdf"
   ]
  },
  {
   "attachments": {},
   "cell_type": "markdown",
   "metadata": {},
   "source": [
    "### Get Segmentation Version of Point Net\n",
    "Make a test forward pass"
   ]
  },
  {
   "cell_type": "code",
   "execution_count": 231,
   "metadata": {},
   "outputs": [
    {
     "data": {
      "text/plain": [
       "torch.Size([16, 4096, 3])"
      ]
     },
     "execution_count": 231,
     "metadata": {},
     "output_type": "execute_result"
    }
   ],
   "source": [
    "points, targets = next(iter(train_dataloader))\n",
    "points.shape"
   ]
  },
  {
   "cell_type": "code",
   "execution_count": 232,
   "metadata": {},
   "outputs": [
    {
     "name": "stdout",
     "output_type": "stream",
     "text": [
      "Seg shape: torch.Size([16, 4096, 14])\n"
     ]
    }
   ],
   "source": [
    "from point_net import PointNetSegHead\n",
    "\n",
    "seg_model = PointNetSegHead(num_points=NUM_TRAIN_POINTS, m=NUM_CLASSES)\n",
    "out, _, _ = seg_model(points.transpose(2, 1))\n",
    "print(f'Seg shape: {out.shape}')"
   ]
  },
  {
   "cell_type": "markdown",
   "metadata": {},
   "source": [
    "## Start Training"
   ]
  },
  {
   "cell_type": "code",
   "execution_count": 233,
   "metadata": {},
   "outputs": [
    {
     "data": {
      "text/plain": [
       "'cuda'"
      ]
     },
     "execution_count": 233,
     "metadata": {},
     "output_type": "execute_result"
    }
   ],
   "source": [
    "device = 'cuda' if torch.cuda.is_available() else 'cpu'\n",
    "device"
   ]
  },
  {
   "attachments": {},
   "cell_type": "markdown",
   "metadata": {},
   "source": [
    "We will use a pytorch implementation of the focal loss based on code from this [repository](https://github.com/clcarwin/focal_loss_pytorch/blob/master/focalloss.py)"
   ]
  },
  {
   "cell_type": "code",
   "execution_count": 237,
   "metadata": {},
   "outputs": [],
   "source": [
    "from torch.autograd import Variable\n",
    "\n",
    "class FocalLoss(nn.Module):\n",
    "    def __init__(self, alpha=None, gamma=0, size_average=True):\n",
    "        super(FocalLoss, self).__init__()\n",
    "        self.alpha = alpha\n",
    "        self.gamma = gamma\n",
    "        self.size_average = size_average\n",
    "\n",
    "        # sanitize inputs\n",
    "        if isinstance(alpha,(float, int)): self.alpha = torch.Tensor([alpha,1-alpha])\n",
    "        if isinstance(alpha,(list, np.ndarray)): self.alpha = torch.Tensor(alpha)\n",
    "        \n",
    "\n",
    "    def forward(self, predictions, targets):\n",
    "        # reformat predictions and targets\n",
    "        predictions = predictions.transpose(1, 2) # (b, c, n) -> (b, n, c)\n",
    "        predictions = predictions.contiguous().view(-1, predictions.size(2)) # (b, n, c) -> (b*n, c)\n",
    "\n",
    "        targets = targets.view(-1,1)\n",
    "\n",
    "        # get log softmax of predictions\n",
    "        log_pn = F.log_softmax(predictions)\n",
    "\n",
    "        # get predictions at true class indexes\n",
    "        log_pn = log_pn.gather(1, targets).view(-1) # index log softmax values at targets\n",
    "\n",
    "        # get predicted probabilities\n",
    "        pn = Variable(log_pn.data.exp())\n",
    "\n",
    "        if self.alpha is not None:\n",
    "            if self.alpha.type() != predictions.data.type():\n",
    "                self.alpha = self.alpha.type_as(predictions.data)\n",
    "            at = self.alpha.gather(0, targets.data.view(-1))\n",
    "            log_pn = log_pn * Variable(at)\n",
    "\n",
    "        loss = -1*(1 - pn)**self.gamma * log_pn\n",
    "        if self.size_average: return loss.mean()\n",
    "        else: return loss.sum()"
   ]
  },
  {
   "attachments": {},
   "cell_type": "markdown",
   "metadata": {},
   "source": [
    "Compute $\\alpha$ as the normalized inverse class frequency"
   ]
  },
  {
   "cell_type": "code",
   "execution_count": 238,
   "metadata": {},
   "outputs": [
    {
     "data": {
      "text/plain": [
       "array([0.01712165, 0.01870981, 0.01736544, 0.24113853, 0.27274772,\n",
       "       0.26665623, 0.07862921, 0.16274182, 0.08636145, 0.9219807 ,\n",
       "       0.10403315, 0.44222093, 1.        , 0.03802745])"
      ]
     },
     "execution_count": 238,
     "metadata": {},
     "output_type": "execute_result"
    }
   ],
   "source": [
    "alpha = 1 / class_bins\n",
    "alpha = (alpha/alpha.max())\n",
    "alpha"
   ]
  },
  {
   "attachments": {},
   "cell_type": "markdown",
   "metadata": {},
   "source": [
    "Get Optimizer and Criterion"
   ]
  },
  {
   "cell_type": "code",
   "execution_count": 239,
   "metadata": {},
   "outputs": [],
   "source": [
    "import torch.nn as nn \n",
    "import torch.optim as optim\n",
    "if torch.cuda.is_available():\n",
    "    import torch.backends.cudnn as cudnn\n",
    "\n",
    "optimizer = optim.Adam(seg_model.parameters(), lr=0.01)\n",
    "criterion = FocalLoss(gamma=1, alpha=alpha)\n",
    "\n",
    "seg_model = seg_model.to(device)"
   ]
  },
  {
   "attachments": {},
   "cell_type": "markdown",
   "metadata": {},
   "source": [
    "For our training we will want to quantify how well our model is performing. Typically we look at loss and accuracy, but for this segmentation problem we will need a mteric that accounts for incorrect classifcation as well as correct classification. The Matthews Correlation Coefficent does this and we will use it to quantify our performance. The MCC ranges from -1 to 1, to understand what the MCC is reporting:\n",
    "- 0 indicates a random guess\n",
    "- -1 is the worst possible performance\n",
    "- 1 is the best possible performance"
   ]
  },
  {
   "cell_type": "code",
   "execution_count": 240,
   "metadata": {},
   "outputs": [],
   "source": [
    "mcc_metric = MulticlassMatthewsCorrCoef(num_classes=NUM_CLASSES).to(device)"
   ]
  },
  {
   "cell_type": "code",
   "execution_count": 241,
   "metadata": {},
   "outputs": [
    {
     "name": "stdout",
     "output_type": "stream",
     "text": [
      "\t [1: 0/274] train loss: 1066.209961 accuracy: 0.064224 mcc: 0.002446\n",
      "\t [1: 100/274] train loss: 252432.796875 accuracy: 0.252365 mcc: 0.214748\n",
      "\t [1: 200/274] train loss: 411615.187500 accuracy: 0.256165 mcc: 0.201633\n",
      "Epoch: 1 - Train Loss: 322469.2334490412 - Train Accuracy: 0.23723915219306946 - Train MCC: 0.18953174689191987\n",
      "\t [1: 0/145] validation loss: 384160.406250 accuracy: 0.456635 mcc: 0.382978\n",
      "\t [1: 100/145] validation loss: 331816.000000 accuracy: 0.323639 mcc: 0.291344\n",
      "Epoch: 1 - Validation Loss: 1148439.308219178 - Validation Accuracy: 0.36292967200279236 - Validation MCC: 0.3105079793970879\n",
      "\t [2: 0/274] train loss: 519097.468750 accuracy: 0.379135 mcc: 0.320236\n",
      "\t [2: 100/274] train loss: 478648.593750 accuracy: 0.393158 mcc: 0.345396\n",
      "\t [2: 200/274] train loss: 484378.656250 accuracy: 0.402573 mcc: 0.350670\n",
      "Epoch: 2 - Train Loss: 558170.3069318181 - Train Accuracy: 0.39629510045051575 - Train MCC: 0.35070319611917844\n",
      "\t [2: 0/145] validation loss: 348395.500000 accuracy: 0.294281 mcc: 0.273737\n",
      "\t [2: 100/145] validation loss: 554599.437500 accuracy: 0.380234 mcc: 0.336302\n",
      "Epoch: 2 - Validation Loss: 1608956.660744863 - Validation Accuracy: 0.38411858677864075 - Validation MCC: 0.3444169632171931\n",
      "\t [3: 0/274] train loss: 487805.968750 accuracy: 0.350021 mcc: 0.322752\n",
      "\t [3: 100/274] train loss: 539977.937500 accuracy: 0.335571 mcc: 0.319428\n",
      "\t [3: 200/274] train loss: 629317.500000 accuracy: 0.398575 mcc: 0.319411\n",
      "Epoch: 3 - Train Loss: 535212.9076136363 - Train Accuracy: 0.407272607088089 - Train MCC: 0.3640447203679518\n",
      "\t [3: 0/145] validation loss: 1013551.250000 accuracy: 0.196243 mcc: 0.173781\n",
      "\t [3: 100/145] validation loss: 201215.500000 accuracy: 0.240158 mcc: 0.190158\n",
      "Epoch: 3 - Validation Loss: 2781454.7257063356 - Validation Accuracy: 0.23171871900558472 - Validation MCC: 0.19784383455367938\n",
      "\t [4: 0/274] train loss: 565588.187500 accuracy: 0.328171 mcc: 0.297377\n",
      "\t [4: 100/274] train loss: 537652.125000 accuracy: 0.382401 mcc: 0.344866\n",
      "\t [4: 200/274] train loss: 468057.437500 accuracy: 0.330795 mcc: 0.279006\n",
      "Epoch: 4 - Train Loss: 514457.1603409091 - Train Accuracy: 0.41299137473106384 - Train MCC: 0.3697420073097402\n",
      "\t [4: 0/145] validation loss: 7389084.000000 accuracy: 0.377975 mcc: 0.331858\n",
      "\t [4: 100/145] validation loss: 79277880.000000 accuracy: 0.349380 mcc: 0.300430\n",
      "Epoch: 4 - Validation Loss: 3189608.9636130137 - Validation Accuracy: 0.3080376386642456 - Validation MCC: 0.2832603125947796\n",
      "\t [5: 0/274] train loss: 417869.375000 accuracy: 0.415344 mcc: 0.375263\n",
      "\t [5: 100/274] train loss: 445424.437500 accuracy: 0.413651 mcc: 0.380428\n",
      "\t [5: 200/274] train loss: 423437.812500 accuracy: 0.500854 mcc: 0.457787\n",
      "Epoch: 5 - Train Loss: 426580.9773863636 - Train Accuracy: 0.41747337579727173 - Train MCC: 0.3759548485820944\n",
      "\t [5: 0/145] validation loss: 839105.437500 accuracy: 0.595718 mcc: 0.530358\n",
      "\t [5: 100/145] validation loss: 560502.500000 accuracy: 0.533447 mcc: 0.483546\n",
      "Epoch: 5 - Validation Loss: 387406.07619863015 - Validation Accuracy: 0.4782581031322479 - Validation MCC: 0.4355366597436879\n",
      "\t [6: 0/274] train loss: 409892.093750 accuracy: 0.534149 mcc: 0.463965\n",
      "\t [6: 100/274] train loss: 444902.156250 accuracy: 0.373886 mcc: 0.345453\n",
      "\t [6: 200/274] train loss: 464033.562500 accuracy: 0.315399 mcc: 0.292497\n",
      "Epoch: 6 - Train Loss: 434214.78602272726 - Train Accuracy: 0.4204246997833252 - Train MCC: 0.3810416703332554\n",
      "\t [6: 0/145] validation loss: 396968.656250 accuracy: 0.525467 mcc: 0.456398\n",
      "\t [6: 100/145] validation loss: 618724.687500 accuracy: 0.399658 mcc: 0.367561\n",
      "Epoch: 6 - Validation Loss: 23580811.39404966 - Validation Accuracy: 0.43520575761795044 - Validation MCC: 0.39489904158327677\n",
      "\t [7: 0/274] train loss: 436726.875000 accuracy: 0.357895 mcc: 0.344481\n",
      "\t [7: 100/274] train loss: 460440.875000 accuracy: 0.449844 mcc: 0.413004\n",
      "\t [7: 200/274] train loss: 496084.656250 accuracy: 0.526184 mcc: 0.474191\n",
      "Epoch: 7 - Train Loss: 458853.3436363636 - Train Accuracy: 0.4450235962867737 - Train MCC: 0.40551189942793414\n",
      "\t [7: 0/145] validation loss: 385952.125000 accuracy: 0.400757 mcc: 0.362952\n",
      "\t [7: 100/145] validation loss: 416819.500000 accuracy: 0.483658 mcc: 0.420126\n",
      "Epoch: 7 - Validation Loss: 6319406821.358305 - Validation Accuracy: 0.49177688360214233 - Validation MCC: 0.43908164946183764\n",
      "\t [8: 0/274] train loss: 437849.656250 accuracy: 0.464554 mcc: 0.425456\n",
      "\t [8: 100/274] train loss: 414692.500000 accuracy: 0.442047 mcc: 0.400821\n",
      "\t [8: 200/274] train loss: 457627.500000 accuracy: 0.395493 mcc: 0.350400\n",
      "Epoch: 8 - Train Loss: 460138.41511363635 - Train Accuracy: 0.4438035488128662 - Train MCC: 0.4037963832508434\n",
      "\t [8: 0/145] validation loss: 467160.718750 accuracy: 0.535904 mcc: 0.476200\n",
      "\t [8: 100/145] validation loss: 473899.000000 accuracy: 0.595490 mcc: 0.548268\n",
      "Epoch: 8 - Validation Loss: 81200470693634.67 - Validation Accuracy: 0.4777287542819977 - Validation MCC: 0.43648043826018296\n",
      "\t [9: 0/274] train loss: 494037.312500 accuracy: 0.552521 mcc: 0.474856\n",
      "\t [9: 100/274] train loss: 568489.187500 accuracy: 0.452347 mcc: 0.409915\n",
      "\t [9: 200/274] train loss: 568625.125000 accuracy: 0.463287 mcc: 0.437065\n",
      "Epoch: 9 - Train Loss: 555045.4471590909 - Train Accuracy: 0.4554635286331177 - Train MCC: 0.41357996864752333\n",
      "\t [9: 0/145] validation loss: 564158.062500 accuracy: 0.289215 mcc: 0.236402\n",
      "\t [9: 100/145] validation loss: 579271.312500 accuracy: 0.271103 mcc: 0.234174\n",
      "Epoch: 9 - Validation Loss: inf - Validation Accuracy: 0.2794910669326782 - Validation MCC: 0.21672309766689393\n",
      "\t [10: 0/274] train loss: 586694.875000 accuracy: 0.365921 mcc: 0.329803\n",
      "\t [10: 100/274] train loss: 675054.312500 accuracy: 0.506729 mcc: 0.443783\n",
      "\t [10: 200/274] train loss: 697294.375000 accuracy: 0.472992 mcc: 0.428360\n",
      "Epoch: 10 - Train Loss: 679824.3936363637 - Train Accuracy: 0.46110767126083374 - Train MCC: 0.41717968117107046\n",
      "\t [10: 0/145] validation loss: 689936.937500 accuracy: 0.414337 mcc: 0.376375\n",
      "\t [10: 100/145] validation loss: 646818.875000 accuracy: 0.524475 mcc: 0.470236\n",
      "Epoch: 10 - Validation Loss: inf - Validation Accuracy: 0.48922258615493774 - Validation MCC: 0.44367843580572575\n",
      "\t [11: 0/274] train loss: 717220.062500 accuracy: 0.394135 mcc: 0.365731\n",
      "\t [11: 100/274] train loss: 735704.312500 accuracy: 0.406235 mcc: 0.380799\n",
      "\t [11: 200/274] train loss: 872901.562500 accuracy: 0.387665 mcc: 0.368217\n",
      "Epoch: 11 - Train Loss: 793483.7297727272 - Train Accuracy: 0.47234946489334106 - Train MCC: 0.4287730622291565\n",
      "\t [11: 0/145] validation loss: 802243.187500 accuracy: 0.454880 mcc: 0.408640\n",
      "\t [11: 100/145] validation loss: 809449.437500 accuracy: 0.460037 mcc: 0.426820\n",
      "Epoch: 11 - Validation Loss: inf - Validation Accuracy: 0.5019259452819824 - Validation MCC: 0.4579444309211757\n",
      "\t [12: 0/274] train loss: 823712.687500 accuracy: 0.598343 mcc: 0.539544\n",
      "\t [12: 100/274] train loss: 886047.062500 accuracy: 0.441788 mcc: 0.402601\n",
      "\t [12: 200/274] train loss: 1075673.125000 accuracy: 0.451431 mcc: 0.412385\n",
      "Epoch: 12 - Train Loss: 945286.2995454546 - Train Accuracy: 0.47351813316345215 - Train MCC: 0.4301543244448575\n",
      "\t [12: 0/145] validation loss: 1115332.500000 accuracy: 0.542145 mcc: 0.482753\n",
      "\t [12: 100/145] validation loss: 1084909.125000 accuracy: 0.465637 mcc: 0.441484\n",
      "Epoch: 12 - Validation Loss: inf - Validation Accuracy: 0.48823118209838867 - Validation MCC: 0.45030417425991737\n",
      "\t [13: 0/274] train loss: 1118180.750000 accuracy: 0.530594 mcc: 0.491371\n",
      "\t [13: 100/274] train loss: 1237037.375000 accuracy: 0.526733 mcc: 0.482302\n",
      "\t [13: 200/274] train loss: 1180593.625000 accuracy: 0.369995 mcc: 0.320499\n",
      "Epoch: 13 - Train Loss: 1238916.8854545455 - Train Accuracy: 0.4762403964996338 - Train MCC: 0.43216315800493416\n",
      "\t [13: 0/145] validation loss: 1608476.500000 accuracy: 0.476776 mcc: 0.434411\n",
      "\t [13: 100/145] validation loss: 1602444.625000 accuracy: 0.471786 mcc: 0.443175\n",
      "Epoch: 13 - Validation Loss: inf - Validation Accuracy: 0.4953669607639313 - Validation MCC: 0.45142816660338886\n",
      "\t [14: 0/274] train loss: 1644927.000000 accuracy: 0.502502 mcc: 0.459147\n",
      "\t [14: 100/274] train loss: 1452591.125000 accuracy: 0.517349 mcc: 0.478902\n",
      "\t [14: 200/274] train loss: 1557486.375000 accuracy: 0.553482 mcc: 0.520870\n",
      "Epoch: 14 - Train Loss: 1530956.788181818 - Train Accuracy: 0.4896397888660431 - Train MCC: 0.44607754338871347\n",
      "\t [14: 0/145] validation loss: 1910410.375000 accuracy: 0.496414 mcc: 0.431121\n",
      "\t [14: 100/145] validation loss: 1995354.375000 accuracy: 0.536270 mcc: 0.461032\n",
      "Epoch: 14 - Validation Loss: inf - Validation Accuracy: 0.4265839159488678 - Validation MCC: 0.3828164475829634\n",
      "\t [15: 0/274] train loss: 1892229.125000 accuracy: 0.500580 mcc: 0.461208\n",
      "\t [15: 100/274] train loss: 1718381.000000 accuracy: 0.514359 mcc: 0.478208\n",
      "\t [15: 200/274] train loss: 2011199.875000 accuracy: 0.521118 mcc: 0.497517\n",
      "Epoch: 15 - Train Loss: 1865328.2581818183 - Train Accuracy: 0.4825630784034729 - Train MCC: 0.4390794166109779\n",
      "\t [15: 0/145] validation loss: 2071464.750000 accuracy: 0.468292 mcc: 0.432531\n",
      "\t [15: 100/145] validation loss: 2064222.125000 accuracy: 0.488403 mcc: 0.438981\n",
      "Epoch: 15 - Validation Loss: inf - Validation Accuracy: 0.5222897529602051 - Validation MCC: 0.4658084703634863\n",
      "\t [16: 0/274] train loss: 2047577.250000 accuracy: 0.355896 mcc: 0.329761\n",
      "\t [16: 100/274] train loss: 2013973.625000 accuracy: 0.582184 mcc: 0.520563\n",
      "\t [16: 200/274] train loss: 2063087.875000 accuracy: 0.395447 mcc: 0.358063\n",
      "Epoch: 16 - Train Loss: 2044581.6009090908 - Train Accuracy: 0.49731573462486267 - Train MCC: 0.45413851748813283\n",
      "\t [16: 0/145] validation loss: inf accuracy: 0.453369 mcc: 0.409438\n",
      "\t [16: 100/145] validation loss: 2157075.750000 accuracy: 0.495651 mcc: 0.438689\n",
      "Epoch: 16 - Validation Loss: inf - Validation Accuracy: 0.464022696018219 - Validation MCC: 0.41992021709272304\n",
      "\t [17: 0/274] train loss: 2230168.500000 accuracy: 0.485916 mcc: 0.446239\n",
      "\t [17: 100/274] train loss: 2442707.000000 accuracy: 0.402985 mcc: 0.390098\n",
      "\t [17: 200/274] train loss: 2380132.000000 accuracy: 0.542297 mcc: 0.479580\n",
      "Epoch: 17 - Train Loss: 2389534.4445454543 - Train Accuracy: 0.5036445260047913 - Train MCC: 0.4605772070451216\n",
      "\t [17: 0/145] validation loss: inf accuracy: 0.287125 mcc: 0.259934\n",
      "\t [17: 100/145] validation loss: inf accuracy: 0.219650 mcc: 0.184286\n",
      "Epoch: 17 - Validation Loss: inf - Validation Accuracy: 0.2769479751586914 - Validation MCC: 0.24866085162718002\n",
      "\t [18: 0/274] train loss: 2614737.500000 accuracy: 0.457199 mcc: 0.419403\n",
      "\t [18: 100/274] train loss: 2927483.000000 accuracy: 0.487183 mcc: 0.445594\n",
      "\t [18: 200/274] train loss: 2871080.000000 accuracy: 0.470032 mcc: 0.439853\n",
      "Epoch: 18 - Train Loss: 2759116.2418181817 - Train Accuracy: 0.5070502758026123 - Train MCC: 0.46393977165222167\n",
      "\t [18: 0/145] validation loss: inf accuracy: 0.214905 mcc: 0.126048\n",
      "\t [18: 100/145] validation loss: inf accuracy: 0.159958 mcc: 0.060252\n",
      "Epoch: 18 - Validation Loss: inf - Validation Accuracy: 0.19864831864833832 - Validation MCC: 0.08617626669201107\n",
      "\t [19: 0/274] train loss: 2812521.000000 accuracy: 0.490707 mcc: 0.446606\n",
      "\t [19: 100/274] train loss: 2852039.500000 accuracy: 0.568008 mcc: 0.520613\n",
      "\t [19: 200/274] train loss: 4008949.500000 accuracy: 0.467865 mcc: 0.431431\n",
      "Epoch: 19 - Train Loss: 3210828.978181818 - Train Accuracy: 0.4959530830383301 - Train MCC: 0.4528846613927321\n",
      "\t [19: 0/145] validation loss: 3262547.250000 accuracy: 0.391251 mcc: 0.357854\n",
      "\t [19: 100/145] validation loss: 3513171.250000 accuracy: 0.503494 mcc: 0.463007\n",
      "Epoch: 19 - Validation Loss: inf - Validation Accuracy: 0.43658143281936646 - Validation MCC: 0.3969510960048192\n",
      "\t [20: 0/274] train loss: 3535495.250000 accuracy: 0.384918 mcc: 0.360894\n",
      "\t [20: 100/274] train loss: 4208733.500000 accuracy: 0.516174 mcc: 0.429619\n",
      "\t [20: 200/274] train loss: 3860832.250000 accuracy: 0.613510 mcc: 0.554113\n",
      "Epoch: 20 - Train Loss: 3839940.7763636364 - Train Accuracy: 0.49778226017951965 - Train MCC: 0.45647993629628963\n",
      "\t [20: 0/145] validation loss: 3900408.500000 accuracy: 0.376450 mcc: 0.342623\n",
      "\t [20: 100/145] validation loss: 3425305.750000 accuracy: 0.287155 mcc: 0.264755\n",
      "Epoch: 20 - Validation Loss: inf - Validation Accuracy: 0.30383917689323425 - Validation MCC: 0.2742903344843486\n",
      "\t [21: 0/274] train loss: 3496731.000000 accuracy: 0.542282 mcc: 0.492054\n",
      "\t [21: 100/274] train loss: 3338676.500000 accuracy: 0.444305 mcc: 0.401506\n",
      "\t [21: 200/274] train loss: 3625001.750000 accuracy: 0.584229 mcc: 0.544481\n",
      "Epoch: 21 - Train Loss: 3601390.6454545455 - Train Accuracy: 0.49435052275657654 - Train MCC: 0.4505561382120306\n",
      "\t [21: 0/145] validation loss: inf accuracy: 0.491379 mcc: 0.427793\n",
      "\t [21: 100/145] validation loss: 4147596.500000 accuracy: 0.561279 mcc: 0.492521\n",
      "Epoch: 21 - Validation Loss: inf - Validation Accuracy: 0.48376715183258057 - Validation MCC: 0.4329433646308233\n",
      "\t [22: 0/274] train loss: 4202148.500000 accuracy: 0.413879 mcc: 0.364231\n",
      "\t [22: 100/274] train loss: 4001482.750000 accuracy: 0.499664 mcc: 0.462599\n",
      "\t [22: 200/274] train loss: 4159778.750000 accuracy: 0.542923 mcc: 0.504365\n",
      "Epoch: 22 - Train Loss: 4029970.46 - Train Accuracy: 0.5053620338439941 - Train MCC: 0.4618946068937128\n",
      "\t [22: 0/145] validation loss: inf accuracy: 0.554504 mcc: 0.497392\n",
      "\t [22: 100/145] validation loss: 4550336.500000 accuracy: 0.676483 mcc: 0.615355\n",
      "Epoch: 22 - Validation Loss: inf - Validation Accuracy: 0.5445981025695801 - Validation MCC: 0.5004542667980063\n",
      "\t [23: 0/274] train loss: 3895644.500000 accuracy: 0.539291 mcc: 0.498951\n",
      "\t [23: 100/274] train loss: 4105282.500000 accuracy: 0.469406 mcc: 0.437623\n",
      "\t [23: 200/274] train loss: 3769237.500000 accuracy: 0.444855 mcc: 0.412365\n",
      "Epoch: 23 - Train Loss: 4038656.319090909 - Train Accuracy: 0.5110546350479126 - Train MCC: 0.4676049047166651\n",
      "\t [23: 0/145] validation loss: 3783480.250000 accuracy: 0.403442 mcc: 0.378349\n",
      "\t [23: 100/145] validation loss: 4138276.250000 accuracy: 0.471420 mcc: 0.423622\n",
      "Epoch: 23 - Validation Loss: inf - Validation Accuracy: 0.46757611632347107 - Validation MCC: 0.42816110537068486\n",
      "\t [24: 0/274] train loss: 3968922.000000 accuracy: 0.424683 mcc: 0.404856\n",
      "\t [24: 100/274] train loss: 3659766.750000 accuracy: 0.533875 mcc: 0.491636\n",
      "\t [24: 200/274] train loss: 4035817.250000 accuracy: 0.551071 mcc: 0.522004\n",
      "Epoch: 24 - Train Loss: 4083691.327272727 - Train Accuracy: 0.5115241408348083 - Train MCC: 0.4680395208705555\n",
      "\t [24: 0/145] validation loss: 4267301.000000 accuracy: 0.458481 mcc: 0.420059\n",
      "\t [24: 100/145] validation loss: inf accuracy: 0.413773 mcc: 0.355299\n",
      "Epoch: 24 - Validation Loss: inf - Validation Accuracy: 0.4466070830821991 - Validation MCC: 0.40457460570008785\n",
      "\t [25: 0/274] train loss: 4589397.500000 accuracy: 0.407715 mcc: 0.377548\n",
      "\t [25: 100/274] train loss: 4989455.500000 accuracy: 0.661896 mcc: 0.621921\n",
      "\t [25: 200/274] train loss: 4737674.000000 accuracy: 0.467880 mcc: 0.429399\n",
      "Epoch: 25 - Train Loss: 4792576.709090909 - Train Accuracy: 0.5159525871276855 - Train MCC: 0.47333625620061703\n",
      "\t [25: 0/145] validation loss: 4406587.000000 accuracy: 0.432297 mcc: 0.386469\n",
      "\t [25: 100/145] validation loss: 4333197.500000 accuracy: 0.484970 mcc: 0.437255\n",
      "Epoch: 25 - Validation Loss: inf - Validation Accuracy: 0.48011258244514465 - Validation MCC: 0.43277603694020883\n",
      "\t [26: 0/274] train loss: 4335329.000000 accuracy: 0.529510 mcc: 0.476626\n",
      "\t [26: 100/274] train loss: 4260240.000000 accuracy: 0.528976 mcc: 0.490929\n",
      "\t [26: 200/274] train loss: 5297330.000000 accuracy: 0.470444 mcc: 0.434869\n",
      "Epoch: 26 - Train Loss: 4731368.490909091 - Train Accuracy: 0.5174329876899719 - Train MCC: 0.47434320655736056\n",
      "\t [26: 0/145] validation loss: 12414621.000000 accuracy: 0.365585 mcc: 0.326396\n",
      "\t [26: 100/145] validation loss: 4975506.500000 accuracy: 0.311356 mcc: 0.285593\n",
      "Epoch: 26 - Validation Loss: inf - Validation Accuracy: 0.33017417788505554 - Validation MCC: 0.3013833511161478\n",
      "\t [27: 0/274] train loss: 5043053.500000 accuracy: 0.455124 mcc: 0.420029\n",
      "\t [27: 100/274] train loss: 5740991.000000 accuracy: 0.468979 mcc: 0.431952\n",
      "\t [27: 200/274] train loss: 5585420.000000 accuracy: 0.527176 mcc: 0.471614\n",
      "Epoch: 27 - Train Loss: 5443161.401818181 - Train Accuracy: 0.5077884793281555 - Train MCC: 0.46462749578736046\n",
      "\t [27: 0/145] validation loss: 5161883.500000 accuracy: 0.547119 mcc: 0.504253\n",
      "\t [27: 100/145] validation loss: 5212904.500000 accuracy: 0.445358 mcc: 0.412733\n",
      "Epoch: 27 - Validation Loss: inf - Validation Accuracy: 0.5074080228805542 - Validation MCC: 0.4640250477480562\n",
      "\t [28: 0/274] train loss: 5097535.000000 accuracy: 0.603958 mcc: 0.555274\n",
      "\t [28: 100/274] train loss: 5376009.500000 accuracy: 0.619553 mcc: 0.574693\n",
      "\t [28: 200/274] train loss: 5816854.000000 accuracy: 0.535278 mcc: 0.493775\n",
      "Epoch: 28 - Train Loss: 5364174.84 - Train Accuracy: 0.5215719938278198 - Train MCC: 0.4781872490319339\n",
      "\t [28: 0/145] validation loss: 4888144.000000 accuracy: 0.498047 mcc: 0.466231\n",
      "\t [28: 100/145] validation loss: 4919368.500000 accuracy: 0.506348 mcc: 0.478083\n",
      "Epoch: 28 - Validation Loss: inf - Validation Accuracy: 0.5002039074897766 - Validation MCC: 0.4624997028341032\n",
      "\t [29: 0/274] train loss: 5440184.500000 accuracy: 0.519547 mcc: 0.479275\n",
      "\t [29: 100/274] train loss: 5672408.000000 accuracy: 0.369080 mcc: 0.335488\n",
      "\t [29: 200/274] train loss: 6220308.500000 accuracy: 0.388809 mcc: 0.372434\n",
      "Epoch: 29 - Train Loss: 5643781.049090909 - Train Accuracy: 0.517366349697113 - Train MCC: 0.47360957210714166\n",
      "\t [29: 0/145] validation loss: inf accuracy: 0.353241 mcc: 0.286617\n",
      "\t [29: 100/145] validation loss: inf accuracy: 0.364944 mcc: 0.364796\n",
      "Epoch: 29 - Validation Loss: inf - Validation Accuracy: 0.2794452905654907 - Validation MCC: 0.2551890941821549\n",
      "\t [30: 0/274] train loss: 6207542.500000 accuracy: 0.603241 mcc: 0.541754\n",
      "\t [30: 100/274] train loss: 5868282.500000 accuracy: 0.621506 mcc: 0.573185\n",
      "\t [30: 200/274] train loss: 5597342.500000 accuracy: 0.557129 mcc: 0.524467\n",
      "Epoch: 30 - Train Loss: 5920712.572727272 - Train Accuracy: 0.5239619612693787 - Train MCC: 0.48006875449960884\n",
      "\t [30: 0/145] validation loss: 5766015.500000 accuracy: 0.501312 mcc: 0.494914\n",
      "\t [30: 100/145] validation loss: 6101689.500000 accuracy: 0.493271 mcc: 0.465435\n",
      "Epoch: 30 - Validation Loss: inf - Validation Accuracy: 0.5386335849761963 - Validation MCC: 0.5006348819357075\n",
      "\t [31: 0/274] train loss: 6357044.000000 accuracy: 0.538589 mcc: 0.494659\n",
      "\t [31: 100/274] train loss: 6067713.000000 accuracy: 0.582214 mcc: 0.517416\n",
      "\t [31: 200/274] train loss: 6292644.000000 accuracy: 0.585175 mcc: 0.534871\n",
      "Epoch: 31 - Train Loss: 6375747.181818182 - Train Accuracy: 0.5257647633552551 - Train MCC: 0.4820793262394992\n",
      "\t [31: 0/145] validation loss: 9218531.000000 accuracy: 0.488754 mcc: 0.414838\n",
      "\t [31: 100/145] validation loss: 8712975.000000 accuracy: 0.459488 mcc: 0.413194\n",
      "Epoch: 31 - Validation Loss: inf - Validation Accuracy: 0.4285892844200134 - Validation MCC: 0.38225725231921837\n",
      "\t [32: 0/274] train loss: 8097391.500000 accuracy: 0.578964 mcc: 0.531161\n",
      "\t [32: 100/274] train loss: 7685569.500000 accuracy: 0.547760 mcc: 0.498071\n",
      "\t [32: 200/274] train loss: 6275830.500000 accuracy: 0.389389 mcc: 0.352612\n",
      "Epoch: 32 - Train Loss: 7239662.096363637 - Train Accuracy: 0.5222116708755493 - Train MCC: 0.48009911775588987\n",
      "\t [32: 0/145] validation loss: 6353098.500000 accuracy: 0.409195 mcc: 0.382205\n",
      "\t [32: 100/145] validation loss: 6403056.000000 accuracy: 0.397690 mcc: 0.370345\n",
      "Epoch: 32 - Validation Loss: inf - Validation Accuracy: 0.5082340836524963 - Validation MCC: 0.46868534794408984\n",
      "\t [33: 0/274] train loss: 7101607.000000 accuracy: 0.451981 mcc: 0.420937\n",
      "\t [33: 100/274] train loss: 6016999.500000 accuracy: 0.637665 mcc: 0.577053\n",
      "\t [33: 200/274] train loss: 7719780.000000 accuracy: 0.495514 mcc: 0.464068\n",
      "Epoch: 33 - Train Loss: 8001286.1036363635 - Train Accuracy: 0.512965738773346 - Train MCC: 0.46959516530687156\n",
      "\t [33: 0/145] validation loss: inf accuracy: 0.126526 mcc: 0.062564\n",
      "\t [33: 100/145] validation loss: inf accuracy: 0.084335 mcc: 0.019048\n",
      "Epoch: 33 - Validation Loss: inf - Validation Accuracy: 0.11171450465917587 - Validation MCC: 0.05116708799981359\n",
      "\t [34: 0/274] train loss: 18294678.000000 accuracy: 0.501770 mcc: 0.436868\n",
      "\t [34: 100/274] train loss: 17655958.000000 accuracy: 0.461700 mcc: 0.430124\n",
      "\t [34: 200/274] train loss: 17137762.000000 accuracy: 0.449783 mcc: 0.395148\n",
      "Epoch: 34 - Train Loss: 17594573.614545453 - Train Accuracy: 0.4920461177825928 - Train MCC: 0.44781247128139845\n",
      "\t [34: 0/145] validation loss: 16311998.000000 accuracy: 0.333481 mcc: 0.327965\n",
      "\t [34: 100/145] validation loss: 16278938.000000 accuracy: 0.414932 mcc: 0.392832\n",
      "Epoch: 34 - Validation Loss: inf - Validation Accuracy: 0.40743860602378845 - Validation MCC: 0.3714657966812996\n",
      "\t [35: 0/274] train loss: 16623255.000000 accuracy: 0.521378 mcc: 0.468357\n",
      "\t [35: 100/274] train loss: 16457480.000000 accuracy: 0.554535 mcc: 0.515126\n",
      "\t [35: 200/274] train loss: 16265627.000000 accuracy: 0.427704 mcc: 0.405322\n",
      "Epoch: 35 - Train Loss: 16257410.18909091 - Train Accuracy: 0.5218843221664429 - Train MCC: 0.478285101110285\n",
      "\t [35: 0/145] validation loss: 15493591.000000 accuracy: 0.653442 mcc: 0.591286\n",
      "\t [35: 100/145] validation loss: 14995679.000000 accuracy: 0.530594 mcc: 0.487625\n",
      "Epoch: 35 - Validation Loss: inf - Validation Accuracy: 0.508419394493103 - Validation MCC: 0.4694965461345568\n",
      "\t [36: 0/274] train loss: 15320057.000000 accuracy: 0.554962 mcc: 0.506217\n",
      "\t [36: 100/274] train loss: 13664612.000000 accuracy: 0.537811 mcc: 0.491231\n",
      "\t [36: 200/274] train loss: 13961657.000000 accuracy: 0.419662 mcc: 0.403660\n",
      "Epoch: 36 - Train Loss: 13756831.24 - Train Accuracy: 0.532935380935669 - Train MCC: 0.4897180193120783\n",
      "\t [36: 0/145] validation loss: 13494016.000000 accuracy: 0.418915 mcc: 0.370912\n",
      "\t [36: 100/145] validation loss: 13136993.000000 accuracy: 0.369705 mcc: 0.347999\n",
      "Epoch: 36 - Validation Loss: inf - Validation Accuracy: 0.38020291924476624 - Validation MCC: 0.3459229806106385\n",
      "\t [37: 0/274] train loss: 12993551.000000 accuracy: 0.464142 mcc: 0.438445\n",
      "\t [37: 100/274] train loss: 12830473.000000 accuracy: 0.565475 mcc: 0.529478\n",
      "\t [37: 200/274] train loss: 11976446.000000 accuracy: 0.506149 mcc: 0.484398\n",
      "Epoch: 37 - Train Loss: 12374007.461818181 - Train Accuracy: 0.530691921710968 - Train MCC: 0.48727261033925146\n",
      "\t [37: 0/145] validation loss: 12333005.000000 accuracy: 0.314987 mcc: 0.254539\n",
      "\t [37: 100/145] validation loss: 14444474.000000 accuracy: 0.416306 mcc: 0.357837\n",
      "Epoch: 37 - Validation Loss: inf - Validation Accuracy: 0.38011524081230164 - Validation MCC: 0.320598850817713\n",
      "\t [38: 0/274] train loss: 11693080.000000 accuracy: 0.455551 mcc: 0.431949\n",
      "\t [38: 100/274] train loss: 12619319.000000 accuracy: 0.553909 mcc: 0.513693\n",
      "\t [38: 200/274] train loss: 12340755.000000 accuracy: 0.514175 mcc: 0.466755\n",
      "Epoch: 38 - Train Loss: 12573460.887272727 - Train Accuracy: 0.5336319208145142 - Train MCC: 0.4902259624004364\n",
      "\t [38: 0/145] validation loss: 12398453.000000 accuracy: 0.615143 mcc: 0.567510\n",
      "\t [38: 100/145] validation loss: inf accuracy: 0.538696 mcc: 0.485766\n",
      "Epoch: 38 - Validation Loss: inf - Validation Accuracy: 0.543191134929657 - Validation MCC: 0.5031027967390949\n",
      "\t [39: 0/274] train loss: 12140135.000000 accuracy: 0.612656 mcc: 0.573481\n",
      "\t [39: 100/274] train loss: 12636094.000000 accuracy: 0.519760 mcc: 0.485671\n",
      "\t [39: 200/274] train loss: 12441936.000000 accuracy: 0.515427 mcc: 0.474339\n",
      "Epoch: 39 - Train Loss: 12558594.010909092 - Train Accuracy: 0.5361642241477966 - Train MCC: 0.49306558435613457\n",
      "\t [39: 0/145] validation loss: 10531797.000000 accuracy: 0.484451 mcc: 0.431226\n",
      "\t [39: 100/145] validation loss: 10527824.000000 accuracy: 0.622513 mcc: 0.570905\n",
      "Epoch: 39 - Validation Loss: inf - Validation Accuracy: 0.5455341339111328 - Validation MCC: 0.5024691001601416\n",
      "\t [40: 0/274] train loss: 11092005.000000 accuracy: 0.581619 mcc: 0.509931\n",
      "\t [40: 100/274] train loss: 12523060.000000 accuracy: 0.540085 mcc: 0.494982\n",
      "\t [40: 200/274] train loss: 11860851.000000 accuracy: 0.606415 mcc: 0.552788\n",
      "Epoch: 40 - Train Loss: 12262161.494545454 - Train Accuracy: 0.5360390543937683 - Train MCC: 0.4928478379683061\n",
      "\t [40: 0/145] validation loss: 13115696.000000 accuracy: 0.607407 mcc: 0.562866\n",
      "\t [40: 100/145] validation loss: 13287601.000000 accuracy: 0.673660 mcc: 0.622178\n",
      "Epoch: 40 - Validation Loss: inf - Validation Accuracy: 0.5493695735931396 - Validation MCC: 0.49802539344519786\n",
      "\t [41: 0/274] train loss: 12644858.000000 accuracy: 0.673889 mcc: 0.617208\n",
      "\t [41: 100/274] train loss: 12593594.000000 accuracy: 0.455948 mcc: 0.419276\n",
      "\t [41: 200/274] train loss: 11710615.000000 accuracy: 0.531616 mcc: 0.479310\n",
      "Epoch: 41 - Train Loss: 11954890.52 - Train Accuracy: 0.5368254780769348 - Train MCC: 0.493224670345133\n",
      "\t [41: 0/145] validation loss: 11362368.000000 accuracy: 0.586929 mcc: 0.549463\n",
      "\t [41: 100/145] validation loss: inf accuracy: 0.520248 mcc: 0.475632\n",
      "Epoch: 41 - Validation Loss: inf - Validation Accuracy: 0.5303149223327637 - Validation MCC: 0.4852796586817258\n",
      "\t [42: 0/274] train loss: 11173307.000000 accuracy: 0.445969 mcc: 0.419955\n",
      "\t [42: 100/274] train loss: 11196886.000000 accuracy: 0.596146 mcc: 0.556246\n",
      "\t [42: 200/274] train loss: 11157277.000000 accuracy: 0.592865 mcc: 0.559290\n",
      "Epoch: 42 - Train Loss: 11176359.28 - Train Accuracy: 0.5398819446563721 - Train MCC: 0.4964662444591522\n",
      "\t [42: 0/145] validation loss: inf accuracy: 0.582672 mcc: 0.512098\n",
      "\t [42: 100/145] validation loss: 10676709.000000 accuracy: 0.592911 mcc: 0.539670\n",
      "Epoch: 42 - Validation Loss: inf - Validation Accuracy: 0.571578860282898 - Validation MCC: 0.5292223020367426\n",
      "\t [43: 0/274] train loss: 10442667.000000 accuracy: 0.617325 mcc: 0.574085\n",
      "\t [43: 100/274] train loss: 11156665.000000 accuracy: 0.558365 mcc: 0.510091\n",
      "\t [43: 200/274] train loss: 9950637.000000 accuracy: 0.519119 mcc: 0.483182\n",
      "Epoch: 43 - Train Loss: 10425057.923636364 - Train Accuracy: 0.5436565279960632 - Train MCC: 0.5001158068396828\n",
      "\t [43: 0/145] validation loss: 11390014.000000 accuracy: 0.501266 mcc: 0.491273\n",
      "\t [43: 100/145] validation loss: 12052692.000000 accuracy: 0.623764 mcc: 0.578378\n",
      "Epoch: 43 - Validation Loss: inf - Validation Accuracy: 0.5557349324226379 - Validation MCC: 0.5165023175004411\n",
      "\t [44: 0/274] train loss: 11899627.000000 accuracy: 0.484833 mcc: 0.454472\n",
      "\t [44: 100/274] train loss: 10731414.000000 accuracy: 0.527008 mcc: 0.484532\n",
      "\t [44: 200/274] train loss: 11152559.000000 accuracy: 0.538391 mcc: 0.500413\n",
      "Epoch: 44 - Train Loss: 11156781.323636364 - Train Accuracy: 0.5438154935836792 - Train MCC: 0.5003394564715299\n",
      "\t [44: 0/145] validation loss: 12148797.000000 accuracy: 0.513519 mcc: 0.463389\n",
      "\t [44: 100/145] validation loss: 11504036.000000 accuracy: 0.438461 mcc: 0.395610\n",
      "Epoch: 44 - Validation Loss: inf - Validation Accuracy: 0.5258219242095947 - Validation MCC: 0.4750052372070208\n",
      "\t [45: 0/274] train loss: 12989069.000000 accuracy: 0.445496 mcc: 0.405068\n",
      "\t [45: 100/274] train loss: 12311598.000000 accuracy: 0.658218 mcc: 0.615836\n",
      "\t [45: 200/274] train loss: 11633683.000000 accuracy: 0.598312 mcc: 0.555584\n",
      "Epoch: 45 - Train Loss: 11883679.647272727 - Train Accuracy: 0.5547454953193665 - Train MCC: 0.5108543369986794\n",
      "\t [45: 0/145] validation loss: 11021068.000000 accuracy: 0.643478 mcc: 0.572758\n",
      "\t [45: 100/145] validation loss: 10770107.000000 accuracy: 0.612335 mcc: 0.548010\n",
      "Epoch: 45 - Validation Loss: inf - Validation Accuracy: 0.5572594404220581 - Validation MCC: 0.5089166272584706\n",
      "\t [46: 0/274] train loss: 10494766.000000 accuracy: 0.402344 mcc: 0.360200\n",
      "\t [46: 100/274] train loss: 12087443.000000 accuracy: 0.539856 mcc: 0.471400\n",
      "\t [46: 200/274] train loss: 12378479.000000 accuracy: 0.518875 mcc: 0.478718\n",
      "Epoch: 46 - Train Loss: 11704076.549090909 - Train Accuracy: 0.5560689568519592 - Train MCC: 0.5123878831213171\n",
      "\t [46: 0/145] validation loss: 6656657408.000000 accuracy: 0.562363 mcc: 0.503192\n",
      "\t [46: 100/145] validation loss: 13223420.000000 accuracy: 0.494431 mcc: 0.449666\n",
      "Epoch: 46 - Validation Loss: inf - Validation Accuracy: 0.5289109349250793 - Validation MCC: 0.48212275296857915\n",
      "\t [47: 0/274] train loss: 12382335.000000 accuracy: 0.580215 mcc: 0.535053\n",
      "\t [47: 100/274] train loss: 12298862.000000 accuracy: 0.506256 mcc: 0.456929\n",
      "\t [47: 200/274] train loss: 10701795.000000 accuracy: 0.656662 mcc: 0.606749\n",
      "Epoch: 47 - Train Loss: 11850277.461818181 - Train Accuracy: 0.5530495643615723 - Train MCC: 0.5093411351333965\n",
      "\t [47: 0/145] validation loss: 5553291776.000000 accuracy: 0.546738 mcc: 0.494105\n",
      "\t [47: 100/145] validation loss: 10675005.000000 accuracy: 0.664978 mcc: 0.608422\n",
      "Epoch: 47 - Validation Loss: inf - Validation Accuracy: 0.5871906876564026 - Validation MCC: 0.538780127282012\n",
      "\t [48: 0/274] train loss: 11081016.000000 accuracy: 0.612411 mcc: 0.559576\n",
      "\t [48: 100/274] train loss: 10754632.000000 accuracy: 0.555359 mcc: 0.505895\n",
      "\t [48: 200/274] train loss: 11025352.000000 accuracy: 0.588196 mcc: 0.549302\n",
      "Epoch: 48 - Train Loss: 11014217.61818182 - Train Accuracy: 0.5616008043289185 - Train MCC: 0.5181281520019878\n",
      "\t [48: 0/145] validation loss: 12250594.000000 accuracy: 0.706161 mcc: 0.646438\n",
      "\t [48: 100/145] validation loss: 11280031.000000 accuracy: 0.533783 mcc: 0.478868\n",
      "Epoch: 48 - Validation Loss: inf - Validation Accuracy: 0.573706328868866 - Validation MCC: 0.5218790496048862\n",
      "\t [49: 0/274] train loss: 11710613.000000 accuracy: 0.527802 mcc: 0.491970\n",
      "\t [49: 100/274] train loss: 10535753.000000 accuracy: 0.507706 mcc: 0.483579\n",
      "\t [49: 200/274] train loss: 11337995.000000 accuracy: 0.666000 mcc: 0.601083\n",
      "Epoch: 49 - Train Loss: 10655016.578181818 - Train Accuracy: 0.555020272731781 - Train MCC: 0.5108346234668385\n",
      "\t [49: 0/145] validation loss: 24789284217159680.000000 accuracy: 0.494965 mcc: 0.445943\n",
      "\t [49: 100/145] validation loss: 10288609.000000 accuracy: 0.536316 mcc: 0.501482\n",
      "Epoch: 49 - Validation Loss: inf - Validation Accuracy: 0.5325335264205933 - Validation MCC: 0.4918221018902243\n",
      "\t [50: 0/274] train loss: 10744458.000000 accuracy: 0.508759 mcc: 0.481596\n",
      "\t [50: 100/274] train loss: 12288384.000000 accuracy: 0.534851 mcc: 0.492395\n",
      "\t [50: 200/274] train loss: 11557155.000000 accuracy: 0.439774 mcc: 0.393517\n",
      "Epoch: 50 - Train Loss: 11601250.090909092 - Train Accuracy: 0.5562295913696289 - Train MCC: 0.5113326505097476\n",
      "\t [50: 0/145] validation loss: 11775503.000000 accuracy: 0.622635 mcc: 0.562953\n",
      "\t [50: 100/145] validation loss: inf accuracy: 0.541351 mcc: 0.507455\n",
      "Epoch: 50 - Validation Loss: inf - Validation Accuracy: 0.5918000340461731 - Validation MCC: 0.547261700646518\n"
     ]
    }
   ],
   "source": [
    "# stuff for training\n",
    "num_train_batch = len(s3dis_train)/BATCH_SIZE \n",
    "num_valid_batch = len(s3dis_valid)/BATCH_SIZE \n",
    "\n",
    "# store best validation mcc\n",
    "best_mcc = -np.infty\n",
    "\n",
    "# lists to store metrics\n",
    "train_loss = []\n",
    "train_accuracy = []\n",
    "train_mcc = []\n",
    "valid_loss = []\n",
    "valid_accuracy = []\n",
    "valid_mcc = []\n",
    "\n",
    "for epoch in range(1, EPOCHS + 1):\n",
    "    # place model in training mode\n",
    "    seg_model = seg_model.train()\n",
    "    _train_loss = []\n",
    "    _train_accuracy = []\n",
    "    _train_mcc = []\n",
    "    for i, (points, targets) in enumerate(train_dataloader, 0):\n",
    "\n",
    "        points = points.transpose(2, 1).to(device)\n",
    "        targets = targets.squeeze().to(device)\n",
    "        \n",
    "        # zero gradients\n",
    "        optimizer.zero_grad()\n",
    "        \n",
    "        # get predicted class logits\n",
    "        preds, _, A = seg_model(points)\n",
    "        \n",
    "        # compute regularization term to enforce orthogonality on the feature Transformation\n",
    "        I = torch.eye(64).unsqueeze(0).repeat(A.shape[0], 1, 1).to(device)\n",
    "        reg = torch.linalg.norm(I - torch.bmm(A, A.transpose(2, 1)))\n",
    "\n",
    "        # get loss and perform backprop\n",
    "        loss = criterion(preds.transpose(2, 1), targets) + Variable(reg)\n",
    "        loss.backward()\n",
    "        optimizer.step()\n",
    "        \n",
    "        # get class predictions\n",
    "        pred_choice = torch.softmax(preds, dim=2).argmax(dim=2)\n",
    "        correct = pred_choice.eq(targets.data).cpu().sum()\n",
    "        accuracy = correct/float(BATCH_SIZE*NUM_TRAIN_POINTS)\n",
    "        mcc = mcc_metric(preds.transpose(2, 1), targets)\n",
    "\n",
    "        # update epoch loss and accuracy\n",
    "        _train_loss.append(loss.item())\n",
    "        _train_accuracy.append(accuracy)\n",
    "        _train_mcc.append(mcc.item())\n",
    "\n",
    "        if i % 100 == 0:\n",
    "            print('\\t [%d: %d/%d] train loss: %f accuracy: %f mcc: %f' \\\n",
    "                  % (epoch, i, num_train_batch, loss.item(), accuracy, mcc))\n",
    "        \n",
    "    train_loss.append(np.mean(_train_loss))\n",
    "    train_accuracy.append(np.mean(_train_accuracy))\n",
    "    train_mcc.append(np.mean(_train_mcc))\n",
    "\n",
    "    print(f'Epoch: {epoch} - Train Loss: {train_loss[-1]} ' \\\n",
    "          + f'- Train Accuracy: {train_accuracy[-1]} ' \\\n",
    "          + f'- Train MCC: {train_mcc[-1]}')\n",
    "\n",
    "    # pause to cool down\n",
    "    time.sleep(8)\n",
    "\n",
    "    # get test results after each epoch\n",
    "    with torch.no_grad():\n",
    "\n",
    "        # place model in evaluation mode\n",
    "        seg_model = seg_model.eval()\n",
    "\n",
    "        _valid_loss = []\n",
    "        _valid_accuracy = []\n",
    "        _valid_mcc = []\n",
    "        for i, (points, targets) in enumerate(valid_dataloader, 0):\n",
    "\n",
    "            points = points.transpose(2, 1).to(device)\n",
    "            targets = targets.squeeze().to(device)\n",
    "\n",
    "            preds, _, A = seg_model(points)\n",
    "\n",
    "            # compute regularization term to enforce orthogonality on the feature Transformation\n",
    "            I = torch.eye(64).unsqueeze(0).repeat(A.shape[0], 1, 1).to(device)\n",
    "            reg = torch.linalg.norm(I - torch.bmm(A, A.transpose(2, 1)))\n",
    "\n",
    "            loss = criterion(preds.transpose(2, 1), targets) + Variable(reg)\n",
    "\n",
    "            pred_choice = torch.softmax(preds, dim=2).argmax(dim=2)\n",
    "            correct = pred_choice.eq(targets.data).cpu().sum()\n",
    "            accuracy = correct/float(BATCH_SIZE*NUM_TRAIN_POINTS)\n",
    "            mcc = mcc_metric(preds.transpose(2, 1), targets)\n",
    "\n",
    "            # update epoch loss and accuracy\n",
    "            _valid_loss.append(loss.item())\n",
    "            _valid_accuracy.append(accuracy)\n",
    "            _valid_mcc.append(mcc.item())\n",
    "\n",
    "            if i % 100 == 0:\n",
    "                print('\\t [%d: %d/%d] %s loss: %f accuracy: %f mcc: %f' \\\n",
    "                      % (epoch, i, num_valid_batch, 'validation', loss.item(), accuracy, mcc))\n",
    "        \n",
    "        valid_loss.append(np.mean(_valid_loss))\n",
    "        valid_accuracy.append(np.mean(_valid_accuracy))\n",
    "        valid_mcc.append(np.mean(_valid_mcc))\n",
    "        print(f'Epoch: {epoch} - Validation Loss: {valid_loss[-1]} ' \\\n",
    "              + f'- Validation Accuracy: {valid_accuracy[-1]} ' \\\n",
    "              + f'- Validation MCC: {valid_mcc[-1]}')\n",
    "\n",
    "        # pause to cool down\n",
    "        time.sleep(8)\n",
    "\n",
    "    # save best models\n",
    "    if valid_mcc[-1] >= best_mcc:\n",
    "        best_mcc = valid_mcc[-1]\n",
    "        torch.save(seg_model.state_dict(), f'seg_focal/seg_model_{epoch}.pth')"
   ]
  },
  {
   "attachments": {},
   "cell_type": "markdown",
   "metadata": {},
   "source": [
    "Let's plot the training metrics"
   ]
  },
  {
   "cell_type": "code",
   "execution_count": 244,
   "metadata": {},
   "outputs": [
    {
     "data": {
      "text/plain": [
       "[<matplotlib.lines.Line2D at 0x1b800094af0>]"
      ]
     },
     "execution_count": 244,
     "metadata": {},
     "output_type": "execute_result"
    },
    {
     "data": {
      "image/png": "[encoded data removed]",
      "text/plain": [
       "<Figure size 800x500 with 3 Axes>"
      ]
     },
     "metadata": {},
     "output_type": "display_data"
    }
   ],
   "source": [
    "_, ax = plt.subplots(3, 1, figsize=(8, 5))\n",
    "ax[0].plot(train_loss)\n",
    "# ax[0].plot(valid_loss)\n",
    "\n",
    "ax[1].plot(train_accuracy)\n",
    "ax[1].plot(valid_accuracy)\n",
    "\n",
    "ax[2].plot(train_mcc)\n",
    "ax[2].plot(valid_mcc)"
   ]
  },
  {
   "cell_type": "code",
   "execution_count": 245,
   "metadata": {},
   "outputs": [
    {
     "data": {
      "text/plain": [
       "49"
      ]
     },
     "execution_count": 245,
     "metadata": {},
     "output_type": "execute_result"
    }
   ],
   "source": [
    "np.argmax(valid_mcc)"
   ]
  },
  {
   "attachments": {},
   "cell_type": "markdown",
   "metadata": {},
   "source": [
    "### Test the model"
   ]
  },
  {
   "attachments": {},
   "cell_type": "markdown",
   "metadata": {},
   "source": [
    "Upload model from disk. The best model was 21 (actually 22 since we need to account for zero indexing)"
   ]
  },
  {
   "cell_type": "code",
   "execution_count": 19,
   "metadata": {},
   "outputs": [],
   "source": [
    "MODEL_PATH = 'seg_focal/seg_model_22.pth'\n",
    "\n",
    "model = PointNetSegHead(num_points=NUM_TEST_POINTS, m=NUM_CLASSES).to(device)\n",
    "model.load_state_dict(torch.load(MODEL_PATH))\n",
    "model.eval();"
   ]
  },
  {
   "attachments": {},
   "cell_type": "markdown",
   "metadata": {},
   "source": [
    "#### Implement Quick test to gather metrics"
   ]
  },
  {
   "cell_type": "code",
   "execution_count": 63,
   "metadata": {},
   "outputs": [
    {
     "name": "stdout",
     "output_type": "stream",
     "text": [
      "\t [0/71] test loss: 16297419776.000000 accuracy: 0.529037 mcc: 0.477067\n",
      "\t [50/71] test loss: 24418680832.000000 accuracy: 0.583319 mcc: 0.518947\n",
      "Test Loss: 42981061871.48179 - Test Accuracy: 0.5650807619094849 - Test MCC: 0.49528303204311264\n"
     ]
    }
   ],
   "source": [
    "num_test_batch = len(s3dis_test)/BATCH_SIZE \n",
    "\n",
    "total_test_targets = []\n",
    "total_test_preds = [] \n",
    "\n",
    "with torch.no_grad():\n",
    "\n",
    "    # place model in evaluation mode\n",
    "    model = model.eval()\n",
    "\n",
    "    test_loss = []\n",
    "    test_accuracy = []\n",
    "    test_mcc = []\n",
    "    for i, (points, targets) in enumerate(test_dataloader, 0):\n",
    "\n",
    "        points = points.transpose(2, 1).to(device)\n",
    "        targets = targets.squeeze().to(device)\n",
    "\n",
    "        preds, _, A = model(points)\n",
    "\n",
    "        # compute regularization term to enforce orthogonality on the feature Transformation\n",
    "        # I = torch.eye(64).unsqueeze(0).repeat(A.shape[0], 1, 1).to(device)\n",
    "        # reg = torch.linalg.norm(I - torch.bmm(A, A.transpose(2, 1)))\n",
    "\n",
    "        loss = criterion(preds.transpose(2, 1), targets) # + reg\n",
    "\n",
    "        pred_choice = torch.softmax(preds, dim=2).argmax(dim=2)\n",
    "        correct = pred_choice.eq(targets.data).cpu().sum()\n",
    "        accuracy = correct/float(BATCH_SIZE*NUM_TEST_POINTS)\n",
    "        mcc = mcc_metric(preds.transpose(2, 1), targets)\n",
    "\n",
    "        # update epoch loss and accuracy\n",
    "        test_loss.append(loss.item())\n",
    "        test_accuracy.append(accuracy)\n",
    "        test_mcc.append(mcc.item())\n",
    "\n",
    "        # add to total targets/preds\n",
    "        total_test_targets += targets.reshape(-1).cpu().numpy().tolist()\n",
    "        total_test_preds += pred_choice.reshape(-1).cpu().numpy().tolist()\n",
    "\n",
    "        if i % 50 == 0:\n",
    "            print('\\t [%d/%d] test loss: %f accuracy: %f mcc: %f' \\\n",
    "                    % (i, num_test_batch, loss.item(), accuracy, mcc))\n",
    "\n",
    "# display test results\n",
    "print(f'Test Loss: {np.mean(test_loss)} ' \\\n",
    "        + f'- Test Accuracy: {np.mean(test_accuracy)} ' \\\n",
    "        + f'- Test MCC: {np.mean(test_mcc)}')"
   ]
  },
  {
   "cell_type": "code",
   "execution_count": 64,
   "metadata": {},
   "outputs": [],
   "source": [
    "total_test_targets = np.array(total_test_targets)\n",
    "total_test_preds = np.array(total_test_preds)"
   ]
  },
  {
   "attachments": {},
   "cell_type": "markdown",
   "metadata": {},
   "source": [
    "#### Get Confusion Matrix for Test data"
   ]
  },
  {
   "cell_type": "code",
   "execution_count": 69,
   "metadata": {},
   "outputs": [
    {
     "data": {
      "text/html": [
       "<div>\n",
       "<style scoped>\n",
       "    .dataframe tbody tr th:only-of-type {\n",
       "        vertical-align: middle;\n",
       "    }\n",
       "\n",
       "    .dataframe tbody tr th {\n",
       "        vertical-align: top;\n",
       "    }\n",
       "\n",
       "    .dataframe thead th {\n",
       "        text-align: right;\n",
       "    }\n",
       "</style>\n",
       "<table border=\"1\" class=\"dataframe\">\n",
       "  <thead>\n",
       "    <tr style=\"text-align: right;\">\n",
       "      <th></th>\n",
       "      <th>ceiling</th>\n",
       "      <th>floor</th>\n",
       "      <th>wall</th>\n",
       "      <th>beam</th>\n",
       "      <th>column</th>\n",
       "      <th>window</th>\n",
       "      <th>door</th>\n",
       "      <th>table</th>\n",
       "      <th>chair</th>\n",
       "      <th>sofa</th>\n",
       "      <th>bookcase</th>\n",
       "      <th>board</th>\n",
       "      <th>stairs</th>\n",
       "      <th>clutter</th>\n",
       "    </tr>\n",
       "  </thead>\n",
       "  <tbody>\n",
       "    <tr>\n",
       "      <th>ceiling</th>\n",
       "      <td>1978676</td>\n",
       "      <td>16600</td>\n",
       "      <td>51767</td>\n",
       "      <td>6683</td>\n",
       "      <td>103</td>\n",
       "      <td>9154</td>\n",
       "      <td>0</td>\n",
       "      <td>2113</td>\n",
       "      <td>3585</td>\n",
       "      <td>0</td>\n",
       "      <td>125</td>\n",
       "      <td>0</td>\n",
       "      <td>17323</td>\n",
       "      <td>415292</td>\n",
       "    </tr>\n",
       "    <tr>\n",
       "      <th>floor</th>\n",
       "      <td>6136</td>\n",
       "      <td>1947107</td>\n",
       "      <td>7250</td>\n",
       "      <td>0</td>\n",
       "      <td>0</td>\n",
       "      <td>0</td>\n",
       "      <td>0</td>\n",
       "      <td>0</td>\n",
       "      <td>348</td>\n",
       "      <td>0</td>\n",
       "      <td>0</td>\n",
       "      <td>0</td>\n",
       "      <td>13332</td>\n",
       "      <td>211651</td>\n",
       "    </tr>\n",
       "    <tr>\n",
       "      <th>wall</th>\n",
       "      <td>33441</td>\n",
       "      <td>50190</td>\n",
       "      <td>1255620</td>\n",
       "      <td>74884</td>\n",
       "      <td>1372</td>\n",
       "      <td>53651</td>\n",
       "      <td>269</td>\n",
       "      <td>28264</td>\n",
       "      <td>41413</td>\n",
       "      <td>6</td>\n",
       "      <td>45726</td>\n",
       "      <td>0</td>\n",
       "      <td>21789</td>\n",
       "      <td>805983</td>\n",
       "    </tr>\n",
       "    <tr>\n",
       "      <th>beam</th>\n",
       "      <td>28107</td>\n",
       "      <td>610</td>\n",
       "      <td>70957</td>\n",
       "      <td>305650</td>\n",
       "      <td>0</td>\n",
       "      <td>0</td>\n",
       "      <td>76</td>\n",
       "      <td>872</td>\n",
       "      <td>0</td>\n",
       "      <td>0</td>\n",
       "      <td>285</td>\n",
       "      <td>0</td>\n",
       "      <td>2505</td>\n",
       "      <td>59259</td>\n",
       "    </tr>\n",
       "    <tr>\n",
       "      <th>column</th>\n",
       "      <td>900</td>\n",
       "      <td>7018</td>\n",
       "      <td>282961</td>\n",
       "      <td>2016</td>\n",
       "      <td>2812</td>\n",
       "      <td>15610</td>\n",
       "      <td>0</td>\n",
       "      <td>506</td>\n",
       "      <td>305</td>\n",
       "      <td>0</td>\n",
       "      <td>1555</td>\n",
       "      <td>0</td>\n",
       "      <td>0</td>\n",
       "      <td>16381</td>\n",
       "    </tr>\n",
       "    <tr>\n",
       "      <th>window</th>\n",
       "      <td>1595</td>\n",
       "      <td>4000</td>\n",
       "      <td>70702</td>\n",
       "      <td>0</td>\n",
       "      <td>0</td>\n",
       "      <td>85453</td>\n",
       "      <td>0</td>\n",
       "      <td>4835</td>\n",
       "      <td>363</td>\n",
       "      <td>6</td>\n",
       "      <td>501</td>\n",
       "      <td>0</td>\n",
       "      <td>7338</td>\n",
       "      <td>60756</td>\n",
       "    </tr>\n",
       "    <tr>\n",
       "      <th>door</th>\n",
       "      <td>56</td>\n",
       "      <td>15658</td>\n",
       "      <td>499988</td>\n",
       "      <td>48332</td>\n",
       "      <td>0</td>\n",
       "      <td>0</td>\n",
       "      <td>4782</td>\n",
       "      <td>1028</td>\n",
       "      <td>5804</td>\n",
       "      <td>0</td>\n",
       "      <td>5692</td>\n",
       "      <td>0</td>\n",
       "      <td>298</td>\n",
       "      <td>27684</td>\n",
       "    </tr>\n",
       "    <tr>\n",
       "      <th>table</th>\n",
       "      <td>3114</td>\n",
       "      <td>14332</td>\n",
       "      <td>20994</td>\n",
       "      <td>0</td>\n",
       "      <td>0</td>\n",
       "      <td>582</td>\n",
       "      <td>0</td>\n",
       "      <td>76157</td>\n",
       "      <td>109989</td>\n",
       "      <td>0</td>\n",
       "      <td>4187</td>\n",
       "      <td>0</td>\n",
       "      <td>1358</td>\n",
       "      <td>287563</td>\n",
       "    </tr>\n",
       "    <tr>\n",
       "      <th>chair</th>\n",
       "      <td>79</td>\n",
       "      <td>31587</td>\n",
       "      <td>21664</td>\n",
       "      <td>0</td>\n",
       "      <td>0</td>\n",
       "      <td>23</td>\n",
       "      <td>0</td>\n",
       "      <td>9038</td>\n",
       "      <td>316191</td>\n",
       "      <td>0</td>\n",
       "      <td>779</td>\n",
       "      <td>0</td>\n",
       "      <td>37</td>\n",
       "      <td>63695</td>\n",
       "    </tr>\n",
       "    <tr>\n",
       "      <th>sofa</th>\n",
       "      <td>0</td>\n",
       "      <td>5511</td>\n",
       "      <td>2600</td>\n",
       "      <td>0</td>\n",
       "      <td>0</td>\n",
       "      <td>0</td>\n",
       "      <td>0</td>\n",
       "      <td>514</td>\n",
       "      <td>27305</td>\n",
       "      <td>0</td>\n",
       "      <td>194</td>\n",
       "      <td>0</td>\n",
       "      <td>0</td>\n",
       "      <td>11806</td>\n",
       "    </tr>\n",
       "    <tr>\n",
       "      <th>bookcase</th>\n",
       "      <td>226</td>\n",
       "      <td>9423</td>\n",
       "      <td>156526</td>\n",
       "      <td>6317</td>\n",
       "      <td>0</td>\n",
       "      <td>31</td>\n",
       "      <td>187</td>\n",
       "      <td>12620</td>\n",
       "      <td>22194</td>\n",
       "      <td>0</td>\n",
       "      <td>34429</td>\n",
       "      <td>0</td>\n",
       "      <td>93</td>\n",
       "      <td>73699</td>\n",
       "    </tr>\n",
       "    <tr>\n",
       "      <th>board</th>\n",
       "      <td>565</td>\n",
       "      <td>1024</td>\n",
       "      <td>108786</td>\n",
       "      <td>198</td>\n",
       "      <td>0</td>\n",
       "      <td>78</td>\n",
       "      <td>0</td>\n",
       "      <td>850</td>\n",
       "      <td>334</td>\n",
       "      <td>0</td>\n",
       "      <td>539</td>\n",
       "      <td>0</td>\n",
       "      <td>2310</td>\n",
       "      <td>35334</td>\n",
       "    </tr>\n",
       "    <tr>\n",
       "      <th>stairs</th>\n",
       "      <td>10885</td>\n",
       "      <td>4</td>\n",
       "      <td>3638</td>\n",
       "      <td>0</td>\n",
       "      <td>0</td>\n",
       "      <td>0</td>\n",
       "      <td>0</td>\n",
       "      <td>0</td>\n",
       "      <td>2569</td>\n",
       "      <td>0</td>\n",
       "      <td>0</td>\n",
       "      <td>0</td>\n",
       "      <td>562</td>\n",
       "      <td>4629</td>\n",
       "    </tr>\n",
       "    <tr>\n",
       "      <th>clutter</th>\n",
       "      <td>300740</td>\n",
       "      <td>27959</td>\n",
       "      <td>202125</td>\n",
       "      <td>20014</td>\n",
       "      <td>1237</td>\n",
       "      <td>5316</td>\n",
       "      <td>83</td>\n",
       "      <td>36639</td>\n",
       "      <td>86497</td>\n",
       "      <td>0</td>\n",
       "      <td>23532</td>\n",
       "      <td>0</td>\n",
       "      <td>13109</td>\n",
       "      <td>502291</td>\n",
       "    </tr>\n",
       "  </tbody>\n",
       "</table>\n",
       "</div>"
      ],
      "text/plain": [
       "          ceiling    floor     wall    beam  column  window  door  table  \\\n",
       "ceiling   1978676    16600    51767    6683     103    9154     0   2113   \n",
       "floor        6136  1947107     7250       0       0       0     0      0   \n",
       "wall        33441    50190  1255620   74884    1372   53651   269  28264   \n",
       "beam        28107      610    70957  305650       0       0    76    872   \n",
       "column        900     7018   282961    2016    2812   15610     0    506   \n",
       "window       1595     4000    70702       0       0   85453     0   4835   \n",
       "door           56    15658   499988   48332       0       0  4782   1028   \n",
       "table        3114    14332    20994       0       0     582     0  76157   \n",
       "chair          79    31587    21664       0       0      23     0   9038   \n",
       "sofa            0     5511     2600       0       0       0     0    514   \n",
       "bookcase      226     9423   156526    6317       0      31   187  12620   \n",
       "board         565     1024   108786     198       0      78     0    850   \n",
       "stairs      10885        4     3638       0       0       0     0      0   \n",
       "clutter    300740    27959   202125   20014    1237    5316    83  36639   \n",
       "\n",
       "           chair  sofa  bookcase  board  stairs  clutter  \n",
       "ceiling     3585     0       125      0   17323   415292  \n",
       "floor        348     0         0      0   13332   211651  \n",
       "wall       41413     6     45726      0   21789   805983  \n",
       "beam           0     0       285      0    2505    59259  \n",
       "column       305     0      1555      0       0    16381  \n",
       "window       363     6       501      0    7338    60756  \n",
       "door        5804     0      5692      0     298    27684  \n",
       "table     109989     0      4187      0    1358   287563  \n",
       "chair     316191     0       779      0      37    63695  \n",
       "sofa       27305     0       194      0       0    11806  \n",
       "bookcase   22194     0     34429      0      93    73699  \n",
       "board        334     0       539      0    2310    35334  \n",
       "stairs      2569     0         0      0     562     4629  \n",
       "clutter    86497     0     23532      0   13109   502291  "
      ]
     },
     "execution_count": 69,
     "metadata": {},
     "output_type": "execute_result"
    }
   ],
   "source": [
    "from sklearn.metrics import confusion_matrix\n",
    "\n",
    "test_confusion = pd.DataFrame(confusion_matrix(total_test_targets, total_test_preds),\n",
    "                              columns=list(CATEGORIES.keys()),\n",
    "                              index=list(CATEGORIES.keys()))\n",
    "\n",
    "test_confusion"
   ]
  },
  {
   "attachments": {},
   "cell_type": "markdown",
   "metadata": {},
   "source": [
    "#### View test results on full space"
   ]
  },
  {
   "cell_type": "code",
   "execution_count": null,
   "metadata": {},
   "outputs": [],
   "source": [
    "torch.cuda.empty_cache() # release GPU memory\n",
    "points, targets = s3dis_test.get_random_partitioned_space()\n",
    "\n",
    "# place on device\n",
    "points = points.to(device)\n",
    "targets = targets.to(device)\n",
    "\n",
    "# Normalize each partitioned Point Cloud to (0, 1)\n",
    "norm_points = points.clone()\n",
    "norm_points = norm_points - norm_points.min(axis=1)[0].unsqueeze(1)\n",
    "norm_points /= norm_points.max(axis=1)[0].unsqueeze(1)\n",
    "\n",
    "with torch.no_grad():\n",
    "\n",
    "    norm_points = norm_points.transpose(2, 1)\n",
    "    targets = targets.squeeze()\n",
    "\n",
    "    preds, _, A = model(norm_points)\n",
    "\n",
    "    pred_choice = torch.softmax(preds, dim=2).argmax(dim=2)\n",
    "    correct = pred_choice.eq(targets.data).cpu().sum()\n",
    "    accuracy = correct/float(points.shape[0]*NUM_TEST_POINTS)\n",
    "    mcc = mcc_metric(preds.transpose(2, 1), targets)"
   ]
  },
  {
   "attachments": {},
   "cell_type": "markdown",
   "metadata": {},
   "source": [
    "Display the truth and predictions"
   ]
  },
  {
   "cell_type": "code",
   "execution_count": 22,
   "metadata": {},
   "outputs": [
    {
     "data": {
      "application/vnd.jupyter.widget-view+json": {
       "model_id": "a28f2963762348fbb6e17647127376eb",
       "version_major": 2,
       "version_minor": 0
      },
      "text/plain": [
       "WebVisualizer(window_uid='window_4')"
      ]
     },
     "metadata": {},
     "output_type": "display_data"
    }
   ],
   "source": [
    "pcd = o3.geometry.PointCloud()\n",
    "pcd.points = o3.utility.Vector3dVector(points.permute(2, 0, 1).reshape(3, -1).to('cpu').T)\n",
    "pcd.colors = o3.utility.Vector3dVector(np.vstack(v_map_colors(targets.reshape(-1).to('cpu'))).T/255)\n",
    "\n",
    "draw(pcd)"
   ]
  },
  {
   "cell_type": "code",
   "execution_count": 17,
   "metadata": {},
   "outputs": [
    {
     "data": {
      "application/vnd.jupyter.widget-view+json": {
       "model_id": "a69cde49b3074973a4135a7b912547f1",
       "version_major": 2,
       "version_minor": 0
      },
      "text/plain": [
       "WebVisualizer(window_uid='window_2')"
      ]
     },
     "metadata": {},
     "output_type": "display_data"
    }
   ],
   "source": [
    "pcd = o3.geometry.PointCloud()\n",
    "pcd.points = o3.utility.Vector3dVector(points.to('cpu')[2, :, :])\n",
    "pcd.colors = o3.utility.Vector3dVector(np.vstack(v_map_colors(targets.to('cpu')[2, :])).T/255)\n",
    "\n",
    "draw(pcd)"
   ]
  },
  {
   "cell_type": "code",
   "execution_count": 23,
   "metadata": {},
   "outputs": [
    {
     "data": {
      "application/vnd.jupyter.widget-view+json": {
       "model_id": "252a302b558b464dbd40033bae1325dc",
       "version_major": 2,
       "version_minor": 0
      },
      "text/plain": [
       "WebVisualizer(window_uid='window_5')"
      ]
     },
     "metadata": {},
     "output_type": "display_data"
    }
   ],
   "source": [
    "pcd = o3.geometry.PointCloud()\n",
    "pcd.points = o3.utility.Vector3dVector(points.permute(2, 0, 1).reshape(3, -1).to('cpu').T)\n",
    "pcd.colors = o3.utility.Vector3dVector(np.vstack(v_map_colors(pred_choice.reshape(-1).to('cpu'))).T/255)\n",
    "\n",
    "draw(pcd)"
   ]
  },
  {
   "cell_type": "code",
   "execution_count": 18,
   "metadata": {},
   "outputs": [
    {
     "data": {
      "application/vnd.jupyter.widget-view+json": {
       "model_id": "a55ddd1c15c748e1a610c718718903fc",
       "version_major": 2,
       "version_minor": 0
      },
      "text/plain": [
       "WebVisualizer(window_uid='window_3')"
      ]
     },
     "metadata": {},
     "output_type": "display_data"
    }
   ],
   "source": [
    "pcd = o3.geometry.PointCloud()\n",
    "pcd.points = o3.utility.Vector3dVector(points.to('cpu')[2, :, :])\n",
    "pcd.colors = o3.utility.Vector3dVector(np.vstack(v_map_colors(pred_choice.to('cpu')[2, :])).T/255)\n",
    "\n",
    "draw(pcd)"
   ]
  },
  {
   "attachments": {},
   "cell_type": "markdown",
   "metadata": {},
   "source": [
    "### General Notes\n",
    "\n",
    "It appears that not using the regularized loss leads to quicker training i.e. better performance with less epochs. Some more experimentation could be done to check if the regularization leads to superior performance over a longer training period."
   ]
  },
  {
   "cell_type": "code",
   "execution_count": null,
   "metadata": {},
   "outputs": [],
   "source": []
  }
 ],
 "metadata": {
  "kernelspec": {
   "display_name": "Python 3.8.12 ('base')",
   "language": "python",
   "name": "python3"
  },
  "language_info": {
   "codemirror_mode": {
    "name": "ipython",
    "version": 3
   },
   "file_extension": ".py",
   "mimetype": "text/x-python",
   "name": "python",
   "nbconvert_exporter": "python",
   "pygments_lexer": "ipython3",
   "version": "3.8.12"
  },
  "orig_nbformat": 4,
  "vscode": {
   "interpreter": {
    "hash": "6c3515861ec4313dacaa20b0eec5bf326e6557b6589b7b6a4fe3c8baa566747d"
   }
  }
 },
 "nbformat": 4,
 "nbformat_minor": 2
}
