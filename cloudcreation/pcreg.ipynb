{
 "cells": [
  {
   "cell_type": "code",
   "execution_count": 1,
   "id": "8cdcc0a8-e50f-435f-a815-f743eff7b8f4",
   "metadata": {},
   "outputs": [
    {
     "name": "stdout",
     "output_type": "stream",
     "text": [
      "Jupyter environment detected. Enabling Open3D WebVisualizer.\n",
      "[Open3D INFO] WebRTC GUI backend enabled.\n",
      "[Open3D INFO] WebRTCWindowSystem: HTTP handshake server disabled.\n"
     ]
    }
   ],
   "source": [
    "import open3d as o3d\n",
    "import numpy as np"
   ]
  },
  {
   "cell_type": "code",
   "execution_count": 2,
   "id": "78af13a0-0fe7-4050-ac29-e3abe1efb927",
   "metadata": {},
   "outputs": [],
   "source": [
    "import matplotlib.pyplot as plt"
   ]
  },
  {
   "cell_type": "code",
   "execution_count": 3,
   "id": "0296466d-d775-4fcf-a92a-497901011013",
   "metadata": {},
   "outputs": [],
   "source": [
    "import os"
   ]
  },
  {
   "cell_type": "code",
   "execution_count": 4,
   "id": "d34cdcb3-1e97-4c6f-8140-f921ba62ab3f",
   "metadata": {},
   "outputs": [],
   "source": [
    "import sys\n",
    "from scipy.spatial.transform import Rotation"
   ]
  },
  {
   "cell_type": "markdown",
   "id": "5ed4c33b-ef43-4047-be86-1ced874b3b47",
   "metadata": {},
   "source": [
    "load image"
   ]
  },
  {
   "cell_type": "code",
   "execution_count": 5,
   "id": "79d3a15b-d497-4ae5-8c91-31cf665c2d9d",
   "metadata": {},
   "outputs": [],
   "source": [
    "class CameraPose:\n",
    "\n",
    "    def __init__(self, meta, mat):\n",
    "        self.metadata = meta\n",
    "        self.pose = mat\n",
    "\n",
    "    def __str__(self):\n",
    "        return 'Metadata : ' + ' '.join(map(str, self.metadata)) + '\\n' + \\\n",
    "            \"Pose : \" + \"\\n\" + np.array_str(self.pose)\n",
    "\n",
    "\n",
    "def read_trajectory(filename):\n",
    "    traj = []\n",
    "    with open(filename, 'r') as f:\n",
    "        metastr = f.readline()\n",
    "        while metastr:\n",
    "            metadata = list(map(int, metastr.split()))\n",
    "            mat = np.zeros(shape=(4, 4))\n",
    "            for i in range(4):\n",
    "                matstr = f.readline()\n",
    "                mat[i, :] = np.fromstring(matstr, dtype=float, sep=' \\t')\n",
    "            traj.append(CameraPose(metadata, mat))\n",
    "            metastr = f.readline()\n",
    "    return traj\n",
    "\n"
   ]
  },
  {
   "cell_type": "code",
   "execution_count": 6,
   "id": "ea8ab61c-3d7f-4f73-82b0-3dc1a49711b9",
   "metadata": {
    "editable": true,
    "slideshow": {
     "slide_type": ""
    },
    "tags": []
   },
   "outputs": [],
   "source": [
    "def readPosesTXT(fpath):\n",
    "    \n",
    "    if os.path.isfile(fpath) == False:\n",
    "        print(\"Cannot find poses: '%s'\"%fpath)\n",
    "        sys.exit()\n",
    "\n",
    "    data = np.loadtxt(fpath, dtype='float_', delimiter=' ')\n",
    "    \n",
    "    N = data.shape[0]\n",
    "    eye = np.eye(4, dtype=np.float32)\n",
    "    eye = np.expand_dims(eye, axis=0)\n",
    "    poses = np.repeat(eye, N, axis=0)\n",
    "    \n",
    "    if data.shape[1] == 8:\n",
    "    \n",
    "        # Assuming RGBD-SLAM format\n",
    "        timestamps = data[:,0]\n",
    "        qts = data[:,4:]\n",
    "        tvecs = data[:,1:4]\n",
    "        \n",
    "        for i, (qt, t) in enumerate(zip(qts,tvecs)):\n",
    "            rot = Rotation.from_quat(qt)\n",
    "            R = rot.as_matrix()\n",
    "            poses[i,:3,:3] = R\n",
    "            poses[i,:3,3] = t\n",
    "            \n",
    "        return poses, timestamps\n",
    "\n",
    "    else:\n",
    "        print(\"Check the format of the camera poses: '%s'\" %fpath)\n",
    "        sys.exit()"
   ]
  },
  {
   "cell_type": "code",
   "execution_count": null,
   "id": "8699efc2-ae4d-4e87-b8bd-a19919fd68f8",
   "metadata": {},
   "outputs": [],
   "source": [
    "redwood_rgbd = o3d.data.SampleRedwoodRGBDImages()\n",
    "camera_poses = read_trajectory(redwood_rgbd.odometry_log_path)"
   ]
  },
  {
   "cell_type": "code",
   "execution_count": null,
   "id": "37f47c9a-c4a4-4d02-ae04-6a397aa8134b",
   "metadata": {
    "editable": true,
    "slideshow": {
     "slide_type": ""
    },
    "tags": []
   },
   "outputs": [],
   "source": [
    "volume = o3d.pipelines.integration.ScalableTSDFVolume(\n",
    "    voxel_length=4.0 / 512.0,\n",
    "    sdf_trunc=0.04,\n",
    "    color_type=o3d.pipelines.integration.TSDFVolumeColorType.RGB8)\n",
    "\n",
    "for i in range(len(camera_poses)):\n",
    "    print(\"Integrate {:d}-th image into the volume.\".format(i))\n",
    "    color = o3d.io.read_image(redwood_rgbd.color_paths[i])\n",
    "    depth = o3d.io.read_image(redwood_rgbd.depth_paths[i])\n",
    "    rgbd = o3d.geometry.RGBDImage.create_from_color_and_depth(\n",
    "        color, depth, depth_trunc=4.0, convert_rgb_to_intensity=False)\n",
    "    volume.integrate(\n",
    "        rgbd,\n",
    "        o3d.camera.PinholeCameraIntrinsic(\n",
    "            o3d.camera.PinholeCameraIntrinsicParameters.PrimeSenseDefault),\n",
    "        np.linalg.inv(camera_poses[i].pose))\n",
    "\n"
   ]
  },
  {
   "cell_type": "code",
   "execution_count": null,
   "id": "f3d942f2-8015-45d3-9ea6-1b037660f64f",
   "metadata": {},
   "outputs": [],
   "source": [
    "print(\"Extract a triangle mesh from the volume and visualize it.\")\n",
    "mesh = volume.extract_triangle_mesh()\n",
    "mesh.compute_vertex_normals()\n",
    "o3d.visualization.draw_geometries([mesh],\n",
    "                                  front=[0.5297, -0.1873, -0.8272],\n",
    "                                  lookat=[2.0712, 2.0312, 1.7251],\n",
    "                                  up=[-0.0558, -0.9809, 0.1864],\n",
    "                                  zoom=0.47)"
   ]
  },
  {
   "cell_type": "code",
   "execution_count": null,
   "id": "653664d5-3991-4d3a-9aec-244d41fae211",
   "metadata": {},
   "outputs": [],
   "source": [
    "print(\"Read TUM dataset\")\n",
    "tum_rgbd = o3d.data.SampleSUNRGBDImage()\n",
    "color_raw = o3d.io.read_image(tum_rgbd.color_path)\n",
    "depth_raw = o3d.io.read_image(tum_rgbd.depth_path)\n",
    "rgbd_image = o3d.geometry.RGBDImage.create_from_tum_format(color_raw, depth_raw)\n",
    "print(rgbd_image)"
   ]
  },
  {
   "cell_type": "code",
   "execution_count": null,
   "id": "fd808883-605f-407e-b88f-89ce83e200e8",
   "metadata": {},
   "outputs": [],
   "source": [
    "plt.subplot(1, 2, 1)\n",
    "plt.title('TUM grayscale image')\n",
    "plt.imshow(rgbd_image.color)\n",
    "plt.subplot(1, 2, 2)\n",
    "plt.title('TUM depth image')\n",
    "plt.imshow(rgbd_image.depth)\n",
    "plt.show()\n",
    "\n"
   ]
  },
  {
   "cell_type": "code",
   "execution_count": null,
   "id": "f78e1fef-6f34-4478-93b8-70fd3d581080",
   "metadata": {},
   "outputs": [],
   "source": [
    "pcd = o3d.geometry.PointCloud.create_from_rgbd_image(\n",
    "    rgbd_image,\n",
    "    o3d.camera.PinholeCameraIntrinsic(\n",
    "        o3d.camera.PinholeCameraIntrinsicParameters.PrimeSenseDefault))\n",
    "# Flip it, otherwise the pointcloud will be upside down\n",
    "pcd.transform([[1, 0, 0, 0], [0, -1, 0, 0], [0, 0, -1, 0], [0, 0, 0, 1]])\n",
    "o3d.visualization.draw_geometries([pcd])"
   ]
  },
  {
   "cell_type": "markdown",
   "id": "b583d11b-affb-48dc-a8b7-ec205a9f3ef3",
   "metadata": {},
   "source": [
    "cwc dataset loading image"
   ]
  },
  {
   "cell_type": "code",
   "execution_count": 7,
   "id": "fe6ea8ee-6bb6-4093-9606-0b8be14ebb2f",
   "metadata": {},
   "outputs": [
    {
     "name": "stdout",
     "output_type": "stream",
     "text": [
      "Read CWC dataset\n",
      "RGBDImage of size \n",
      "Color image : 1280x720, with 1 channels.\n",
      "Depth image : 1280x720, with 1 channels.\n",
      "Use numpy.asarray to access buffer data.\n"
     ]
    }
   ],
   "source": [
    "print(\"Read CWC dataset\")\n",
    "cwc_rgbd = o3d.data.SampleSUNRGBDImage()\n",
    "color_raw = o3d.io.read_image(\"../data/cwc/color/1000000.117744.jpg\")\n",
    "depth_raw = o3d.io.read_image(\"../data/cwc/depth/1000000.117744.png\")\n",
    "cwc_rgbd_image = o3d.geometry.RGBDImage.create_from_tum_format(color_raw, depth_raw)\n",
    "print(cwc_rgbd_image)"
   ]
  },
  {
   "cell_type": "code",
   "execution_count": 8,
   "id": "91198cec-feba-4df9-9452-732e3a3ea99e",
   "metadata": {},
   "outputs": [
    {
     "data": {
      "image/png": "[encoded data removed]",
      "text/plain": [
       "<Figure size 640x480 with 2 Axes>"
      ]
     },
     "metadata": {},
     "output_type": "display_data"
    }
   ],
   "source": [
    "plt.subplot(1, 2, 1)\n",
    "plt.title('cwc grayscale image')\n",
    "plt.imshow(cwc_rgbd_image.color)\n",
    "plt.subplot(1, 2, 2)\n",
    "plt.title('cwc depth image')\n",
    "plt.imshow(cwc_rgbd_image.depth)\n",
    "plt.show()"
   ]
  },
  {
   "cell_type": "code",
   "execution_count": null,
   "id": "abbf7cae-a02f-4006-98a1-5563b8094772",
   "metadata": {},
   "outputs": [],
   "source": [
    "pcd = o3d.geometry.PointCloud.create_from_rgbd_image(\n",
    "    cwc_rgbd_image,\n",
    "    o3d.camera.PinholeCameraIntrinsic(\n",
    "        o3d.camera.PinholeCameraIntrinsicParameters.PrimeSenseDefault))\n",
    "# Flip it, otherwise the pointcloud will be upside down\n",
    "pcd.transform([[1, 0, 0, 0], [0, -1, 0, 0], [0, 0, -1, 0], [0, 0, 0, 1]])\n",
    "o3d.visualization.draw_geometries([pcd])"
   ]
  },
  {
   "cell_type": "code",
   "execution_count": 9,
   "id": "84c7ca76-eef9-462e-97d9-196f6b23962e",
   "metadata": {},
   "outputs": [],
   "source": [
    "cwc_rgbd = o3d.data.SampleSUNRGBDImage()\n"
   ]
  },
  {
   "cell_type": "code",
   "execution_count": 10,
   "id": "fc91014e-7635-4f7d-a03f-d84e9c6bcf3f",
   "metadata": {},
   "outputs": [],
   "source": [
    "#cwc_poses = read_trajectory(\"../data/cwc/poses/poses_color.txt\")"
   ]
  },
  {
   "cell_type": "code",
   "execution_count": 11,
   "id": "8f8126c5-9e67-4d29-8f86-f7ca461cdff5",
   "metadata": {},
   "outputs": [],
   "source": [
    "color_list = os.listdir(\"../data/cwc/color\")\n",
    "depth_list = os.listdir(\"../data/cwc/depth\")\n",
    "color_list.sort()\n",
    "depth_list.sort()"
   ]
  },
  {
   "cell_type": "code",
   "execution_count": 12,
   "id": "fad7a948-ff4c-49ee-a43a-1c1e46ad316c",
   "metadata": {},
   "outputs": [
    {
     "name": "stdout",
     "output_type": "stream",
     "text": [
      "1000000.117744.jpg\n",
      "1000000.117744.png\n"
     ]
    }
   ],
   "source": [
    "print(color_list[0])\n",
    "print(depth_list[0])"
   ]
  },
  {
   "cell_type": "code",
   "execution_count": 13,
   "id": "63d22c60-d458-4af5-b06c-4d169d7a407c",
   "metadata": {},
   "outputs": [],
   "source": [
    "cwc_poses, cwc_timestamps = readPosesTXT(\"../data/cwc/poses/poses_color.txt\")"
   ]
  },
  {
   "cell_type": "code",
   "execution_count": null,
   "id": "f41c330a-cd4b-4ab2-ba66-d6ffa6e70829",
   "metadata": {},
   "outputs": [],
   "source": []
  },
  {
   "cell_type": "code",
   "execution_count": 14,
   "id": "b22ac557-8eb2-475b-9612-82927b253b95",
   "metadata": {},
   "outputs": [
    {
     "name": "stdout",
     "output_type": "stream",
     "text": [
      "Integrate 0-th image into the volume.\n",
      "Integrate 1-th image into the volume.\n",
      "Integrate 2-th image into the volume.\n",
      "Integrate 3-th image into the volume.\n",
      "Integrate 4-th image into the volume.\n",
      "Integrate 5-th image into the volume.\n",
      "Integrate 6-th image into the volume.\n",
      "Integrate 7-th image into the volume.\n",
      "Integrate 8-th image into the volume.\n",
      "Integrate 9-th image into the volume.\n",
      "Integrate 10-th image into the volume.\n",
      "Integrate 11-th image into the volume.\n",
      "Integrate 12-th image into the volume.\n",
      "Integrate 13-th image into the volume.\n",
      "Integrate 14-th image into the volume.\n",
      "Integrate 15-th image into the volume.\n",
      "Integrate 16-th image into the volume.\n",
      "Integrate 17-th image into the volume.\n",
      "Integrate 18-th image into the volume.\n",
      "Integrate 19-th image into the volume.\n",
      "Integrate 20-th image into the volume.\n",
      "Integrate 21-th image into the volume.\n",
      "Integrate 22-th image into the volume.\n",
      "Integrate 23-th image into the volume.\n",
      "Integrate 24-th image into the volume.\n",
      "Integrate 25-th image into the volume.\n",
      "Integrate 26-th image into the volume.\n",
      "Integrate 27-th image into the volume.\n",
      "Integrate 28-th image into the volume.\n",
      "Integrate 29-th image into the volume.\n",
      "Integrate 30-th image into the volume.\n",
      "Integrate 31-th image into the volume.\n",
      "Integrate 32-th image into the volume.\n",
      "Integrate 33-th image into the volume.\n",
      "Integrate 34-th image into the volume.\n",
      "Integrate 35-th image into the volume.\n",
      "Integrate 36-th image into the volume.\n",
      "Integrate 37-th image into the volume.\n",
      "Integrate 38-th image into the volume.\n",
      "Integrate 39-th image into the volume.\n",
      "Integrate 40-th image into the volume.\n",
      "Integrate 41-th image into the volume.\n",
      "Integrate 42-th image into the volume.\n",
      "Integrate 43-th image into the volume.\n",
      "Integrate 44-th image into the volume.\n",
      "Integrate 45-th image into the volume.\n",
      "Integrate 46-th image into the volume.\n",
      "Integrate 47-th image into the volume.\n",
      "Integrate 48-th image into the volume.\n",
      "Integrate 49-th image into the volume.\n",
      "Integrate 50-th image into the volume.\n",
      "Integrate 51-th image into the volume.\n",
      "Integrate 52-th image into the volume.\n",
      "Integrate 53-th image into the volume.\n",
      "Integrate 54-th image into the volume.\n",
      "Integrate 55-th image into the volume.\n",
      "Integrate 56-th image into the volume.\n",
      "Integrate 57-th image into the volume.\n",
      "Integrate 58-th image into the volume.\n",
      "Integrate 59-th image into the volume.\n",
      "Integrate 60-th image into the volume.\n",
      "Integrate 61-th image into the volume.\n",
      "Integrate 62-th image into the volume.\n",
      "Integrate 63-th image into the volume.\n"
     ]
    }
   ],
   "source": [
    "cwc_volume = o3d.pipelines.integration.ScalableTSDFVolume(\n",
    "    voxel_length=4.0 / 512.0,\n",
    "    sdf_trunc=0.04,\n",
    "    color_type=o3d.pipelines.integration.TSDFVolumeColorType.RGB8)\n",
    "\n",
    "#intrinsic camera settings\n",
    "w = 1280\n",
    "h = 720\n",
    "fx = 525\n",
    "fy = 525\n",
    "cx = 319.5\n",
    "cy = 239.5\n",
    "\n",
    "intrinsic = o3d.camera.PinholeCameraIntrinsic(w, h, fx, fy, cx, cy)\n",
    "intrinsic.intrinsic_matrix = [[fx, 0, cx], [0, fy, cy], [0, 0, 1]]\n",
    "cam = o3d.camera.PinholeCameraParameters()\n",
    "cam.intrinsic = intrinsic\n",
    "\n",
    "#for i in range(len(color_list)):\n",
    "for i in range(64):\n",
    "    print(\"Integrate {:d}-th image into the volume.\".format(i))\n",
    "    color = o3d.io.read_image(\"../data/cwc/color/\" + color_list[i])\n",
    "    depth = o3d.io.read_image(\"../data/cwc/depth/\" + depth_list[i])\n",
    "    rgbd = o3d.geometry.RGBDImage.create_from_color_and_depth(\n",
    "        color, depth, depth_trunc=4.0, convert_rgb_to_intensity=False)\n",
    "    cwc_volume.integrate(\n",
    "        rgbd,\n",
    "        cam.intrinsic,\n",
    "        np.linalg.inv(cwc_poses[i]))"
   ]
  },
  {
   "cell_type": "code",
   "execution_count": 16,
   "id": "01b791b3-e672-4201-afbb-448972aa334c",
   "metadata": {},
   "outputs": [
    {
     "name": "stdout",
     "output_type": "stream",
     "text": [
      "Extract a triangle mesh from the volume and visualize it.\n"
     ]
    }
   ],
   "source": [
    "print(\"Extract a triangle mesh from the volume and visualize it.\")\n",
    "mesh = cwc_volume.extract_triangle_mesh()\n",
    "mesh.compute_vertex_normals()\n",
    "o3d.visualization.draw_geometries([mesh])"
   ]
  },
  {
   "cell_type": "markdown",
   "id": "3b151a61-4cfb-4db4-ac5e-283a998ebc90",
   "metadata": {},
   "source": [
    "cwc mini testing"
   ]
  },
  {
   "cell_type": "code",
   "execution_count": null,
   "id": "619143b7-68e8-4b50-a785-ce83814ba645",
   "metadata": {},
   "outputs": [],
   "source": [
    "print(\"Read CWC mini dataset\")\n",
    "cwc_rgbd_mini = o3d.data.SampleSUNRGBDImage()\n",
    "color_raw_mini = o3d.io.read_image(\"../data/cwc_mini/color/1000000.117744.jpg\")\n",
    "depth_raw_mini = o3d.io.read_image(\"../data/cwc_mini/depth/1000000.117744.png\")\n",
    "cwc_rgbd_image_mini = o3d.geometry.RGBDImage.create_from_tum_format(color_raw_mini, depth_raw_mini)\n",
    "print(cwc_rgbd_image_mini)"
   ]
  },
  {
   "cell_type": "code",
   "execution_count": null,
   "id": "14ec85af-718c-45ac-b17b-750482d5808e",
   "metadata": {},
   "outputs": [],
   "source": [
    "plt.subplot(1, 2, 1)\n",
    "plt.title('cwc grayscale image')\n",
    "plt.imshow(cwc_rgbd_image_mini.color)\n",
    "plt.subplot(1, 2, 2)\n",
    "plt.title('cwc depth image')\n",
    "plt.imshow(cwc_rgbd_image_mini.depth)\n",
    "plt.show()"
   ]
  },
  {
   "cell_type": "code",
   "execution_count": null,
   "id": "1de62416-3806-4ee9-9dbc-3d4bc12536fb",
   "metadata": {},
   "outputs": [],
   "source": [
    "pcd_mini = o3d.geometry.PointCloud.create_from_rgbd_image(\n",
    "    cwc_rgbd_image_mini,\n",
    "    o3d.camera.PinholeCameraIntrinsic(\n",
    "        o3d.camera.PinholeCameraIntrinsicParameters.PrimeSenseDefault))\n",
    "# Flip it, otherwise the pointcloud will be upside down\n",
    "pcd_mini.transform([[1, 0, 0, 0], [0, -1, 0, 0], [0, 0, -1, 0], [0, 0, 0, 1]])\n",
    "o3d.visualization.draw_geometries([pcd_mini])"
   ]
  },
  {
   "cell_type": "markdown",
   "id": "df8bb17e-12f1-44a6-847a-36f1c1b525fa",
   "metadata": {},
   "source": [
    "Integration"
   ]
  },
  {
   "cell_type": "code",
   "execution_count": null,
   "id": "963726aa-d8ea-4d7c-a55c-a6a9044dc9bb",
   "metadata": {},
   "outputs": [],
   "source": [
    "color_list_mini = os.listdir(\"../data/cwc_mini/color\")\n",
    "depth_list_mini = os.listdir(\"../data/cwc_mini/depth\")"
   ]
  },
  {
   "cell_type": "code",
   "execution_count": null,
   "id": "9e4e32cd-0642-4da4-aced-d0479d788f17",
   "metadata": {},
   "outputs": [],
   "source": [
    "color_list_mini.sort()\n",
    "depth_list_mini.sort()\n",
    "print(color_list_mini[0])\n",
    "print(depth_list_mini[0])"
   ]
  },
  {
   "cell_type": "code",
   "execution_count": null,
   "id": "337ac22c-a990-435e-ac48-cf65f043a0c8",
   "metadata": {},
   "outputs": [],
   "source": [
    "cwc_poses_mini, cwc_timestamps_mini = readPosesTXT(\"../data/cwc_mini/poses/poses_color.txt\")"
   ]
  },
  {
   "cell_type": "code",
   "execution_count": null,
   "id": "e70ce6df-6928-4503-aef7-55bf4820f87a",
   "metadata": {},
   "outputs": [],
   "source": [
    "print(cwc_poses_mini[0])"
   ]
  },
  {
   "cell_type": "code",
   "execution_count": null,
   "id": "2b6985ca-b38d-4ad3-9fe7-8c1df2c916b8",
   "metadata": {},
   "outputs": [],
   "source": [
    "i = 0\n",
    "cwc_volume_mini = o3d.pipelines.integration.ScalableTSDFVolume(\n",
    "    voxel_length=4.0 / 512.0,\n",
    "    sdf_trunc=0.04,\n",
    "    color_type=o3d.pipelines.integration.TSDFVolumeColorType.RGB8)"
   ]
  },
  {
   "cell_type": "code",
   "execution_count": null,
   "id": "a3063157-51bd-4f66-a26a-42cbdd289a79",
   "metadata": {},
   "outputs": [],
   "source": [
    "print(\"Integrate {:d}-th image into the volume.\".format(i))\n",
    "color = o3d.io.read_image(\"../data/cwc_mini/color/\" + color_list_mini[i])\n",
    "depth = o3d.io.read_image(\"../data/cwc_mini/depth/\" + depth_list_mini[i])\n",
    "\n",
    "#intrinsic camera settings\n",
    "w = 1280\n",
    "h = 720\n",
    "fx = 525\n",
    "fy = 525\n",
    "cx = 319.5\n",
    "cy = 239.5\n",
    "\n",
    "intrinsic = o3d.camera.PinholeCameraIntrinsic(w, h, fx, fy, cx, cy)\n",
    "intrinsic.intrinsic_matrix = [[fx, 0, cx], [0, fy, cy], [0, 0, 1]]\n",
    "cam = o3d.camera.PinholeCameraParameters()\n",
    "cam.intrinsic = intrinsic\n",
    "\n",
    "\n",
    "rgbd = o3d.geometry.RGBDImage.create_from_color_and_depth(\n",
    "    color, depth, depth_trunc=4.0, convert_rgb_to_intensity=False)\n",
    "\n",
    "plt.subplot(1, 2, 1)\n",
    "plt.title('cwc grayscale image')\n",
    "plt.imshow(rgbd.color)\n",
    "plt.subplot(1, 2, 2)\n",
    "plt.title('cwc depth image')\n",
    "plt.imshow(rgbd.depth)\n",
    "plt.show()\n",
    "\n",
    "#cwc_volume_mini.integrate(\n",
    "#    rgbd,\n",
    "#    o3d.camera.PinholeCameraIntrinsic(\n",
    "#        o3d.camera.PinholeCameraIntrinsicParameters.PrimeSenseDefault),\n",
    "#    np.linalg.inv(cwc_poses_mini[i]))\n",
    "\n"
   ]
  },
  {
   "cell_type": "code",
   "execution_count": null,
   "id": "7a5aa9ea-864e-499a-8ea1-a5deb4833023",
   "metadata": {},
   "outputs": [],
   "source": [
    "cam_mini = o3d.camera.PinholeCameraIntrinsic(\n",
    "        o3d.camera.PinholeCameraIntrinsicParameters.PrimeSenseDefault)\n",
    "print(cam_mini.intrinsic_matrix)"
   ]
  },
  {
   "cell_type": "code",
   "execution_count": null,
   "id": "f078aa62-92c6-4d11-b016-a20b92ae3fca",
   "metadata": {},
   "outputs": [],
   "source": [
    "#integrating with custom camera settings\n",
    "cwc_volume_mini.integrate(\n",
    "    rgbd,\n",
    "    o3d.camera.PinholeCameraIntrinsic(\n",
    "        o3d.camera.PinholeCameraIntrinsicParameters.PrimeSenseDefault),\n",
    "    cwc_poses_mini[i])"
   ]
  },
  {
   "cell_type": "code",
   "execution_count": null,
   "id": "857bc3b0-5f5a-40df-9b8f-a5314ea3073a",
   "metadata": {},
   "outputs": [],
   "source": [
    "#integrating with custom camera settings\n",
    "cwc_volume_mini.integrate(\n",
    "    rgbd,\n",
    "    cam.intrinsic,\n",
    "    cwc_poses_mini[i])"
   ]
  },
  {
   "cell_type": "code",
   "execution_count": null,
   "id": "9baba9b8-6918-46e1-ad65-9ea09367fc3f",
   "metadata": {},
   "outputs": [],
   "source": [
    "print(\"Extract a triangle mesh from the volume and visualize it.\")\n",
    "mesh = cwc_volume_mini.extract_triangle_mesh()\n",
    "mesh.compute_vertex_normals()\n",
    "o3d.visualization.draw_geometries([mesh])"
   ]
  },
  {
   "cell_type": "code",
   "execution_count": null,
   "id": "ebf3c995-8fd0-4bcf-8255-79967078900e",
   "metadata": {},
   "outputs": [],
   "source": [
    "cwc_volume = o3d.pipelines.integration.ScalableTSDFVolume(\n",
    "    voxel_length=4.0 / 512.0,\n",
    "    sdf_trunc=0.04,\n",
    "    color_type=o3d.pipelines.integration.TSDFVolumeColorType.RGB8)\n",
    "\n",
    "for i in range(len(color_list_mini)):\n",
    "    print(\"Integrate {:d}-th image into the volume.\".format(i))\n",
    "    color = o3d.io.read_image(\"../data/cwc_mini/color/\" + color_list_mini[i])\n",
    "    depth = o3d.io.read_image(\"../data/cwc_mini/depth/\" + depth_list_mini[i])\n",
    "    rgbd = o3d.geometry.RGBDImage.create_from_color_and_depth(\n",
    "        color, depth, depth_trunc=4.0, convert_rgb_to_intensity=False)\n",
    "    cwc_volume.integrate(\n",
    "        rgbd,\n",
    "        cam.intrinsic,\n",
    "        np.linalg.inv(cwc_poses_mini[i]))"
   ]
  },
  {
   "cell_type": "code",
   "execution_count": null,
   "id": "0e8961ce-d9fd-460e-847c-88be8bcf2ac1",
   "metadata": {},
   "outputs": [],
   "source": [
    "print(\"Extract a triangle mesh from the volume and visualize it.\")\n",
    "mesh = cwc_volume.extract_triangle_mesh()\n",
    "mesh.compute_vertex_normals()\n",
    "o3d.visualization.draw_geometries([mesh])"
   ]
  },
  {
   "cell_type": "code",
   "execution_count": null,
   "id": "2407bb26-d480-4f1d-8c47-03cc794445bd",
   "metadata": {
    "editable": true,
    "slideshow": {
     "slide_type": ""
    },
    "tags": []
   },
   "outputs": [],
   "source": [
    "o3d.visualization.draw_plotly([mesh])"
   ]
  },
  {
   "cell_type": "code",
   "execution_count": null,
   "id": "b2d447dd-e181-4e6e-bb27-679ade9354b4",
   "metadata": {},
   "outputs": [],
   "source": []
  },
  {
   "cell_type": "code",
   "execution_count": null,
   "id": "0d6d89c0-7f9b-47a1-aa40-f32a5d6788fb",
   "metadata": {},
   "outputs": [],
   "source": []
  },
  {
   "cell_type": "code",
   "execution_count": null,
   "id": "8a3dd7bf-fc03-412e-8f24-15d85bfcee64",
   "metadata": {},
   "outputs": [],
   "source": []
  }
 ],
 "metadata": {
  "kernelspec": {
   "display_name": "Python 3 (ipykernel)",
   "language": "python",
   "name": "python3"
  },
  "language_info": {
   "codemirror_mode": {
    "name": "ipython",
    "version": 3
   },
   "file_extension": ".py",
   "mimetype": "text/x-python",
   "name": "python",
   "nbconvert_exporter": "python",
   "pygments_lexer": "ipython3",
   "version": "3.8.19"
  }
 },
 "nbformat": 4,
 "nbformat_minor": 5
}
